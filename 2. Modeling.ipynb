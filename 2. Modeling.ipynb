{
 "cells": [
  {
   "cell_type": "markdown",
   "metadata": {},
   "source": [
    "# Flight Delays: Part 2 - Modeling\n",
    "*Author: Robert Harrow* | *Flatiron School Capstone Project*\n",
    "\n",
    "In the previous notebook we downloaded all the data, dealt with missing values. We also engineered some features that might be useful for modeling purposes, like airport congestion. Now that we have all that prepared, we're ready to work on developing a model that detects severe flight delays.\n",
    "\n",
    "## Business Understanding\n",
    "\n",
    "Our task at hand is to help a hypothetical startup, Flight Chicken, build a model for detecting severe flight delays. We define 'severe delays' as those that result in a flight arriving more than 60 minutes late to its destination. Such delays are more likely to cause massive disruptions to travelers -- such as causing them to miss a connecting flight.\n",
    "\n",
    "A model that predicts flight delays can empower its users to make appropriate changes to their travel plans so that a delay is less disruptive and sudden.\n",
    "\n",
    "### Our Success Metric\n",
    "\n",
    "We are looking for a model that achieves the best **F1 score**, without letting accuracy fall below 70%.\n",
    "\n",
    "**Why F1?** F1 scores are a balance between Precision and Recall. It's important for a startup like Flight Chicken to build consumer trust. That's why it's important for it to detect and not miss predicting a delay. On its own, that means we would want to use Recall. However, if we optimize a model for Recall, it may have a lower Precision. In other words, it may too aggressively guess that something is a delay. But in doing so, it would unnecessarily worry Flight Chicken's users about a flight that will be on time. F1 is the harmonic average between Precision and Recall which is why it's our primary success metric for this project.\n",
    "\n",
    "#### F1 Formula\n",
    "$$ F1 = {2 * Precision x Recall \\over Precision + Recall} $$\n",
    "\n",
    "#### Precision Formula\n",
    "$$ Precision = {True Positives \\over Predicted Positives} $$\n",
    "\n",
    "#### Recall Formula\n",
    "$$ Recall = {True Positivies \\over Actual Total Positives} $$"
   ]
  },
  {
   "cell_type": "markdown",
   "metadata": {},
   "source": [
    "## Importing Libraries\n",
    "\n",
    "First, we import some libraries to help us out throughout this notebook."
   ]
  },
  {
   "cell_type": "code",
   "execution_count": 2,
   "metadata": {
    "scrolled": false
   },
   "outputs": [
    {
     "ename": "ModuleNotFoundError",
     "evalue": "No module named 'lightgbm'",
     "output_type": "error",
     "traceback": [
      "\u001b[1;31m---------------------------------------------------------------------------\u001b[0m",
      "\u001b[1;31mModuleNotFoundError\u001b[0m                       Traceback (most recent call last)",
      "Input \u001b[1;32mIn [2]\u001b[0m, in \u001b[0;36m<cell line: 29>\u001b[1;34m()\u001b[0m\n\u001b[0;32m     27\u001b[0m \u001b[38;5;28;01mfrom\u001b[39;00m \u001b[38;5;21;01msklearn\u001b[39;00m\u001b[38;5;21;01m.\u001b[39;00m\u001b[38;5;21;01mensemble\u001b[39;00m \u001b[38;5;28;01mimport\u001b[39;00m RandomForestClassifier\n\u001b[0;32m     28\u001b[0m \u001b[38;5;28;01mfrom\u001b[39;00m \u001b[38;5;21;01mxgboost\u001b[39;00m \u001b[38;5;28;01mimport\u001b[39;00m XGBClassifier\n\u001b[1;32m---> 29\u001b[0m \u001b[38;5;28;01mfrom\u001b[39;00m \u001b[38;5;21;01mlightgbm\u001b[39;00m \u001b[38;5;28;01mimport\u001b[39;00m LGBMClassifier\n\u001b[0;32m     30\u001b[0m \u001b[38;5;28;01mfrom\u001b[39;00m \u001b[38;5;21;01msklearn\u001b[39;00m\u001b[38;5;21;01m.\u001b[39;00m\u001b[38;5;21;01mensemble\u001b[39;00m \u001b[38;5;28;01mimport\u001b[39;00m RandomForestClassifier\n\u001b[0;32m     32\u001b[0m \u001b[38;5;66;03m# Importing libraries for calculating class & sample weights to deal with imbalanced data\u001b[39;00m\n",
      "\u001b[1;31mModuleNotFoundError\u001b[0m: No module named 'lightgbm'"
     ]
    }
   ],
   "source": [
    "# Standard libraries for working with data\n",
    "import pandas as pd\n",
    "import glob\n",
    "import os\n",
    "import numpy as np\n",
    "import random\n",
    "\n",
    "# Libraries for processing and manipulating data for modeling\n",
    "from sklearn.model_selection import train_test_split\n",
    "from sklearn.compose import ColumnTransformer\n",
    "from sklearn.pipeline import Pipeline\n",
    "from sklearn.preprocessing import StandardScaler, OneHotEncoder\n",
    "\n",
    "# Libraries for evaluating models\n",
    "from sklearn.metrics import accuracy_score, precision_score, recall_score,\\\n",
    "f1_score, ConfusionMatrixDisplay, classification_report\n",
    "\n",
    "# Libraries for plotting results\n",
    "import seaborn as sns\n",
    "import matplotlib.pyplot as plt\n",
    "%matplotlib inline\n",
    "\n",
    "# Importing classifier algorithms\n",
    "from sklearn.dummy import DummyClassifier\n",
    "from sklearn.linear_model import LogisticRegression\n",
    "from sklearn.tree import DecisionTreeClassifier\n",
    "from sklearn.ensemble import RandomForestClassifier\n",
    "from xgboost import XGBClassifier\n",
    "from lightgbm import LGBMClassifier\n",
    "from sklearn.ensemble import RandomForestClassifier\n",
    "\n",
    "# Importing libraries for calculating class & sample weights to deal with imbalanced data\n",
    "from sklearn.utils.class_weight import compute_class_weight\n",
    "from sklearn.utils.class_weight import compute_sample_weight\n",
    "from collections import Counter\n",
    "\n",
    "# Import pickle to save our model so that we can use it on our remote server\n",
    "import pickle\n",
    "\n",
    "# Supress warning messages\n",
    "import warnings\n",
    "warnings.filterwarnings(action='ignore', category=FutureWarning)"
   ]
  },
  {
   "cell_type": "markdown",
   "metadata": {},
   "source": [
    "### Importing Prepared Data\n",
    "\n",
    "First we bring in the data that was cleaned and prepared in our previous notebook."
   ]
  },
  {
   "cell_type": "code",
   "execution_count": 2,
   "metadata": {},
   "outputs": [],
   "source": [
    "# Importing data\n",
    "carrier_data = pd.read_csv('data/prepared/data_for_modeling.csv')"
   ]
  },
  {
   "cell_type": "markdown",
   "metadata": {},
   "source": [
    "As a refresher, let's inspect the data to see what it looks like."
   ]
  },
  {
   "cell_type": "code",
   "execution_count": 3,
   "metadata": {},
   "outputs": [
    {
     "name": "stdout",
     "output_type": "stream",
     "text": [
      "<class 'pandas.core.frame.DataFrame'>\n",
      "RangeIndex: 5404853 entries, 0 to 5404852\n",
      "Data columns (total 36 columns):\n",
      " #   Column                       Dtype  \n",
      "---  ------                       -----  \n",
      " 0   MONTH                        int64  \n",
      " 1   DAY_OF_MONTH                 int64  \n",
      " 2   DAY_OF_WEEK                  object \n",
      " 3   MKT_CARRIER                  object \n",
      " 4   ORIGIN                       object \n",
      " 5   DEST                         object \n",
      " 6   CRS_ELAPSED_TIME             float64\n",
      " 7   DISTANCE                     float64\n",
      " 8   target                       object \n",
      " 9   origin-elevation             float64\n",
      " 10  dest-elevation               float64\n",
      " 11  takeoff-time-of-day          object \n",
      " 12  arrival-time-of-day          object \n",
      " 13  ARR_DAY_OF_WEEK              object \n",
      " 14  avg-takeoff-congestion       float64\n",
      " 15  avg-arrival-congestion       float64\n",
      " 16  dest-avg-takeoff-congestion  float64\n",
      " 17  dest-avg-arrival-congestion  float64\n",
      " 18  holiday                      object \n",
      " 19  days-from-specific-holiday   object \n",
      " 20  takeoff-mins-from-midnight   int64  \n",
      " 21  landing-mins-from-midnight   int64  \n",
      " 22  maxtemp                      float64\n",
      " 23  mintemp                      float64\n",
      " 24  avgtemp                      float64\n",
      " 25  totalprecip                  float64\n",
      " 26  avgvis                       float64\n",
      " 27  maxwind                      float64\n",
      " 28  avghumidity                  float64\n",
      " 29  dest-maxtemp                 float64\n",
      " 30  dest-mintemp                 float64\n",
      " 31  dest-avgtemp                 float64\n",
      " 32  dest-totalprecip             float64\n",
      " 33  dest-avgvis                  float64\n",
      " 34  dest-maxwind                 float64\n",
      " 35  dest-avghumidity             float64\n",
      "dtypes: float64(22), int64(4), object(10)\n",
      "memory usage: 1.4+ GB\n"
     ]
    }
   ],
   "source": [
    "# Get information on the dataframe and its features\n",
    "carrier_data.info()"
   ]
  },
  {
   "cell_type": "code",
   "execution_count": 4,
   "metadata": {},
   "outputs": [
    {
     "data": {
      "text/html": [
       "<div>\n",
       "<style scoped>\n",
       "    .dataframe tbody tr th:only-of-type {\n",
       "        vertical-align: middle;\n",
       "    }\n",
       "\n",
       "    .dataframe tbody tr th {\n",
       "        vertical-align: top;\n",
       "    }\n",
       "\n",
       "    .dataframe thead th {\n",
       "        text-align: right;\n",
       "    }\n",
       "</style>\n",
       "<table border=\"1\" class=\"dataframe\">\n",
       "  <thead>\n",
       "    <tr style=\"text-align: right;\">\n",
       "      <th></th>\n",
       "      <th>MONTH</th>\n",
       "      <th>DAY_OF_MONTH</th>\n",
       "      <th>DAY_OF_WEEK</th>\n",
       "      <th>MKT_CARRIER</th>\n",
       "      <th>ORIGIN</th>\n",
       "      <th>DEST</th>\n",
       "      <th>CRS_ELAPSED_TIME</th>\n",
       "      <th>DISTANCE</th>\n",
       "      <th>target</th>\n",
       "      <th>origin-elevation</th>\n",
       "      <th>dest-elevation</th>\n",
       "      <th>takeoff-time-of-day</th>\n",
       "      <th>arrival-time-of-day</th>\n",
       "      <th>ARR_DAY_OF_WEEK</th>\n",
       "      <th>avg-takeoff-congestion</th>\n",
       "      <th>avg-arrival-congestion</th>\n",
       "      <th>dest-avg-takeoff-congestion</th>\n",
       "      <th>dest-avg-arrival-congestion</th>\n",
       "      <th>holiday</th>\n",
       "      <th>days-from-specific-holiday</th>\n",
       "      <th>takeoff-mins-from-midnight</th>\n",
       "      <th>landing-mins-from-midnight</th>\n",
       "      <th>maxtemp</th>\n",
       "      <th>mintemp</th>\n",
       "      <th>avgtemp</th>\n",
       "      <th>totalprecip</th>\n",
       "      <th>avgvis</th>\n",
       "      <th>maxwind</th>\n",
       "      <th>avghumidity</th>\n",
       "      <th>dest-maxtemp</th>\n",
       "      <th>dest-mintemp</th>\n",
       "      <th>dest-avgtemp</th>\n",
       "      <th>dest-totalprecip</th>\n",
       "      <th>dest-avgvis</th>\n",
       "      <th>dest-maxwind</th>\n",
       "      <th>dest-avghumidity</th>\n",
       "    </tr>\n",
       "  </thead>\n",
       "  <tbody>\n",
       "    <tr>\n",
       "      <th>0</th>\n",
       "      <td>6</td>\n",
       "      <td>1</td>\n",
       "      <td>Tuesday</td>\n",
       "      <td>DL</td>\n",
       "      <td>LAS</td>\n",
       "      <td>MSP</td>\n",
       "      <td>186.0</td>\n",
       "      <td>1299.0</td>\n",
       "      <td>No</td>\n",
       "      <td>2181.0</td>\n",
       "      <td>841.0</td>\n",
       "      <td>Night</td>\n",
       "      <td>Early Morning</td>\n",
       "      <td>Tuesday</td>\n",
       "      <td>1.329932</td>\n",
       "      <td>1.209226</td>\n",
       "      <td>1.776888</td>\n",
       "      <td>1.383135</td>\n",
       "      <td>Not a Holiday</td>\n",
       "      <td>Memorial Day_1.0</td>\n",
       "      <td>15</td>\n",
       "      <td>321</td>\n",
       "      <td>37.7</td>\n",
       "      <td>22.2</td>\n",
       "      <td>32.3</td>\n",
       "      <td>0.0</td>\n",
       "      <td>10.0</td>\n",
       "      <td>10.8</td>\n",
       "      <td>14.0</td>\n",
       "      <td>24.7</td>\n",
       "      <td>13.4</td>\n",
       "      <td>20.3</td>\n",
       "      <td>0.0</td>\n",
       "      <td>10.0</td>\n",
       "      <td>9.7</td>\n",
       "      <td>53.0</td>\n",
       "    </tr>\n",
       "    <tr>\n",
       "      <th>1</th>\n",
       "      <td>6</td>\n",
       "      <td>1</td>\n",
       "      <td>Tuesday</td>\n",
       "      <td>DL</td>\n",
       "      <td>LAS</td>\n",
       "      <td>MSP</td>\n",
       "      <td>183.0</td>\n",
       "      <td>1299.0</td>\n",
       "      <td>No</td>\n",
       "      <td>2181.0</td>\n",
       "      <td>841.0</td>\n",
       "      <td>Early Morning</td>\n",
       "      <td>Late Morning</td>\n",
       "      <td>Tuesday</td>\n",
       "      <td>2.024347</td>\n",
       "      <td>1.501475</td>\n",
       "      <td>1.634171</td>\n",
       "      <td>1.296566</td>\n",
       "      <td>Not a Holiday</td>\n",
       "      <td>Memorial Day_1.0</td>\n",
       "      <td>370</td>\n",
       "      <td>673</td>\n",
       "      <td>37.7</td>\n",
       "      <td>22.2</td>\n",
       "      <td>32.3</td>\n",
       "      <td>0.0</td>\n",
       "      <td>10.0</td>\n",
       "      <td>10.8</td>\n",
       "      <td>14.0</td>\n",
       "      <td>24.7</td>\n",
       "      <td>13.4</td>\n",
       "      <td>20.3</td>\n",
       "      <td>0.0</td>\n",
       "      <td>10.0</td>\n",
       "      <td>9.7</td>\n",
       "      <td>53.0</td>\n",
       "    </tr>\n",
       "    <tr>\n",
       "      <th>2</th>\n",
       "      <td>6</td>\n",
       "      <td>1</td>\n",
       "      <td>Tuesday</td>\n",
       "      <td>DL</td>\n",
       "      <td>LAS</td>\n",
       "      <td>MSP</td>\n",
       "      <td>183.0</td>\n",
       "      <td>1299.0</td>\n",
       "      <td>No</td>\n",
       "      <td>2181.0</td>\n",
       "      <td>841.0</td>\n",
       "      <td>Late Morning</td>\n",
       "      <td>Early Afternoon</td>\n",
       "      <td>Tuesday</td>\n",
       "      <td>1.683796</td>\n",
       "      <td>1.420449</td>\n",
       "      <td>1.684955</td>\n",
       "      <td>1.355537</td>\n",
       "      <td>Not a Holiday</td>\n",
       "      <td>Memorial Day_1.0</td>\n",
       "      <td>554</td>\n",
       "      <td>857</td>\n",
       "      <td>37.7</td>\n",
       "      <td>22.2</td>\n",
       "      <td>32.3</td>\n",
       "      <td>0.0</td>\n",
       "      <td>10.0</td>\n",
       "      <td>10.8</td>\n",
       "      <td>14.0</td>\n",
       "      <td>24.7</td>\n",
       "      <td>13.4</td>\n",
       "      <td>20.3</td>\n",
       "      <td>0.0</td>\n",
       "      <td>10.0</td>\n",
       "      <td>9.7</td>\n",
       "      <td>53.0</td>\n",
       "    </tr>\n",
       "    <tr>\n",
       "      <th>3</th>\n",
       "      <td>6</td>\n",
       "      <td>1</td>\n",
       "      <td>Tuesday</td>\n",
       "      <td>WN</td>\n",
       "      <td>LAS</td>\n",
       "      <td>MSP</td>\n",
       "      <td>185.0</td>\n",
       "      <td>1299.0</td>\n",
       "      <td>No</td>\n",
       "      <td>2181.0</td>\n",
       "      <td>841.0</td>\n",
       "      <td>Late Morning</td>\n",
       "      <td>Early Afternoon</td>\n",
       "      <td>Tuesday</td>\n",
       "      <td>1.683796</td>\n",
       "      <td>1.420449</td>\n",
       "      <td>1.684955</td>\n",
       "      <td>1.355537</td>\n",
       "      <td>Not a Holiday</td>\n",
       "      <td>Memorial Day_1.0</td>\n",
       "      <td>630</td>\n",
       "      <td>935</td>\n",
       "      <td>37.7</td>\n",
       "      <td>22.2</td>\n",
       "      <td>32.3</td>\n",
       "      <td>0.0</td>\n",
       "      <td>10.0</td>\n",
       "      <td>10.8</td>\n",
       "      <td>14.0</td>\n",
       "      <td>24.7</td>\n",
       "      <td>13.4</td>\n",
       "      <td>20.3</td>\n",
       "      <td>0.0</td>\n",
       "      <td>10.0</td>\n",
       "      <td>9.7</td>\n",
       "      <td>53.0</td>\n",
       "    </tr>\n",
       "    <tr>\n",
       "      <th>4</th>\n",
       "      <td>6</td>\n",
       "      <td>1</td>\n",
       "      <td>Tuesday</td>\n",
       "      <td>DL</td>\n",
       "      <td>LAS</td>\n",
       "      <td>MSP</td>\n",
       "      <td>188.0</td>\n",
       "      <td>1299.0</td>\n",
       "      <td>No</td>\n",
       "      <td>2181.0</td>\n",
       "      <td>841.0</td>\n",
       "      <td>Late Morning</td>\n",
       "      <td>Late Afternoon</td>\n",
       "      <td>Tuesday</td>\n",
       "      <td>1.683796</td>\n",
       "      <td>1.420449</td>\n",
       "      <td>1.254342</td>\n",
       "      <td>1.393955</td>\n",
       "      <td>Not a Holiday</td>\n",
       "      <td>Memorial Day_1.0</td>\n",
       "      <td>701</td>\n",
       "      <td>1009</td>\n",
       "      <td>37.7</td>\n",
       "      <td>22.2</td>\n",
       "      <td>32.3</td>\n",
       "      <td>0.0</td>\n",
       "      <td>10.0</td>\n",
       "      <td>10.8</td>\n",
       "      <td>14.0</td>\n",
       "      <td>24.7</td>\n",
       "      <td>13.4</td>\n",
       "      <td>20.3</td>\n",
       "      <td>0.0</td>\n",
       "      <td>10.0</td>\n",
       "      <td>9.7</td>\n",
       "      <td>53.0</td>\n",
       "    </tr>\n",
       "  </tbody>\n",
       "</table>\n",
       "</div>"
      ],
      "text/plain": [
       "   MONTH  DAY_OF_MONTH DAY_OF_WEEK MKT_CARRIER ORIGIN DEST  CRS_ELAPSED_TIME  \\\n",
       "0      6             1     Tuesday          DL    LAS  MSP             186.0   \n",
       "1      6             1     Tuesday          DL    LAS  MSP             183.0   \n",
       "2      6             1     Tuesday          DL    LAS  MSP             183.0   \n",
       "3      6             1     Tuesday          WN    LAS  MSP             185.0   \n",
       "4      6             1     Tuesday          DL    LAS  MSP             188.0   \n",
       "\n",
       "   DISTANCE target  origin-elevation  dest-elevation takeoff-time-of-day  \\\n",
       "0    1299.0     No            2181.0           841.0               Night   \n",
       "1    1299.0     No            2181.0           841.0       Early Morning   \n",
       "2    1299.0     No            2181.0           841.0        Late Morning   \n",
       "3    1299.0     No            2181.0           841.0        Late Morning   \n",
       "4    1299.0     No            2181.0           841.0        Late Morning   \n",
       "\n",
       "  arrival-time-of-day ARR_DAY_OF_WEEK  avg-takeoff-congestion  \\\n",
       "0       Early Morning         Tuesday                1.329932   \n",
       "1        Late Morning         Tuesday                2.024347   \n",
       "2     Early Afternoon         Tuesday                1.683796   \n",
       "3     Early Afternoon         Tuesday                1.683796   \n",
       "4      Late Afternoon         Tuesday                1.683796   \n",
       "\n",
       "   avg-arrival-congestion  dest-avg-takeoff-congestion  \\\n",
       "0                1.209226                     1.776888   \n",
       "1                1.501475                     1.634171   \n",
       "2                1.420449                     1.684955   \n",
       "3                1.420449                     1.684955   \n",
       "4                1.420449                     1.254342   \n",
       "\n",
       "   dest-avg-arrival-congestion        holiday days-from-specific-holiday  \\\n",
       "0                     1.383135  Not a Holiday           Memorial Day_1.0   \n",
       "1                     1.296566  Not a Holiday           Memorial Day_1.0   \n",
       "2                     1.355537  Not a Holiday           Memorial Day_1.0   \n",
       "3                     1.355537  Not a Holiday           Memorial Day_1.0   \n",
       "4                     1.393955  Not a Holiday           Memorial Day_1.0   \n",
       "\n",
       "   takeoff-mins-from-midnight  landing-mins-from-midnight  maxtemp  mintemp  \\\n",
       "0                          15                         321     37.7     22.2   \n",
       "1                         370                         673     37.7     22.2   \n",
       "2                         554                         857     37.7     22.2   \n",
       "3                         630                         935     37.7     22.2   \n",
       "4                         701                        1009     37.7     22.2   \n",
       "\n",
       "   avgtemp  totalprecip  avgvis  maxwind  avghumidity  dest-maxtemp  \\\n",
       "0     32.3          0.0    10.0     10.8         14.0          24.7   \n",
       "1     32.3          0.0    10.0     10.8         14.0          24.7   \n",
       "2     32.3          0.0    10.0     10.8         14.0          24.7   \n",
       "3     32.3          0.0    10.0     10.8         14.0          24.7   \n",
       "4     32.3          0.0    10.0     10.8         14.0          24.7   \n",
       "\n",
       "   dest-mintemp  dest-avgtemp  dest-totalprecip  dest-avgvis  dest-maxwind  \\\n",
       "0          13.4          20.3               0.0         10.0           9.7   \n",
       "1          13.4          20.3               0.0         10.0           9.7   \n",
       "2          13.4          20.3               0.0         10.0           9.7   \n",
       "3          13.4          20.3               0.0         10.0           9.7   \n",
       "4          13.4          20.3               0.0         10.0           9.7   \n",
       "\n",
       "   dest-avghumidity  \n",
       "0              53.0  \n",
       "1              53.0  \n",
       "2              53.0  \n",
       "3              53.0  \n",
       "4              53.0  "
      ]
     },
     "execution_count": 4,
     "metadata": {},
     "output_type": "execute_result"
    }
   ],
   "source": [
    "# Now let's preview the first 5 rows\n",
    "pd.set_option('display.max_columns', 36)\n",
    "carrier_data.head()"
   ]
  },
  {
   "cell_type": "markdown",
   "metadata": {},
   "source": [
    "We already explored what these features are in our previous notebook.\n",
    "\n",
    "However, one important note here is that we will treat MONTH and DAY_OF_MONTH (currently ints) as objects because they are not truly continuous variables. There are just 12 months and between 28 and 30 days depending on the month. So let's transform those."
   ]
  },
  {
   "cell_type": "code",
   "execution_count": 5,
   "metadata": {},
   "outputs": [],
   "source": [
    "carrier_data['MONTH'] = carrier_data['MONTH'].astype(str)\n",
    "carrier_data['DAY_OF_MONTH'] = carrier_data['DAY_OF_MONTH'].astype(str)"
   ]
  },
  {
   "cell_type": "markdown",
   "metadata": {},
   "source": [
    "### Samping Down Data"
   ]
  },
  {
   "cell_type": "markdown",
   "metadata": {},
   "source": [
    "We have 4,342,575 total flight records. That is too much to model with (at least on the machine we are running locally). We'll save out a sample of this data to use in modeling. We can always test later on whether including more data helps the models."
   ]
  },
  {
   "cell_type": "code",
   "execution_count": 6,
   "metadata": {
    "scrolled": false
   },
   "outputs": [],
   "source": [
    "# Sample 5% of our data which will still result in over 100,000 records\n",
    "carrier_data_sample = carrier_data.sample(frac=0.05, axis=0, random_state=123)\n",
    "carrier_data_sample.to_csv('data/prepared/data_for_modeling_sample.csv', index=False)"
   ]
  },
  {
   "cell_type": "markdown",
   "metadata": {},
   "source": [
    "#### Plotting Target Distribution\n",
    "Our data is heavily skewed. Just 7% of all flight records qualify under our definition of 'severe delay'."
   ]
  },
  {
   "cell_type": "code",
   "execution_count": 7,
   "metadata": {},
   "outputs": [
    {
     "data": {
      "image/png": "[encoded data removed]",
      "text/plain": [
       "<Figure size 792x432 with 1 Axes>"
      ]
     },
     "metadata": {},
     "output_type": "display_data"
    }
   ],
   "source": [
    "distribution = carrier_data['target'].value_counts(normalize=True)\n",
    "# Plotting\n",
    "colors = sns.color_palette('muted')[0:2]\n",
    "distribution.plot.pie(figsize=(11, 6),\n",
    "                      autopct='%1.0f%%',\n",
    "                      colors = colors,\n",
    "                      ylabel='',\n",
    "                      textprops={'fontsize': 14, 'color':\"w\"})\n",
    "plt.title(\"Is there a severe delay?\", fontsize=16)\n",
    "plt.legend()\n",
    "plt.show()"
   ]
  },
  {
   "cell_type": "markdown",
   "metadata": {},
   "source": [
    "We'll account for this in our modeling by setting sample and class weights."
   ]
  },
  {
   "cell_type": "markdown",
   "metadata": {},
   "source": [
    "### Splitting up data for training, validation & testing\n",
    "To model data, we need to have it split into training, test and validation sets. We will iterate over our models using the training and validation data. Once we're ready to settle on a final model, we can evaluate it using previously unseen test data."
   ]
  },
  {
   "cell_type": "code",
   "execution_count": 8,
   "metadata": {
    "scrolled": false
   },
   "outputs": [],
   "source": [
    "# Splitting features & target\n",
    "y = carrier_data_sample[\"target\"]\n",
    "X = carrier_data_sample.drop([\"target\"], axis=1)\n",
    "\n",
    "# Creating train, test and validation sets\n",
    "X_train, X_rem, y_train, y_rem = train_test_split(X,y, train_size=0.8)\n",
    "\n",
    "test_size = 0.5\n",
    "X_valid, X_test, y_valid, y_test = train_test_split(X_rem,y_rem, test_size=0.5)"
   ]
  },
  {
   "cell_type": "markdown",
   "metadata": {},
   "source": [
    "Before modeling, we will need to carry out transformations on the data. To do this, we need to separate numeric and categorical features since those will require different treatment."
   ]
  },
  {
   "cell_type": "code",
   "execution_count": 9,
   "metadata": {
    "scrolled": false
   },
   "outputs": [],
   "source": [
    "num_cols = ['CRS_ELAPSED_TIME', 'DISTANCE', 'origin-elevation', 'dest-elevation',\n",
    "            'avg-takeoff-congestion', 'avg-arrival-congestion', 'dest-avg-takeoff-congestion',\n",
    "            'dest-avg-arrival-congestion', 'takeoff-mins-from-midnight', 'landing-mins-from-midnight',\n",
    "            'maxtemp', 'mintemp', 'avgtemp', 'totalprecip', 'avgvis', 'maxwind', 'avghumidity',\n",
    "            'dest-maxtemp', 'dest-mintemp', 'dest-avgtemp', 'dest-totalprecip', 'dest-avgvis',\n",
    "            'dest-maxwind', 'dest-avghumidity']\n",
    "\n",
    "cat_cols = ['MONTH', 'DAY_OF_MONTH', 'DAY_OF_WEEK', 'MKT_CARRIER', 'ORIGIN',\n",
    "            'DEST', 'takeoff-time-of-day', 'arrival-time-of-day', 'ARR_DAY_OF_WEEK',\n",
    "            'holiday', 'days-from-specific-holiday']"
   ]
  },
  {
   "cell_type": "markdown",
   "metadata": {},
   "source": [
    "To transform data for modeling, we'll be making use of pipelines to simplify things."
   ]
  },
  {
   "cell_type": "code",
   "execution_count": 10,
   "metadata": {
    "scrolled": false
   },
   "outputs": [],
   "source": [
    "# We create a column transformer that has two parts\n",
    "# The first transform acts on our cat_cols and OneHotEncodes those columns\n",
    "# The second transform applies a StandardScaler on our numeric columns\n",
    "col_transform = ColumnTransformer(transformers=[('categorical', OneHotEncoder(categories=\"auto\",\n",
    "                                                                      sparse=False,\n",
    "                                                                      handle_unknown=\"ignore\"), cat_cols),\n",
    "                                                ('numeric', StandardScaler(), num_cols)])"
   ]
  },
  {
   "cell_type": "markdown",
   "metadata": {},
   "source": [
    "Our data is also highly imbalanced with the target (severe delay) only happing 7% of the time. To deal with this class imbalance, we'll compute some sample weights which we can later test in some of the models we iterate through."
   ]
  },
  {
   "cell_type": "code",
   "execution_count": 11,
   "metadata": {
    "scrolled": false
   },
   "outputs": [],
   "source": [
    "# We use compute_class_weight from sklearn to calculate the weights\n",
    "class_weights = compute_class_weight(class_weight = \"balanced\",\n",
    "                                     classes = np.unique(y_train),\n",
    "                                     y = y_train)\n",
    "\n",
    "# Then we add these weights into a dictionary\n",
    "class_weights_dict = dict(zip(np.unique(y_train), class_weights))\n",
    "\n",
    "# Finally, we also calculate sample weights which can be used with XGBoost Classifiers\n",
    "sample_weights = compute_sample_weight(class_weight='balanced', y=y_train)"
   ]
  },
  {
   "cell_type": "markdown",
   "metadata": {},
   "source": [
    "### Modeling\n",
    "We'll be working with different Gradient Descent models because they are good at handling classification tasks. There are a number of classifiers we'll throw at our problem including Logistic Regression, Random Forests, XGBoost and LightGBM.\n",
    "\n",
    "#### Helper Function\n",
    "\n",
    "We create a function to evaluate model performance. This will help keep track of how each model iteration does in relation to our success metric. It will also help us spot overfitting."
   ]
  },
  {
   "cell_type": "code",
   "execution_count": 12,
   "metadata": {
    "scrolled": false
   },
   "outputs": [],
   "source": [
    "def evaluate_model(pipe, X, y_true):\n",
    "    \"\"\"\n",
    "    This function takes a modeling pipeline, a dataframe (x), and true labels (y)\n",
    "    The function returns a confusion matrix, an accuracy score, precision, recall and F1\n",
    "    \"\"\"\n",
    "    y_pred  = pipe.predict(X) # generate a set of predictions\n",
    "   \n",
    "    print('Evaluation Scores:')\n",
    "    print('--------------')\n",
    "    accuracy = accuracy_score(y_true, y_pred)\n",
    "    print('Accuracy: %.3f' % round(accuracy, 3))\n",
    "    # precision tp / (tp + fp)\n",
    "    precision = precision_score(y_true, y_pred, pos_label='Yes')\n",
    "    print('Precision: %.3f' % round(precision, 3))\n",
    "    # recall: tp / (tp + fn)\n",
    "    recall = recall_score(y_true, y_pred, pos_label='Yes')\n",
    "    print('Recall: %.3f' % round(recall, 3))\n",
    "    # f1: 2 tp / (2 tp + fp + fn)\n",
    "    f1 = f1_score(y_true, y_pred, pos_label='Yes')\n",
    "    print('F1 score: %.3f' % round(f1, 3))\n",
    "    print('--------------')\n",
    "    print('Confusion Matrix:')\n",
    "\n",
    "    ConfusionMatrixDisplay.from_predictions(y_true, y_pred, normalize='true')\n",
    "    plt.show()\n",
    "    \n",
    "    # Print a classification report\n",
    "    print('Classification Report:')\n",
    "    print(classification_report(y_true, y_pred))"
   ]
  },
  {
   "cell_type": "markdown",
   "metadata": {},
   "source": [
    "### Dummy Baseline Model\n",
    "\n",
    "We start off by building a simple model that will serve as a benchmark. This model simply guesses the dominant class (no delay) every time."
   ]
  },
  {
   "cell_type": "code",
   "execution_count": 13,
   "metadata": {
    "scrolled": false
   },
   "outputs": [
    {
     "name": "stdout",
     "output_type": "stream",
     "text": [
      "Evaluation Scores:\n",
      "--------------\n",
      "Accuracy: 0.931\n"
     ]
    },
    {
     "name": "stderr",
     "output_type": "stream",
     "text": [
      "C:\\Users\\Robert\\anaconda3\\envs\\learn-env\\lib\\site-packages\\sklearn\\metrics\\_classification.py:1327: UndefinedMetricWarning: Precision is ill-defined and being set to 0.0 due to no predicted samples. Use `zero_division` parameter to control this behavior.\n",
      "  _warn_prf(average, modifier, msg_start, len(result))\n"
     ]
    },
    {
     "name": "stdout",
     "output_type": "stream",
     "text": [
      "Precision: 0.000\n",
      "Recall: 0.000\n",
      "F1 score: 0.000\n",
      "--------------\n",
      "Confusion Matrix:\n"
     ]
    },
    {
     "data": {
      "image/png": "[encoded data removed]",
      "text/plain": [
       "<Figure size 432x288 with 2 Axes>"
      ]
     },
     "metadata": {
      "needs_background": "light"
     },
     "output_type": "display_data"
    },
    {
     "name": "stdout",
     "output_type": "stream",
     "text": [
      "Classification Report:\n"
     ]
    },
    {
     "name": "stderr",
     "output_type": "stream",
     "text": [
      "C:\\Users\\Robert\\anaconda3\\envs\\learn-env\\lib\\site-packages\\sklearn\\metrics\\_classification.py:1327: UndefinedMetricWarning: Precision and F-score are ill-defined and being set to 0.0 in labels with no predicted samples. Use `zero_division` parameter to control this behavior.\n",
      "  _warn_prf(average, modifier, msg_start, len(result))\n",
      "C:\\Users\\Robert\\anaconda3\\envs\\learn-env\\lib\\site-packages\\sklearn\\metrics\\_classification.py:1327: UndefinedMetricWarning: Precision and F-score are ill-defined and being set to 0.0 in labels with no predicted samples. Use `zero_division` parameter to control this behavior.\n",
      "  _warn_prf(average, modifier, msg_start, len(result))\n"
     ]
    },
    {
     "name": "stdout",
     "output_type": "stream",
     "text": [
      "              precision    recall  f1-score   support\n",
      "\n",
      "          No       0.93      1.00      0.96    201226\n",
      "         Yes       0.00      0.00      0.00     14968\n",
      "\n",
      "    accuracy                           0.93    216194\n",
      "   macro avg       0.47      0.50      0.48    216194\n",
      "weighted avg       0.87      0.93      0.90    216194\n",
      "\n"
     ]
    },
    {
     "name": "stderr",
     "output_type": "stream",
     "text": [
      "C:\\Users\\Robert\\anaconda3\\envs\\learn-env\\lib\\site-packages\\sklearn\\metrics\\_classification.py:1327: UndefinedMetricWarning: Precision and F-score are ill-defined and being set to 0.0 in labels with no predicted samples. Use `zero_division` parameter to control this behavior.\n",
      "  _warn_prf(average, modifier, msg_start, len(result))\n"
     ]
    }
   ],
   "source": [
    "baselline_pipe = Pipeline(steps=[('prep', col_transform),\n",
    "                                 ('dc', DummyClassifier(strategy='most_frequent'))])\n",
    "\n",
    "baselline_pipe.fit(X_train, y_train)\n",
    "\n",
    "evaluate_model(baselline_pipe, X_train, y_train)"
   ]
  },
  {
   "cell_type": "markdown",
   "metadata": {},
   "source": [
    "### Logistic Regression\n",
    "Our first real model is logistic regression. We'll always start off by running our models with default parameters and tweak our hyperparameters afterwards to see if we can get better performance."
   ]
  },
  {
   "cell_type": "code",
   "execution_count": 14,
   "metadata": {
    "scrolled": true
   },
   "outputs": [
    {
     "name": "stderr",
     "output_type": "stream",
     "text": [
      "C:\\Users\\Robert\\anaconda3\\envs\\learn-env\\lib\\site-packages\\sklearn\\linear_model\\_logistic.py:444: ConvergenceWarning: lbfgs failed to converge (status=1):\n",
      "STOP: TOTAL NO. of ITERATIONS REACHED LIMIT.\n",
      "\n",
      "Increase the number of iterations (max_iter) or scale the data as shown in:\n",
      "    https://scikit-learn.org/stable/modules/preprocessing.html\n",
      "Please also refer to the documentation for alternative solver options:\n",
      "    https://scikit-learn.org/stable/modules/linear_model.html#logistic-regression\n",
      "  n_iter_i = _check_optimize_result(\n"
     ]
    },
    {
     "name": "stdout",
     "output_type": "stream",
     "text": [
      "Training Scores:\n",
      "Evaluation Scores:\n",
      "--------------\n",
      "Accuracy: 0.931\n",
      "Precision: 0.600\n",
      "Recall: 0.001\n",
      "F1 score: 0.001\n",
      "--------------\n",
      "Confusion Matrix:\n"
     ]
    },
    {
     "data": {
      "image/png": "[encoded data removed]",
      "text/plain": [
       "<Figure size 432x288 with 2 Axes>"
      ]
     },
     "metadata": {
      "needs_background": "light"
     },
     "output_type": "display_data"
    },
    {
     "name": "stdout",
     "output_type": "stream",
     "text": [
      "Classification Report:\n",
      "              precision    recall  f1-score   support\n",
      "\n",
      "          No       0.93      1.00      0.96    201226\n",
      "         Yes       0.60      0.00      0.00     14968\n",
      "\n",
      "    accuracy                           0.93    216194\n",
      "   macro avg       0.77      0.50      0.48    216194\n",
      "weighted avg       0.91      0.93      0.90    216194\n",
      "\n"
     ]
    }
   ],
   "source": [
    "# Defining our logistic regression pipe\n",
    "lr_pipe1 = Pipeline(steps=[('prep', col_transform), # Column transformations we defined in an earlier step\n",
    "                           ('lr', LogisticRegression(random_state=123))]) # The model itself\n",
    "\n",
    "# We fit the model on our training data\n",
    "lr_pipe1.fit(X_train, y_train)\n",
    "\n",
    "# And now we score the model\n",
    "print('Training Scores:')\n",
    "evaluate_model(lr_pipe1, X_train, y_train)"
   ]
  },
  {
   "cell_type": "code",
   "execution_count": 15,
   "metadata": {},
   "outputs": [
    {
     "name": "stdout",
     "output_type": "stream",
     "text": [
      "Validation Scores:\n",
      "Evaluation Scores:\n",
      "--------------\n",
      "Accuracy: 0.930\n",
      "Precision: 0.000\n",
      "Recall: 0.000\n",
      "F1 score: 0.000\n",
      "--------------\n",
      "Confusion Matrix:\n"
     ]
    },
    {
     "data": {
      "image/png": "[encoded data removed]",
      "text/plain": [
       "<Figure size 432x288 with 2 Axes>"
      ]
     },
     "metadata": {
      "needs_background": "light"
     },
     "output_type": "display_data"
    },
    {
     "name": "stdout",
     "output_type": "stream",
     "text": [
      "Classification Report:\n",
      "              precision    recall  f1-score   support\n",
      "\n",
      "          No       0.93      1.00      0.96     25122\n",
      "         Yes       0.00      0.00      0.00      1902\n",
      "\n",
      "    accuracy                           0.93     27024\n",
      "   macro avg       0.46      0.50      0.48     27024\n",
      "weighted avg       0.86      0.93      0.90     27024\n",
      "\n"
     ]
    }
   ],
   "source": [
    "print('Validation Scores:')\n",
    "evaluate_model(lr_pipe1, X_valid, y_valid)"
   ]
  },
  {
   "cell_type": "markdown",
   "metadata": {},
   "source": [
    "This model is just barely better than our dummy classifier. It's simply always guessing the dominant class (no delay). It's highly conservative. Next we try passing class weights into the model to see how that improves it."
   ]
  },
  {
   "cell_type": "code",
   "execution_count": 16,
   "metadata": {
    "scrolled": false
   },
   "outputs": [
    {
     "name": "stderr",
     "output_type": "stream",
     "text": [
      "C:\\Users\\Robert\\anaconda3\\envs\\learn-env\\lib\\site-packages\\sklearn\\linear_model\\_logistic.py:444: ConvergenceWarning: lbfgs failed to converge (status=1):\n",
      "STOP: TOTAL NO. of ITERATIONS REACHED LIMIT.\n",
      "\n",
      "Increase the number of iterations (max_iter) or scale the data as shown in:\n",
      "    https://scikit-learn.org/stable/modules/preprocessing.html\n",
      "Please also refer to the documentation for alternative solver options:\n",
      "    https://scikit-learn.org/stable/modules/linear_model.html#logistic-regression\n",
      "  n_iter_i = _check_optimize_result(\n"
     ]
    },
    {
     "name": "stdout",
     "output_type": "stream",
     "text": [
      "Evaluation Scores:\n",
      "--------------\n",
      "Accuracy: 0.645\n",
      "Precision: 0.122\n",
      "Recall: 0.664\n",
      "F1 score: 0.206\n",
      "--------------\n",
      "Confusion Matrix:\n"
     ]
    },
    {
     "data": {
      "image/png": "[encoded data removed]",
      "text/plain": [
       "<Figure size 432x288 with 2 Axes>"
      ]
     },
     "metadata": {
      "needs_background": "light"
     },
     "output_type": "display_data"
    },
    {
     "name": "stdout",
     "output_type": "stream",
     "text": [
      "Classification Report:\n",
      "              precision    recall  f1-score   support\n",
      "\n",
      "          No       0.96      0.64      0.77    201226\n",
      "         Yes       0.12      0.66      0.21     14968\n",
      "\n",
      "    accuracy                           0.64    216194\n",
      "   macro avg       0.54      0.65      0.49    216194\n",
      "weighted avg       0.90      0.64      0.73    216194\n",
      "\n"
     ]
    }
   ],
   "source": [
    "# We create a new pipe with class weights\n",
    "lr_pipe2 = Pipeline(steps=[('prep', col_transform),\n",
    "                           ('lr', LogisticRegression(class_weight=class_weights_dict, random_state=123))])\n",
    "\n",
    "# Fit & evaluate\n",
    "lr_pipe2.fit(X_train, y_train)\n",
    "evaluate_model(lr_pipe2, X_train, y_train)"
   ]
  },
  {
   "cell_type": "code",
   "execution_count": 17,
   "metadata": {},
   "outputs": [
    {
     "name": "stdout",
     "output_type": "stream",
     "text": [
      "Evaluation Scores:\n",
      "--------------\n",
      "Accuracy: 0.647\n",
      "Precision: 0.122\n",
      "Recall: 0.646\n",
      "F1 score: 0.205\n",
      "--------------\n",
      "Confusion Matrix:\n"
     ]
    },
    {
     "data": {
      "image/png": "[encoded data removed]",
      "text/plain": [
       "<Figure size 432x288 with 2 Axes>"
      ]
     },
     "metadata": {
      "needs_background": "light"
     },
     "output_type": "display_data"
    },
    {
     "name": "stdout",
     "output_type": "stream",
     "text": [
      "Classification Report:\n",
      "              precision    recall  f1-score   support\n",
      "\n",
      "          No       0.96      0.65      0.77     25122\n",
      "         Yes       0.12      0.65      0.20      1902\n",
      "\n",
      "    accuracy                           0.65     27024\n",
      "   macro avg       0.54      0.65      0.49     27024\n",
      "weighted avg       0.90      0.65      0.73     27024\n",
      "\n"
     ]
    }
   ],
   "source": [
    "# Checking model on validation data\n",
    "evaluate_model(lr_pipe2, X_valid, y_valid)"
   ]
  },
  {
   "cell_type": "markdown",
   "metadata": {},
   "source": [
    "**Much** better. This was a big jump in performance. Our F1 score jumped up to 0.2. The accuracy is somewhat poor (65%). On fitting, the model also failed to converge before hitting the iteration limit. We'll try increasing the max allowed iterations from 100 to 1,000 and see if that delivers better performance. Of course, doing this we risk introducing overfitting."
   ]
  },
  {
   "cell_type": "code",
   "execution_count": 18,
   "metadata": {},
   "outputs": [
    {
     "name": "stdout",
     "output_type": "stream",
     "text": [
      "Evaluation Scores:\n",
      "--------------\n",
      "Accuracy: 0.646\n",
      "Precision: 0.122\n",
      "Recall: 0.665\n",
      "F1 score: 0.206\n",
      "--------------\n",
      "Confusion Matrix:\n"
     ]
    },
    {
     "data": {
      "image/png": "[encoded data removed]",
      "text/plain": [
       "<Figure size 432x288 with 2 Axes>"
      ]
     },
     "metadata": {
      "needs_background": "light"
     },
     "output_type": "display_data"
    },
    {
     "name": "stdout",
     "output_type": "stream",
     "text": [
      "Classification Report:\n",
      "              precision    recall  f1-score   support\n",
      "\n",
      "          No       0.96      0.64      0.77    201226\n",
      "         Yes       0.12      0.66      0.21     14968\n",
      "\n",
      "    accuracy                           0.65    216194\n",
      "   macro avg       0.54      0.65      0.49    216194\n",
      "weighted avg       0.90      0.65      0.73    216194\n",
      "\n"
     ]
    }
   ],
   "source": [
    "lr_pipe3 = Pipeline(steps=[('prep', col_transform),\n",
    "                           ('lr', LogisticRegression(class_weight=class_weights_dict,\n",
    "                                                     max_iter=1000,\n",
    "                                                     random_state=123))])\n",
    "\n",
    "lr_pipe3.fit(X_train, y_train)\n",
    "\n",
    "evaluate_model(lr_pipe3, X_train, y_train)"
   ]
  },
  {
   "cell_type": "code",
   "execution_count": 19,
   "metadata": {},
   "outputs": [
    {
     "name": "stdout",
     "output_type": "stream",
     "text": [
      "Evaluation Scores:\n",
      "--------------\n",
      "Accuracy: 0.647\n",
      "Precision: 0.122\n",
      "Recall: 0.650\n",
      "F1 score: 0.206\n",
      "--------------\n",
      "Confusion Matrix:\n"
     ]
    },
    {
     "data": {
      "image/png": "[encoded data removed]",
      "text/plain": [
       "<Figure size 432x288 with 2 Axes>"
      ]
     },
     "metadata": {
      "needs_background": "light"
     },
     "output_type": "display_data"
    },
    {
     "name": "stdout",
     "output_type": "stream",
     "text": [
      "Classification Report:\n",
      "              precision    recall  f1-score   support\n",
      "\n",
      "          No       0.96      0.65      0.77     25122\n",
      "         Yes       0.12      0.65      0.21      1902\n",
      "\n",
      "    accuracy                           0.65     27024\n",
      "   macro avg       0.54      0.65      0.49     27024\n",
      "weighted avg       0.90      0.65      0.73     27024\n",
      "\n"
     ]
    }
   ],
   "source": [
    "# Checking model on validation data\n",
    "evaluate_model(lr_pipe3, X_valid, y_valid)"
   ]
  },
  {
   "cell_type": "markdown",
   "metadata": {},
   "source": [
    "The model didn't start overfitting, but we also didn't see much of an improvement to accuracy (64.8% vs 64.7% before). Our F1 score also stayed the same.\n",
    "\n",
    "We'll try another classifier altogether next."
   ]
  },
  {
   "cell_type": "markdown",
   "metadata": {},
   "source": [
    "### Random Forest\n",
    "Random Forest classifiers are another classic option for classification tasks. They work by fitting a number of decision tree classifiers on sub-samples of our data and average over them to improve accuracy."
   ]
  },
  {
   "cell_type": "code",
   "execution_count": 20,
   "metadata": {
    "scrolled": false
   },
   "outputs": [
    {
     "name": "stdout",
     "output_type": "stream",
     "text": [
      "Evaluation Scores:\n",
      "--------------\n",
      "Accuracy: 0.931\n"
     ]
    },
    {
     "name": "stderr",
     "output_type": "stream",
     "text": [
      "C:\\Users\\Robert\\anaconda3\\envs\\learn-env\\lib\\site-packages\\sklearn\\metrics\\_classification.py:1327: UndefinedMetricWarning: Precision is ill-defined and being set to 0.0 due to no predicted samples. Use `zero_division` parameter to control this behavior.\n",
      "  _warn_prf(average, modifier, msg_start, len(result))\n"
     ]
    },
    {
     "name": "stdout",
     "output_type": "stream",
     "text": [
      "Precision: 0.000\n",
      "Recall: 0.000\n",
      "F1 score: 0.000\n",
      "--------------\n",
      "Confusion Matrix:\n"
     ]
    },
    {
     "data": {
      "image/png": "[encoded data removed]",
      "text/plain": [
       "<Figure size 432x288 with 2 Axes>"
      ]
     },
     "metadata": {
      "needs_background": "light"
     },
     "output_type": "display_data"
    },
    {
     "name": "stdout",
     "output_type": "stream",
     "text": [
      "Classification Report:\n"
     ]
    },
    {
     "name": "stderr",
     "output_type": "stream",
     "text": [
      "C:\\Users\\Robert\\anaconda3\\envs\\learn-env\\lib\\site-packages\\sklearn\\metrics\\_classification.py:1327: UndefinedMetricWarning: Precision and F-score are ill-defined and being set to 0.0 in labels with no predicted samples. Use `zero_division` parameter to control this behavior.\n",
      "  _warn_prf(average, modifier, msg_start, len(result))\n",
      "C:\\Users\\Robert\\anaconda3\\envs\\learn-env\\lib\\site-packages\\sklearn\\metrics\\_classification.py:1327: UndefinedMetricWarning: Precision and F-score are ill-defined and being set to 0.0 in labels with no predicted samples. Use `zero_division` parameter to control this behavior.\n",
      "  _warn_prf(average, modifier, msg_start, len(result))\n"
     ]
    },
    {
     "name": "stdout",
     "output_type": "stream",
     "text": [
      "              precision    recall  f1-score   support\n",
      "\n",
      "          No       0.93      1.00      0.96    201226\n",
      "         Yes       0.00      0.00      0.00     14968\n",
      "\n",
      "    accuracy                           0.93    216194\n",
      "   macro avg       0.47      0.50      0.48    216194\n",
      "weighted avg       0.87      0.93      0.90    216194\n",
      "\n"
     ]
    },
    {
     "name": "stderr",
     "output_type": "stream",
     "text": [
      "C:\\Users\\Robert\\anaconda3\\envs\\learn-env\\lib\\site-packages\\sklearn\\metrics\\_classification.py:1327: UndefinedMetricWarning: Precision and F-score are ill-defined and being set to 0.0 in labels with no predicted samples. Use `zero_division` parameter to control this behavior.\n",
      "  _warn_prf(average, modifier, msg_start, len(result))\n"
     ]
    }
   ],
   "source": [
    "rf_pipe = Pipeline(steps=[('prep', col_transform),\n",
    "                           ('rf', RandomForestClassifier(n_estimators=100,\n",
    "                                  max_depth=12,\n",
    "                                  random_state=123))])\n",
    "rf_pipe.fit(X_train, y_train)\n",
    "\n",
    "evaluate_model(rf_pipe, X_train, y_train)"
   ]
  },
  {
   "cell_type": "code",
   "execution_count": 21,
   "metadata": {},
   "outputs": [
    {
     "name": "stdout",
     "output_type": "stream",
     "text": [
      "Evaluation Scores:\n",
      "--------------\n",
      "Accuracy: 0.930\n",
      "Precision: 0.000\n"
     ]
    },
    {
     "name": "stderr",
     "output_type": "stream",
     "text": [
      "C:\\Users\\Robert\\anaconda3\\envs\\learn-env\\lib\\site-packages\\sklearn\\metrics\\_classification.py:1327: UndefinedMetricWarning: Precision is ill-defined and being set to 0.0 due to no predicted samples. Use `zero_division` parameter to control this behavior.\n",
      "  _warn_prf(average, modifier, msg_start, len(result))\n"
     ]
    },
    {
     "name": "stdout",
     "output_type": "stream",
     "text": [
      "Recall: 0.000\n",
      "F1 score: 0.000\n",
      "--------------\n",
      "Confusion Matrix:\n"
     ]
    },
    {
     "data": {
      "image/png": "[encoded data removed]",
      "text/plain": [
       "<Figure size 432x288 with 2 Axes>"
      ]
     },
     "metadata": {
      "needs_background": "light"
     },
     "output_type": "display_data"
    },
    {
     "name": "stdout",
     "output_type": "stream",
     "text": [
      "Classification Report:\n"
     ]
    },
    {
     "name": "stderr",
     "output_type": "stream",
     "text": [
      "C:\\Users\\Robert\\anaconda3\\envs\\learn-env\\lib\\site-packages\\sklearn\\metrics\\_classification.py:1327: UndefinedMetricWarning: Precision and F-score are ill-defined and being set to 0.0 in labels with no predicted samples. Use `zero_division` parameter to control this behavior.\n",
      "  _warn_prf(average, modifier, msg_start, len(result))\n"
     ]
    },
    {
     "name": "stdout",
     "output_type": "stream",
     "text": [
      "              precision    recall  f1-score   support\n",
      "\n",
      "          No       0.93      1.00      0.96     25122\n",
      "         Yes       0.00      0.00      0.00      1902\n",
      "\n",
      "    accuracy                           0.93     27024\n",
      "   macro avg       0.46      0.50      0.48     27024\n",
      "weighted avg       0.86      0.93      0.90     27024\n",
      "\n"
     ]
    },
    {
     "name": "stderr",
     "output_type": "stream",
     "text": [
      "C:\\Users\\Robert\\anaconda3\\envs\\learn-env\\lib\\site-packages\\sklearn\\metrics\\_classification.py:1327: UndefinedMetricWarning: Precision and F-score are ill-defined and being set to 0.0 in labels with no predicted samples. Use `zero_division` parameter to control this behavior.\n",
      "  _warn_prf(average, modifier, msg_start, len(result))\n",
      "C:\\Users\\Robert\\anaconda3\\envs\\learn-env\\lib\\site-packages\\sklearn\\metrics\\_classification.py:1327: UndefinedMetricWarning: Precision and F-score are ill-defined and being set to 0.0 in labels with no predicted samples. Use `zero_division` parameter to control this behavior.\n",
      "  _warn_prf(average, modifier, msg_start, len(result))\n"
     ]
    }
   ],
   "source": [
    "# Checking model on validation data\n",
    "evaluate_model(rf_pipe, X_valid, y_valid)"
   ]
  },
  {
   "cell_type": "markdown",
   "metadata": {},
   "source": [
    "Like with Logistic Regression, when we don't introduce class weights the model simply guesses there will be no delay which is useless for our problem. Moving forward, we will only try models that deal with class imbalance."
   ]
  },
  {
   "cell_type": "code",
   "execution_count": 22,
   "metadata": {
    "scrolled": false
   },
   "outputs": [
    {
     "name": "stdout",
     "output_type": "stream",
     "text": [
      "Evaluation Scores:\n",
      "--------------\n",
      "Accuracy: 1.000\n",
      "Precision: 1.000\n",
      "Recall: 0.999\n",
      "F1 score: 1.000\n",
      "--------------\n",
      "Confusion Matrix:\n"
     ]
    },
    {
     "data": {
      "image/png": "[encoded data removed]",
      "text/plain": [
       "<Figure size 432x288 with 2 Axes>"
      ]
     },
     "metadata": {
      "needs_background": "light"
     },
     "output_type": "display_data"
    },
    {
     "name": "stdout",
     "output_type": "stream",
     "text": [
      "Classification Report:\n",
      "              precision    recall  f1-score   support\n",
      "\n",
      "          No       1.00      1.00      1.00    201226\n",
      "         Yes       1.00      1.00      1.00     14968\n",
      "\n",
      "    accuracy                           1.00    216194\n",
      "   macro avg       1.00      1.00      1.00    216194\n",
      "weighted avg       1.00      1.00      1.00    216194\n",
      "\n"
     ]
    }
   ],
   "source": [
    "# Now we call on a Random Forest classifier with default parameters, except for class_weights\n",
    "rf_pipe_2 = Pipeline(steps=[('prep', col_transform),\n",
    "                           ('rf', RandomForestClassifier(class_weight=class_weights_dict, random_state=123))])\n",
    "\n",
    "# Fit and evaluate\n",
    "rf_pipe_2.fit(X_train, y_train)\n",
    "evaluate_model(rf_pipe_2, X_train, y_train)"
   ]
  },
  {
   "cell_type": "code",
   "execution_count": 23,
   "metadata": {},
   "outputs": [
    {
     "name": "stdout",
     "output_type": "stream",
     "text": [
      "Evaluation Scores:\n",
      "--------------\n",
      "Accuracy: 0.930\n",
      "Precision: 0.333\n",
      "Recall: 0.002\n",
      "F1 score: 0.003\n",
      "--------------\n",
      "Confusion Matrix:\n"
     ]
    },
    {
     "data": {
      "image/png": "[encoded data removed]",
      "text/plain": [
       "<Figure size 432x288 with 2 Axes>"
      ]
     },
     "metadata": {
      "needs_background": "light"
     },
     "output_type": "display_data"
    },
    {
     "name": "stdout",
     "output_type": "stream",
     "text": [
      "Classification Report:\n",
      "              precision    recall  f1-score   support\n",
      "\n",
      "          No       0.93      1.00      0.96     25122\n",
      "         Yes       0.33      0.00      0.00      1902\n",
      "\n",
      "    accuracy                           0.93     27024\n",
      "   macro avg       0.63      0.50      0.48     27024\n",
      "weighted avg       0.89      0.93      0.90     27024\n",
      "\n"
     ]
    }
   ],
   "source": [
    "# Checking model on validation data\n",
    "evaluate_model(rf_pipe_2, X_valid, y_valid)"
   ]
  },
  {
   "cell_type": "markdown",
   "metadata": {},
   "source": [
    "Something strange happened with this iteration. The training model always guessed that there was a severe delay, and it did the oppose on the validation data. I don't trust these results because of that strange behavior and keep moving on."
   ]
  },
  {
   "cell_type": "code",
   "execution_count": 24,
   "metadata": {},
   "outputs": [
    {
     "name": "stdout",
     "output_type": "stream",
     "text": [
      "Evaluation Scores:\n",
      "--------------\n",
      "Accuracy: 0.634\n",
      "Precision: 0.115\n",
      "Recall: 0.640\n",
      "F1 score: 0.195\n",
      "--------------\n",
      "Confusion Matrix:\n"
     ]
    },
    {
     "data": {
      "image/png": "[encoded data removed]",
      "text/plain": [
       "<Figure size 432x288 with 2 Axes>"
      ]
     },
     "metadata": {
      "needs_background": "light"
     },
     "output_type": "display_data"
    },
    {
     "name": "stdout",
     "output_type": "stream",
     "text": [
      "Classification Report:\n",
      "              precision    recall  f1-score   support\n",
      "\n",
      "          No       0.96      0.63      0.76    201226\n",
      "         Yes       0.12      0.64      0.19     14968\n",
      "\n",
      "    accuracy                           0.63    216194\n",
      "   macro avg       0.54      0.64      0.48    216194\n",
      "weighted avg       0.90      0.63      0.72    216194\n",
      "\n"
     ]
    }
   ],
   "source": [
    "rf_pipe3 = Pipeline(steps=[('prep', col_transform),\n",
    "                           ('rf', RandomForestClassifier(n_estimators=100,\n",
    "                                  max_depth=6,\n",
    "                                  class_weight=class_weights_dict,\n",
    "                                  random_state=123))])\n",
    "rf_pipe3.fit(X_train, y_train)\n",
    "\n",
    "evaluate_model(rf_pipe3, X_train, y_train)"
   ]
  },
  {
   "cell_type": "code",
   "execution_count": 25,
   "metadata": {},
   "outputs": [
    {
     "name": "stdout",
     "output_type": "stream",
     "text": [
      "Evaluation Scores:\n",
      "--------------\n",
      "Accuracy: 0.630\n",
      "Precision: 0.112\n",
      "Recall: 0.616\n",
      "F1 score: 0.190\n",
      "--------------\n",
      "Confusion Matrix:\n"
     ]
    },
    {
     "data": {
      "image/png": "[encoded data removed]",
      "text/plain": [
       "<Figure size 432x288 with 2 Axes>"
      ]
     },
     "metadata": {
      "needs_background": "light"
     },
     "output_type": "display_data"
    },
    {
     "name": "stdout",
     "output_type": "stream",
     "text": [
      "Classification Report:\n",
      "              precision    recall  f1-score   support\n",
      "\n",
      "          No       0.96      0.63      0.76     25122\n",
      "         Yes       0.11      0.62      0.19      1902\n",
      "\n",
      "    accuracy                           0.63     27024\n",
      "   macro avg       0.53      0.62      0.48     27024\n",
      "weighted avg       0.90      0.63      0.72     27024\n",
      "\n"
     ]
    }
   ],
   "source": [
    "evaluate_model(rf_pipe3, X_valid, y_valid)"
   ]
  },
  {
   "cell_type": "markdown",
   "metadata": {},
   "source": [
    "The overfitting improved. However, now the F1 score dropped below what we had with the Logistic Regression model.\n",
    "\n",
    "It looks like our Random Forest models can drive better performance, but are prone to overfitting. We'll try working with another classifier, XGBoost, to see if it does better."
   ]
  },
  {
   "cell_type": "markdown",
   "metadata": {},
   "source": [
    "### XGBoost\n",
    "Is a popular classifier which has been the choice for many classification competitions on Kaggle. XGBoost is fast and outperforms many other supervised learning algorithms. The library is parallelizable which means it can be more efficient at handling larger training sets. We'll use that to our advantage and try to train a model on larger data samples.\n",
    "\n",
    "But first, like before, we'll just start by running it with default parameters (apart from ones dealing with the class imbalance)."
   ]
  },
  {
   "cell_type": "code",
   "execution_count": 26,
   "metadata": {
    "scrolled": false
   },
   "outputs": [
    {
     "name": "stdout",
     "output_type": "stream",
     "text": [
      "Evaluation Scores:\n",
      "--------------\n",
      "Accuracy: 0.760\n",
      "Precision: 0.189\n",
      "Recall: 0.751\n",
      "F1 score: 0.302\n",
      "--------------\n",
      "Confusion Matrix:\n"
     ]
    },
    {
     "data": {
      "image/png": "[encoded data removed]",
      "text/plain": [
       "<Figure size 432x288 with 2 Axes>"
      ]
     },
     "metadata": {
      "needs_background": "light"
     },
     "output_type": "display_data"
    },
    {
     "name": "stdout",
     "output_type": "stream",
     "text": [
      "Classification Report:\n",
      "              precision    recall  f1-score   support\n",
      "\n",
      "          No       0.98      0.76      0.86    201226\n",
      "         Yes       0.19      0.75      0.30     14968\n",
      "\n",
      "    accuracy                           0.76    216194\n",
      "   macro avg       0.58      0.76      0.58    216194\n",
      "weighted avg       0.92      0.76      0.82    216194\n",
      "\n"
     ]
    }
   ],
   "source": [
    "# We initialize the pipe\n",
    "xgb_pipe = Pipeline(steps=[('prep', col_transform),\n",
    "                           ('xgb', XGBClassifier())])\n",
    "\n",
    "# Here we fit the model and pass sample_weight parameters to the model to deal with the class imbalance\n",
    "xgb_pipe.fit(X_train, y_train, xgb__sample_weight=sample_weights)\n",
    "evaluate_model(xgb_pipe, X_train, y_train)"
   ]
  },
  {
   "cell_type": "code",
   "execution_count": 27,
   "metadata": {},
   "outputs": [
    {
     "name": "stdout",
     "output_type": "stream",
     "text": [
      "Evaluation Scores:\n",
      "--------------\n",
      "Accuracy: 0.734\n",
      "Precision: 0.143\n",
      "Recall: 0.557\n",
      "F1 score: 0.228\n",
      "--------------\n",
      "Confusion Matrix:\n"
     ]
    },
    {
     "data": {
      "image/png": "[encoded data removed]",
      "text/plain": [
       "<Figure size 432x288 with 2 Axes>"
      ]
     },
     "metadata": {
      "needs_background": "light"
     },
     "output_type": "display_data"
    },
    {
     "name": "stdout",
     "output_type": "stream",
     "text": [
      "Classification Report:\n",
      "              precision    recall  f1-score   support\n",
      "\n",
      "          No       0.96      0.75      0.84     25122\n",
      "         Yes       0.14      0.56      0.23      1902\n",
      "\n",
      "    accuracy                           0.73     27024\n",
      "   macro avg       0.55      0.65      0.53     27024\n",
      "weighted avg       0.90      0.73      0.80     27024\n",
      "\n"
     ]
    }
   ],
   "source": [
    "# Checking model on validation data\n",
    "evaluate_model(xgb_pipe, X_valid, y_valid)"
   ]
  },
  {
   "cell_type": "markdown",
   "metadata": {},
   "source": [
    "The training set was our best one so far, but it's clearly overfitting given the differences between training and validation scores. We'll adjust some hyperparameters to try and combat the overfitting. We'll set our model to take a subsample of 0.4 of training data and set a max depth of 5."
   ]
  },
  {
   "cell_type": "code",
   "execution_count": 28,
   "metadata": {
    "scrolled": false
   },
   "outputs": [
    {
     "name": "stdout",
     "output_type": "stream",
     "text": [
      "Evaluation Scores:\n",
      "--------------\n",
      "Accuracy: 0.693\n",
      "Precision: 0.140\n",
      "Recall: 0.670\n",
      "F1 score: 0.232\n",
      "--------------\n",
      "Confusion Matrix:\n"
     ]
    },
    {
     "data": {
      "image/png": "[encoded data removed]",
      "text/plain": [
       "<Figure size 432x288 with 2 Axes>"
      ]
     },
     "metadata": {
      "needs_background": "light"
     },
     "output_type": "display_data"
    },
    {
     "name": "stdout",
     "output_type": "stream",
     "text": [
      "Classification Report:\n",
      "              precision    recall  f1-score   support\n",
      "\n",
      "          No       0.97      0.69      0.81    201226\n",
      "         Yes       0.14      0.67      0.23     14968\n",
      "\n",
      "    accuracy                           0.69    216194\n",
      "   macro avg       0.55      0.68      0.52    216194\n",
      "weighted avg       0.91      0.69      0.77    216194\n",
      "\n"
     ]
    }
   ],
   "source": [
    "xgb_pipe2 = Pipeline(steps=[('prep', col_transform),\n",
    "                           ('xgb', XGBClassifier(subsample=0.4, max_depth=5, alpha = 100))])\n",
    "\n",
    "xgb_pipe2.fit(X_train, y_train, xgb__sample_weight=sample_weights)\n",
    "evaluate_model(xgb_pipe2, X_train, y_train)"
   ]
  },
  {
   "cell_type": "code",
   "execution_count": 29,
   "metadata": {},
   "outputs": [
    {
     "name": "stdout",
     "output_type": "stream",
     "text": [
      "Evaluation Scores:\n",
      "--------------\n",
      "Accuracy: 0.685\n",
      "Precision: 0.129\n",
      "Recall: 0.607\n",
      "F1 score: 0.213\n",
      "--------------\n",
      "Confusion Matrix:\n"
     ]
    },
    {
     "data": {
      "image/png": "[encoded data removed]",
      "text/plain": [
       "<Figure size 432x288 with 2 Axes>"
      ]
     },
     "metadata": {
      "needs_background": "light"
     },
     "output_type": "display_data"
    },
    {
     "name": "stdout",
     "output_type": "stream",
     "text": [
      "Classification Report:\n",
      "              precision    recall  f1-score   support\n",
      "\n",
      "          No       0.96      0.69      0.80     25122\n",
      "         Yes       0.13      0.61      0.21      1902\n",
      "\n",
      "    accuracy                           0.68     27024\n",
      "   macro avg       0.54      0.65      0.51     27024\n",
      "weighted avg       0.90      0.68      0.76     27024\n",
      "\n"
     ]
    }
   ],
   "source": [
    "# Checking model on validation data\n",
    "evaluate_model(xgb_pipe2, X_valid, y_valid)"
   ]
  },
  {
   "cell_type": "markdown",
   "metadata": {},
   "source": [
    "The overfitting got a little better and our performance is still good. This model is our best so far given the F1 score and accuracy.\n",
    "\n",
    "XGBoost has one more way of dealing with imbalanced data sets -- and that's using scale_pos_weight. We'll try that to see if it changes our results. The recommendation is to set it to the negative case divided by the positive cases."
   ]
  },
  {
   "cell_type": "code",
   "execution_count": 30,
   "metadata": {
    "scrolled": false
   },
   "outputs": [],
   "source": [
    "counter = Counter(y_train)\n",
    "estimate = counter['No'] / counter['Yes']"
   ]
  },
  {
   "cell_type": "code",
   "execution_count": 31,
   "metadata": {},
   "outputs": [
    {
     "name": "stdout",
     "output_type": "stream",
     "text": [
      "Evaluation Scores:\n",
      "--------------\n",
      "Accuracy: 0.762\n",
      "Precision: 0.190\n",
      "Recall: 0.749\n",
      "F1 score: 0.303\n",
      "--------------\n",
      "Confusion Matrix:\n"
     ]
    },
    {
     "data": {
      "image/png": "[encoded data removed]",
      "text/plain": [
       "<Figure size 432x288 with 2 Axes>"
      ]
     },
     "metadata": {
      "needs_background": "light"
     },
     "output_type": "display_data"
    },
    {
     "name": "stdout",
     "output_type": "stream",
     "text": [
      "Classification Report:\n",
      "              precision    recall  f1-score   support\n",
      "\n",
      "          No       0.98      0.76      0.86    201226\n",
      "         Yes       0.19      0.75      0.30     14968\n",
      "\n",
      "    accuracy                           0.76    216194\n",
      "   macro avg       0.58      0.76      0.58    216194\n",
      "weighted avg       0.92      0.76      0.82    216194\n",
      "\n"
     ]
    }
   ],
   "source": [
    "xgb_pipe3 = Pipeline(steps=[('prep', col_transform),\n",
    "                           ('xgb', XGBClassifier(scale_pos_weight=estimate))])\n",
    "\n",
    "xgb_pipe3.fit(X_train, y_train)\n",
    "\n",
    "evaluate_model(xgb_pipe3, X_train, y_train)"
   ]
  },
  {
   "cell_type": "code",
   "execution_count": 32,
   "metadata": {},
   "outputs": [
    {
     "name": "stdout",
     "output_type": "stream",
     "text": [
      "Evaluation Scores:\n",
      "--------------\n",
      "Accuracy: 0.739\n",
      "Precision: 0.145\n",
      "Recall: 0.557\n",
      "F1 score: 0.231\n",
      "--------------\n",
      "Confusion Matrix:\n"
     ]
    },
    {
     "data": {
      "image/png": "[encoded data removed]",
      "text/plain": [
       "<Figure size 432x288 with 2 Axes>"
      ]
     },
     "metadata": {
      "needs_background": "light"
     },
     "output_type": "display_data"
    },
    {
     "name": "stdout",
     "output_type": "stream",
     "text": [
      "Classification Report:\n",
      "              precision    recall  f1-score   support\n",
      "\n",
      "          No       0.96      0.75      0.84     25122\n",
      "         Yes       0.15      0.56      0.23      1902\n",
      "\n",
      "    accuracy                           0.74     27024\n",
      "   macro avg       0.55      0.65      0.54     27024\n",
      "weighted avg       0.90      0.74      0.80     27024\n",
      "\n"
     ]
    }
   ],
   "source": [
    "# Checking model on validation data\n",
    "evaluate_model(xgb_pipe3, X_valid, y_valid)"
   ]
  },
  {
   "cell_type": "markdown",
   "metadata": {},
   "source": [
    "Our best performance so far! But still some overfitting. We again deal with that by reducing the sample of features down to 0.7."
   ]
  },
  {
   "cell_type": "code",
   "execution_count": 33,
   "metadata": {},
   "outputs": [
    {
     "name": "stdout",
     "output_type": "stream",
     "text": [
      "Evaluation Scores:\n",
      "--------------\n",
      "Accuracy: 0.731\n",
      "Precision: 0.165\n",
      "Recall: 0.712\n",
      "F1 score: 0.268\n",
      "--------------\n",
      "Confusion Matrix:\n"
     ]
    },
    {
     "data": {
      "image/png": "[encoded data removed]",
      "text/plain": [
       "<Figure size 432x288 with 2 Axes>"
      ]
     },
     "metadata": {
      "needs_background": "light"
     },
     "output_type": "display_data"
    },
    {
     "name": "stdout",
     "output_type": "stream",
     "text": [
      "Classification Report:\n",
      "              precision    recall  f1-score   support\n",
      "\n",
      "          No       0.97      0.73      0.83    201226\n",
      "         Yes       0.16      0.71      0.27     14968\n",
      "\n",
      "    accuracy                           0.73    216194\n",
      "   macro avg       0.57      0.72      0.55    216194\n",
      "weighted avg       0.92      0.73      0.80    216194\n",
      "\n"
     ]
    }
   ],
   "source": [
    "xgb_pipe4 = Pipeline(steps=[('prep', col_transform),\n",
    "                           ('xgb', XGBClassifier(scale_pos_weight=estimate,\n",
    "                                  max_depth = 5,\n",
    "                                  eta = 0.3,\n",
    "                                  colsample_bytree = 0.7))])\n",
    "\n",
    "xgb_pipe4.fit(X_train, y_train)\n",
    "evaluate_model(xgb_pipe4, X_train, y_train)"
   ]
  },
  {
   "cell_type": "code",
   "execution_count": 34,
   "metadata": {},
   "outputs": [
    {
     "name": "stdout",
     "output_type": "stream",
     "text": [
      "Evaluation Scores:\n",
      "--------------\n",
      "Accuracy: 0.713\n",
      "Precision: 0.140\n",
      "Recall: 0.597\n",
      "F1 score: 0.226\n",
      "--------------\n",
      "Confusion Matrix:\n"
     ]
    },
    {
     "data": {
      "image/png": "[encoded data removed]",
      "text/plain": [
       "<Figure size 432x288 with 2 Axes>"
      ]
     },
     "metadata": {
      "needs_background": "light"
     },
     "output_type": "display_data"
    },
    {
     "name": "stdout",
     "output_type": "stream",
     "text": [
      "Classification Report:\n",
      "              precision    recall  f1-score   support\n",
      "\n",
      "          No       0.96      0.72      0.82     25122\n",
      "         Yes       0.14      0.60      0.23      1902\n",
      "\n",
      "    accuracy                           0.71     27024\n",
      "   macro avg       0.55      0.66      0.52     27024\n",
      "weighted avg       0.90      0.71      0.78     27024\n",
      "\n"
     ]
    }
   ],
   "source": [
    "# Checking model on validation data\n",
    "evaluate_model(xgb_pipe4, X_valid, y_valid)"
   ]
  },
  {
   "cell_type": "markdown",
   "metadata": {},
   "source": [
    "There is still a lot of overfitting here unfortunately. \n",
    "\n",
    "#### Increasing Training Sample Size\n",
    "As stated previously, XGBoost is a fast algorithm. Because of that, we'll try to introduce more data into our training and see if that boosts performance and helps reduce overfitting."
   ]
  },
  {
   "cell_type": "code",
   "execution_count": 35,
   "metadata": {},
   "outputs": [],
   "source": [
    "# First we take a bigger sample of our data. Before we took 5%, so now we'll double it to 10%\n",
    "bigger_sample = carrier_data.sample(frac=0.1, axis=0, random_state=123)\n",
    "\n",
    "# We split our target and features like before\n",
    "y_2 = bigger_sample[\"target\"]\n",
    "X_2 = bigger_sample.drop([\"target\"], axis=1)\n",
    "\n",
    "# And now we split our data into training, test and validation sets like we did before\n",
    "X_train_2, X_rem_2, y_train_2, y_rem_2 = train_test_split(X_2,y_2, train_size=0.8)\n",
    "test_size = 0.5\n",
    "X_valid_2, X_test_2, y_valid_2, y_test_2 = train_test_split(X_rem_2,y_rem_2, test_size=0.5)"
   ]
  },
  {
   "cell_type": "markdown",
   "metadata": {},
   "source": [
    "Now we train an XGBoost model on the bigger sample. We increase our max_depth here as well. Hoping that the bigger sample will combat any overfitting that may introduce."
   ]
  },
  {
   "cell_type": "code",
   "execution_count": 36,
   "metadata": {},
   "outputs": [
    {
     "name": "stdout",
     "output_type": "stream",
     "text": [
      "Evaluation Scores:\n",
      "--------------\n",
      "Accuracy: 0.791\n",
      "Precision: 0.218\n",
      "Recall: 0.785\n",
      "F1 score: 0.342\n",
      "--------------\n",
      "Confusion Matrix:\n"
     ]
    },
    {
     "data": {
      "image/png": "[encoded data removed]",
      "text/plain": [
       "<Figure size 432x288 with 2 Axes>"
      ]
     },
     "metadata": {
      "needs_background": "light"
     },
     "output_type": "display_data"
    },
    {
     "name": "stdout",
     "output_type": "stream",
     "text": [
      "Classification Report:\n",
      "              precision    recall  f1-score   support\n",
      "\n",
      "          No       0.98      0.79      0.88    402499\n",
      "         Yes       0.22      0.78      0.34     29889\n",
      "\n",
      "    accuracy                           0.79    432388\n",
      "   macro avg       0.60      0.79      0.61    432388\n",
      "weighted avg       0.93      0.79      0.84    432388\n",
      "\n"
     ]
    }
   ],
   "source": [
    "xgb_pipe5 = Pipeline(steps=[('prep', col_transform),\n",
    "                           ('xgb', XGBClassifier(scale_pos_weight=estimate,\n",
    "                                  max_depth = 8,\n",
    "                                  eta = 0.3,\n",
    "                                  colsample_bytree = 0.7))])\n",
    "\n",
    "xgb_pipe5.fit(X_train_2, y_train_2)\n",
    "evaluate_model(xgb_pipe5, X_train_2, y_train_2)"
   ]
  },
  {
   "cell_type": "code",
   "execution_count": 37,
   "metadata": {},
   "outputs": [
    {
     "name": "stdout",
     "output_type": "stream",
     "text": [
      "Evaluation Scores:\n",
      "--------------\n",
      "Accuracy: 0.759\n",
      "Precision: 0.152\n",
      "Recall: 0.553\n",
      "F1 score: 0.239\n",
      "--------------\n",
      "Confusion Matrix:\n"
     ]
    },
    {
     "data": {
      "image/png": "[encoded data removed]",
      "text/plain": [
       "<Figure size 432x288 with 2 Axes>"
      ]
     },
     "metadata": {
      "needs_background": "light"
     },
     "output_type": "display_data"
    },
    {
     "name": "stdout",
     "output_type": "stream",
     "text": [
      "Classification Report:\n",
      "              precision    recall  f1-score   support\n",
      "\n",
      "          No       0.96      0.77      0.86     50347\n",
      "         Yes       0.15      0.55      0.24      3701\n",
      "\n",
      "    accuracy                           0.76     54048\n",
      "   macro avg       0.56      0.66      0.55     54048\n",
      "weighted avg       0.90      0.76      0.81     54048\n",
      "\n"
     ]
    }
   ],
   "source": [
    "# Checking model on validation data\n",
    "evaluate_model(xgb_pipe5, X_valid_2, y_valid_2)"
   ]
  },
  {
   "cell_type": "markdown",
   "metadata": {},
   "source": [
    "This is the best model so far! Though it's clearly still overfitting.\n",
    "\n",
    "We'll try dealing with that with another sample size increase."
   ]
  },
  {
   "cell_type": "code",
   "execution_count": 38,
   "metadata": {},
   "outputs": [],
   "source": [
    "# First we take a bigger sample of our data. Before we took 10%, so now we'll double it to 20%\n",
    "biggest_sample = carrier_data.sample(frac=0.2, axis=0, random_state=123)\n",
    "\n",
    "# We split our target and features like before\n",
    "y_3 = biggest_sample[\"target\"]\n",
    "X_3 = biggest_sample.drop([\"target\"], axis=1)\n",
    "\n",
    "# And now we split our data into training, test and validation sets like we did before\n",
    "X_train_3, X_rem_3, y_train_3, y_rem_3 = train_test_split(X_3,y_3, train_size=0.8)\n",
    "test_size = 0.5\n",
    "X_valid_3, X_test_3, y_valid_3, y_test_3 = train_test_split(X_rem_3,y_rem_3, test_size=0.5)"
   ]
  },
  {
   "cell_type": "markdown",
   "metadata": {},
   "source": [
    "And now we fit the new sample."
   ]
  },
  {
   "cell_type": "code",
   "execution_count": 39,
   "metadata": {},
   "outputs": [
    {
     "name": "stdout",
     "output_type": "stream",
     "text": [
      "Evaluation Scores:\n",
      "--------------\n",
      "Accuracy: 0.729\n",
      "Precision: 0.158\n",
      "Recall: 0.682\n",
      "F1 score: 0.257\n",
      "--------------\n",
      "Confusion Matrix:\n"
     ]
    },
    {
     "data": {
      "image/png": "[encoded data removed]",
      "text/plain": [
       "<Figure size 432x288 with 2 Axes>"
      ]
     },
     "metadata": {
      "needs_background": "light"
     },
     "output_type": "display_data"
    },
    {
     "name": "stdout",
     "output_type": "stream",
     "text": [
      "Classification Report:\n",
      "              precision    recall  f1-score   support\n",
      "\n",
      "          No       0.97      0.73      0.83    805421\n",
      "         Yes       0.16      0.68      0.26     59355\n",
      "\n",
      "    accuracy                           0.73    864776\n",
      "   macro avg       0.56      0.71      0.55    864776\n",
      "weighted avg       0.91      0.73      0.79    864776\n",
      "\n"
     ]
    }
   ],
   "source": [
    "xgb_pipe6 = Pipeline(steps=[('prep', col_transform),\n",
    "                           ('xgb', XGBClassifier(scale_pos_weight=estimate,\n",
    "                                  max_depth = 6,\n",
    "                                  eta = 0.3,\n",
    "                                  colsample_bytree = 0.7))])\n",
    "\n",
    "xgb_pipe6.fit(X_train_3, y_train_3)\n",
    "evaluate_model(xgb_pipe6, X_train_3, y_train_3)"
   ]
  },
  {
   "cell_type": "code",
   "execution_count": 40,
   "metadata": {},
   "outputs": [
    {
     "name": "stdout",
     "output_type": "stream",
     "text": [
      "Evaluation Scores:\n",
      "--------------\n",
      "Accuracy: 0.721\n",
      "Precision: 0.145\n",
      "Recall: 0.624\n",
      "F1 score: 0.235\n",
      "--------------\n",
      "Confusion Matrix:\n"
     ]
    },
    {
     "data": {
      "image/png": "[encoded data removed]",
      "text/plain": [
       "<Figure size 432x288 with 2 Axes>"
      ]
     },
     "metadata": {
      "needs_background": "light"
     },
     "output_type": "display_data"
    },
    {
     "name": "stdout",
     "output_type": "stream",
     "text": [
      "Classification Report:\n",
      "              precision    recall  f1-score   support\n",
      "\n",
      "          No       0.96      0.73      0.83    100667\n",
      "         Yes       0.14      0.62      0.24      7430\n",
      "\n",
      "    accuracy                           0.72    108097\n",
      "   macro avg       0.55      0.68      0.53    108097\n",
      "weighted avg       0.91      0.72      0.79    108097\n",
      "\n"
     ]
    }
   ],
   "source": [
    "# Checking model on validation data\n",
    "evaluate_model(xgb_pipe6, X_valid_3, y_valid_3)"
   ]
  },
  {
   "cell_type": "markdown",
   "metadata": {},
   "source": [
    "This is the best model performance we've seen so far and the overfitting got better, we'll try one more iteration of this model with some additional hyperparameters that might help with overfitting."
   ]
  },
  {
   "cell_type": "code",
   "execution_count": 41,
   "metadata": {},
   "outputs": [
    {
     "name": "stdout",
     "output_type": "stream",
     "text": [
      "Evaluation Scores:\n",
      "--------------\n",
      "Accuracy: 0.712\n",
      "Precision: 0.147\n",
      "Recall: 0.670\n",
      "F1 score: 0.242\n",
      "--------------\n",
      "Confusion Matrix:\n"
     ]
    },
    {
     "data": {
      "image/png": "[encoded data removed]",
      "text/plain": [
       "<Figure size 432x288 with 2 Axes>"
      ]
     },
     "metadata": {
      "needs_background": "light"
     },
     "output_type": "display_data"
    },
    {
     "name": "stdout",
     "output_type": "stream",
     "text": [
      "Classification Report:\n",
      "              precision    recall  f1-score   support\n",
      "\n",
      "          No       0.97      0.71      0.82    805421\n",
      "         Yes       0.15      0.67      0.24     59355\n",
      "\n",
      "    accuracy                           0.71    864776\n",
      "   macro avg       0.56      0.69      0.53    864776\n",
      "weighted avg       0.91      0.71      0.78    864776\n",
      "\n"
     ]
    }
   ],
   "source": [
    "xgb_pipe7 = Pipeline(steps=[('prep', col_transform),\n",
    "                           ('xgb', XGBClassifier(scale_pos_weight=estimate,\n",
    "                                  max_depth = 6,\n",
    "                                  subsample=0.4,\n",
    "                                  eta = 0.2,\n",
    "                                  colsample_bytree = 0.8))])\n",
    "\n",
    "xgb_pipe7.fit(X_train_3, y_train_3)\n",
    "evaluate_model(xgb_pipe7, X_train_3, y_train_3)"
   ]
  },
  {
   "cell_type": "code",
   "execution_count": 42,
   "metadata": {},
   "outputs": [
    {
     "name": "stdout",
     "output_type": "stream",
     "text": [
      "Evaluation Scores:\n",
      "--------------\n",
      "Accuracy: 0.706\n",
      "Precision: 0.139\n",
      "Recall: 0.631\n",
      "F1 score: 0.228\n",
      "--------------\n",
      "Confusion Matrix:\n"
     ]
    },
    {
     "data": {
      "image/png": "[encoded data removed]",
      "text/plain": [
       "<Figure size 432x288 with 2 Axes>"
      ]
     },
     "metadata": {
      "needs_background": "light"
     },
     "output_type": "display_data"
    },
    {
     "name": "stdout",
     "output_type": "stream",
     "text": [
      "Classification Report:\n",
      "              precision    recall  f1-score   support\n",
      "\n",
      "          No       0.96      0.71      0.82    100667\n",
      "         Yes       0.14      0.63      0.23      7430\n",
      "\n",
      "    accuracy                           0.71    108097\n",
      "   macro avg       0.55      0.67      0.52    108097\n",
      "weighted avg       0.91      0.71      0.78    108097\n",
      "\n"
     ]
    }
   ],
   "source": [
    "# Checking model on validation data\n",
    "evaluate_model(xgb_pipe7, X_valid_3, y_valid_3)"
   ]
  },
  {
   "cell_type": "markdown",
   "metadata": {},
   "source": [
    "The overfitting got slightly better but our F1 score dropped. Given more time, it would be worth exploring expanding the data even more. But for now, given this satisfies our business problem we stop here."
   ]
  },
  {
   "cell_type": "markdown",
   "metadata": {},
   "source": [
    "### LightGBM\n",
    "\n",
    "We've got one last classifier to try out - LightGBM. It's another highly popular algorithm that was developed by Microsoft. Like XGBoost, it is said LightGBM is fast for large data. So we'll increase our sample one last time."
   ]
  },
  {
   "cell_type": "code",
   "execution_count": 43,
   "metadata": {},
   "outputs": [],
   "source": [
    "# First we take a bigger sample of our data. Before we took 10%, so now we'll double it to 20%\n",
    "biggest_sample_2 = carrier_data.sample(frac=0.4, axis=0, random_state=123)\n",
    "\n",
    "# We split our target and features like before\n",
    "y_4 = biggest_sample[\"target\"]\n",
    "X_4 = biggest_sample.drop([\"target\"], axis=1)\n",
    "\n",
    "# And now we split our data into training, test and validation sets like we did before\n",
    "X_train_4, X_rem_4, y_train_4, y_rem_4 = train_test_split(X_4,y_4, train_size=0.8)\n",
    "test_size = 0.5\n",
    "X_valid_4, X_test_4, y_valid_4, y_test_4 = train_test_split(X_rem_4,y_rem_4, test_size=0.5)"
   ]
  },
  {
   "cell_type": "code",
   "execution_count": 44,
   "metadata": {},
   "outputs": [
    {
     "name": "stdout",
     "output_type": "stream",
     "text": [
      "Evaluation Scores:\n",
      "--------------\n",
      "Accuracy: 0.697\n",
      "Precision: 0.139\n",
      "Recall: 0.660\n",
      "F1 score: 0.230\n",
      "--------------\n",
      "Confusion Matrix:\n"
     ]
    },
    {
     "data": {
      "image/png": "[encoded data removed]",
      "text/plain": [
       "<Figure size 432x288 with 2 Axes>"
      ]
     },
     "metadata": {
      "needs_background": "light"
     },
     "output_type": "display_data"
    },
    {
     "name": "stdout",
     "output_type": "stream",
     "text": [
      "Classification Report:\n",
      "              precision    recall  f1-score   support\n",
      "\n",
      "          No       0.97      0.70      0.81    805586\n",
      "         Yes       0.14      0.66      0.23     59190\n",
      "\n",
      "    accuracy                           0.70    864776\n",
      "   macro avg       0.55      0.68      0.52    864776\n",
      "weighted avg       0.91      0.70      0.77    864776\n",
      "\n"
     ]
    }
   ],
   "source": [
    "lgbm_pipe1 = Pipeline(steps=[('prep', col_transform),\n",
    "                           ('lgbm', LGBMClassifier(scale_pos_weight=estimate, max_depth = 12))])\n",
    "\n",
    "lgbm_pipe1.fit(X_train_4, y_train_4)\n",
    "evaluate_model(lgbm_pipe1, X_train_4, y_train_4)"
   ]
  },
  {
   "cell_type": "code",
   "execution_count": 45,
   "metadata": {},
   "outputs": [
    {
     "name": "stdout",
     "output_type": "stream",
     "text": [
      "Evaluation Scores:\n",
      "--------------\n",
      "Accuracy: 0.696\n",
      "Precision: 0.141\n",
      "Recall: 0.650\n",
      "F1 score: 0.231\n",
      "--------------\n",
      "Confusion Matrix:\n"
     ]
    },
    {
     "data": {
      "image/png": "[encoded data removed]",
      "text/plain": [
       "<Figure size 432x288 with 2 Axes>"
      ]
     },
     "metadata": {
      "needs_background": "light"
     },
     "output_type": "display_data"
    },
    {
     "name": "stdout",
     "output_type": "stream",
     "text": [
      "Classification Report:\n",
      "              precision    recall  f1-score   support\n",
      "\n",
      "          No       0.96      0.70      0.81    100485\n",
      "         Yes       0.14      0.65      0.23      7612\n",
      "\n",
      "    accuracy                           0.70    108097\n",
      "   macro avg       0.55      0.67      0.52    108097\n",
      "weighted avg       0.91      0.70      0.77    108097\n",
      "\n"
     ]
    }
   ],
   "source": [
    "evaluate_model(lgbm_pipe1, X_valid_4, y_valid_4)"
   ]
  },
  {
   "cell_type": "markdown",
   "metadata": {},
   "source": [
    "Doubling the sample size lead to about the same F1 score we saw with the best XGB model but with slightly worse accuracy. We'll try using a class weight instead of the sample size estimate."
   ]
  },
  {
   "cell_type": "code",
   "execution_count": 46,
   "metadata": {},
   "outputs": [
    {
     "name": "stdout",
     "output_type": "stream",
     "text": [
      "Evaluation Scores:\n",
      "--------------\n",
      "Accuracy: 0.696\n",
      "Precision: 0.138\n",
      "Recall: 0.658\n",
      "F1 score: 0.229\n",
      "--------------\n",
      "Confusion Matrix:\n"
     ]
    },
    {
     "data": {
      "image/png": "[encoded data removed]",
      "text/plain": [
       "<Figure size 432x288 with 2 Axes>"
      ]
     },
     "metadata": {
      "needs_background": "light"
     },
     "output_type": "display_data"
    },
    {
     "name": "stdout",
     "output_type": "stream",
     "text": [
      "Classification Report:\n",
      "              precision    recall  f1-score   support\n",
      "\n",
      "          No       0.97      0.70      0.81    805586\n",
      "         Yes       0.14      0.66      0.23     59190\n",
      "\n",
      "    accuracy                           0.70    864776\n",
      "   macro avg       0.55      0.68      0.52    864776\n",
      "weighted avg       0.91      0.70      0.77    864776\n",
      "\n"
     ]
    }
   ],
   "source": [
    "lgbm_pipe2 = Pipeline(steps=[('prep', col_transform),\n",
    "                           ('lgbm', LGBMClassifier(class_weight='balanced', max_depth = 12))])\n",
    "\n",
    "lgbm_pipe2.fit(X_train_4, y_train_4)\n",
    "evaluate_model(lgbm_pipe2, X_train_4, y_train_4)"
   ]
  },
  {
   "cell_type": "code",
   "execution_count": 47,
   "metadata": {},
   "outputs": [
    {
     "name": "stdout",
     "output_type": "stream",
     "text": [
      "Evaluation Scores:\n",
      "--------------\n",
      "Accuracy: 0.694\n",
      "Precision: 0.140\n",
      "Recall: 0.647\n",
      "F1 score: 0.230\n",
      "--------------\n",
      "Confusion Matrix:\n"
     ]
    },
    {
     "data": {
      "image/png": "[encoded data removed]",
      "text/plain": [
       "<Figure size 432x288 with 2 Axes>"
      ]
     },
     "metadata": {
      "needs_background": "light"
     },
     "output_type": "display_data"
    },
    {
     "name": "stdout",
     "output_type": "stream",
     "text": [
      "Classification Report:\n",
      "              precision    recall  f1-score   support\n",
      "\n",
      "          No       0.96      0.70      0.81    100485\n",
      "         Yes       0.14      0.65      0.23      7612\n",
      "\n",
      "    accuracy                           0.69    108097\n",
      "   macro avg       0.55      0.67      0.52    108097\n",
      "weighted avg       0.91      0.69      0.77    108097\n",
      "\n"
     ]
    }
   ],
   "source": [
    "evaluate_model(lgbm_pipe2, X_valid_4, y_valid_4)"
   ]
  },
  {
   "cell_type": "markdown",
   "metadata": {},
   "source": [
    "The fitting is now taking a while and we're not seeing improvements to the models so we'll stop here."
   ]
  },
  {
   "cell_type": "markdown",
   "metadata": {},
   "source": [
    "## Evaluating final model on test data\n",
    "\n",
    "Our 6th XGBoost model had the best F1 score and accuracy so we select it as our final model. Let's see how it does on unseen test data."
   ]
  },
  {
   "cell_type": "code",
   "execution_count": 52,
   "metadata": {},
   "outputs": [
    {
     "name": "stdout",
     "output_type": "stream",
     "text": [
      "Evaluation Scores:\n",
      "--------------\n",
      "Accuracy: 0.720\n",
      "Precision: 0.145\n",
      "Recall: 0.622\n",
      "F1 score: 0.236\n",
      "--------------\n",
      "Confusion Matrix:\n"
     ]
    },
    {
     "data": {
      "image/png": "[encoded data removed]",
      "text/plain": [
       "<Figure size 432x288 with 2 Axes>"
      ]
     },
     "metadata": {
      "needs_background": "light"
     },
     "output_type": "display_data"
    },
    {
     "name": "stdout",
     "output_type": "stream",
     "text": [
      "Classification Report:\n",
      "              precision    recall  f1-score   support\n",
      "\n",
      "          No       0.96      0.73      0.83    100605\n",
      "         Yes       0.15      0.62      0.24      7493\n",
      "\n",
      "    accuracy                           0.72    108098\n",
      "   macro avg       0.55      0.67      0.53    108098\n",
      "weighted avg       0.91      0.72      0.79    108098\n",
      "\n"
     ]
    }
   ],
   "source": [
    "evaluate_model(xgb_pipe6, X_test_3, y_test_3)"
   ]
  },
  {
   "cell_type": "markdown",
   "metadata": {},
   "source": [
    "Great! The F1 score on our test data is close to what it was on our training and validation sets. We'll move forward and save out this model."
   ]
  },
  {
   "cell_type": "code",
   "execution_count": 53,
   "metadata": {},
   "outputs": [],
   "source": [
    "# Saving best performing model\n",
    "path = 'app/model.sav'\n",
    "pickle.dump(xgb_pipe6, open(path, 'wb'))"
   ]
  },
  {
   "cell_type": "markdown",
   "metadata": {},
   "source": [
    "#### Feature importances\n",
    "Let's investigate which features were most helpful to our model."
   ]
  },
  {
   "cell_type": "code",
   "execution_count": 54,
   "metadata": {},
   "outputs": [],
   "source": [
    "# Grab numer feature names and put them into a list\n",
    "numeric_features_list = list(num_cols)\n",
    "\n",
    "# Grab the categorical feature names after OHE transform and put them into our list\n",
    "onehot_columns = list(xgb_pipe6.named_steps['prep'].named_transformers_['categorical'].get_feature_names(input_features=cat_cols))\n",
    "numeric_features_list.extend(onehot_columns)\n",
    "\n",
    "# Extract feature weights into a list\n",
    "feature_weights = list(xgb_pipe6.named_steps[\"xgb\"].feature_importances_)\n",
    "\n",
    "# Throw our features and weights into a dataframe\n",
    "feature_importances = pd.DataFrame(\n",
    "    {'Feature': numeric_features_list,\n",
    "     'Weight': feature_weights\n",
    "    })"
   ]
  },
  {
   "cell_type": "code",
   "execution_count": 55,
   "metadata": {},
   "outputs": [
    {
     "data": {
      "image/png": "[encoded data removed]",
      "text/plain": [
       "<Figure size 864x1080 with 1 Axes>"
      ]
     },
     "metadata": {
      "needs_background": "light"
     },
     "output_type": "display_data"
    }
   ],
   "source": [
    "# Plotting feature importances\n",
    "plt.figure(figsize=(12, 15))\n",
    "sns.barplot(x=\"Weight\", y=\"Feature\", data=feature_importances.sort_values(by=\"Weight\", ascending=False).head(20))\n",
    "plt.title('XGBoost Model Feature Importance')\n",
    "plt.tight_layout()\n",
    "plt.show()"
   ]
  },
  {
   "cell_type": "markdown",
   "metadata": {},
   "source": [
    "There are some interesting trends in our top 20 features. We can see proximity to holidays like Thanksgiving, Veterans Day, Labor Day and MLK day are overly represented as predictors. We also see congestion and weather showing up."
   ]
  },
  {
   "cell_type": "markdown",
   "metadata": {},
   "source": [
    "## Conclusions\n",
    "We've reached a stopping point for the modeling portion of this project.\n",
    "\n",
    "Given more time, future iterations of this product might include things like generating more samples with SMOTE, increasing the training sample size or trying different types of models (including Deep learning).\n",
    "\n",
    "* We managed to build a model that achieved a 0.24 F1 score and 72% overall accuracy\n",
    "* Our model is a custom XGBoost Classifier which successfully detects 62% of severe delays\n",
    "* Proximity to holidays, precipitation and certain days of the year are among the strongest predictors\n",
    "* The biggest gains in performance came from dealing with the severe class imbalance and increasing the sample size of the training data\n",
    "* We'll next work to productionize this model using Flask and Dash and deploy it to a remote server\n"
   ]
  },
  {
   "cell_type": "code",
   "execution_count": null,
   "metadata": {},
   "outputs": [],
   "source": []
  }
 ],
 "metadata": {
  "kernelspec": {
   "display_name": "Python 3 (ipykernel)",
   "language": "python",
   "name": "python3"
  },
  "language_info": {
   "codemirror_mode": {
    "name": "ipython",
    "version": 3
   },
   "file_extension": ".py",
   "mimetype": "text/x-python",
   "name": "python",
   "nbconvert_exporter": "python",
   "pygments_lexer": "ipython3",
   "version": "3.9.12"
  }
 },
 "nbformat": 4,
 "nbformat_minor": 4
}
