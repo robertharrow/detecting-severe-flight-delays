{
 "cells": [
  {
   "cell_type": "markdown",
   "metadata": {},
   "source": [
    "# Flight Delays: Part 2 - Modeling\n",
    "*Author: Robert Harrow* | *Flatiron School Capstone Project*\n",
    "\n",
    "In the previous notebook we downloaded all the data, dealt with missing values, and engineereed features that might be useful for modeling. Now that we have all that prepared, we're ready to work on developing a model that detects severe flight delays.\n",
    "\n",
    "## Business Understanding\n",
    "\n",
    "Our task at hand is to help a hypothetical startup, Flight Chicken, build a model for detecting severe flight delays. Severe delays are defined as those that result in a flight arriving more than 60 minutes late to its destination. Such delays are more likely to cause masive disruptions to travelers -- such as causing them to miss a connecting flight.\n",
    "\n",
    "### Modeling Success Metric\n",
    "\n",
    "We are looking for a model that achieves the best **F1 score**, without letting accuracy fall below 75%.\n",
    "\n",
    "**Why F1?** F1 scores are a balance between Precision and Recall. It's important for a startup like FlightChicken to build consumer trust. That's why it's important for it to detect ACTUAL delays (recall). However, if the model ends up optimizing for recall it may be less precise and misclassify on-time flights as ones that are delayed. In that case, it would be too sensitive to the point of being useless. That's why F1 is something that strikes a good balance between the two.\n",
    "\n",
    "#### F1 Formula\n",
    "$$ F1 = {2 * Precision x Recall \\over Precision + Recall} $$\n",
    "\n",
    "#### Precision Formula\n",
    "$$ Precision = {True Positives \\over Predicted Positives} $$\n",
    "\n",
    "#### Recall Formula\n",
    "$$ Recall = {True Positivies \\over Actual Total Positives} $$"
   ]
  },
  {
   "cell_type": "markdown",
   "metadata": {},
   "source": [
    "## Importing Libraries\n",
    "\n",
    "First, we import some libraries to help us out throughout this notebook."
   ]
  },
  {
   "cell_type": "code",
   "execution_count": 68,
   "metadata": {
    "scrolled": false
   },
   "outputs": [],
   "source": [
    "import pandas as pd\n",
    "import glob\n",
    "import os\n",
    "import requests\n",
    "import json\n",
    "import numpy as np\n",
    "from sklearn.compose import ColumnTransformer\n",
    "from sklearn.pipeline import Pipeline\n",
    "from sklearn.dummy import DummyClassifier\n",
    "from sklearn.pipeline import FeatureUnion\n",
    "from sklearn.dummy import DummyClassifier\n",
    "from sklearn.linear_model import LogisticRegression\n",
    "from sklearn.tree import DecisionTreeClassifier\n",
    "from sklearn.ensemble import RandomForestClassifier\n",
    "from xgboost import XGBClassifier\n",
    "from sklearn.pipeline import Pipeline\n",
    "from sklearn.metrics import accuracy_score, precision_score, recall_score, confusion_matrix,\\\n",
    "precision_recall_fscore_support, f1_score, plot_confusion_matrix\n",
    "from sklearn.model_selection import train_test_split, GridSearchCV,\\\n",
    "cross_validate, cross_val_predict, cross_val_score\n",
    "from sklearn.preprocessing import StandardScaler, OneHotEncoder, FunctionTransformer\n",
    "from sklearn.preprocessing import LabelBinarizer\n",
    "from sklearn.model_selection import train_test_split\n",
    "from sklearn.preprocessing import PolynomialFeatures\n",
    "import random\n",
    "import matplotlib.pyplot as plt\n",
    "%matplotlib inline\n",
    "\n",
    "from collections import Counter\n",
    "\n",
    "import seaborn as sns\n",
    "import xgboost as xgb\n",
    "\n",
    "from sklearn.metrics import confusion_matrix, accuracy_score, precision_score, recall_score, f1_score, ConfusionMatrixDisplay\n",
    "\n",
    "import lightgbm\n",
    "from lightgbm import LGBMClassifier\n",
    "from sklearn.ensemble import RandomForestClassifier\n",
    "\n",
    "from sklearn.utils import class_weight\n",
    "from sklearn.utils.class_weight import compute_class_weight\n",
    "from sklearn.utils.class_weight import compute_sample_weight\n",
    "\n",
    "\n",
    "import warnings\n",
    "warnings.filterwarnings(action='ignore', category=FutureWarning)\n",
    "import pickle"
   ]
  },
  {
   "cell_type": "markdown",
   "metadata": {},
   "source": [
    "### Importing Prepared Data\n",
    "\n",
    "First we bring in the data we created in the previous notebook and inspect it."
   ]
  },
  {
   "cell_type": "code",
   "execution_count": 2,
   "metadata": {},
   "outputs": [],
   "source": [
    "carrier_data = pd.read_csv('data/prepared/data_for_modeling.csv')"
   ]
  },
  {
   "cell_type": "code",
   "execution_count": 3,
   "metadata": {},
   "outputs": [
    {
     "name": "stdout",
     "output_type": "stream",
     "text": [
      "<class 'pandas.core.frame.DataFrame'>\n",
      "RangeIndex: 4342575 entries, 0 to 4342574\n",
      "Data columns (total 36 columns):\n",
      " #   Column                       Dtype  \n",
      "---  ------                       -----  \n",
      " 0   MONTH                        int64  \n",
      " 1   DAY_OF_MONTH                 int64  \n",
      " 2   DAY_OF_WEEK                  object \n",
      " 3   MKT_CARRIER                  object \n",
      " 4   ORIGIN                       object \n",
      " 5   DEST                         object \n",
      " 6   CRS_ELAPSED_TIME             float64\n",
      " 7   DISTANCE                     float64\n",
      " 8   origin-elevation             float64\n",
      " 9   dest-elevation               float64\n",
      " 10  takeoff-time-of-day          object \n",
      " 11  arrival-time-of-day          object \n",
      " 12  ARR_DAY_OF_WEEK              object \n",
      " 13  avg-takeoff-congestion       float64\n",
      " 14  avg-arrival-congestion       float64\n",
      " 15  dest-avg-takeoff-congestion  float64\n",
      " 16  dest-avg-arrival-congestion  float64\n",
      " 17  holiday                      object \n",
      " 18  days-from-specific-holiday   object \n",
      " 19  takeoff-mins-from-midnight   int64  \n",
      " 20  landing-mins-from-midnight   int64  \n",
      " 21  target                       object \n",
      " 22  maxtemp                      float64\n",
      " 23  mintemp                      float64\n",
      " 24  avgtemp                      float64\n",
      " 25  totalprecip                  float64\n",
      " 26  avgvis                       float64\n",
      " 27  maxwind                      float64\n",
      " 28  avghumidity                  float64\n",
      " 29  dest-maxtemp                 float64\n",
      " 30  dest-mintemp                 float64\n",
      " 31  dest-avgtemp                 float64\n",
      " 32  dest-totalprecip             float64\n",
      " 33  dest-avgvis                  float64\n",
      " 34  dest-maxwind                 float64\n",
      " 35  dest-avghumidity             float64\n",
      "dtypes: float64(22), int64(4), object(10)\n",
      "memory usage: 1.2+ GB\n"
     ]
    }
   ],
   "source": [
    "# Preview what the data looks like\n",
    "carrier_data.info()"
   ]
  },
  {
   "cell_type": "code",
   "execution_count": 5,
   "metadata": {},
   "outputs": [
    {
     "data": {
      "text/html": [
       "<div>\n",
       "<style scoped>\n",
       "    .dataframe tbody tr th:only-of-type {\n",
       "        vertical-align: middle;\n",
       "    }\n",
       "\n",
       "    .dataframe tbody tr th {\n",
       "        vertical-align: top;\n",
       "    }\n",
       "\n",
       "    .dataframe thead th {\n",
       "        text-align: right;\n",
       "    }\n",
       "</style>\n",
       "<table border=\"1\" class=\"dataframe\">\n",
       "  <thead>\n",
       "    <tr style=\"text-align: right;\">\n",
       "      <th></th>\n",
       "      <th>MONTH</th>\n",
       "      <th>DAY_OF_MONTH</th>\n",
       "      <th>DAY_OF_WEEK</th>\n",
       "      <th>MKT_CARRIER</th>\n",
       "      <th>ORIGIN</th>\n",
       "      <th>DEST</th>\n",
       "      <th>CRS_ELAPSED_TIME</th>\n",
       "      <th>DISTANCE</th>\n",
       "      <th>origin-elevation</th>\n",
       "      <th>dest-elevation</th>\n",
       "      <th>takeoff-time-of-day</th>\n",
       "      <th>arrival-time-of-day</th>\n",
       "      <th>ARR_DAY_OF_WEEK</th>\n",
       "      <th>avg-takeoff-congestion</th>\n",
       "      <th>avg-arrival-congestion</th>\n",
       "      <th>dest-avg-takeoff-congestion</th>\n",
       "      <th>dest-avg-arrival-congestion</th>\n",
       "      <th>holiday</th>\n",
       "      <th>days-from-specific-holiday</th>\n",
       "      <th>takeoff-mins-from-midnight</th>\n",
       "      <th>landing-mins-from-midnight</th>\n",
       "      <th>target</th>\n",
       "      <th>maxtemp</th>\n",
       "      <th>mintemp</th>\n",
       "      <th>avgtemp</th>\n",
       "      <th>totalprecip</th>\n",
       "      <th>avgvis</th>\n",
       "      <th>maxwind</th>\n",
       "      <th>avghumidity</th>\n",
       "      <th>dest-maxtemp</th>\n",
       "      <th>dest-mintemp</th>\n",
       "      <th>dest-avgtemp</th>\n",
       "      <th>dest-totalprecip</th>\n",
       "      <th>dest-avgvis</th>\n",
       "      <th>dest-maxwind</th>\n",
       "      <th>dest-avghumidity</th>\n",
       "    </tr>\n",
       "  </thead>\n",
       "  <tbody>\n",
       "    <tr>\n",
       "      <th>0</th>\n",
       "      <td>6</td>\n",
       "      <td>1</td>\n",
       "      <td>Tuesday</td>\n",
       "      <td>DL</td>\n",
       "      <td>LAS</td>\n",
       "      <td>MSP</td>\n",
       "      <td>186.0</td>\n",
       "      <td>1299.0</td>\n",
       "      <td>2181.0</td>\n",
       "      <td>841.0</td>\n",
       "      <td>Night</td>\n",
       "      <td>Early Morning</td>\n",
       "      <td>Tuesday</td>\n",
       "      <td>1.329932</td>\n",
       "      <td>1.209226</td>\n",
       "      <td>1.776888</td>\n",
       "      <td>1.383135</td>\n",
       "      <td>Not a Holiday</td>\n",
       "      <td>Memorial Day_1.0</td>\n",
       "      <td>15</td>\n",
       "      <td>321</td>\n",
       "      <td>No</td>\n",
       "      <td>37.7</td>\n",
       "      <td>22.2</td>\n",
       "      <td>32.3</td>\n",
       "      <td>0.0</td>\n",
       "      <td>10.0</td>\n",
       "      <td>10.8</td>\n",
       "      <td>14.0</td>\n",
       "      <td>24.7</td>\n",
       "      <td>13.4</td>\n",
       "      <td>20.3</td>\n",
       "      <td>0.0</td>\n",
       "      <td>10.0</td>\n",
       "      <td>9.7</td>\n",
       "      <td>53.0</td>\n",
       "    </tr>\n",
       "    <tr>\n",
       "      <th>1</th>\n",
       "      <td>6</td>\n",
       "      <td>1</td>\n",
       "      <td>Tuesday</td>\n",
       "      <td>DL</td>\n",
       "      <td>LAS</td>\n",
       "      <td>MSP</td>\n",
       "      <td>183.0</td>\n",
       "      <td>1299.0</td>\n",
       "      <td>2181.0</td>\n",
       "      <td>841.0</td>\n",
       "      <td>Early Morning</td>\n",
       "      <td>Late Morning</td>\n",
       "      <td>Tuesday</td>\n",
       "      <td>2.024347</td>\n",
       "      <td>1.501475</td>\n",
       "      <td>1.634171</td>\n",
       "      <td>1.296566</td>\n",
       "      <td>Not a Holiday</td>\n",
       "      <td>Memorial Day_1.0</td>\n",
       "      <td>370</td>\n",
       "      <td>673</td>\n",
       "      <td>No</td>\n",
       "      <td>37.7</td>\n",
       "      <td>22.2</td>\n",
       "      <td>32.3</td>\n",
       "      <td>0.0</td>\n",
       "      <td>10.0</td>\n",
       "      <td>10.8</td>\n",
       "      <td>14.0</td>\n",
       "      <td>24.7</td>\n",
       "      <td>13.4</td>\n",
       "      <td>20.3</td>\n",
       "      <td>0.0</td>\n",
       "      <td>10.0</td>\n",
       "      <td>9.7</td>\n",
       "      <td>53.0</td>\n",
       "    </tr>\n",
       "    <tr>\n",
       "      <th>2</th>\n",
       "      <td>6</td>\n",
       "      <td>1</td>\n",
       "      <td>Tuesday</td>\n",
       "      <td>DL</td>\n",
       "      <td>LAS</td>\n",
       "      <td>MSP</td>\n",
       "      <td>183.0</td>\n",
       "      <td>1299.0</td>\n",
       "      <td>2181.0</td>\n",
       "      <td>841.0</td>\n",
       "      <td>Late Morning</td>\n",
       "      <td>Early Afternoon</td>\n",
       "      <td>Tuesday</td>\n",
       "      <td>1.683796</td>\n",
       "      <td>1.420449</td>\n",
       "      <td>1.684955</td>\n",
       "      <td>1.355537</td>\n",
       "      <td>Not a Holiday</td>\n",
       "      <td>Memorial Day_1.0</td>\n",
       "      <td>554</td>\n",
       "      <td>857</td>\n",
       "      <td>No</td>\n",
       "      <td>37.7</td>\n",
       "      <td>22.2</td>\n",
       "      <td>32.3</td>\n",
       "      <td>0.0</td>\n",
       "      <td>10.0</td>\n",
       "      <td>10.8</td>\n",
       "      <td>14.0</td>\n",
       "      <td>24.7</td>\n",
       "      <td>13.4</td>\n",
       "      <td>20.3</td>\n",
       "      <td>0.0</td>\n",
       "      <td>10.0</td>\n",
       "      <td>9.7</td>\n",
       "      <td>53.0</td>\n",
       "    </tr>\n",
       "    <tr>\n",
       "      <th>3</th>\n",
       "      <td>6</td>\n",
       "      <td>1</td>\n",
       "      <td>Tuesday</td>\n",
       "      <td>WN</td>\n",
       "      <td>LAS</td>\n",
       "      <td>MSP</td>\n",
       "      <td>185.0</td>\n",
       "      <td>1299.0</td>\n",
       "      <td>2181.0</td>\n",
       "      <td>841.0</td>\n",
       "      <td>Late Morning</td>\n",
       "      <td>Early Afternoon</td>\n",
       "      <td>Tuesday</td>\n",
       "      <td>1.683796</td>\n",
       "      <td>1.420449</td>\n",
       "      <td>1.684955</td>\n",
       "      <td>1.355537</td>\n",
       "      <td>Not a Holiday</td>\n",
       "      <td>Memorial Day_1.0</td>\n",
       "      <td>630</td>\n",
       "      <td>935</td>\n",
       "      <td>No</td>\n",
       "      <td>37.7</td>\n",
       "      <td>22.2</td>\n",
       "      <td>32.3</td>\n",
       "      <td>0.0</td>\n",
       "      <td>10.0</td>\n",
       "      <td>10.8</td>\n",
       "      <td>14.0</td>\n",
       "      <td>24.7</td>\n",
       "      <td>13.4</td>\n",
       "      <td>20.3</td>\n",
       "      <td>0.0</td>\n",
       "      <td>10.0</td>\n",
       "      <td>9.7</td>\n",
       "      <td>53.0</td>\n",
       "    </tr>\n",
       "    <tr>\n",
       "      <th>4</th>\n",
       "      <td>6</td>\n",
       "      <td>1</td>\n",
       "      <td>Tuesday</td>\n",
       "      <td>DL</td>\n",
       "      <td>LAS</td>\n",
       "      <td>MSP</td>\n",
       "      <td>188.0</td>\n",
       "      <td>1299.0</td>\n",
       "      <td>2181.0</td>\n",
       "      <td>841.0</td>\n",
       "      <td>Late Morning</td>\n",
       "      <td>Late Afternoon</td>\n",
       "      <td>Tuesday</td>\n",
       "      <td>1.683796</td>\n",
       "      <td>1.420449</td>\n",
       "      <td>1.254342</td>\n",
       "      <td>1.393955</td>\n",
       "      <td>Not a Holiday</td>\n",
       "      <td>Memorial Day_1.0</td>\n",
       "      <td>701</td>\n",
       "      <td>1009</td>\n",
       "      <td>No</td>\n",
       "      <td>37.7</td>\n",
       "      <td>22.2</td>\n",
       "      <td>32.3</td>\n",
       "      <td>0.0</td>\n",
       "      <td>10.0</td>\n",
       "      <td>10.8</td>\n",
       "      <td>14.0</td>\n",
       "      <td>24.7</td>\n",
       "      <td>13.4</td>\n",
       "      <td>20.3</td>\n",
       "      <td>0.0</td>\n",
       "      <td>10.0</td>\n",
       "      <td>9.7</td>\n",
       "      <td>53.0</td>\n",
       "    </tr>\n",
       "  </tbody>\n",
       "</table>\n",
       "</div>"
      ],
      "text/plain": [
       "   MONTH  DAY_OF_MONTH DAY_OF_WEEK MKT_CARRIER ORIGIN DEST  CRS_ELAPSED_TIME  \\\n",
       "0      6             1     Tuesday          DL    LAS  MSP             186.0   \n",
       "1      6             1     Tuesday          DL    LAS  MSP             183.0   \n",
       "2      6             1     Tuesday          DL    LAS  MSP             183.0   \n",
       "3      6             1     Tuesday          WN    LAS  MSP             185.0   \n",
       "4      6             1     Tuesday          DL    LAS  MSP             188.0   \n",
       "\n",
       "   DISTANCE  origin-elevation  dest-elevation takeoff-time-of-day  \\\n",
       "0    1299.0            2181.0           841.0               Night   \n",
       "1    1299.0            2181.0           841.0       Early Morning   \n",
       "2    1299.0            2181.0           841.0        Late Morning   \n",
       "3    1299.0            2181.0           841.0        Late Morning   \n",
       "4    1299.0            2181.0           841.0        Late Morning   \n",
       "\n",
       "  arrival-time-of-day ARR_DAY_OF_WEEK  avg-takeoff-congestion  \\\n",
       "0       Early Morning         Tuesday                1.329932   \n",
       "1        Late Morning         Tuesday                2.024347   \n",
       "2     Early Afternoon         Tuesday                1.683796   \n",
       "3     Early Afternoon         Tuesday                1.683796   \n",
       "4      Late Afternoon         Tuesday                1.683796   \n",
       "\n",
       "   avg-arrival-congestion  dest-avg-takeoff-congestion  \\\n",
       "0                1.209226                     1.776888   \n",
       "1                1.501475                     1.634171   \n",
       "2                1.420449                     1.684955   \n",
       "3                1.420449                     1.684955   \n",
       "4                1.420449                     1.254342   \n",
       "\n",
       "   dest-avg-arrival-congestion        holiday days-from-specific-holiday  \\\n",
       "0                     1.383135  Not a Holiday           Memorial Day_1.0   \n",
       "1                     1.296566  Not a Holiday           Memorial Day_1.0   \n",
       "2                     1.355537  Not a Holiday           Memorial Day_1.0   \n",
       "3                     1.355537  Not a Holiday           Memorial Day_1.0   \n",
       "4                     1.393955  Not a Holiday           Memorial Day_1.0   \n",
       "\n",
       "   takeoff-mins-from-midnight  landing-mins-from-midnight target  maxtemp  \\\n",
       "0                          15                         321     No     37.7   \n",
       "1                         370                         673     No     37.7   \n",
       "2                         554                         857     No     37.7   \n",
       "3                         630                         935     No     37.7   \n",
       "4                         701                        1009     No     37.7   \n",
       "\n",
       "   mintemp  avgtemp  totalprecip  avgvis  maxwind  avghumidity  dest-maxtemp  \\\n",
       "0     22.2     32.3          0.0    10.0     10.8         14.0          24.7   \n",
       "1     22.2     32.3          0.0    10.0     10.8         14.0          24.7   \n",
       "2     22.2     32.3          0.0    10.0     10.8         14.0          24.7   \n",
       "3     22.2     32.3          0.0    10.0     10.8         14.0          24.7   \n",
       "4     22.2     32.3          0.0    10.0     10.8         14.0          24.7   \n",
       "\n",
       "   dest-mintemp  dest-avgtemp  dest-totalprecip  dest-avgvis  dest-maxwind  \\\n",
       "0          13.4          20.3               0.0         10.0           9.7   \n",
       "1          13.4          20.3               0.0         10.0           9.7   \n",
       "2          13.4          20.3               0.0         10.0           9.7   \n",
       "3          13.4          20.3               0.0         10.0           9.7   \n",
       "4          13.4          20.3               0.0         10.0           9.7   \n",
       "\n",
       "   dest-avghumidity  \n",
       "0              53.0  \n",
       "1              53.0  \n",
       "2              53.0  \n",
       "3              53.0  \n",
       "4              53.0  "
      ]
     },
     "execution_count": 5,
     "metadata": {},
     "output_type": "execute_result"
    }
   ],
   "source": [
    "pd.set_option('display.max_columns', 36)\n",
    "carrier_data.head()"
   ]
  },
  {
   "cell_type": "markdown",
   "metadata": {},
   "source": [
    "We have 4,342,575 total flight records. That is too much to model with (more than most CPUs can handle in a time efficient way). We'll save out a sample of this data to use in modeling. We can always test later on whether including more data helps the models."
   ]
  },
  {
   "cell_type": "code",
   "execution_count": 6,
   "metadata": {
    "scrolled": false
   },
   "outputs": [],
   "source": [
    "# Sample 5% of our data which will still result in over 100,000 records\n",
    "carrier_data_sample = carrier_data.sample(frac=0.05, axis=0, random_state=123)\n",
    "carrier_data_sample.to_csv('data/prepared/data_for_modeling_sample.csv', index=False)"
   ]
  },
  {
   "cell_type": "markdown",
   "metadata": {},
   "source": [
    "#### Plotting Target Distribution\n",
    "Our data is heavily skewed. Just 7% of all flight records qualify under our definition of 'severe delay'."
   ]
  },
  {
   "cell_type": "code",
   "execution_count": 111,
   "metadata": {},
   "outputs": [
    {
     "data": {
      "text/plain": [
       "<AxesSubplot:>"
      ]
     },
     "execution_count": 111,
     "metadata": {},
     "output_type": "execute_result"
    },
    {
     "data": {
      "image/png": "[encoded data removed]",
      "text/plain": [
       "<Figure size 432x288 with 1 Axes>"
      ]
     },
     "metadata": {
      "needs_background": "light"
     },
     "output_type": "display_data"
    }
   ],
   "source": [
    "carrier_data['target'].value_counts(normalize=True).plot(kind='barh')"
   ]
  },
  {
   "cell_type": "code",
   "execution_count": 112,
   "metadata": {},
   "outputs": [
    {
     "data": {
      "text/plain": [
       "No     0.932135\n",
       "Yes    0.067865\n",
       "Name: target, dtype: float64"
      ]
     },
     "execution_count": 112,
     "metadata": {},
     "output_type": "execute_result"
    }
   ],
   "source": [
    "carrier_data['target'].value_counts(normalize=True)"
   ]
  },
  {
   "cell_type": "markdown",
   "metadata": {},
   "source": [
    "We'll account for this in our modeling by setting sample and class weights."
   ]
  },
  {
   "cell_type": "markdown",
   "metadata": {},
   "source": [
    "### Splitting up data for training, validation & testing\n",
    "To model data, we need to have it split into training, test and validation sets. We will iterate over our models using the training and validation data. Once we're ready to settle on a final model, we can evaluate it using previously unseed test data."
   ]
  },
  {
   "cell_type": "code",
   "execution_count": 7,
   "metadata": {
    "scrolled": false
   },
   "outputs": [],
   "source": [
    "# Splitting features & target\n",
    "y = carrier_data_sample[\"target\"]\n",
    "X = carrier_data_sample.drop([\"target\"], axis=1)\n",
    "\n",
    "# Creating train, test and validation sets\n",
    "X_train, X_rem, y_train, y_rem = train_test_split(X,y, train_size=0.8)\n",
    "\n",
    "test_size = 0.5\n",
    "X_valid, X_test, y_valid, y_test = train_test_split(X_rem,y_rem, test_size=0.5)"
   ]
  },
  {
   "cell_type": "markdown",
   "metadata": {},
   "source": [
    "Before modeling, we will need to carry out transformations on the data. To do this, we need to seperate numeric and categorical features since those will require different treatment."
   ]
  },
  {
   "cell_type": "code",
   "execution_count": 8,
   "metadata": {
    "scrolled": false
   },
   "outputs": [],
   "source": [
    "num_cols = ['CRS_ELAPSED_TIME', 'DISTANCE', 'origin-elevation', 'dest-elevation',\n",
    "            'avg-takeoff-congestion', 'avg-arrival-congestion', 'dest-avg-takeoff-congestion',\n",
    "            'dest-avg-arrival-congestion', 'takeoff-mins-from-midnight', 'landing-mins-from-midnight',\n",
    "            'maxtemp', 'mintemp', 'avgtemp', 'totalprecip', 'avgvis', 'maxwind', 'avghumidity',\n",
    "            'dest-maxtemp', 'dest-mintemp', 'dest-avgtemp', 'dest-totalprecip', 'dest-avgvis',\n",
    "            'dest-maxwind', 'dest-avghumidity']\n",
    "\n",
    "cat_cols = ['MONTH', 'DAY_OF_MONTH', 'DAY_OF_WEEK', 'MKT_CARRIER', 'ORIGIN',\n",
    "            'DEST', 'takeoff-time-of-day', 'arrival-time-of-day', 'ARR_DAY_OF_WEEK',\n",
    "            'holiday', 'days-from-specific-holiday']"
   ]
  },
  {
   "cell_type": "markdown",
   "metadata": {},
   "source": [
    "To transform data for modeling, we'll be making use of pipelines to simplify things."
   ]
  },
  {
   "cell_type": "code",
   "execution_count": 9,
   "metadata": {
    "scrolled": false
   },
   "outputs": [],
   "source": [
    "# We create a column transformer that has two parts\n",
    "# The first transform acts on our cat_cols and OneHotEncodes those columns\n",
    "# The second transform applies a StandardScaler on our numeric columns\n",
    "col_transform = ColumnTransformer(transformers=[('categorical', OneHotEncoder(categories=\"auto\",\n",
    "                                                                      sparse=False,\n",
    "                                                                      handle_unknown=\"ignore\"), cat_cols),\n",
    "                                                ('numeric', StandardScaler(), num_cols)])"
   ]
  },
  {
   "cell_type": "markdown",
   "metadata": {},
   "source": [
    "Our data is also highly imbalanced with the target (severe delay) only happing 7% of the time. To deal with this class imbalance, we'll compute some sample weights which we can later test in some of the models we iterate through."
   ]
  },
  {
   "cell_type": "code",
   "execution_count": 10,
   "metadata": {
    "scrolled": false
   },
   "outputs": [],
   "source": [
    "class_weights = compute_class_weight(class_weight = \"balanced\",\n",
    "                                     classes = np.unique(y_train),\n",
    "                                     y = y_train)\n",
    "\n",
    "# Gradient Descent models require the class weights to be in a dictionary, so we create one here\n",
    "class_weights_dict = dict(zip(np.unique(y_train), class_weights))\n",
    "\n",
    "# Finally, we also calculate sample weights which can be used with XGBoost Classifiers\n",
    "sample_weights = compute_sample_weight(class_weight='balanced', y=y_train)"
   ]
  },
  {
   "cell_type": "markdown",
   "metadata": {},
   "source": [
    "### Gradient Descent\n",
    "We first try Gradient Descent models because they are good at handling classification tasks. There a number of classifiers we'll throw at our problem.\n",
    "\n",
    "#### Helper Functions\n",
    "\n",
    "We create a function to evaluate model performence. This will help keep track of how each model iteration does in relation to our success metrics. It will also help us spot overfitting."
   ]
  },
  {
   "cell_type": "code",
   "execution_count": 49,
   "metadata": {
    "scrolled": false
   },
   "outputs": [],
   "source": [
    "def evaluate_model(pipe, X, y_true):\n",
    "    \"\"\"\n",
    "    This function takes a modeling pipeline, a dataframe (x), and true labels (y)\n",
    "    The function returns a confusion matrix, an accuracy score, precision, recall and F1\n",
    "    \"\"\"\n",
    "    y_pred  = pipe.predict(X) # generate a set of predictions\n",
    "   \n",
    "    print('Model Scores:')\n",
    "    print('--------------')\n",
    "    accuracy = accuracy_score(y_true, y_pred)\n",
    "    print('Accuracy: %.3f' % round(accuracy, 3))\n",
    "    # precision tp / (tp + fp)\n",
    "    precision = precision_score(y_true, y_pred, pos_label='Yes')\n",
    "    print('Precision: %.3f' % round(precision, 3))\n",
    "    # recall: tp / (tp + fn)\n",
    "    recall = recall_score(y_true, y_pred, pos_label='Yes')\n",
    "    print('Recall: %.3f' % round(recall, 3))\n",
    "    # f1: 2 tp / (2 tp + fp + fn)\n",
    "    f1 = f1_score(y_true, y_pred, pos_label='Yes')\n",
    "    print('F1 score: %.3f' % round(f1, 3))\n",
    "    print('--------------')\n",
    "    print('Confusion Matrix:')\n",
    "\n",
    "    ConfusionMatrixDisplay.from_predictions(y_true, y_pred, normalize='true')"
   ]
  },
  {
   "cell_type": "markdown",
   "metadata": {},
   "source": [
    "#### Logistic Regression"
   ]
  },
  {
   "cell_type": "code",
   "execution_count": 45,
   "metadata": {
    "scrolled": true
   },
   "outputs": [
    {
     "name": "stdout",
     "output_type": "stream",
     "text": [
      "Model Scores for Validation Data:\n",
      "--------------\n",
      "Accuracy: 0.932\n"
     ]
    },
    {
     "name": "stderr",
     "output_type": "stream",
     "text": [
      "C:\\Users\\Robert\\anaconda3\\envs\\learn-env\\lib\\site-packages\\sklearn\\metrics\\_classification.py:1327: UndefinedMetricWarning: Precision is ill-defined and being set to 0.0 due to no predicted samples. Use `zero_division` parameter to control this behavior.\n",
      "  _warn_prf(average, modifier, msg_start, len(result))\n"
     ]
    },
    {
     "name": "stdout",
     "output_type": "stream",
     "text": [
      "Precision: 0.000\n",
      "Recall: 0.000\n",
      "F1 score: 0.000\n",
      "--------------\n",
      "Confusion Matrix:\n"
     ]
    },
    {
     "data": {
      "image/png": "[encoded data removed]",
      "text/plain": [
       "<Figure size 432x288 with 2 Axes>"
      ]
     },
     "metadata": {
      "needs_background": "light"
     },
     "output_type": "display_data"
    }
   ],
   "source": [
    "baselline_pipe = Pipeline(steps=[('prep', col_transform),\n",
    "                                 ('dc', DummyClassifier(strategy='most_frequent'))])\n",
    "\n",
    "baselline_pipe.fit(X_train, y_train)\n",
    "\n",
    "evaluate_model(baselline_pipe, X_train, y_train)"
   ]
  },
  {
   "cell_type": "code",
   "execution_count": 48,
   "metadata": {
    "scrolled": false
   },
   "outputs": [
    {
     "name": "stderr",
     "output_type": "stream",
     "text": [
      "C:\\Users\\Robert\\anaconda3\\envs\\learn-env\\lib\\site-packages\\sklearn\\linear_model\\_logistic.py:444: ConvergenceWarning: lbfgs failed to converge (status=1):\n",
      "STOP: TOTAL NO. of ITERATIONS REACHED LIMIT.\n",
      "\n",
      "Increase the number of iterations (max_iter) or scale the data as shown in:\n",
      "    https://scikit-learn.org/stable/modules/preprocessing.html\n",
      "Please also refer to the documentation for alternative solver options:\n",
      "    https://scikit-learn.org/stable/modules/linear_model.html#logistic-regression\n",
      "  n_iter_i = _check_optimize_result(\n"
     ]
    },
    {
     "name": "stdout",
     "output_type": "stream",
     "text": [
      "Training Scores:\n",
      "Model Scores for Validation Data:\n",
      "--------------\n",
      "Accuracy: 0.932\n",
      "Precision: 0.429\n",
      "Recall: 0.001\n",
      "F1 score: 0.002\n",
      "--------------\n",
      "Confusion Matrix:\n",
      "Validation Scores:\n",
      "Model Scores for Validation Data:\n",
      "--------------\n",
      "Accuracy: 0.931\n",
      "Precision: 0.333\n",
      "Recall: 0.001\n",
      "F1 score: 0.003\n",
      "--------------\n",
      "Confusion Matrix:\n"
     ]
    },
    {
     "data": {
      "image/png": "[encoded data removed]",
      "text/plain": [
       "<Figure size 432x288 with 2 Axes>"
      ]
     },
     "metadata": {
      "needs_background": "light"
     },
     "output_type": "display_data"
    },
    {
     "data": {
      "image/png": "[encoded data removed]",
      "text/plain": [
       "<Figure size 432x288 with 2 Axes>"
      ]
     },
     "metadata": {
      "needs_background": "light"
     },
     "output_type": "display_data"
    }
   ],
   "source": [
    "lr_pipe1 = Pipeline(steps=[('prep', col_transform),\n",
    "                           ('lr', LogisticRegression(random_state=123))])\n",
    "\n",
    "lr_pipe1.fit(X_train, y_train)\n",
    "\n",
    "print('Training Scores:')\n",
    "evaluate_model(lr_pipe1, X_train, y_train)"
   ]
  },
  {
   "cell_type": "code",
   "execution_count": null,
   "metadata": {},
   "outputs": [],
   "source": [
    "print('Validation Scores:')\n",
    "evaluate_model(lr_pipe1, X_valid, y_valid)"
   ]
  },
  {
   "cell_type": "code",
   "execution_count": 51,
   "metadata": {
    "scrolled": false
   },
   "outputs": [
    {
     "name": "stderr",
     "output_type": "stream",
     "text": [
      "C:\\Users\\Robert\\anaconda3\\envs\\learn-env\\lib\\site-packages\\sklearn\\linear_model\\_logistic.py:444: ConvergenceWarning: lbfgs failed to converge (status=1):\n",
      "STOP: TOTAL NO. of ITERATIONS REACHED LIMIT.\n",
      "\n",
      "Increase the number of iterations (max_iter) or scale the data as shown in:\n",
      "    https://scikit-learn.org/stable/modules/preprocessing.html\n",
      "Please also refer to the documentation for alternative solver options:\n",
      "    https://scikit-learn.org/stable/modules/linear_model.html#logistic-regression\n",
      "  n_iter_i = _check_optimize_result(\n"
     ]
    },
    {
     "name": "stdout",
     "output_type": "stream",
     "text": [
      "Model Scores:\n",
      "--------------\n",
      "Accuracy: 0.648\n",
      "Precision: 0.122\n",
      "Recall: 0.668\n",
      "F1 score: 0.206\n",
      "--------------\n",
      "Confusion Matrix:\n"
     ]
    },
    {
     "data": {
      "image/png": "[encoded data removed]",
      "text/plain": [
       "<Figure size 432x288 with 2 Axes>"
      ]
     },
     "metadata": {
      "needs_background": "light"
     },
     "output_type": "display_data"
    }
   ],
   "source": [
    "lr_pipe2 = Pipeline(steps=[('prep', col_transform),\n",
    "                           ('lr', LogisticRegression(class_weight=class_weights_dict, random_state=123))])\n",
    "\n",
    "lr_pipe2.fit(X_train, y_train)\n",
    "\n",
    "evaluate_model(lr_pipe2, X_train, y_train)"
   ]
  },
  {
   "cell_type": "code",
   "execution_count": 52,
   "metadata": {},
   "outputs": [
    {
     "name": "stdout",
     "output_type": "stream",
     "text": [
      "Model Scores:\n",
      "--------------\n",
      "Accuracy: 0.645\n",
      "Precision: 0.120\n",
      "Recall: 0.656\n",
      "F1 score: 0.204\n",
      "--------------\n",
      "Confusion Matrix:\n"
     ]
    },
    {
     "data": {
      "image/png": "[encoded data removed]",
      "text/plain": [
       "<Figure size 432x288 with 2 Axes>"
      ]
     },
     "metadata": {
      "needs_background": "light"
     },
     "output_type": "display_data"
    }
   ],
   "source": [
    "# Checking model on validation data\n",
    "evaluate_model(lr_pipe2, X_valid, y_valid)"
   ]
  },
  {
   "cell_type": "code",
   "execution_count": 54,
   "metadata": {},
   "outputs": [
    {
     "name": "stdout",
     "output_type": "stream",
     "text": [
      "Model Scores:\n",
      "--------------\n",
      "Accuracy: 0.649\n",
      "Precision: 0.122\n",
      "Recall: 0.669\n",
      "F1 score: 0.207\n",
      "--------------\n",
      "Confusion Matrix:\n"
     ]
    },
    {
     "data": {
      "image/png": "[encoded data removed]",
      "text/plain": [
       "<Figure size 432x288 with 2 Axes>"
      ]
     },
     "metadata": {
      "needs_background": "light"
     },
     "output_type": "display_data"
    }
   ],
   "source": [
    "lr_pipe3 = Pipeline(steps=[('prep', col_transform),\n",
    "                           ('lr', LogisticRegression(class_weight=class_weights_dict,\n",
    "                                                     max_iter=1000,\n",
    "                                                     random_state=123))])\n",
    "\n",
    "lr_pipe3.fit(X_train, y_train)\n",
    "\n",
    "evaluate_model(lr_pipe3, X_train, y_train)"
   ]
  },
  {
   "cell_type": "code",
   "execution_count": 55,
   "metadata": {},
   "outputs": [
    {
     "name": "stdout",
     "output_type": "stream",
     "text": [
      "Model Scores:\n",
      "--------------\n",
      "Accuracy: 0.646\n",
      "Precision: 0.120\n",
      "Recall: 0.652\n",
      "F1 score: 0.203\n",
      "--------------\n",
      "Confusion Matrix:\n"
     ]
    },
    {
     "data": {
      "image/png": "[encoded data removed]",
      "text/plain": [
       "<Figure size 432x288 with 2 Axes>"
      ]
     },
     "metadata": {
      "needs_background": "light"
     },
     "output_type": "display_data"
    }
   ],
   "source": [
    "# Checking model on validation data\n",
    "evaluate_model(lr_pipe3, X_valid, y_valid)"
   ]
  },
  {
   "cell_type": "markdown",
   "metadata": {},
   "source": [
    "#### Random Forest"
   ]
  },
  {
   "cell_type": "code",
   "execution_count": 56,
   "metadata": {
    "scrolled": false
   },
   "outputs": [
    {
     "name": "stdout",
     "output_type": "stream",
     "text": [
      "Model Scores:\n",
      "--------------\n",
      "Accuracy: 0.932\n"
     ]
    },
    {
     "name": "stderr",
     "output_type": "stream",
     "text": [
      "C:\\Users\\Robert\\anaconda3\\envs\\learn-env\\lib\\site-packages\\sklearn\\metrics\\_classification.py:1327: UndefinedMetricWarning: Precision is ill-defined and being set to 0.0 due to no predicted samples. Use `zero_division` parameter to control this behavior.\n",
      "  _warn_prf(average, modifier, msg_start, len(result))\n"
     ]
    },
    {
     "name": "stdout",
     "output_type": "stream",
     "text": [
      "Precision: 0.000\n",
      "Recall: 0.000\n",
      "F1 score: 0.000\n",
      "--------------\n",
      "Confusion Matrix:\n"
     ]
    },
    {
     "data": {
      "image/png": "[encoded data removed]",
      "text/plain": [
       "<Figure size 432x288 with 2 Axes>"
      ]
     },
     "metadata": {
      "needs_background": "light"
     },
     "output_type": "display_data"
    }
   ],
   "source": [
    "rf_pipe = Pipeline(steps=[('prep', col_transform),\n",
    "                           ('rf', RandomForestClassifier(n_estimators=100,\n",
    "                                  max_depth=12,\n",
    "                                  random_state=123))])\n",
    "rf_pipe.fit(X_train, y_train)\n",
    "\n",
    "evaluate_model(rf_pipe, X_train, y_train)"
   ]
  },
  {
   "cell_type": "code",
   "execution_count": 57,
   "metadata": {},
   "outputs": [
    {
     "name": "stdout",
     "output_type": "stream",
     "text": [
      "Model Scores:\n",
      "--------------\n",
      "Accuracy: 0.931\n",
      "Precision: 0.000\n"
     ]
    },
    {
     "name": "stderr",
     "output_type": "stream",
     "text": [
      "C:\\Users\\Robert\\anaconda3\\envs\\learn-env\\lib\\site-packages\\sklearn\\metrics\\_classification.py:1327: UndefinedMetricWarning: Precision is ill-defined and being set to 0.0 due to no predicted samples. Use `zero_division` parameter to control this behavior.\n",
      "  _warn_prf(average, modifier, msg_start, len(result))\n"
     ]
    },
    {
     "name": "stdout",
     "output_type": "stream",
     "text": [
      "Recall: 0.000\n",
      "F1 score: 0.000\n",
      "--------------\n",
      "Confusion Matrix:\n"
     ]
    },
    {
     "data": {
      "image/png": "[encoded data removed]",
      "text/plain": [
       "<Figure size 432x288 with 2 Axes>"
      ]
     },
     "metadata": {
      "needs_background": "light"
     },
     "output_type": "display_data"
    }
   ],
   "source": [
    "# Checking model on validation data\n",
    "evaluate_model(rf_pipe, X_valid, y_valid)"
   ]
  },
  {
   "cell_type": "markdown",
   "metadata": {},
   "source": [
    "It seems that every time we don't include class weights, the model just guesses the dominant class. Moving forward, we're always include class_weights."
   ]
  },
  {
   "cell_type": "code",
   "execution_count": 58,
   "metadata": {
    "scrolled": false
   },
   "outputs": [
    {
     "name": "stdout",
     "output_type": "stream",
     "text": [
      "Model Scores:\n",
      "--------------\n",
      "Accuracy: 0.767\n",
      "Precision: 0.178\n",
      "Recall: 0.666\n",
      "F1 score: 0.281\n",
      "--------------\n",
      "Confusion Matrix:\n"
     ]
    },
    {
     "data": {
      "image/png": "[encoded data removed]",
      "text/plain": [
       "<Figure size 432x288 with 2 Axes>"
      ]
     },
     "metadata": {
      "needs_background": "light"
     },
     "output_type": "display_data"
    }
   ],
   "source": [
    "rf_pipe2 = Pipeline(steps=[('prep', col_transform),\n",
    "                           ('rf', RandomForestClassifier(n_estimators=100,\n",
    "                                  max_depth=12,\n",
    "                                  class_weight=class_weights_dict,\n",
    "                                  random_state=123))])\n",
    "rf_pipe2.fit(X_train, y_train)\n",
    "\n",
    "evaluate_model(rf_pipe2, X_train, y_train)"
   ]
  },
  {
   "cell_type": "code",
   "execution_count": 59,
   "metadata": {},
   "outputs": [
    {
     "name": "stdout",
     "output_type": "stream",
     "text": [
      "Model Scores:\n",
      "--------------\n",
      "Accuracy: 0.747\n",
      "Precision: 0.138\n",
      "Recall: 0.508\n",
      "F1 score: 0.218\n",
      "--------------\n",
      "Confusion Matrix:\n"
     ]
    },
    {
     "data": {
      "image/png": "[encoded data removed]",
      "text/plain": [
       "<Figure size 432x288 with 2 Axes>"
      ]
     },
     "metadata": {
      "needs_background": "light"
     },
     "output_type": "display_data"
    }
   ],
   "source": [
    "# Checking model on validation data\n",
    "evaluate_model(rf_pipe2, X_valid, y_valid)"
   ]
  },
  {
   "cell_type": "markdown",
   "metadata": {},
   "source": [
    "Looks like the above model is overfitting a bit. We will cut down the the max_depth and see if that helps."
   ]
  },
  {
   "cell_type": "code",
   "execution_count": 60,
   "metadata": {},
   "outputs": [
    {
     "name": "stdout",
     "output_type": "stream",
     "text": [
      "Model Scores:\n",
      "--------------\n",
      "Accuracy: 0.646\n",
      "Precision: 0.117\n",
      "Recall: 0.639\n",
      "F1 score: 0.198\n",
      "--------------\n",
      "Confusion Matrix:\n"
     ]
    },
    {
     "data": {
      "image/png": "[encoded data removed]",
      "text/plain": [
       "<Figure size 432x288 with 2 Axes>"
      ]
     },
     "metadata": {
      "needs_background": "light"
     },
     "output_type": "display_data"
    }
   ],
   "source": [
    "rf_pipe3 = Pipeline(steps=[('prep', col_transform),\n",
    "                           ('rf', RandomForestClassifier(n_estimators=100,\n",
    "                                  max_depth=6,\n",
    "                                  class_weight=class_weights_dict,\n",
    "                                  random_state=123))])\n",
    "rf_pipe3.fit(X_train, y_train)\n",
    "\n",
    "evaluate_model(rf_pipe3, X_train, y_train)"
   ]
  },
  {
   "cell_type": "code",
   "execution_count": 61,
   "metadata": {},
   "outputs": [
    {
     "name": "stdout",
     "output_type": "stream",
     "text": [
      "Model Scores:\n",
      "--------------\n",
      "Accuracy: 0.649\n",
      "Precision: 0.117\n",
      "Recall: 0.625\n",
      "F1 score: 0.197\n",
      "--------------\n",
      "Confusion Matrix:\n"
     ]
    },
    {
     "data": {
      "image/png": "[encoded data removed]",
      "text/plain": [
       "<Figure size 432x288 with 2 Axes>"
      ]
     },
     "metadata": {
      "needs_background": "light"
     },
     "output_type": "display_data"
    }
   ],
   "source": [
    "evaluate_model(rf_pipe3, X_valid, y_valid)"
   ]
  },
  {
   "cell_type": "markdown",
   "metadata": {},
   "source": [
    "The overfitting improved. However, now the F1 score dropped below what we had with the Logistic Regression model. So we will move on to trying different classifiers."
   ]
  },
  {
   "cell_type": "markdown",
   "metadata": {},
   "source": [
    "#### XGBoost"
   ]
  },
  {
   "cell_type": "code",
   "execution_count": 63,
   "metadata": {
    "scrolled": false
   },
   "outputs": [
    {
     "name": "stdout",
     "output_type": "stream",
     "text": [
      "Model Scores:\n",
      "--------------\n",
      "Accuracy: 0.776\n",
      "Precision: 0.203\n",
      "Recall: 0.780\n",
      "F1 score: 0.322\n",
      "--------------\n",
      "Confusion Matrix:\n"
     ]
    },
    {
     "data": {
      "image/png": "[encoded data removed]",
      "text/plain": [
       "<Figure size 432x288 with 2 Axes>"
      ]
     },
     "metadata": {
      "needs_background": "light"
     },
     "output_type": "display_data"
    }
   ],
   "source": [
    "xgb_pipe = Pipeline(steps=[('prep', col_transform),\n",
    "                           ('xgb', xgb.XGBClassifier())])\n",
    "\n",
    "xgb_pipe.fit(X_train, y_train, xgb__sample_weight=sample_weights)\n",
    "\n",
    "evaluate_model(xgb_pipe, X_train, y_train)"
   ]
  },
  {
   "cell_type": "code",
   "execution_count": 64,
   "metadata": {},
   "outputs": [
    {
     "name": "stdout",
     "output_type": "stream",
     "text": [
      "Model Scores:\n",
      "--------------\n",
      "Accuracy: 0.743\n",
      "Precision: 0.143\n",
      "Recall: 0.545\n",
      "F1 score: 0.227\n",
      "--------------\n",
      "Confusion Matrix:\n"
     ]
    },
    {
     "data": {
      "image/png": "[encoded data removed]",
      "text/plain": [
       "<Figure size 432x288 with 2 Axes>"
      ]
     },
     "metadata": {
      "needs_background": "light"
     },
     "output_type": "display_data"
    }
   ],
   "source": [
    "# Checking model on validation data\n",
    "evaluate_model(xgb_pipe, X_valid, y_valid)"
   ]
  },
  {
   "cell_type": "markdown",
   "metadata": {},
   "source": [
    "The training set was our best one so far, but it's clearly overfitting given the validation set. We'll adjust some hypterparameters to try and combat the overfitting."
   ]
  },
  {
   "cell_type": "code",
   "execution_count": 65,
   "metadata": {
    "scrolled": false
   },
   "outputs": [
    {
     "name": "stdout",
     "output_type": "stream",
     "text": [
      "Model Scores:\n",
      "--------------\n",
      "Accuracy: 0.707\n",
      "Precision: 0.148\n",
      "Recall: 0.686\n",
      "F1 score: 0.243\n",
      "--------------\n",
      "Confusion Matrix:\n"
     ]
    },
    {
     "data": {
      "image/png": "[encoded data removed]",
      "text/plain": [
       "<Figure size 432x288 with 2 Axes>"
      ]
     },
     "metadata": {
      "needs_background": "light"
     },
     "output_type": "display_data"
    }
   ],
   "source": [
    "xgb_pipe2 = Pipeline(steps=[('prep', col_transform),\n",
    "                           ('xgb', xgb.XGBClassifier(subsample=0.4, max_depth=6, alpha = 100))])\n",
    "\n",
    "xgb_pipe2.fit(X_train, y_train, xgb__sample_weight=sample_weights)\n",
    "\n",
    "evaluate_model(xgb_pipe2, X_train, y_train)"
   ]
  },
  {
   "cell_type": "code",
   "execution_count": 66,
   "metadata": {},
   "outputs": [
    {
     "name": "stdout",
     "output_type": "stream",
     "text": [
      "Model Scores:\n",
      "--------------\n",
      "Accuracy: 0.696\n",
      "Precision: 0.130\n",
      "Recall: 0.598\n",
      "F1 score: 0.213\n",
      "--------------\n",
      "Confusion Matrix:\n"
     ]
    },
    {
     "data": {
      "image/png": "[encoded data removed]",
      "text/plain": [
       "<Figure size 432x288 with 2 Axes>"
      ]
     },
     "metadata": {
      "needs_background": "light"
     },
     "output_type": "display_data"
    }
   ],
   "source": [
    "# Checking model on validation data\n",
    "evaluate_model(xgb_pipe2, X_valid, y_valid)"
   ]
  },
  {
   "cell_type": "markdown",
   "metadata": {},
   "source": [
    "XGBoost has one more way of dealing with imbalanced data sets -- and that's using scale_pos_weight. The recommendation is to set it to the negative case divided by the positive cases."
   ]
  },
  {
   "cell_type": "code",
   "execution_count": 69,
   "metadata": {
    "scrolled": false
   },
   "outputs": [],
   "source": [
    "counter = Counter(y_train)\n",
    "estimate = counter['No'] / counter['Yes']"
   ]
  },
  {
   "cell_type": "code",
   "execution_count": 70,
   "metadata": {},
   "outputs": [
    {
     "name": "stdout",
     "output_type": "stream",
     "text": [
      "Model Scores:\n",
      "--------------\n",
      "Accuracy: 0.773\n",
      "Precision: 0.200\n",
      "Recall: 0.770\n",
      "F1 score: 0.317\n",
      "--------------\n",
      "Confusion Matrix:\n"
     ]
    },
    {
     "data": {
      "image/png": "[encoded data removed]",
      "text/plain": [
       "<Figure size 432x288 with 2 Axes>"
      ]
     },
     "metadata": {
      "needs_background": "light"
     },
     "output_type": "display_data"
    }
   ],
   "source": [
    "xgb_pipe3 = Pipeline(steps=[('prep', col_transform),\n",
    "                           ('xgb', xgb.XGBClassifier(scale_pos_weight=estimate))])\n",
    "\n",
    "xgb_pipe3.fit(X_train, y_train)\n",
    "\n",
    "evaluate_model(xgb_pipe3, X_train, y_train)"
   ]
  },
  {
   "cell_type": "code",
   "execution_count": 71,
   "metadata": {},
   "outputs": [
    {
     "name": "stdout",
     "output_type": "stream",
     "text": [
      "Model Scores:\n",
      "--------------\n",
      "Accuracy: 0.745\n",
      "Precision: 0.145\n",
      "Recall: 0.546\n",
      "F1 score: 0.229\n",
      "--------------\n",
      "Confusion Matrix:\n"
     ]
    },
    {
     "data": {
      "image/png": "[encoded data removed]",
      "text/plain": [
       "<Figure size 432x288 with 2 Axes>"
      ]
     },
     "metadata": {
      "needs_background": "light"
     },
     "output_type": "display_data"
    }
   ],
   "source": [
    "# Checking model on validation data\n",
    "evaluate_model(xgb_pipe3, X_valid, y_valid)"
   ]
  },
  {
   "cell_type": "markdown",
   "metadata": {},
   "source": [
    "Our best performence so far! But still some overfitting. Let's try to deal with that."
   ]
  },
  {
   "cell_type": "code",
   "execution_count": 76,
   "metadata": {},
   "outputs": [
    {
     "name": "stdout",
     "output_type": "stream",
     "text": [
      "Model Scores:\n",
      "--------------\n",
      "Accuracy: 0.745\n",
      "Precision: 0.174\n",
      "Recall: 0.727\n",
      "F1 score: 0.280\n",
      "--------------\n",
      "Confusion Matrix:\n"
     ]
    },
    {
     "data": {
      "image/png": "[encoded data removed]",
      "text/plain": [
       "<Figure size 432x288 with 2 Axes>"
      ]
     },
     "metadata": {
      "needs_background": "light"
     },
     "output_type": "display_data"
    }
   ],
   "source": [
    "xgb_pipe4 = Pipeline(steps=[('prep', col_transform),\n",
    "                           ('xgb', xgb.XGBClassifier(scale_pos_weight=estimate,\n",
    "                                  max_depth = 5,\n",
    "                                  eta = 0.3,\n",
    "                                  nthread = 2,\n",
    "                                  colsample_bytree = 0.7))])\n",
    "\n",
    "xgb_pipe4.fit(X_train, y_train)\n",
    "evaluate_model(xgb_pipe4, X_train, y_train)"
   ]
  },
  {
   "cell_type": "code",
   "execution_count": 77,
   "metadata": {},
   "outputs": [
    {
     "name": "stdout",
     "output_type": "stream",
     "text": [
      "Model Scores:\n",
      "--------------\n",
      "Accuracy: 0.725\n",
      "Precision: 0.137\n",
      "Recall: 0.562\n",
      "F1 score: 0.220\n",
      "--------------\n",
      "Confusion Matrix:\n"
     ]
    },
    {
     "data": {
      "image/png": "[encoded data removed]",
      "text/plain": [
       "<Figure size 432x288 with 2 Axes>"
      ]
     },
     "metadata": {
      "needs_background": "light"
     },
     "output_type": "display_data"
    }
   ],
   "source": [
    "# Checking model on validation data\n",
    "evaluate_model(xgb_pipe4, X_valid, y_valid)"
   ]
  },
  {
   "cell_type": "markdown",
   "metadata": {},
   "source": [
    "There is still a lot of overfitting. We'll see if increasing our sample size that we're training on helps this."
   ]
  },
  {
   "cell_type": "code",
   "execution_count": 90,
   "metadata": {},
   "outputs": [],
   "source": [
    "bigger_sample = carrier_data.sample(frac=0.1, axis=0, random_state=123)\n",
    "feature_cols = num_cols + cat_cols\n",
    "# Splitting features & target\n",
    "y_2 = bigger_sample[\"target\"]\n",
    "X_2 = bigger_sample[feature_cols]"
   ]
  },
  {
   "cell_type": "code",
   "execution_count": 91,
   "metadata": {},
   "outputs": [
    {
     "name": "stdout",
     "output_type": "stream",
     "text": [
      "Model Scores:\n",
      "--------------\n",
      "Accuracy: 0.720\n",
      "Precision: 0.153\n",
      "Recall: 0.690\n",
      "F1 score: 0.251\n",
      "--------------\n",
      "Confusion Matrix:\n"
     ]
    },
    {
     "data": {
      "image/png": "[encoded data removed]",
      "text/plain": [
       "<Figure size 432x288 with 2 Axes>"
      ]
     },
     "metadata": {
      "needs_background": "light"
     },
     "output_type": "display_data"
    }
   ],
   "source": [
    "xgb_pipe5 = Pipeline(steps=[('prep', col_transform),\n",
    "                           ('xgb', xgb.XGBClassifier(scale_pos_weight=estimate,\n",
    "                                  max_depth = 5,\n",
    "                                  eta = 0.3,\n",
    "                                  nthread = 2,\n",
    "                                  colsample_bytree = 0.7))])\n",
    "\n",
    "xgb_pipe5.fit(X_2, y_2)\n",
    "\n",
    "evaluate_model(xgb_pipe5, X_2, y_2)"
   ]
  },
  {
   "cell_type": "code",
   "execution_count": 92,
   "metadata": {},
   "outputs": [
    {
     "name": "stdout",
     "output_type": "stream",
     "text": [
      "Model Scores:\n",
      "--------------\n",
      "Accuracy: 0.722\n",
      "Precision: 0.157\n",
      "Recall: 0.690\n",
      "F1 score: 0.256\n",
      "--------------\n",
      "Confusion Matrix:\n"
     ]
    },
    {
     "data": {
      "image/png": "[encoded data removed]",
      "text/plain": [
       "<Figure size 432x288 with 2 Axes>"
      ]
     },
     "metadata": {
      "needs_background": "light"
     },
     "output_type": "display_data"
    }
   ],
   "source": [
    "# Checking model on validation data\n",
    "evaluate_model(xgb_pipe5, X_valid, y_valid)"
   ]
  },
  {
   "cell_type": "markdown",
   "metadata": {},
   "source": [
    "The overfitting improved, and this is our best model so far! Increasing the sample size helped, though it now takes significantly longer to train.\n",
    "\n",
    "We'll try one more sample increase to see if performence keeps increasing. Because we're increasing the sample size, we'll also adjust the max_depth parameter to see if we can do it withotu introducing overfitting."
   ]
  },
  {
   "cell_type": "code",
   "execution_count": 93,
   "metadata": {},
   "outputs": [],
   "source": [
    "biggest_sample = carrier_data.sample(frac=0.2, axis=0, random_state=123)\n",
    "# Splitting features & target\n",
    "y_3 = biggest_sample[\"target\"]\n",
    "X_3 = biggest_sample[feature_cols]"
   ]
  },
  {
   "cell_type": "code",
   "execution_count": 98,
   "metadata": {},
   "outputs": [
    {
     "name": "stdout",
     "output_type": "stream",
     "text": [
      "Model Scores:\n",
      "--------------\n",
      "Accuracy: 0.811\n",
      "Precision: 0.237\n",
      "Recall: 0.807\n",
      "F1 score: 0.366\n",
      "--------------\n",
      "Confusion Matrix:\n"
     ]
    },
    {
     "data": {
      "image/png": "[encoded data removed]",
      "text/plain": [
       "<Figure size 432x288 with 2 Axes>"
      ]
     },
     "metadata": {
      "needs_background": "light"
     },
     "output_type": "display_data"
    }
   ],
   "source": [
    "xgb_pipe6 = Pipeline(steps=[('prep', col_transform),\n",
    "                           ('xgb', xgb.XGBClassifier(scale_pos_weight=estimate,\n",
    "                                  max_depth = 10,\n",
    "                                  eta = 0.3,\n",
    "                                  nthread = 2,\n",
    "                                  colsample_bytree = 0.7))])\n",
    "\n",
    "xgb_pipe6.fit(X_3, y_3)\n",
    "\n",
    "evaluate_model(xgb_pipe6, X_3, y_3)"
   ]
  },
  {
   "cell_type": "code",
   "execution_count": 99,
   "metadata": {},
   "outputs": [
    {
     "name": "stdout",
     "output_type": "stream",
     "text": [
      "Model Scores:\n",
      "--------------\n",
      "Accuracy: 0.812\n",
      "Precision: 0.242\n",
      "Recall: 0.811\n",
      "F1 score: 0.373\n",
      "--------------\n",
      "Confusion Matrix:\n"
     ]
    },
    {
     "data": {
      "image/png": "[encoded data removed]",
      "text/plain": [
       "<Figure size 432x288 with 2 Axes>"
      ]
     },
     "metadata": {
      "needs_background": "light"
     },
     "output_type": "display_data"
    }
   ],
   "source": [
    "# Checking model on validation data\n",
    "evaluate_model(xgb_pipe6, X_valid, y_valid)"
   ]
  },
  {
   "cell_type": "markdown",
   "metadata": {},
   "source": [
    "This is the best model performence we've seen so far, and there is no evidence of overfitting so this feels like a good stopping point.\n",
    "\n",
    "Given more time, it would be worth exploring expanding the data even more. But for now, we will evaluate this latest model on the test data we set aside in the beginning."
   ]
  },
  {
   "cell_type": "markdown",
   "metadata": {},
   "source": [
    "## Evaluating final model on test data"
   ]
  },
  {
   "cell_type": "code",
   "execution_count": 101,
   "metadata": {},
   "outputs": [
    {
     "name": "stdout",
     "output_type": "stream",
     "text": [
      "Model Scores:\n",
      "--------------\n",
      "Accuracy: 0.808\n",
      "Precision: 0.239\n",
      "Recall: 0.802\n",
      "F1 score: 0.369\n",
      "--------------\n",
      "Confusion Matrix:\n"
     ]
    },
    {
     "data": {
      "image/png": "[encoded data removed]",
      "text/plain": [
       "<Figure size 432x288 with 2 Axes>"
      ]
     },
     "metadata": {
      "needs_background": "light"
     },
     "output_type": "display_data"
    }
   ],
   "source": [
    "evaluate_model(xgb_pipe6, X_test, y_test)"
   ]
  },
  {
   "cell_type": "markdown",
   "metadata": {},
   "source": [
    "Great! The F1 score on our test data is close to what it was on our training and validation sets. We'll move forward and save out this model."
   ]
  },
  {
   "cell_type": "code",
   "execution_count": 102,
   "metadata": {},
   "outputs": [],
   "source": [
    "# Saving best performing model\n",
    "path = 'app/model.sav'\n",
    "pickle.dump(xgb_pipe, open(path, 'wb'))"
   ]
  },
  {
   "cell_type": "markdown",
   "metadata": {},
   "source": [
    "## Conclusions\n",
    "\n",
    "We've reached a stopping point for the modeling portion of this project.\n",
    "\n",
    "* We managed to build a model that achieved a 0.37 F1 score and 81% accuracy\n",
    "* Our model is a custom XGBoost Classifier which succesfully detects 80% of severe delays\n",
    "* The biggest gains in performence came from dealing with the severe class imbalance and increasing the sample size of the training data\n",
    "* We'll next work to productionize this model using Flask and Dash and deploy it to a remote server"
   ]
  },
  {
   "cell_type": "code",
   "execution_count": null,
   "metadata": {},
   "outputs": [],
   "source": []
  }
 ],
 "metadata": {
  "kernelspec": {
   "display_name": "Python (learn-env)",
   "language": "python",
   "name": "learn-env"
  },
  "language_info": {
   "codemirror_mode": {
    "name": "ipython",
    "version": 3
   },
   "file_extension": ".py",
   "mimetype": "text/x-python",
   "name": "python",
   "nbconvert_exporter": "python",
   "pygments_lexer": "ipython3",
   "version": "3.8.5"
  }
 },
 "nbformat": 4,
 "nbformat_minor": 4
}
