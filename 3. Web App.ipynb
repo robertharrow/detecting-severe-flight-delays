{
 "cells": [
  {
   "cell_type": "markdown",
   "metadata": {},
   "source": [
    "# Flight Delays: Web App"
   ]
  },
  {
   "cell_type": "markdown",
   "metadata": {},
   "source": [
    "Here we will prepare data for vizualizations in the web app. Because we have over 14,000 records it will be useful to prep and save some of the data into a smaller size by stripping it down to the bare essentials we're trying to vizualize."
   ]
  },
  {
   "cell_type": "code",
   "execution_count": 1,
   "metadata": {},
   "outputs": [],
   "source": [
    "import pandas as pd\n",
    "import glob\n",
    "import os\n",
    "import requests\n",
    "import json\n",
    "import numpy as np\n",
    "import random\n",
    "import matplotlib.pyplot as plt\n",
    "%matplotlib inline\n",
    "import plotly.express as px\n",
    "import sqlite3 as db\n",
    "import datetime\n",
    "from pytz import timezone\n",
    "import pytz\n",
    "\n",
    "from datetime import datetime, timedelta\n",
    "\n",
    "pd.set_option('display.max_columns', None)\n",
    "\n",
    "import warnings\n",
    "warnings.filterwarnings(action='ignore', category=FutureWarning)\n",
    "\n",
    "import pandas as pd\n",
    "import glob\n",
    "import os\n",
    "import requests\n",
    "import json\n",
    "import numpy as np\n",
    "from sklearn.compose import ColumnTransformer\n",
    "from sklearn.pipeline import Pipeline\n",
    "from sklearn.dummy import DummyClassifier\n",
    "from sklearn.pipeline import FeatureUnion\n",
    "from sklearn.dummy import DummyClassifier\n",
    "from sklearn.linear_model import LogisticRegression\n",
    "from sklearn.tree import DecisionTreeClassifier\n",
    "from sklearn.ensemble import RandomForestClassifier\n",
    "from xgboost import XGBClassifier\n",
    "from sklearn.pipeline import Pipeline\n",
    "from sklearn.metrics import accuracy_score, precision_score, recall_score, confusion_matrix,\\\n",
    "precision_recall_fscore_support, f1_score, plot_confusion_matrix\n",
    "from sklearn.model_selection import train_test_split, GridSearchCV,\\\n",
    "cross_validate, cross_val_predict, cross_val_score\n",
    "from sklearn.preprocessing import StandardScaler, OneHotEncoder, FunctionTransformer\n",
    "from sklearn.preprocessing import LabelBinarizer\n",
    "from sklearn.model_selection import train_test_split\n",
    "from sklearn.preprocessing import PolynomialFeatures\n",
    "import random\n",
    "import matplotlib.pyplot as plt\n",
    "%matplotlib inline\n",
    "\n",
    "import seaborn as sns\n",
    "import xgboost as xgb\n",
    "\n",
    "from sklearn.metrics import confusion_matrix, accuracy_score, precision_score, recall_score, f1_score, ConfusionMatrixDisplay\n",
    "\n",
    "from keras import regularizers\n",
    "from keras import models\n",
    "from keras import layers\n",
    "import lightgbm\n",
    "from lightgbm import LGBMClassifier\n",
    "from sklearn.ensemble import RandomForestClassifier\n",
    "\n",
    "from sklearn.utils import class_weight\n",
    "from sklearn.utils.class_weight import compute_class_weight\n",
    "from sklearn.utils.class_weight import compute_sample_weight\n",
    "\n",
    "import keras\n",
    "from keras.models import Sequential\n",
    "from keras.layers import Dense\n",
    "\n",
    "import warnings\n",
    "warnings.filterwarnings(action='ignore', category=FutureWarning)\n",
    "from scipy import stats\n",
    "import pickle"
   ]
  },
  {
   "cell_type": "markdown",
   "metadata": {},
   "source": [
    "### Business Goals\n",
    "\n",
    "Here we want to achieve the following:\n",
    "\n",
    "1. Prepare data for vizualizations by date\n",
    "2. Prepare data for vizualizations by airline"
   ]
  },
  {
   "cell_type": "markdown",
   "metadata": {},
   "source": [
    "## Importing the Data\n",
    "Like before, we bring the cleaned data in."
   ]
  },
  {
   "cell_type": "code",
   "execution_count": 2,
   "metadata": {},
   "outputs": [
    {
     "name": "stderr",
     "output_type": "stream",
     "text": [
      "C:\\Users\\Robert\\anaconda3\\envs\\learn-env\\lib\\site-packages\\IPython\\core\\interactiveshell.py:3145: DtypeWarning: Columns (54) have mixed types.Specify dtype option on import or set low_memory=False.\n",
      "  has_raised = await self.run_ast_nodes(code_ast.body, cell_name,\n"
     ]
    }
   ],
   "source": [
    "df = pd.read_csv('data/prepared/cleaned_data.csv')"
   ]
  },
  {
   "cell_type": "markdown",
   "metadata": {},
   "source": [
    "## Creating a flight lookup database"
   ]
  },
  {
   "cell_type": "code",
   "execution_count": 3,
   "metadata": {},
   "outputs": [],
   "source": [
    "# Some flights happen multiple times per day, so we create a key to group flights by their excact # and departure time\n",
    "df['exact-flight'] = df['CRS_DEP_TIME'].astype(str) + df['flight-number']"
   ]
  },
  {
   "cell_type": "code",
   "execution_count": 4,
   "metadata": {},
   "outputs": [],
   "source": [
    "unique_flight_records = df.drop_duplicates(subset=['exact-flight'])"
   ]
  },
  {
   "cell_type": "code",
   "execution_count": 5,
   "metadata": {},
   "outputs": [
    {
     "name": "stderr",
     "output_type": "stream",
     "text": [
      "C:\\Users\\Robert\\anaconda3\\envs\\learn-env\\lib\\site-packages\\pandas\\core\\frame.py:4163: SettingWithCopyWarning: \n",
      "A value is trying to be set on a copy of a slice from a DataFrame\n",
      "\n",
      "See the caveats in the documentation: https://pandas.pydata.org/pandas-docs/stable/user_guide/indexing.html#returning-a-view-versus-a-copy\n",
      "  return super().drop(\n"
     ]
    }
   ],
   "source": [
    "cols_to_drop = ['YEAR',\n",
    "'MONTH',\n",
    "'DAY_OF_MONTH',\n",
    "'DAY_OF_WEEK',\n",
    "'TAIL_NUM',\n",
    "'DEP_DELAY',\n",
    "'DEP_DELAY_NEW',\n",
    "'ARR_DELAY_NEW',\n",
    "'FL_DATE_LOCAL',\n",
    "'FL_ARR_DATE_LOCAL',\n",
    "'ARR_DAY_OF_WEEK',\n",
    "'takeoff-congestion-key',\n",
    "'arrival-congestion-key',\n",
    "'congestion-key',\n",
    "'avg-takeoff-congestion',\n",
    "'avg-arrival-congestion',\n",
    "'dest-congestion-key',\n",
    "'dest-avg-takeoff-congestion',\n",
    "'dest-avg-arrival-congestion',\n",
    "'weather-key',\n",
    "'dest-weather-key',\n",
    "'lat-long',\n",
    "'maxtemp',\n",
    "'mintemp',\n",
    "'avgtemp',\n",
    "'totalprecip',\n",
    "'avgvis',\n",
    "'maxwind',\n",
    "'avghumidity',\n",
    "'dest-maxtemp',\n",
    "'dest-mintemp',\n",
    "'dest-avgtemp',\n",
    "'dest-totalprecip',\n",
    "'dest-avgvis',\n",
    "'dest-maxwind',\n",
    "'dest-avghumidity',\n",
    "'days-from-specific-holiday']\n",
    "\n",
    "unique_flight_records.drop(columns=cols_to_drop, inplace=True)"
   ]
  },
  {
   "cell_type": "code",
   "execution_count": 6,
   "metadata": {},
   "outputs": [],
   "source": [
    "unique_flight_records.to_csv('data/prepared/unique_flight_number_data.csv', index=False)"
   ]
  },
  {
   "cell_type": "code",
   "execution_count": 2,
   "metadata": {},
   "outputs": [],
   "source": [
    "df = pd.read_csv('data/prepared/data_for_graphing.csv')"
   ]
  },
  {
   "cell_type": "code",
   "execution_count": 3,
   "metadata": {},
   "outputs": [],
   "source": [
    "relevant_airports = ['ATL', 'DFW', 'DEN', 'ORD', 'LAX', 'CLT', 'LAS', 'PHX', \n",
    "                     'MCO', 'SEA', 'MIA', 'IAH', 'JFK', 'FLL', 'EWR', 'SFO', 'MSP', 'DTW',\n",
    "                     'BOS', 'SLC', 'PHL', 'BWI', 'TPA', 'SAN', 'MDW', 'LGA', 'BNA', 'IAD',\n",
    "                     'DAL', 'DCA', 'PDX', 'AUS', 'HOU', 'HNL', 'STL', 'RSW', 'SMF', 'MSY',\n",
    "                     'SJU', 'RDU', 'OAK', 'MCI', 'CLE', 'IND', 'SAT', 'SNA', 'PIT', 'CVG',\n",
    "                     'CMH', 'PBI', 'JAX', 'MKE', 'ONT', 'ANC', 'BDL', 'OGG', 'OMA', 'MEM',\n",
    "                     'BOI', 'RNO', 'CHS', 'OKC']\n",
    "\n",
    "airport_filter = '|'.join(relevant_airports)\n",
    "\n",
    "df = df[df['ORIGIN'].str.contains(airport_filter)]"
   ]
  },
  {
   "cell_type": "markdown",
   "metadata": {},
   "source": [
    "## Grouping Data by Day\n",
    "\n",
    "To group by day, we'll need to create a datetime field to group by first."
   ]
  },
  {
   "cell_type": "code",
   "execution_count": 4,
   "metadata": {},
   "outputs": [],
   "source": [
    "df['severe_delay'] = df['ARR_DELAY_NEW'] > 60\n",
    "df['severe_delay'] = df['severe_delay'].map({True: 'Severe Delays', False: 'No Severe Delays'})"
   ]
  },
  {
   "cell_type": "markdown",
   "metadata": {},
   "source": [
    "Next, we want to rename those airlines to something more user-friendly."
   ]
  },
  {
   "cell_type": "code",
   "execution_count": 5,
   "metadata": {},
   "outputs": [],
   "source": [
    "df['FL_DATE_LOCAL_ROUNDED'] = pd.to_datetime(df['FL_DATE_LOCAL_ROUNDED'])\n",
    "df['rounded-hour'] = df['FL_DATE_LOCAL_ROUNDED'].dt.hour.astype(str).str.zfill(2)"
   ]
  },
  {
   "cell_type": "code",
   "execution_count": 6,
   "metadata": {},
   "outputs": [],
   "source": [
    "df['FL_DATE_LOCAL'] = pd.to_datetime(df['FL_DATE_LOCAL'])\n",
    "df['FL_DATE_LOCAL'] = df['FL_DATE_LOCAL'].dt.date"
   ]
  },
  {
   "cell_type": "code",
   "execution_count": 7,
   "metadata": {},
   "outputs": [],
   "source": [
    "grouped_data = df.groupby(['FL_DATE_LOCAL', 'rounded-hour', 'ORIGIN', 'holiday', 'severe_delay'], as_index=False).size()"
   ]
  },
  {
   "cell_type": "markdown",
   "metadata": {},
   "source": [
    "Let's preview our data"
   ]
  },
  {
   "cell_type": "code",
   "execution_count": 26,
   "metadata": {},
   "outputs": [
    {
     "data": {
      "text/html": [
       "<div>\n",
       "<style scoped>\n",
       "    .dataframe tbody tr th:only-of-type {\n",
       "        vertical-align: middle;\n",
       "    }\n",
       "\n",
       "    .dataframe tbody tr th {\n",
       "        vertical-align: top;\n",
       "    }\n",
       "\n",
       "    .dataframe thead th {\n",
       "        text-align: right;\n",
       "    }\n",
       "</style>\n",
       "<table border=\"1\" class=\"dataframe\">\n",
       "  <thead>\n",
       "    <tr style=\"text-align: right;\">\n",
       "      <th></th>\n",
       "      <th>FL_DATE_LOCAL</th>\n",
       "      <th>rounded-hour</th>\n",
       "      <th>ORIGIN</th>\n",
       "      <th>severe_delay</th>\n",
       "      <th>size</th>\n",
       "    </tr>\n",
       "  </thead>\n",
       "  <tbody>\n",
       "    <tr>\n",
       "      <th>0</th>\n",
       "      <td>2021-06-01</td>\n",
       "      <td>00</td>\n",
       "      <td>ANC</td>\n",
       "      <td>No Severe Delays</td>\n",
       "      <td>2</td>\n",
       "    </tr>\n",
       "    <tr>\n",
       "      <th>1</th>\n",
       "      <td>2021-06-01</td>\n",
       "      <td>00</td>\n",
       "      <td>DEN</td>\n",
       "      <td>No Severe Delays</td>\n",
       "      <td>1</td>\n",
       "    </tr>\n",
       "    <tr>\n",
       "      <th>2</th>\n",
       "      <td>2021-06-01</td>\n",
       "      <td>00</td>\n",
       "      <td>FLL</td>\n",
       "      <td>No Severe Delays</td>\n",
       "      <td>1</td>\n",
       "    </tr>\n",
       "    <tr>\n",
       "      <th>3</th>\n",
       "      <td>2021-06-01</td>\n",
       "      <td>00</td>\n",
       "      <td>LAS</td>\n",
       "      <td>No Severe Delays</td>\n",
       "      <td>13</td>\n",
       "    </tr>\n",
       "    <tr>\n",
       "      <th>4</th>\n",
       "      <td>2021-06-01</td>\n",
       "      <td>00</td>\n",
       "      <td>LAX</td>\n",
       "      <td>No Severe Delays</td>\n",
       "      <td>10</td>\n",
       "    </tr>\n",
       "  </tbody>\n",
       "</table>\n",
       "</div>"
      ],
      "text/plain": [
       "  FL_DATE_LOCAL rounded-hour ORIGIN      severe_delay  size\n",
       "0    2021-06-01           00    ANC  No Severe Delays     2\n",
       "1    2021-06-01           00    DEN  No Severe Delays     1\n",
       "2    2021-06-01           00    FLL  No Severe Delays     1\n",
       "3    2021-06-01           00    LAS  No Severe Delays    13\n",
       "4    2021-06-01           00    LAX  No Severe Delays    10"
      ]
     },
     "execution_count": 26,
     "metadata": {},
     "output_type": "execute_result"
    }
   ],
   "source": [
    "grouped_data.head()"
   ]
  },
  {
   "cell_type": "markdown",
   "metadata": {},
   "source": [
    "We'll want the user to be able to graph data on 4 levels:\n",
    "1. All delays\n",
    "2. Delays by airport\n",
    "3. Delays by airline\n",
    "4. Delays by airline & airport\n",
    "\n",
    "So we work to pivot our data and save out files for these 4 levels."
   ]
  },
  {
   "cell_type": "code",
   "execution_count": 30,
   "metadata": {},
   "outputs": [],
   "source": [
    "# Delays by airport\n",
    "df_by_airport = pd.pivot_table(grouped_data, values='size', index=['FL_DATE_LOCAL', 'ORIGIN'],\n",
    "                    columns=['severe_delay'], aggfunc=np.sum, fill_value=0)\n",
    "df_by_airport = df_by_airport.reset_index()\n",
    "df_by_airport['percent-delayed'] = df_by_airport['Severe Delays'] / (df_by_airport['No Severe Delays'] + df_by_airport['Severe Delays'])\n",
    "\n",
    "# Delays by hour\n",
    "df_by_hour = pd.pivot_table(grouped_data, values='size', index=['rounded-hour', 'ORIGIN'],\n",
    "                    columns=['severe_delay'], aggfunc=np.sum, fill_value=0)\n",
    "df_by_hour = df_by_hour.reset_index()\n",
    "df_by_hour['percent-delayed'] = df_by_hour['Severe Delays'] / (df_by_hour['No Severe Delays'] + df_by_hour['Severe Delays'])\n",
    "df_by_hour['rounded-hour'] = pd.to_numeric(df_by_hour['rounded-hour'])\n",
    "\n",
    "# Delays by holiday\n",
    "df_by_holiday = pd.pivot_table(grouped_data, values='size', index=['holiday', 'ORIGIN'],\n",
    "                    columns=['severe_delay'], aggfunc=np.sum, fill_value=0)\n",
    "df_by_holiday = df_by_holiday.reset_index()\n",
    "df_by_holiday['percent-delayed'] = df_by_holiday['Severe Delays'] / (df_by_holiday['No Severe Delays'] + df_by_holiday['Severe Delays'])"
   ]
  },
  {
   "cell_type": "markdown",
   "metadata": {},
   "source": [
    "Now let's save these out to files."
   ]
  },
  {
   "cell_type": "code",
   "execution_count": 43,
   "metadata": {},
   "outputs": [],
   "source": [
    "df_by_airport.to_csv('data/prepared/delays-by-airport.csv', index=False)\n",
    "df_by_hour.to_csv('data/prepared/delays-by-hour.csv', index=False)\n",
    "df_by_holiday.to_csv('data/prepared/delays-by-holiday.csv', index=False)"
   ]
  },
  {
   "cell_type": "markdown",
   "metadata": {},
   "source": [
    "Next, we may want to see how a graph might look like in our web app that simply plots severe delays at all airports and for all airlines."
   ]
  },
  {
   "cell_type": "markdown",
   "metadata": {},
   "source": [
    "Now let's look at delays at a specific airport."
   ]
  },
  {
   "cell_type": "code",
   "execution_count": 21,
   "metadata": {},
   "outputs": [
    {
     "data": {
      "application/vnd.plotly.v1+json": {
       "config": {
        "plotlyServerURL": "https://plot.ly"
       },
       "data": [
        {
         "hovertemplate": "Date=%{x}<br>Severe Delays=%{y}<extra></extra>",
         "legendgroup": "",
         "line": {
          "color": "#636efa",
          "dash": "solid"
         },
         "mode": "lines",
         "name": "",
         "orientation": "v",
         "showlegend": false,
         "type": "scatter",
         "x": [
          "2021-06-01T00:00:00",
          "2021-06-02T00:00:00",
          "2021-06-03T00:00:00",
          "2021-06-04T00:00:00",
          "2021-06-05T00:00:00",
          "2021-06-06T00:00:00",
          "2021-06-07T00:00:00",
          "2021-06-08T00:00:00",
          "2021-06-09T00:00:00",
          "2021-06-10T00:00:00",
          "2021-06-11T00:00:00",
          "2021-06-12T00:00:00",
          "2021-06-13T00:00:00",
          "2021-06-14T00:00:00",
          "2021-06-15T00:00:00",
          "2021-06-16T00:00:00",
          "2021-06-17T00:00:00",
          "2021-06-18T00:00:00",
          "2021-06-19T00:00:00",
          "2021-06-20T00:00:00",
          "2021-06-21T00:00:00",
          "2021-06-22T00:00:00",
          "2021-06-23T00:00:00",
          "2021-06-24T00:00:00",
          "2021-06-25T00:00:00",
          "2021-06-26T00:00:00",
          "2021-06-27T00:00:00",
          "2021-06-28T00:00:00",
          "2021-06-29T00:00:00",
          "2021-06-30T00:00:00",
          "2021-07-01T00:00:00",
          "2021-07-02T00:00:00",
          "2021-07-03T00:00:00",
          "2021-07-04T00:00:00",
          "2021-07-05T00:00:00",
          "2021-07-06T00:00:00",
          "2021-07-07T00:00:00",
          "2021-07-08T00:00:00",
          "2021-07-09T00:00:00",
          "2021-07-10T00:00:00",
          "2021-07-11T00:00:00",
          "2021-07-12T00:00:00",
          "2021-07-13T00:00:00",
          "2021-07-14T00:00:00",
          "2021-07-15T00:00:00",
          "2021-07-16T00:00:00",
          "2021-07-17T00:00:00",
          "2021-07-18T00:00:00",
          "2021-07-19T00:00:00",
          "2021-07-20T00:00:00",
          "2021-07-21T00:00:00",
          "2021-07-22T00:00:00",
          "2021-07-23T00:00:00",
          "2021-07-24T00:00:00",
          "2021-07-25T00:00:00",
          "2021-07-26T00:00:00",
          "2021-07-27T00:00:00",
          "2021-07-28T00:00:00",
          "2021-07-29T00:00:00",
          "2021-07-30T00:00:00",
          "2021-07-31T00:00:00",
          "2021-08-01T00:00:00",
          "2021-08-02T00:00:00",
          "2021-08-03T00:00:00",
          "2021-08-04T00:00:00",
          "2021-08-05T00:00:00",
          "2021-08-06T00:00:00",
          "2021-08-07T00:00:00",
          "2021-08-08T00:00:00",
          "2021-08-09T00:00:00",
          "2021-08-10T00:00:00",
          "2021-08-11T00:00:00",
          "2021-08-12T00:00:00",
          "2021-08-13T00:00:00",
          "2021-08-14T00:00:00",
          "2021-08-15T00:00:00",
          "2021-08-16T00:00:00",
          "2021-08-17T00:00:00",
          "2021-08-18T00:00:00",
          "2021-08-19T00:00:00",
          "2021-08-20T00:00:00",
          "2021-08-21T00:00:00",
          "2021-08-22T00:00:00",
          "2021-08-23T00:00:00",
          "2021-08-24T00:00:00",
          "2021-08-25T00:00:00",
          "2021-08-26T00:00:00",
          "2021-08-27T00:00:00",
          "2021-08-28T00:00:00",
          "2021-08-29T00:00:00",
          "2021-08-30T00:00:00",
          "2021-08-31T00:00:00",
          "2021-09-01T00:00:00",
          "2021-09-02T00:00:00",
          "2021-09-03T00:00:00",
          "2021-09-04T00:00:00",
          "2021-09-05T00:00:00",
          "2021-09-06T00:00:00",
          "2021-09-07T00:00:00",
          "2021-09-08T00:00:00",
          "2021-09-09T00:00:00",
          "2021-09-10T00:00:00",
          "2021-09-11T00:00:00",
          "2021-09-12T00:00:00",
          "2021-09-13T00:00:00",
          "2021-09-14T00:00:00",
          "2021-09-15T00:00:00",
          "2021-09-16T00:00:00",
          "2021-09-17T00:00:00",
          "2021-09-18T00:00:00",
          "2021-09-19T00:00:00",
          "2021-09-20T00:00:00",
          "2021-09-21T00:00:00",
          "2021-09-22T00:00:00",
          "2021-09-23T00:00:00",
          "2021-09-24T00:00:00",
          "2021-09-25T00:00:00",
          "2021-09-26T00:00:00",
          "2021-09-27T00:00:00",
          "2021-09-28T00:00:00",
          "2021-09-29T00:00:00",
          "2021-09-30T00:00:00",
          "2021-10-01T00:00:00",
          "2021-10-02T00:00:00",
          "2021-10-03T00:00:00",
          "2021-10-04T00:00:00",
          "2021-10-05T00:00:00",
          "2021-10-06T00:00:00",
          "2021-10-07T00:00:00",
          "2021-10-08T00:00:00",
          "2021-10-09T00:00:00",
          "2021-10-10T00:00:00",
          "2021-10-11T00:00:00",
          "2021-10-12T00:00:00",
          "2021-10-13T00:00:00",
          "2021-10-14T00:00:00",
          "2021-10-15T00:00:00",
          "2021-10-16T00:00:00",
          "2021-10-17T00:00:00",
          "2021-10-18T00:00:00",
          "2021-10-19T00:00:00",
          "2021-10-20T00:00:00",
          "2021-10-21T00:00:00",
          "2021-10-22T00:00:00",
          "2021-10-23T00:00:00",
          "2021-10-24T00:00:00",
          "2021-10-25T00:00:00",
          "2021-10-26T00:00:00",
          "2021-10-27T00:00:00",
          "2021-10-28T00:00:00",
          "2021-10-29T00:00:00",
          "2021-10-30T00:00:00",
          "2021-10-31T00:00:00",
          "2021-11-01T00:00:00",
          "2021-11-02T00:00:00",
          "2021-11-03T00:00:00",
          "2021-11-04T00:00:00",
          "2021-11-05T00:00:00",
          "2021-11-06T00:00:00",
          "2021-11-07T00:00:00",
          "2021-11-08T00:00:00",
          "2021-11-09T00:00:00",
          "2021-11-10T00:00:00",
          "2021-11-11T00:00:00",
          "2021-11-12T00:00:00",
          "2021-11-13T00:00:00",
          "2021-11-14T00:00:00",
          "2021-11-15T00:00:00",
          "2021-11-16T00:00:00",
          "2021-11-17T00:00:00",
          "2021-11-18T00:00:00",
          "2021-11-19T00:00:00",
          "2021-11-20T00:00:00",
          "2021-11-21T00:00:00",
          "2021-11-22T00:00:00",
          "2021-11-23T00:00:00",
          "2021-11-24T00:00:00",
          "2021-11-25T00:00:00",
          "2021-11-26T00:00:00",
          "2021-11-27T00:00:00",
          "2021-11-28T00:00:00",
          "2021-11-29T00:00:00",
          "2021-11-30T00:00:00",
          "2021-12-01T00:00:00",
          "2021-12-02T00:00:00",
          "2021-12-03T00:00:00",
          "2021-12-04T00:00:00",
          "2021-12-05T00:00:00",
          "2021-12-06T00:00:00",
          "2021-12-07T00:00:00",
          "2021-12-08T00:00:00",
          "2021-12-09T00:00:00",
          "2021-12-10T00:00:00",
          "2021-12-11T00:00:00",
          "2021-12-12T00:00:00",
          "2021-12-13T00:00:00",
          "2021-12-14T00:00:00",
          "2021-12-15T00:00:00",
          "2021-12-16T00:00:00",
          "2021-12-17T00:00:00",
          "2021-12-18T00:00:00",
          "2021-12-19T00:00:00",
          "2021-12-20T00:00:00",
          "2021-12-21T00:00:00",
          "2021-12-22T00:00:00",
          "2021-12-23T00:00:00",
          "2021-12-24T00:00:00",
          "2021-12-25T00:00:00",
          "2021-12-26T00:00:00",
          "2021-12-27T00:00:00",
          "2021-12-28T00:00:00",
          "2021-12-29T00:00:00",
          "2021-12-30T00:00:00",
          "2021-12-31T00:00:00",
          "2022-01-01T00:00:00",
          "2022-01-02T00:00:00",
          "2022-01-03T00:00:00",
          "2022-01-04T00:00:00",
          "2022-01-05T00:00:00",
          "2022-01-06T00:00:00",
          "2022-01-07T00:00:00",
          "2022-01-08T00:00:00",
          "2022-01-09T00:00:00",
          "2022-01-10T00:00:00",
          "2022-01-11T00:00:00",
          "2022-01-12T00:00:00",
          "2022-01-13T00:00:00",
          "2022-01-14T00:00:00",
          "2022-01-15T00:00:00",
          "2022-01-16T00:00:00",
          "2022-01-17T00:00:00",
          "2022-01-18T00:00:00",
          "2022-01-19T00:00:00",
          "2022-01-20T00:00:00",
          "2022-01-21T00:00:00",
          "2022-01-22T00:00:00",
          "2022-01-23T00:00:00",
          "2022-01-24T00:00:00",
          "2022-01-25T00:00:00",
          "2022-01-26T00:00:00",
          "2022-01-27T00:00:00",
          "2022-01-28T00:00:00",
          "2022-01-29T00:00:00",
          "2022-01-30T00:00:00",
          "2022-01-31T00:00:00",
          "2022-02-01T00:00:00",
          "2022-02-02T00:00:00",
          "2022-02-03T00:00:00",
          "2022-02-04T00:00:00",
          "2022-02-05T00:00:00",
          "2022-02-06T00:00:00",
          "2022-02-07T00:00:00",
          "2022-02-08T00:00:00",
          "2022-02-09T00:00:00",
          "2022-02-10T00:00:00",
          "2022-02-11T00:00:00",
          "2022-02-12T00:00:00",
          "2022-02-13T00:00:00",
          "2022-02-14T00:00:00",
          "2022-02-15T00:00:00",
          "2022-02-16T00:00:00",
          "2022-02-17T00:00:00",
          "2022-02-18T00:00:00",
          "2022-02-19T00:00:00",
          "2022-02-20T00:00:00",
          "2022-02-21T00:00:00",
          "2022-02-22T00:00:00",
          "2022-02-23T00:00:00",
          "2022-02-24T00:00:00",
          "2022-02-25T00:00:00",
          "2022-02-26T00:00:00",
          "2022-02-27T00:00:00",
          "2022-02-28T00:00:00",
          "2022-03-01T00:00:00",
          "2022-03-02T00:00:00",
          "2022-03-03T00:00:00",
          "2022-03-04T00:00:00",
          "2022-03-05T00:00:00",
          "2022-03-06T00:00:00",
          "2022-03-07T00:00:00",
          "2022-03-08T00:00:00",
          "2022-03-09T00:00:00",
          "2022-03-10T00:00:00",
          "2022-03-11T00:00:00",
          "2022-03-12T00:00:00",
          "2022-03-13T00:00:00",
          "2022-03-14T00:00:00",
          "2022-03-15T00:00:00",
          "2022-03-16T00:00:00",
          "2022-03-17T00:00:00",
          "2022-03-18T00:00:00",
          "2022-03-19T00:00:00",
          "2022-03-20T00:00:00",
          "2022-03-21T00:00:00",
          "2022-03-22T00:00:00",
          "2022-03-23T00:00:00",
          "2022-03-24T00:00:00",
          "2022-03-25T00:00:00",
          "2022-03-26T00:00:00",
          "2022-03-27T00:00:00",
          "2022-03-28T00:00:00",
          "2022-03-29T00:00:00",
          "2022-03-30T00:00:00",
          "2022-03-31T00:00:00",
          "2022-04-01T00:00:00",
          "2022-04-02T00:00:00",
          "2022-04-03T00:00:00",
          "2022-04-04T00:00:00",
          "2022-04-05T00:00:00",
          "2022-04-06T00:00:00",
          "2022-04-07T00:00:00",
          "2022-04-08T00:00:00",
          "2022-04-09T00:00:00",
          "2022-04-10T00:00:00",
          "2022-04-11T00:00:00",
          "2022-04-12T00:00:00",
          "2022-04-13T00:00:00",
          "2022-04-14T00:00:00",
          "2022-04-15T00:00:00",
          "2022-04-16T00:00:00",
          "2022-04-17T00:00:00",
          "2022-04-18T00:00:00",
          "2022-04-19T00:00:00",
          "2022-04-20T00:00:00",
          "2022-04-21T00:00:00",
          "2022-04-22T00:00:00",
          "2022-04-23T00:00:00",
          "2022-04-24T00:00:00",
          "2022-04-25T00:00:00",
          "2022-04-26T00:00:00",
          "2022-04-27T00:00:00",
          "2022-04-28T00:00:00",
          "2022-04-29T00:00:00",
          "2022-04-30T00:00:00",
          "2022-05-01T00:00:00",
          "2022-05-02T00:00:00",
          "2022-05-03T00:00:00",
          "2022-05-04T00:00:00",
          "2022-05-05T00:00:00",
          "2022-05-06T00:00:00",
          "2022-05-07T00:00:00",
          "2022-05-08T00:00:00",
          "2022-05-09T00:00:00",
          "2022-05-10T00:00:00",
          "2022-05-11T00:00:00",
          "2022-05-12T00:00:00",
          "2022-05-13T00:00:00",
          "2022-05-14T00:00:00",
          "2022-05-15T00:00:00",
          "2022-05-16T00:00:00",
          "2022-05-17T00:00:00",
          "2022-05-18T00:00:00",
          "2022-05-19T00:00:00",
          "2022-05-20T00:00:00",
          "2022-05-21T00:00:00",
          "2022-05-22T00:00:00",
          "2022-05-23T00:00:00",
          "2022-05-24T00:00:00",
          "2022-05-25T00:00:00",
          "2022-05-26T00:00:00",
          "2022-05-27T00:00:00",
          "2022-05-28T00:00:00",
          "2022-05-29T00:00:00",
          "2022-05-30T00:00:00",
          "2022-05-31T00:00:00",
          "2022-06-01T00:00:00",
          "2022-06-02T00:00:00",
          "2022-06-03T00:00:00",
          "2022-06-04T00:00:00",
          "2022-06-05T00:00:00",
          "2022-06-06T00:00:00",
          "2022-06-07T00:00:00",
          "2022-06-08T00:00:00",
          "2022-06-09T00:00:00",
          "2022-06-10T00:00:00",
          "2022-06-11T00:00:00",
          "2022-06-12T00:00:00",
          "2022-06-13T00:00:00",
          "2022-06-14T00:00:00",
          "2022-06-15T00:00:00",
          "2022-06-16T00:00:00",
          "2022-06-17T00:00:00",
          "2022-06-18T00:00:00",
          "2022-06-19T00:00:00",
          "2022-06-20T00:00:00",
          "2022-06-21T00:00:00",
          "2022-06-22T00:00:00",
          "2022-06-23T00:00:00",
          "2022-06-24T00:00:00",
          "2022-06-25T00:00:00",
          "2022-06-26T00:00:00",
          "2022-06-27T00:00:00",
          "2022-06-28T00:00:00",
          "2022-06-29T00:00:00",
          "2022-06-30T00:00:00"
         ],
         "xaxis": "x",
         "y": [
          0.02857142857142857,
          0.006993006993006993,
          0.07017543859649122,
          0.15028901734104047,
          0.07586206896551724,
          0.06470588235294118,
          0.07272727272727272,
          0.1,
          0.1619718309859155,
          0.17297297297297298,
          0.14594594594594595,
          0.03592814371257485,
          0.06451612903225806,
          0.08108108108108109,
          0.08284023668639054,
          0.011976047904191617,
          0.0582010582010582,
          0.04712041884816754,
          0.10778443113772455,
          0.10270270270270271,
          0.17647058823529413,
          0.08333333333333333,
          0.06470588235294118,
          0.015873015873015872,
          0.05235602094240838,
          0.10179640718562874,
          0.12698412698412698,
          0.11290322580645161,
          0.07692307692307693,
          0.15976331360946747,
          0.24598930481283424,
          0.20212765957446807,
          0.3581081081081081,
          0.10828025477707007,
          0.16666666666666666,
          0.21518987341772153,
          0.19428571428571428,
          0.3967391304347826,
          0.24210526315789474,
          0.18292682926829268,
          0.13157894736842105,
          0.21787709497206703,
          0.12921348314606743,
          0.0898876404494382,
          0.09375,
          0.14507772020725387,
          0.3058823529411765,
          0.20105820105820105,
          0.15789473684210525,
          0.13559322033898305,
          0.2658959537572254,
          0.08064516129032258,
          0.07253886010362694,
          0.041176470588235294,
          0.14736842105263157,
          0.09424083769633508,
          0.03954802259887006,
          0.09659090909090909,
          0.13227513227513227,
          0.10309278350515463,
          0.059880239520958084,
          0.10810810810810811,
          0.10752688172043011,
          0.11363636363636363,
          0.04597701149425287,
          0.061855670103092786,
          0.09424083769633508,
          0.11801242236024845,
          0.15508021390374332,
          0.09042553191489362,
          0.11299435028248588,
          0.06741573033707865,
          0.15544041450777202,
          0.15789473684210525,
          0.07738095238095238,
          0.07853403141361257,
          0.07368421052631578,
          0.05747126436781609,
          0.11797752808988764,
          0.05102040816326531,
          0.09844559585492228,
          0.16167664670658682,
          0.13333333333333333,
          0.16753926701570682,
          0.05084745762711865,
          0.055865921787709494,
          0.05612244897959184,
          0.2422680412371134,
          0.07142857142857142,
          0.057291666666666664,
          0.09523809523809523,
          0.03409090909090909,
          0.1144578313253012,
          0.26256983240223464,
          0.06735751295336788,
          0.03164556962025317,
          0.011904761904761904,
          0.07567567567567568,
          0.028901734104046242,
          0.06790123456790123,
          0.13756613756613756,
          0.03664921465968586,
          0.05128205128205128,
          0.05235602094240838,
          0.031088082901554404,
          0.03125,
          0.054878048780487805,
          0.026595744680851064,
          0.046875,
          0.04487179487179487,
          0.015706806282722512,
          0.020833333333333332,
          0.012195121951219513,
          0.011976047904191617,
          0.33540372670807456,
          0.30939226519337015,
          0.09868421052631579,
          0.06806282722513089,
          0.052083333333333336,
          0.018292682926829267,
          0.017964071856287425,
          0.031413612565445025,
          0.015306122448979591,
          0.031446540880503145,
          0.031413612565445025,
          0.02617801047120419,
          0.023809523809523808,
          0.005917159763313609,
          0.005291005291005291,
          0.13541666666666666,
          0.10625,
          0.07936507936507936,
          0.04568527918781726,
          0.028089887640449437,
          0.016666666666666666,
          0.031413612565445025,
          0.030927835051546393,
          0.10179640718562874,
          0.020942408376963352,
          0.005128205128205128,
          0.0056179775280898875,
          0.005555555555555556,
          0.0051813471502590676,
          0.04591836734693878,
          0.05389221556886228,
          0.07329842931937172,
          0.08247422680412371,
          0.04519774011299435,
          0.0111731843575419,
          0.04736842105263158,
          0.07653061224489796,
          0.0189873417721519,
          0.03954802259887006,
          0.02926829268292683,
          0.009433962264150943,
          0.04054054054054054,
          0.013043478260869565,
          0.034782608695652174,
          0.034653465346534656,
          0.07264957264957266,
          0.05485232067510549,
          0.019138755980861243,
          0.009478672985781991,
          0.02100840336134454,
          0.07563025210084033,
          0.15384615384615385,
          0.07203389830508475,
          0.03375527426160337,
          0.024271844660194174,
          0.018867924528301886,
          0.02531645569620253,
          0.025423728813559324,
          0.037037037037037035,
          0.0546218487394958,
          0.07142857142857142,
          0.06837606837606838,
          0.060085836909871244,
          0.0196078431372549,
          0.05339805825242718,
          0.06756756756756757,
          0.08403361344537816,
          0.07172995780590717,
          0.014150943396226415,
          0.03286384976525822,
          0.029288702928870293,
          0.04201680672268908,
          0.04807692307692308,
          0.0635593220338983,
          0.1297071129707113,
          0.04522613065326633,
          0.049019607843137254,
          0.08016877637130802,
          0.06329113924050633,
          0.10396039603960396,
          0.046610169491525424,
          0.03829787234042553,
          0.024752475247524754,
          0.00980392156862745,
          0.0423728813559322,
          0.046218487394957986,
          0.10952380952380952,
          0.12184873949579832,
          0.08860759493670886,
          0.06698564593301436,
          0.1,
          0.08490566037735849,
          0.08839779005524862,
          0.1282051282051282,
          0.27325581395348836,
          0.16111111111111112,
          0.11956521739130435,
          0.16292134831460675,
          0.1952662721893491,
          0.20809248554913296,
          0.26490066225165565,
          0.2752808988764045,
          0.15343915343915343,
          0.07253886010362694,
          0.046948356807511735,
          0.05217391304347826,
          0.2727272727272727,
          0.09813084112149532,
          0.08658008658008658,
          0.1,
          0.05194805194805195,
          0.017391304347826087,
          0.020833333333333332,
          0.044,
          0.12389380530973451,
          0.25,
          0.20416666666666666,
          0.06611570247933884,
          0.02092050209205021,
          0.041666666666666664,
          0.0778688524590164,
          0.09210526315789473,
          0.11244979919678715,
          0.068,
          0.02066115702479339,
          0.029045643153526972,
          0.015873015873015872,
          0.24778761061946902,
          1,
          0.4727272727272727,
          0.27876106194690264,
          0.07377049180327869,
          0.034334763948497854,
          0.0847457627118644,
          0.22994652406417113,
          0.19902912621359223,
          0.2125,
          0.08032128514056225,
          0.04526748971193416,
          0.029045643153526972,
          0.03571428571428571,
          0.03557312252964427,
          0.012987012987012988,
          0.5245901639344263,
          0.14859437751004015,
          0.0954356846473029,
          0.0211864406779661,
          0.08050847457627118,
          0.13807531380753138,
          0.13777777777777778,
          0.15319148936170213,
          0.15611814345991562,
          0.19658119658119658,
          0.0611353711790393,
          0.06086956521739131,
          0.30434782608695654,
          0.16216216216216217,
          0.11013215859030837,
          0.11688311688311688,
          0.0603448275862069,
          0.03017241379310345,
          0.05394190871369295,
          0.01652892561983471,
          0.0593607305936073,
          0.07234042553191489,
          0.059322033898305086,
          0.02092050209205021,
          0.13135593220338984,
          0.1111111111111111,
          0.11983471074380166,
          0.39593908629441626,
          0.3188405797101449,
          0.125,
          0.02510460251046025,
          0.029535864978902954,
          0.07317073170731707,
          0.12133891213389121,
          0.22935779816513763,
          0.12605042016806722,
          0.028925619834710745,
          0.02066115702479339,
          0.04149377593360996,
          0.21074380165289255,
          0.0860655737704918,
          0.0730593607305936,
          0.11475409836065574,
          0.07983193277310924,
          0.05485232067510549,
          0.0502092050209205,
          0.2801724137931034,
          0.23963133640552994,
          0.2711864406779661,
          0.27586206896551724,
          0.18552036199095023,
          0.14977973568281938,
          0.19827586206896552,
          0.3482587064676617,
          0.23923444976076555,
          0.14423076923076922,
          0.19248826291079812,
          0.11013215859030837,
          0.06060606060606061,
          0.13852813852813853,
          0.25943396226415094,
          0.22466960352422907,
          0.10679611650485436,
          0.07048458149779736,
          0.16444444444444445,
          0.13574660633484162,
          0.048458149779735685,
          0.07111111111111111,
          0.04,
          0.10232558139534884,
          0.048458149779735685,
          0.08888888888888889,
          0.044642857142857144,
          0.06060606060606061,
          0.056768558951965066,
          0.08333333333333333,
          0.11267605633802817,
          0.03524229074889868,
          0.16444444444444445,
          0.04054054054054054,
          0.04128440366972477,
          0.02608695652173913,
          0.03508771929824561,
          0.07547169811320754,
          0.08071748878923767,
          0.048458149779735685,
          0.018018018018018018,
          0.026785714285714284,
          0.043478260869565216,
          0.21777777777777776,
          0.052132701421800945,
          0.09821428571428571,
          0.2696078431372549,
          0.05092592592592592,
          0.044444444444444446,
          0.06167400881057269,
          0.31862745098039214,
          0.25380710659898476,
          0.19806763285024154,
          0.1036036036036036,
          0.04954954954954955,
          0.03636363636363636,
          0.0625,
          0.15165876777251186,
          0.2722772277227723,
          0.046296296296296294,
          0.07906976744186046,
          0.04932735426008968,
          0.10377358490566038,
          0.22395833333333334,
          0.07272727272727272,
          0.10294117647058823,
          0.05429864253393665,
          0.11688311688311688,
          0.06956521739130435,
          0.06060606060606061,
          0.21212121212121213,
          0.09745762711864407,
          0.09417040358744394,
          0.45662100456621,
          0.19148936170212766,
          0.18487394957983194,
          0.08620689655172414,
          0.6020942408376964,
          0.30697674418604654,
          0.16981132075471697,
          0.11162790697674418,
          0.10683760683760683,
          0.08974358974358974,
          0.28125,
          0.1592920353982301,
          0.0811965811965812,
          0.10407239819004525,
          0.19111111111111112,
          0.22807017543859648,
          0.1271186440677966,
          0.17105263157894737,
          0.10869565217391304
         ],
         "yaxis": "y"
        }
       ],
       "layout": {
        "legend": {
         "tracegroupgap": 0
        },
        "template": {
         "data": {
          "bar": [
           {
            "error_x": {
             "color": "#2a3f5f"
            },
            "error_y": {
             "color": "#2a3f5f"
            },
            "marker": {
             "line": {
              "color": "#E5ECF6",
              "width": 0.5
             }
            },
            "type": "bar"
           }
          ],
          "barpolar": [
           {
            "marker": {
             "line": {
              "color": "#E5ECF6",
              "width": 0.5
             }
            },
            "type": "barpolar"
           }
          ],
          "carpet": [
           {
            "aaxis": {
             "endlinecolor": "#2a3f5f",
             "gridcolor": "white",
             "linecolor": "white",
             "minorgridcolor": "white",
             "startlinecolor": "#2a3f5f"
            },
            "baxis": {
             "endlinecolor": "#2a3f5f",
             "gridcolor": "white",
             "linecolor": "white",
             "minorgridcolor": "white",
             "startlinecolor": "#2a3f5f"
            },
            "type": "carpet"
           }
          ],
          "choropleth": [
           {
            "colorbar": {
             "outlinewidth": 0,
             "ticks": ""
            },
            "type": "choropleth"
           }
          ],
          "contour": [
           {
            "colorbar": {
             "outlinewidth": 0,
             "ticks": ""
            },
            "colorscale": [
             [
              0,
              "#0d0887"
             ],
             [
              0.1111111111111111,
              "#46039f"
             ],
             [
              0.2222222222222222,
              "#7201a8"
             ],
             [
              0.3333333333333333,
              "#9c179e"
             ],
             [
              0.4444444444444444,
              "#bd3786"
             ],
             [
              0.5555555555555556,
              "#d8576b"
             ],
             [
              0.6666666666666666,
              "#ed7953"
             ],
             [
              0.7777777777777778,
              "#fb9f3a"
             ],
             [
              0.8888888888888888,
              "#fdca26"
             ],
             [
              1,
              "#f0f921"
             ]
            ],
            "type": "contour"
           }
          ],
          "contourcarpet": [
           {
            "colorbar": {
             "outlinewidth": 0,
             "ticks": ""
            },
            "type": "contourcarpet"
           }
          ],
          "heatmap": [
           {
            "colorbar": {
             "outlinewidth": 0,
             "ticks": ""
            },
            "colorscale": [
             [
              0,
              "#0d0887"
             ],
             [
              0.1111111111111111,
              "#46039f"
             ],
             [
              0.2222222222222222,
              "#7201a8"
             ],
             [
              0.3333333333333333,
              "#9c179e"
             ],
             [
              0.4444444444444444,
              "#bd3786"
             ],
             [
              0.5555555555555556,
              "#d8576b"
             ],
             [
              0.6666666666666666,
              "#ed7953"
             ],
             [
              0.7777777777777778,
              "#fb9f3a"
             ],
             [
              0.8888888888888888,
              "#fdca26"
             ],
             [
              1,
              "#f0f921"
             ]
            ],
            "type": "heatmap"
           }
          ],
          "heatmapgl": [
           {
            "colorbar": {
             "outlinewidth": 0,
             "ticks": ""
            },
            "colorscale": [
             [
              0,
              "#0d0887"
             ],
             [
              0.1111111111111111,
              "#46039f"
             ],
             [
              0.2222222222222222,
              "#7201a8"
             ],
             [
              0.3333333333333333,
              "#9c179e"
             ],
             [
              0.4444444444444444,
              "#bd3786"
             ],
             [
              0.5555555555555556,
              "#d8576b"
             ],
             [
              0.6666666666666666,
              "#ed7953"
             ],
             [
              0.7777777777777778,
              "#fb9f3a"
             ],
             [
              0.8888888888888888,
              "#fdca26"
             ],
             [
              1,
              "#f0f921"
             ]
            ],
            "type": "heatmapgl"
           }
          ],
          "histogram": [
           {
            "marker": {
             "colorbar": {
              "outlinewidth": 0,
              "ticks": ""
             }
            },
            "type": "histogram"
           }
          ],
          "histogram2d": [
           {
            "colorbar": {
             "outlinewidth": 0,
             "ticks": ""
            },
            "colorscale": [
             [
              0,
              "#0d0887"
             ],
             [
              0.1111111111111111,
              "#46039f"
             ],
             [
              0.2222222222222222,
              "#7201a8"
             ],
             [
              0.3333333333333333,
              "#9c179e"
             ],
             [
              0.4444444444444444,
              "#bd3786"
             ],
             [
              0.5555555555555556,
              "#d8576b"
             ],
             [
              0.6666666666666666,
              "#ed7953"
             ],
             [
              0.7777777777777778,
              "#fb9f3a"
             ],
             [
              0.8888888888888888,
              "#fdca26"
             ],
             [
              1,
              "#f0f921"
             ]
            ],
            "type": "histogram2d"
           }
          ],
          "histogram2dcontour": [
           {
            "colorbar": {
             "outlinewidth": 0,
             "ticks": ""
            },
            "colorscale": [
             [
              0,
              "#0d0887"
             ],
             [
              0.1111111111111111,
              "#46039f"
             ],
             [
              0.2222222222222222,
              "#7201a8"
             ],
             [
              0.3333333333333333,
              "#9c179e"
             ],
             [
              0.4444444444444444,
              "#bd3786"
             ],
             [
              0.5555555555555556,
              "#d8576b"
             ],
             [
              0.6666666666666666,
              "#ed7953"
             ],
             [
              0.7777777777777778,
              "#fb9f3a"
             ],
             [
              0.8888888888888888,
              "#fdca26"
             ],
             [
              1,
              "#f0f921"
             ]
            ],
            "type": "histogram2dcontour"
           }
          ],
          "mesh3d": [
           {
            "colorbar": {
             "outlinewidth": 0,
             "ticks": ""
            },
            "type": "mesh3d"
           }
          ],
          "parcoords": [
           {
            "line": {
             "colorbar": {
              "outlinewidth": 0,
              "ticks": ""
             }
            },
            "type": "parcoords"
           }
          ],
          "pie": [
           {
            "automargin": true,
            "type": "pie"
           }
          ],
          "scatter": [
           {
            "marker": {
             "colorbar": {
              "outlinewidth": 0,
              "ticks": ""
             }
            },
            "type": "scatter"
           }
          ],
          "scatter3d": [
           {
            "line": {
             "colorbar": {
              "outlinewidth": 0,
              "ticks": ""
             }
            },
            "marker": {
             "colorbar": {
              "outlinewidth": 0,
              "ticks": ""
             }
            },
            "type": "scatter3d"
           }
          ],
          "scattercarpet": [
           {
            "marker": {
             "colorbar": {
              "outlinewidth": 0,
              "ticks": ""
             }
            },
            "type": "scattercarpet"
           }
          ],
          "scattergeo": [
           {
            "marker": {
             "colorbar": {
              "outlinewidth": 0,
              "ticks": ""
             }
            },
            "type": "scattergeo"
           }
          ],
          "scattergl": [
           {
            "marker": {
             "colorbar": {
              "outlinewidth": 0,
              "ticks": ""
             }
            },
            "type": "scattergl"
           }
          ],
          "scattermapbox": [
           {
            "marker": {
             "colorbar": {
              "outlinewidth": 0,
              "ticks": ""
             }
            },
            "type": "scattermapbox"
           }
          ],
          "scatterpolar": [
           {
            "marker": {
             "colorbar": {
              "outlinewidth": 0,
              "ticks": ""
             }
            },
            "type": "scatterpolar"
           }
          ],
          "scatterpolargl": [
           {
            "marker": {
             "colorbar": {
              "outlinewidth": 0,
              "ticks": ""
             }
            },
            "type": "scatterpolargl"
           }
          ],
          "scatterternary": [
           {
            "marker": {
             "colorbar": {
              "outlinewidth": 0,
              "ticks": ""
             }
            },
            "type": "scatterternary"
           }
          ],
          "surface": [
           {
            "colorbar": {
             "outlinewidth": 0,
             "ticks": ""
            },
            "colorscale": [
             [
              0,
              "#0d0887"
             ],
             [
              0.1111111111111111,
              "#46039f"
             ],
             [
              0.2222222222222222,
              "#7201a8"
             ],
             [
              0.3333333333333333,
              "#9c179e"
             ],
             [
              0.4444444444444444,
              "#bd3786"
             ],
             [
              0.5555555555555556,
              "#d8576b"
             ],
             [
              0.6666666666666666,
              "#ed7953"
             ],
             [
              0.7777777777777778,
              "#fb9f3a"
             ],
             [
              0.8888888888888888,
              "#fdca26"
             ],
             [
              1,
              "#f0f921"
             ]
            ],
            "type": "surface"
           }
          ],
          "table": [
           {
            "cells": {
             "fill": {
              "color": "#EBF0F8"
             },
             "line": {
              "color": "white"
             }
            },
            "header": {
             "fill": {
              "color": "#C8D4E3"
             },
             "line": {
              "color": "white"
             }
            },
            "type": "table"
           }
          ]
         },
         "layout": {
          "annotationdefaults": {
           "arrowcolor": "#2a3f5f",
           "arrowhead": 0,
           "arrowwidth": 1
          },
          "coloraxis": {
           "colorbar": {
            "outlinewidth": 0,
            "ticks": ""
           }
          },
          "colorscale": {
           "diverging": [
            [
             0,
             "#8e0152"
            ],
            [
             0.1,
             "#c51b7d"
            ],
            [
             0.2,
             "#de77ae"
            ],
            [
             0.3,
             "#f1b6da"
            ],
            [
             0.4,
             "#fde0ef"
            ],
            [
             0.5,
             "#f7f7f7"
            ],
            [
             0.6,
             "#e6f5d0"
            ],
            [
             0.7,
             "#b8e186"
            ],
            [
             0.8,
             "#7fbc41"
            ],
            [
             0.9,
             "#4d9221"
            ],
            [
             1,
             "#276419"
            ]
           ],
           "sequential": [
            [
             0,
             "#0d0887"
            ],
            [
             0.1111111111111111,
             "#46039f"
            ],
            [
             0.2222222222222222,
             "#7201a8"
            ],
            [
             0.3333333333333333,
             "#9c179e"
            ],
            [
             0.4444444444444444,
             "#bd3786"
            ],
            [
             0.5555555555555556,
             "#d8576b"
            ],
            [
             0.6666666666666666,
             "#ed7953"
            ],
            [
             0.7777777777777778,
             "#fb9f3a"
            ],
            [
             0.8888888888888888,
             "#fdca26"
            ],
            [
             1,
             "#f0f921"
            ]
           ],
           "sequentialminus": [
            [
             0,
             "#0d0887"
            ],
            [
             0.1111111111111111,
             "#46039f"
            ],
            [
             0.2222222222222222,
             "#7201a8"
            ],
            [
             0.3333333333333333,
             "#9c179e"
            ],
            [
             0.4444444444444444,
             "#bd3786"
            ],
            [
             0.5555555555555556,
             "#d8576b"
            ],
            [
             0.6666666666666666,
             "#ed7953"
            ],
            [
             0.7777777777777778,
             "#fb9f3a"
            ],
            [
             0.8888888888888888,
             "#fdca26"
            ],
            [
             1,
             "#f0f921"
            ]
           ]
          },
          "colorway": [
           "#636efa",
           "#EF553B",
           "#00cc96",
           "#ab63fa",
           "#FFA15A",
           "#19d3f3",
           "#FF6692",
           "#B6E880",
           "#FF97FF",
           "#FECB52"
          ],
          "font": {
           "color": "#2a3f5f"
          },
          "geo": {
           "bgcolor": "white",
           "lakecolor": "white",
           "landcolor": "#E5ECF6",
           "showlakes": true,
           "showland": true,
           "subunitcolor": "white"
          },
          "hoverlabel": {
           "align": "left"
          },
          "hovermode": "closest",
          "mapbox": {
           "style": "light"
          },
          "paper_bgcolor": "white",
          "plot_bgcolor": "#E5ECF6",
          "polar": {
           "angularaxis": {
            "gridcolor": "white",
            "linecolor": "white",
            "ticks": ""
           },
           "bgcolor": "#E5ECF6",
           "radialaxis": {
            "gridcolor": "white",
            "linecolor": "white",
            "ticks": ""
           }
          },
          "scene": {
           "xaxis": {
            "backgroundcolor": "#E5ECF6",
            "gridcolor": "white",
            "gridwidth": 2,
            "linecolor": "white",
            "showbackground": true,
            "ticks": "",
            "zerolinecolor": "white"
           },
           "yaxis": {
            "backgroundcolor": "#E5ECF6",
            "gridcolor": "white",
            "gridwidth": 2,
            "linecolor": "white",
            "showbackground": true,
            "ticks": "",
            "zerolinecolor": "white"
           },
           "zaxis": {
            "backgroundcolor": "#E5ECF6",
            "gridcolor": "white",
            "gridwidth": 2,
            "linecolor": "white",
            "showbackground": true,
            "ticks": "",
            "zerolinecolor": "white"
           }
          },
          "shapedefaults": {
           "line": {
            "color": "#2a3f5f"
           }
          },
          "ternary": {
           "aaxis": {
            "gridcolor": "white",
            "linecolor": "white",
            "ticks": ""
           },
           "baxis": {
            "gridcolor": "white",
            "linecolor": "white",
            "ticks": ""
           },
           "bgcolor": "#E5ECF6",
           "caxis": {
            "gridcolor": "white",
            "linecolor": "white",
            "ticks": ""
           }
          },
          "title": {
           "x": 0.05
          },
          "xaxis": {
           "automargin": true,
           "gridcolor": "white",
           "linecolor": "white",
           "ticks": "",
           "title": {
            "standoff": 15
           },
           "zerolinecolor": "white",
           "zerolinewidth": 2
          },
          "yaxis": {
           "automargin": true,
           "gridcolor": "white",
           "linecolor": "white",
           "ticks": "",
           "title": {
            "standoff": 15
           },
           "zerolinecolor": "white",
           "zerolinewidth": 2
          }
         }
        },
        "title": {
         "text": "Daily Severe Airport Delays at JFK Airport"
        },
        "xaxis": {
         "anchor": "y",
         "domain": [
          0,
          1
         ],
         "rangeslider": {
          "visible": true
         },
         "title": {
          "text": "Date"
         }
        },
        "yaxis": {
         "anchor": "x",
         "domain": [
          0,
          1
         ],
         "title": {
          "text": "Severe Delays"
         }
        }
       }
      },
      "text/html": [
       "<div>                            <div id=\"6f1cf1cd-b673-4ac9-b968-46ef816aad46\" class=\"plotly-graph-div\" style=\"height:525px; width:100%;\"></div>            <script type=\"text/javascript\">                require([\"plotly\"], function(Plotly) {                    window.PLOTLYENV=window.PLOTLYENV || {};                                    if (document.getElementById(\"6f1cf1cd-b673-4ac9-b968-46ef816aad46\")) {                    Plotly.newPlot(                        \"6f1cf1cd-b673-4ac9-b968-46ef816aad46\",                        [{\"hovertemplate\": \"Date=%{x}<br>Severe Delays=%{y}<extra></extra>\", \"legendgroup\": \"\", \"line\": {\"color\": \"#636efa\", \"dash\": \"solid\"}, \"mode\": \"lines\", \"name\": \"\", \"orientation\": \"v\", \"showlegend\": false, \"type\": \"scatter\", \"x\": [\"2021-06-01T00:00:00\", \"2021-06-02T00:00:00\", \"2021-06-03T00:00:00\", \"2021-06-04T00:00:00\", \"2021-06-05T00:00:00\", \"2021-06-06T00:00:00\", \"2021-06-07T00:00:00\", \"2021-06-08T00:00:00\", \"2021-06-09T00:00:00\", \"2021-06-10T00:00:00\", \"2021-06-11T00:00:00\", \"2021-06-12T00:00:00\", \"2021-06-13T00:00:00\", \"2021-06-14T00:00:00\", \"2021-06-15T00:00:00\", \"2021-06-16T00:00:00\", \"2021-06-17T00:00:00\", \"2021-06-18T00:00:00\", \"2021-06-19T00:00:00\", \"2021-06-20T00:00:00\", \"2021-06-21T00:00:00\", \"2021-06-22T00:00:00\", \"2021-06-23T00:00:00\", \"2021-06-24T00:00:00\", \"2021-06-25T00:00:00\", \"2021-06-26T00:00:00\", \"2021-06-27T00:00:00\", \"2021-06-28T00:00:00\", \"2021-06-29T00:00:00\", \"2021-06-30T00:00:00\", \"2021-07-01T00:00:00\", \"2021-07-02T00:00:00\", \"2021-07-03T00:00:00\", \"2021-07-04T00:00:00\", \"2021-07-05T00:00:00\", \"2021-07-06T00:00:00\", \"2021-07-07T00:00:00\", \"2021-07-08T00:00:00\", \"2021-07-09T00:00:00\", \"2021-07-10T00:00:00\", \"2021-07-11T00:00:00\", \"2021-07-12T00:00:00\", \"2021-07-13T00:00:00\", \"2021-07-14T00:00:00\", \"2021-07-15T00:00:00\", \"2021-07-16T00:00:00\", \"2021-07-17T00:00:00\", \"2021-07-18T00:00:00\", \"2021-07-19T00:00:00\", \"2021-07-20T00:00:00\", \"2021-07-21T00:00:00\", \"2021-07-22T00:00:00\", \"2021-07-23T00:00:00\", \"2021-07-24T00:00:00\", \"2021-07-25T00:00:00\", \"2021-07-26T00:00:00\", \"2021-07-27T00:00:00\", \"2021-07-28T00:00:00\", \"2021-07-29T00:00:00\", \"2021-07-30T00:00:00\", \"2021-07-31T00:00:00\", \"2021-08-01T00:00:00\", \"2021-08-02T00:00:00\", \"2021-08-03T00:00:00\", \"2021-08-04T00:00:00\", \"2021-08-05T00:00:00\", \"2021-08-06T00:00:00\", \"2021-08-07T00:00:00\", \"2021-08-08T00:00:00\", \"2021-08-09T00:00:00\", \"2021-08-10T00:00:00\", \"2021-08-11T00:00:00\", \"2021-08-12T00:00:00\", \"2021-08-13T00:00:00\", \"2021-08-14T00:00:00\", \"2021-08-15T00:00:00\", \"2021-08-16T00:00:00\", \"2021-08-17T00:00:00\", \"2021-08-18T00:00:00\", \"2021-08-19T00:00:00\", \"2021-08-20T00:00:00\", \"2021-08-21T00:00:00\", \"2021-08-22T00:00:00\", \"2021-08-23T00:00:00\", \"2021-08-24T00:00:00\", \"2021-08-25T00:00:00\", \"2021-08-26T00:00:00\", \"2021-08-27T00:00:00\", \"2021-08-28T00:00:00\", \"2021-08-29T00:00:00\", \"2021-08-30T00:00:00\", \"2021-08-31T00:00:00\", \"2021-09-01T00:00:00\", \"2021-09-02T00:00:00\", \"2021-09-03T00:00:00\", \"2021-09-04T00:00:00\", \"2021-09-05T00:00:00\", \"2021-09-06T00:00:00\", \"2021-09-07T00:00:00\", \"2021-09-08T00:00:00\", \"2021-09-09T00:00:00\", \"2021-09-10T00:00:00\", \"2021-09-11T00:00:00\", \"2021-09-12T00:00:00\", \"2021-09-13T00:00:00\", \"2021-09-14T00:00:00\", \"2021-09-15T00:00:00\", \"2021-09-16T00:00:00\", \"2021-09-17T00:00:00\", \"2021-09-18T00:00:00\", \"2021-09-19T00:00:00\", \"2021-09-20T00:00:00\", \"2021-09-21T00:00:00\", \"2021-09-22T00:00:00\", \"2021-09-23T00:00:00\", \"2021-09-24T00:00:00\", \"2021-09-25T00:00:00\", \"2021-09-26T00:00:00\", \"2021-09-27T00:00:00\", \"2021-09-28T00:00:00\", \"2021-09-29T00:00:00\", \"2021-09-30T00:00:00\", \"2021-10-01T00:00:00\", \"2021-10-02T00:00:00\", \"2021-10-03T00:00:00\", \"2021-10-04T00:00:00\", \"2021-10-05T00:00:00\", \"2021-10-06T00:00:00\", \"2021-10-07T00:00:00\", \"2021-10-08T00:00:00\", \"2021-10-09T00:00:00\", \"2021-10-10T00:00:00\", \"2021-10-11T00:00:00\", \"2021-10-12T00:00:00\", \"2021-10-13T00:00:00\", \"2021-10-14T00:00:00\", \"2021-10-15T00:00:00\", \"2021-10-16T00:00:00\", \"2021-10-17T00:00:00\", \"2021-10-18T00:00:00\", \"2021-10-19T00:00:00\", \"2021-10-20T00:00:00\", \"2021-10-21T00:00:00\", \"2021-10-22T00:00:00\", \"2021-10-23T00:00:00\", \"2021-10-24T00:00:00\", \"2021-10-25T00:00:00\", \"2021-10-26T00:00:00\", \"2021-10-27T00:00:00\", \"2021-10-28T00:00:00\", \"2021-10-29T00:00:00\", \"2021-10-30T00:00:00\", \"2021-10-31T00:00:00\", \"2021-11-01T00:00:00\", \"2021-11-02T00:00:00\", \"2021-11-03T00:00:00\", \"2021-11-04T00:00:00\", \"2021-11-05T00:00:00\", \"2021-11-06T00:00:00\", \"2021-11-07T00:00:00\", \"2021-11-08T00:00:00\", \"2021-11-09T00:00:00\", \"2021-11-10T00:00:00\", \"2021-11-11T00:00:00\", \"2021-11-12T00:00:00\", \"2021-11-13T00:00:00\", \"2021-11-14T00:00:00\", \"2021-11-15T00:00:00\", \"2021-11-16T00:00:00\", \"2021-11-17T00:00:00\", \"2021-11-18T00:00:00\", \"2021-11-19T00:00:00\", \"2021-11-20T00:00:00\", \"2021-11-21T00:00:00\", \"2021-11-22T00:00:00\", \"2021-11-23T00:00:00\", \"2021-11-24T00:00:00\", \"2021-11-25T00:00:00\", \"2021-11-26T00:00:00\", \"2021-11-27T00:00:00\", \"2021-11-28T00:00:00\", \"2021-11-29T00:00:00\", \"2021-11-30T00:00:00\", \"2021-12-01T00:00:00\", \"2021-12-02T00:00:00\", \"2021-12-03T00:00:00\", \"2021-12-04T00:00:00\", \"2021-12-05T00:00:00\", \"2021-12-06T00:00:00\", \"2021-12-07T00:00:00\", \"2021-12-08T00:00:00\", \"2021-12-09T00:00:00\", \"2021-12-10T00:00:00\", \"2021-12-11T00:00:00\", \"2021-12-12T00:00:00\", \"2021-12-13T00:00:00\", \"2021-12-14T00:00:00\", \"2021-12-15T00:00:00\", \"2021-12-16T00:00:00\", \"2021-12-17T00:00:00\", \"2021-12-18T00:00:00\", \"2021-12-19T00:00:00\", \"2021-12-20T00:00:00\", \"2021-12-21T00:00:00\", \"2021-12-22T00:00:00\", \"2021-12-23T00:00:00\", \"2021-12-24T00:00:00\", \"2021-12-25T00:00:00\", \"2021-12-26T00:00:00\", \"2021-12-27T00:00:00\", \"2021-12-28T00:00:00\", \"2021-12-29T00:00:00\", \"2021-12-30T00:00:00\", \"2021-12-31T00:00:00\", \"2022-01-01T00:00:00\", \"2022-01-02T00:00:00\", \"2022-01-03T00:00:00\", \"2022-01-04T00:00:00\", \"2022-01-05T00:00:00\", \"2022-01-06T00:00:00\", \"2022-01-07T00:00:00\", \"2022-01-08T00:00:00\", \"2022-01-09T00:00:00\", \"2022-01-10T00:00:00\", \"2022-01-11T00:00:00\", \"2022-01-12T00:00:00\", \"2022-01-13T00:00:00\", \"2022-01-14T00:00:00\", \"2022-01-15T00:00:00\", \"2022-01-16T00:00:00\", \"2022-01-17T00:00:00\", \"2022-01-18T00:00:00\", \"2022-01-19T00:00:00\", \"2022-01-20T00:00:00\", \"2022-01-21T00:00:00\", \"2022-01-22T00:00:00\", \"2022-01-23T00:00:00\", \"2022-01-24T00:00:00\", \"2022-01-25T00:00:00\", \"2022-01-26T00:00:00\", \"2022-01-27T00:00:00\", \"2022-01-28T00:00:00\", \"2022-01-29T00:00:00\", \"2022-01-30T00:00:00\", \"2022-01-31T00:00:00\", \"2022-02-01T00:00:00\", \"2022-02-02T00:00:00\", \"2022-02-03T00:00:00\", \"2022-02-04T00:00:00\", \"2022-02-05T00:00:00\", \"2022-02-06T00:00:00\", \"2022-02-07T00:00:00\", \"2022-02-08T00:00:00\", \"2022-02-09T00:00:00\", \"2022-02-10T00:00:00\", \"2022-02-11T00:00:00\", \"2022-02-12T00:00:00\", \"2022-02-13T00:00:00\", \"2022-02-14T00:00:00\", \"2022-02-15T00:00:00\", \"2022-02-16T00:00:00\", \"2022-02-17T00:00:00\", \"2022-02-18T00:00:00\", \"2022-02-19T00:00:00\", \"2022-02-20T00:00:00\", \"2022-02-21T00:00:00\", \"2022-02-22T00:00:00\", \"2022-02-23T00:00:00\", \"2022-02-24T00:00:00\", \"2022-02-25T00:00:00\", \"2022-02-26T00:00:00\", \"2022-02-27T00:00:00\", \"2022-02-28T00:00:00\", \"2022-03-01T00:00:00\", \"2022-03-02T00:00:00\", \"2022-03-03T00:00:00\", \"2022-03-04T00:00:00\", \"2022-03-05T00:00:00\", \"2022-03-06T00:00:00\", \"2022-03-07T00:00:00\", \"2022-03-08T00:00:00\", \"2022-03-09T00:00:00\", \"2022-03-10T00:00:00\", \"2022-03-11T00:00:00\", \"2022-03-12T00:00:00\", \"2022-03-13T00:00:00\", \"2022-03-14T00:00:00\", \"2022-03-15T00:00:00\", \"2022-03-16T00:00:00\", \"2022-03-17T00:00:00\", \"2022-03-18T00:00:00\", \"2022-03-19T00:00:00\", \"2022-03-20T00:00:00\", \"2022-03-21T00:00:00\", \"2022-03-22T00:00:00\", \"2022-03-23T00:00:00\", \"2022-03-24T00:00:00\", \"2022-03-25T00:00:00\", \"2022-03-26T00:00:00\", \"2022-03-27T00:00:00\", \"2022-03-28T00:00:00\", \"2022-03-29T00:00:00\", \"2022-03-30T00:00:00\", \"2022-03-31T00:00:00\", \"2022-04-01T00:00:00\", \"2022-04-02T00:00:00\", \"2022-04-03T00:00:00\", \"2022-04-04T00:00:00\", \"2022-04-05T00:00:00\", \"2022-04-06T00:00:00\", \"2022-04-07T00:00:00\", \"2022-04-08T00:00:00\", \"2022-04-09T00:00:00\", \"2022-04-10T00:00:00\", \"2022-04-11T00:00:00\", \"2022-04-12T00:00:00\", \"2022-04-13T00:00:00\", \"2022-04-14T00:00:00\", \"2022-04-15T00:00:00\", \"2022-04-16T00:00:00\", \"2022-04-17T00:00:00\", \"2022-04-18T00:00:00\", \"2022-04-19T00:00:00\", \"2022-04-20T00:00:00\", \"2022-04-21T00:00:00\", \"2022-04-22T00:00:00\", \"2022-04-23T00:00:00\", \"2022-04-24T00:00:00\", \"2022-04-25T00:00:00\", \"2022-04-26T00:00:00\", \"2022-04-27T00:00:00\", \"2022-04-28T00:00:00\", \"2022-04-29T00:00:00\", \"2022-04-30T00:00:00\", \"2022-05-01T00:00:00\", \"2022-05-02T00:00:00\", \"2022-05-03T00:00:00\", \"2022-05-04T00:00:00\", \"2022-05-05T00:00:00\", \"2022-05-06T00:00:00\", \"2022-05-07T00:00:00\", \"2022-05-08T00:00:00\", \"2022-05-09T00:00:00\", \"2022-05-10T00:00:00\", \"2022-05-11T00:00:00\", \"2022-05-12T00:00:00\", \"2022-05-13T00:00:00\", \"2022-05-14T00:00:00\", \"2022-05-15T00:00:00\", \"2022-05-16T00:00:00\", \"2022-05-17T00:00:00\", \"2022-05-18T00:00:00\", \"2022-05-19T00:00:00\", \"2022-05-20T00:00:00\", \"2022-05-21T00:00:00\", \"2022-05-22T00:00:00\", \"2022-05-23T00:00:00\", \"2022-05-24T00:00:00\", \"2022-05-25T00:00:00\", \"2022-05-26T00:00:00\", \"2022-05-27T00:00:00\", \"2022-05-28T00:00:00\", \"2022-05-29T00:00:00\", \"2022-05-30T00:00:00\", \"2022-05-31T00:00:00\", \"2022-06-01T00:00:00\", \"2022-06-02T00:00:00\", \"2022-06-03T00:00:00\", \"2022-06-04T00:00:00\", \"2022-06-05T00:00:00\", \"2022-06-06T00:00:00\", \"2022-06-07T00:00:00\", \"2022-06-08T00:00:00\", \"2022-06-09T00:00:00\", \"2022-06-10T00:00:00\", \"2022-06-11T00:00:00\", \"2022-06-12T00:00:00\", \"2022-06-13T00:00:00\", \"2022-06-14T00:00:00\", \"2022-06-15T00:00:00\", \"2022-06-16T00:00:00\", \"2022-06-17T00:00:00\", \"2022-06-18T00:00:00\", \"2022-06-19T00:00:00\", \"2022-06-20T00:00:00\", \"2022-06-21T00:00:00\", \"2022-06-22T00:00:00\", \"2022-06-23T00:00:00\", \"2022-06-24T00:00:00\", \"2022-06-25T00:00:00\", \"2022-06-26T00:00:00\", \"2022-06-27T00:00:00\", \"2022-06-28T00:00:00\", \"2022-06-29T00:00:00\", \"2022-06-30T00:00:00\"], \"xaxis\": \"x\", \"y\": [0.02857142857142857, 0.006993006993006993, 0.07017543859649122, 0.15028901734104047, 0.07586206896551724, 0.06470588235294118, 0.07272727272727272, 0.1, 0.1619718309859155, 0.17297297297297298, 0.14594594594594595, 0.03592814371257485, 0.06451612903225806, 0.08108108108108109, 0.08284023668639054, 0.011976047904191617, 0.0582010582010582, 0.04712041884816754, 0.10778443113772455, 0.10270270270270271, 0.17647058823529413, 0.08333333333333333, 0.06470588235294118, 0.015873015873015872, 0.05235602094240838, 0.10179640718562874, 0.12698412698412698, 0.11290322580645161, 0.07692307692307693, 0.15976331360946747, 0.24598930481283424, 0.20212765957446807, 0.3581081081081081, 0.10828025477707007, 0.16666666666666666, 0.21518987341772153, 0.19428571428571428, 0.3967391304347826, 0.24210526315789474, 0.18292682926829268, 0.13157894736842105, 0.21787709497206703, 0.12921348314606743, 0.0898876404494382, 0.09375, 0.14507772020725387, 0.3058823529411765, 0.20105820105820105, 0.15789473684210525, 0.13559322033898305, 0.2658959537572254, 0.08064516129032258, 0.07253886010362694, 0.041176470588235294, 0.14736842105263157, 0.09424083769633508, 0.03954802259887006, 0.09659090909090909, 0.13227513227513227, 0.10309278350515463, 0.059880239520958084, 0.10810810810810811, 0.10752688172043011, 0.11363636363636363, 0.04597701149425287, 0.061855670103092786, 0.09424083769633508, 0.11801242236024845, 0.15508021390374332, 0.09042553191489362, 0.11299435028248588, 0.06741573033707865, 0.15544041450777202, 0.15789473684210525, 0.07738095238095238, 0.07853403141361257, 0.07368421052631578, 0.05747126436781609, 0.11797752808988764, 0.05102040816326531, 0.09844559585492228, 0.16167664670658682, 0.13333333333333333, 0.16753926701570682, 0.05084745762711865, 0.055865921787709494, 0.05612244897959184, 0.2422680412371134, 0.07142857142857142, 0.057291666666666664, 0.09523809523809523, 0.03409090909090909, 0.1144578313253012, 0.26256983240223464, 0.06735751295336788, 0.03164556962025317, 0.011904761904761904, 0.07567567567567568, 0.028901734104046242, 0.06790123456790123, 0.13756613756613756, 0.03664921465968586, 0.05128205128205128, 0.05235602094240838, 0.031088082901554404, 0.03125, 0.054878048780487805, 0.026595744680851064, 0.046875, 0.04487179487179487, 0.015706806282722512, 0.020833333333333332, 0.012195121951219513, 0.011976047904191617, 0.33540372670807456, 0.30939226519337015, 0.09868421052631579, 0.06806282722513089, 0.052083333333333336, 0.018292682926829267, 0.017964071856287425, 0.031413612565445025, 0.015306122448979591, 0.031446540880503145, 0.031413612565445025, 0.02617801047120419, 0.023809523809523808, 0.005917159763313609, 0.005291005291005291, 0.13541666666666666, 0.10625, 0.07936507936507936, 0.04568527918781726, 0.028089887640449437, 0.016666666666666666, 0.031413612565445025, 0.030927835051546393, 0.10179640718562874, 0.020942408376963352, 0.005128205128205128, 0.0056179775280898875, 0.005555555555555556, 0.0051813471502590676, 0.04591836734693878, 0.05389221556886228, 0.07329842931937172, 0.08247422680412371, 0.04519774011299435, 0.0111731843575419, 0.04736842105263158, 0.07653061224489796, 0.0189873417721519, 0.03954802259887006, 0.02926829268292683, 0.009433962264150943, 0.04054054054054054, 0.013043478260869565, 0.034782608695652174, 0.034653465346534656, 0.07264957264957266, 0.05485232067510549, 0.019138755980861243, 0.009478672985781991, 0.02100840336134454, 0.07563025210084033, 0.15384615384615385, 0.07203389830508475, 0.03375527426160337, 0.024271844660194174, 0.018867924528301886, 0.02531645569620253, 0.025423728813559324, 0.037037037037037035, 0.0546218487394958, 0.07142857142857142, 0.06837606837606838, 0.060085836909871244, 0.0196078431372549, 0.05339805825242718, 0.06756756756756757, 0.08403361344537816, 0.07172995780590717, 0.014150943396226415, 0.03286384976525822, 0.029288702928870293, 0.04201680672268908, 0.04807692307692308, 0.0635593220338983, 0.1297071129707113, 0.04522613065326633, 0.049019607843137254, 0.08016877637130802, 0.06329113924050633, 0.10396039603960396, 0.046610169491525424, 0.03829787234042553, 0.024752475247524754, 0.00980392156862745, 0.0423728813559322, 0.046218487394957986, 0.10952380952380952, 0.12184873949579832, 0.08860759493670886, 0.06698564593301436, 0.1, 0.08490566037735849, 0.08839779005524862, 0.1282051282051282, 0.27325581395348836, 0.16111111111111112, 0.11956521739130435, 0.16292134831460675, 0.1952662721893491, 0.20809248554913296, 0.26490066225165565, 0.2752808988764045, 0.15343915343915343, 0.07253886010362694, 0.046948356807511735, 0.05217391304347826, 0.2727272727272727, 0.09813084112149532, 0.08658008658008658, 0.1, 0.05194805194805195, 0.017391304347826087, 0.020833333333333332, 0.044, 0.12389380530973451, 0.25, 0.20416666666666666, 0.06611570247933884, 0.02092050209205021, 0.041666666666666664, 0.0778688524590164, 0.09210526315789473, 0.11244979919678715, 0.068, 0.02066115702479339, 0.029045643153526972, 0.015873015873015872, 0.24778761061946902, 1.0, 0.4727272727272727, 0.27876106194690264, 0.07377049180327869, 0.034334763948497854, 0.0847457627118644, 0.22994652406417113, 0.19902912621359223, 0.2125, 0.08032128514056225, 0.04526748971193416, 0.029045643153526972, 0.03571428571428571, 0.03557312252964427, 0.012987012987012988, 0.5245901639344263, 0.14859437751004015, 0.0954356846473029, 0.0211864406779661, 0.08050847457627118, 0.13807531380753138, 0.13777777777777778, 0.15319148936170213, 0.15611814345991562, 0.19658119658119658, 0.0611353711790393, 0.06086956521739131, 0.30434782608695654, 0.16216216216216217, 0.11013215859030837, 0.11688311688311688, 0.0603448275862069, 0.03017241379310345, 0.05394190871369295, 0.01652892561983471, 0.0593607305936073, 0.07234042553191489, 0.059322033898305086, 0.02092050209205021, 0.13135593220338984, 0.1111111111111111, 0.11983471074380166, 0.39593908629441626, 0.3188405797101449, 0.125, 0.02510460251046025, 0.029535864978902954, 0.07317073170731707, 0.12133891213389121, 0.22935779816513763, 0.12605042016806722, 0.028925619834710745, 0.02066115702479339, 0.04149377593360996, 0.21074380165289255, 0.0860655737704918, 0.0730593607305936, 0.11475409836065574, 0.07983193277310924, 0.05485232067510549, 0.0502092050209205, 0.2801724137931034, 0.23963133640552994, 0.2711864406779661, 0.27586206896551724, 0.18552036199095023, 0.14977973568281938, 0.19827586206896552, 0.3482587064676617, 0.23923444976076555, 0.14423076923076922, 0.19248826291079812, 0.11013215859030837, 0.06060606060606061, 0.13852813852813853, 0.25943396226415094, 0.22466960352422907, 0.10679611650485436, 0.07048458149779736, 0.16444444444444445, 0.13574660633484162, 0.048458149779735685, 0.07111111111111111, 0.04, 0.10232558139534884, 0.048458149779735685, 0.08888888888888889, 0.044642857142857144, 0.06060606060606061, 0.056768558951965066, 0.08333333333333333, 0.11267605633802817, 0.03524229074889868, 0.16444444444444445, 0.04054054054054054, 0.04128440366972477, 0.02608695652173913, 0.03508771929824561, 0.07547169811320754, 0.08071748878923767, 0.048458149779735685, 0.018018018018018018, 0.026785714285714284, 0.043478260869565216, 0.21777777777777776, 0.052132701421800945, 0.09821428571428571, 0.2696078431372549, 0.05092592592592592, 0.044444444444444446, 0.06167400881057269, 0.31862745098039214, 0.25380710659898476, 0.19806763285024154, 0.1036036036036036, 0.04954954954954955, 0.03636363636363636, 0.0625, 0.15165876777251186, 0.2722772277227723, 0.046296296296296294, 0.07906976744186046, 0.04932735426008968, 0.10377358490566038, 0.22395833333333334, 0.07272727272727272, 0.10294117647058823, 0.05429864253393665, 0.11688311688311688, 0.06956521739130435, 0.06060606060606061, 0.21212121212121213, 0.09745762711864407, 0.09417040358744394, 0.45662100456621, 0.19148936170212766, 0.18487394957983194, 0.08620689655172414, 0.6020942408376964, 0.30697674418604654, 0.16981132075471697, 0.11162790697674418, 0.10683760683760683, 0.08974358974358974, 0.28125, 0.1592920353982301, 0.0811965811965812, 0.10407239819004525, 0.19111111111111112, 0.22807017543859648, 0.1271186440677966, 0.17105263157894737, 0.10869565217391304], \"yaxis\": \"y\"}],                        {\"legend\": {\"tracegroupgap\": 0}, \"template\": {\"data\": {\"bar\": [{\"error_x\": {\"color\": \"#2a3f5f\"}, \"error_y\": {\"color\": \"#2a3f5f\"}, \"marker\": {\"line\": {\"color\": \"#E5ECF6\", \"width\": 0.5}}, \"type\": \"bar\"}], \"barpolar\": [{\"marker\": {\"line\": {\"color\": \"#E5ECF6\", \"width\": 0.5}}, \"type\": \"barpolar\"}], \"carpet\": [{\"aaxis\": {\"endlinecolor\": \"#2a3f5f\", \"gridcolor\": \"white\", \"linecolor\": \"white\", \"minorgridcolor\": \"white\", \"startlinecolor\": \"#2a3f5f\"}, \"baxis\": {\"endlinecolor\": \"#2a3f5f\", \"gridcolor\": \"white\", \"linecolor\": \"white\", \"minorgridcolor\": \"white\", \"startlinecolor\": \"#2a3f5f\"}, \"type\": \"carpet\"}], \"choropleth\": [{\"colorbar\": {\"outlinewidth\": 0, \"ticks\": \"\"}, \"type\": \"choropleth\"}], \"contour\": [{\"colorbar\": {\"outlinewidth\": 0, \"ticks\": \"\"}, \"colorscale\": [[0.0, \"#0d0887\"], [0.1111111111111111, \"#46039f\"], [0.2222222222222222, \"#7201a8\"], [0.3333333333333333, \"#9c179e\"], [0.4444444444444444, \"#bd3786\"], [0.5555555555555556, \"#d8576b\"], [0.6666666666666666, \"#ed7953\"], [0.7777777777777778, \"#fb9f3a\"], [0.8888888888888888, \"#fdca26\"], [1.0, \"#f0f921\"]], \"type\": \"contour\"}], \"contourcarpet\": [{\"colorbar\": {\"outlinewidth\": 0, \"ticks\": \"\"}, \"type\": \"contourcarpet\"}], \"heatmap\": [{\"colorbar\": {\"outlinewidth\": 0, \"ticks\": \"\"}, \"colorscale\": [[0.0, \"#0d0887\"], [0.1111111111111111, \"#46039f\"], [0.2222222222222222, \"#7201a8\"], [0.3333333333333333, \"#9c179e\"], [0.4444444444444444, \"#bd3786\"], [0.5555555555555556, \"#d8576b\"], [0.6666666666666666, \"#ed7953\"], [0.7777777777777778, \"#fb9f3a\"], [0.8888888888888888, \"#fdca26\"], [1.0, \"#f0f921\"]], \"type\": \"heatmap\"}], \"heatmapgl\": [{\"colorbar\": {\"outlinewidth\": 0, \"ticks\": \"\"}, \"colorscale\": [[0.0, \"#0d0887\"], [0.1111111111111111, \"#46039f\"], [0.2222222222222222, \"#7201a8\"], [0.3333333333333333, \"#9c179e\"], [0.4444444444444444, \"#bd3786\"], [0.5555555555555556, \"#d8576b\"], [0.6666666666666666, \"#ed7953\"], [0.7777777777777778, \"#fb9f3a\"], [0.8888888888888888, \"#fdca26\"], [1.0, \"#f0f921\"]], \"type\": \"heatmapgl\"}], \"histogram\": [{\"marker\": {\"colorbar\": {\"outlinewidth\": 0, \"ticks\": \"\"}}, \"type\": \"histogram\"}], \"histogram2d\": [{\"colorbar\": {\"outlinewidth\": 0, \"ticks\": \"\"}, \"colorscale\": [[0.0, \"#0d0887\"], [0.1111111111111111, \"#46039f\"], [0.2222222222222222, \"#7201a8\"], [0.3333333333333333, \"#9c179e\"], [0.4444444444444444, \"#bd3786\"], [0.5555555555555556, \"#d8576b\"], [0.6666666666666666, \"#ed7953\"], [0.7777777777777778, \"#fb9f3a\"], [0.8888888888888888, \"#fdca26\"], [1.0, \"#f0f921\"]], \"type\": \"histogram2d\"}], \"histogram2dcontour\": [{\"colorbar\": {\"outlinewidth\": 0, \"ticks\": \"\"}, \"colorscale\": [[0.0, \"#0d0887\"], [0.1111111111111111, \"#46039f\"], [0.2222222222222222, \"#7201a8\"], [0.3333333333333333, \"#9c179e\"], [0.4444444444444444, \"#bd3786\"], [0.5555555555555556, \"#d8576b\"], [0.6666666666666666, \"#ed7953\"], [0.7777777777777778, \"#fb9f3a\"], [0.8888888888888888, \"#fdca26\"], [1.0, \"#f0f921\"]], \"type\": \"histogram2dcontour\"}], \"mesh3d\": [{\"colorbar\": {\"outlinewidth\": 0, \"ticks\": \"\"}, \"type\": \"mesh3d\"}], \"parcoords\": [{\"line\": {\"colorbar\": {\"outlinewidth\": 0, \"ticks\": \"\"}}, \"type\": \"parcoords\"}], \"pie\": [{\"automargin\": true, \"type\": \"pie\"}], \"scatter\": [{\"marker\": {\"colorbar\": {\"outlinewidth\": 0, \"ticks\": \"\"}}, \"type\": \"scatter\"}], \"scatter3d\": [{\"line\": {\"colorbar\": {\"outlinewidth\": 0, \"ticks\": \"\"}}, \"marker\": {\"colorbar\": {\"outlinewidth\": 0, \"ticks\": \"\"}}, \"type\": \"scatter3d\"}], \"scattercarpet\": [{\"marker\": {\"colorbar\": {\"outlinewidth\": 0, \"ticks\": \"\"}}, \"type\": \"scattercarpet\"}], \"scattergeo\": [{\"marker\": {\"colorbar\": {\"outlinewidth\": 0, \"ticks\": \"\"}}, \"type\": \"scattergeo\"}], \"scattergl\": [{\"marker\": {\"colorbar\": {\"outlinewidth\": 0, \"ticks\": \"\"}}, \"type\": \"scattergl\"}], \"scattermapbox\": [{\"marker\": {\"colorbar\": {\"outlinewidth\": 0, \"ticks\": \"\"}}, \"type\": \"scattermapbox\"}], \"scatterpolar\": [{\"marker\": {\"colorbar\": {\"outlinewidth\": 0, \"ticks\": \"\"}}, \"type\": \"scatterpolar\"}], \"scatterpolargl\": [{\"marker\": {\"colorbar\": {\"outlinewidth\": 0, \"ticks\": \"\"}}, \"type\": \"scatterpolargl\"}], \"scatterternary\": [{\"marker\": {\"colorbar\": {\"outlinewidth\": 0, \"ticks\": \"\"}}, \"type\": \"scatterternary\"}], \"surface\": [{\"colorbar\": {\"outlinewidth\": 0, \"ticks\": \"\"}, \"colorscale\": [[0.0, \"#0d0887\"], [0.1111111111111111, \"#46039f\"], [0.2222222222222222, \"#7201a8\"], [0.3333333333333333, \"#9c179e\"], [0.4444444444444444, \"#bd3786\"], [0.5555555555555556, \"#d8576b\"], [0.6666666666666666, \"#ed7953\"], [0.7777777777777778, \"#fb9f3a\"], [0.8888888888888888, \"#fdca26\"], [1.0, \"#f0f921\"]], \"type\": \"surface\"}], \"table\": [{\"cells\": {\"fill\": {\"color\": \"#EBF0F8\"}, \"line\": {\"color\": \"white\"}}, \"header\": {\"fill\": {\"color\": \"#C8D4E3\"}, \"line\": {\"color\": \"white\"}}, \"type\": \"table\"}]}, \"layout\": {\"annotationdefaults\": {\"arrowcolor\": \"#2a3f5f\", \"arrowhead\": 0, \"arrowwidth\": 1}, \"coloraxis\": {\"colorbar\": {\"outlinewidth\": 0, \"ticks\": \"\"}}, \"colorscale\": {\"diverging\": [[0, \"#8e0152\"], [0.1, \"#c51b7d\"], [0.2, \"#de77ae\"], [0.3, \"#f1b6da\"], [0.4, \"#fde0ef\"], [0.5, \"#f7f7f7\"], [0.6, \"#e6f5d0\"], [0.7, \"#b8e186\"], [0.8, \"#7fbc41\"], [0.9, \"#4d9221\"], [1, \"#276419\"]], \"sequential\": [[0.0, \"#0d0887\"], [0.1111111111111111, \"#46039f\"], [0.2222222222222222, \"#7201a8\"], [0.3333333333333333, \"#9c179e\"], [0.4444444444444444, \"#bd3786\"], [0.5555555555555556, \"#d8576b\"], [0.6666666666666666, \"#ed7953\"], [0.7777777777777778, \"#fb9f3a\"], [0.8888888888888888, \"#fdca26\"], [1.0, \"#f0f921\"]], \"sequentialminus\": [[0.0, \"#0d0887\"], [0.1111111111111111, \"#46039f\"], [0.2222222222222222, \"#7201a8\"], [0.3333333333333333, \"#9c179e\"], [0.4444444444444444, \"#bd3786\"], [0.5555555555555556, \"#d8576b\"], [0.6666666666666666, \"#ed7953\"], [0.7777777777777778, \"#fb9f3a\"], [0.8888888888888888, \"#fdca26\"], [1.0, \"#f0f921\"]]}, \"colorway\": [\"#636efa\", \"#EF553B\", \"#00cc96\", \"#ab63fa\", \"#FFA15A\", \"#19d3f3\", \"#FF6692\", \"#B6E880\", \"#FF97FF\", \"#FECB52\"], \"font\": {\"color\": \"#2a3f5f\"}, \"geo\": {\"bgcolor\": \"white\", \"lakecolor\": \"white\", \"landcolor\": \"#E5ECF6\", \"showlakes\": true, \"showland\": true, \"subunitcolor\": \"white\"}, \"hoverlabel\": {\"align\": \"left\"}, \"hovermode\": \"closest\", \"mapbox\": {\"style\": \"light\"}, \"paper_bgcolor\": \"white\", \"plot_bgcolor\": \"#E5ECF6\", \"polar\": {\"angularaxis\": {\"gridcolor\": \"white\", \"linecolor\": \"white\", \"ticks\": \"\"}, \"bgcolor\": \"#E5ECF6\", \"radialaxis\": {\"gridcolor\": \"white\", \"linecolor\": \"white\", \"ticks\": \"\"}}, \"scene\": {\"xaxis\": {\"backgroundcolor\": \"#E5ECF6\", \"gridcolor\": \"white\", \"gridwidth\": 2, \"linecolor\": \"white\", \"showbackground\": true, \"ticks\": \"\", \"zerolinecolor\": \"white\"}, \"yaxis\": {\"backgroundcolor\": \"#E5ECF6\", \"gridcolor\": \"white\", \"gridwidth\": 2, \"linecolor\": \"white\", \"showbackground\": true, \"ticks\": \"\", \"zerolinecolor\": \"white\"}, \"zaxis\": {\"backgroundcolor\": \"#E5ECF6\", \"gridcolor\": \"white\", \"gridwidth\": 2, \"linecolor\": \"white\", \"showbackground\": true, \"ticks\": \"\", \"zerolinecolor\": \"white\"}}, \"shapedefaults\": {\"line\": {\"color\": \"#2a3f5f\"}}, \"ternary\": {\"aaxis\": {\"gridcolor\": \"white\", \"linecolor\": \"white\", \"ticks\": \"\"}, \"baxis\": {\"gridcolor\": \"white\", \"linecolor\": \"white\", \"ticks\": \"\"}, \"bgcolor\": \"#E5ECF6\", \"caxis\": {\"gridcolor\": \"white\", \"linecolor\": \"white\", \"ticks\": \"\"}}, \"title\": {\"x\": 0.05}, \"xaxis\": {\"automargin\": true, \"gridcolor\": \"white\", \"linecolor\": \"white\", \"ticks\": \"\", \"title\": {\"standoff\": 15}, \"zerolinecolor\": \"white\", \"zerolinewidth\": 2}, \"yaxis\": {\"automargin\": true, \"gridcolor\": \"white\", \"linecolor\": \"white\", \"ticks\": \"\", \"title\": {\"standoff\": 15}, \"zerolinecolor\": \"white\", \"zerolinewidth\": 2}}}, \"title\": {\"text\": \"Daily Severe Airport Delays at JFK Airport\"}, \"xaxis\": {\"anchor\": \"y\", \"domain\": [0.0, 1.0], \"rangeslider\": {\"visible\": true}, \"title\": {\"text\": \"Date\"}}, \"yaxis\": {\"anchor\": \"x\", \"domain\": [0.0, 1.0], \"title\": {\"text\": \"Severe Delays\"}}},                        {\"responsive\": true}                    ).then(function(){\n",
       "                            \n",
       "var gd = document.getElementById('6f1cf1cd-b673-4ac9-b968-46ef816aad46');\n",
       "var x = new MutationObserver(function (mutations, observer) {{\n",
       "        var display = window.getComputedStyle(gd).display;\n",
       "        if (!display || display === 'none') {{\n",
       "            console.log([gd, 'removed!']);\n",
       "            Plotly.purge(gd);\n",
       "            observer.disconnect();\n",
       "        }}\n",
       "}});\n",
       "\n",
       "// Listen for the removal of the full notebook cells\n",
       "var notebookContainer = gd.closest('#notebook-container');\n",
       "if (notebookContainer) {{\n",
       "    x.observe(notebookContainer, {childList: true});\n",
       "}}\n",
       "\n",
       "// Listen for the clearing of the current output cell\n",
       "var outputEl = gd.closest('.output');\n",
       "if (outputEl) {{\n",
       "    x.observe(outputEl, {childList: true});\n",
       "}}\n",
       "\n",
       "                        })                };                });            </script>        </div>"
      ]
     },
     "metadata": {},
     "output_type": "display_data"
    }
   ],
   "source": [
    "# data  where the index is the date\n",
    "fig = px.line(df_by_date,\n",
    "              x=df_by_airport.loc[df_by_airport['ORIGIN'] == 'JFK']['date'],\n",
    "              y=df_by_airport.loc[df_by_airport['ORIGIN'] == 'JFK']['percent-delayed'],\n",
    "              labels={\n",
    "                     \"x\": \"Date\",\n",
    "                     \"y\": \"Severe Delays\"},  title=\"Daily Severe Airport Delays at JFK Airport\")\n",
    "\n",
    "# Show plot \n",
    "fig.update_layout(xaxis_rangeslider_visible=True)\n",
    "fig.show()"
   ]
  },
  {
   "cell_type": "code",
   "execution_count": 38,
   "metadata": {},
   "outputs": [
    {
     "data": {
      "application/vnd.plotly.v1+json": {
       "config": {
        "plotlyServerURL": "https://plot.ly"
       },
       "data": [
        {
         "alignmentgroup": "True",
         "hovertemplate": "Hour of the Day=%{x}<br>Severe Delays=%{y}<extra></extra>",
         "legendgroup": "",
         "marker": {
          "color": "#636efa"
         },
         "name": "",
         "offsetgroup": "",
         "orientation": "v",
         "showlegend": false,
         "textposition": "auto",
         "type": "bar",
         "x": [
          5,
          6,
          7,
          8,
          9,
          10,
          11,
          12,
          13,
          14,
          15,
          16,
          17,
          18,
          19,
          20,
          21,
          22,
          23
         ],
         "xaxis": "x",
         "y": [
          0.02857142857142857,
          0.029847834568864612,
          0.027228682170542636,
          0.020503441305289503,
          0.022238760232894103,
          0.025791521330829084,
          0.03018492053180893,
          0.03505154639175258,
          0.03635342831075865,
          0.039721671812358875,
          0.04634135452475557,
          0.051616476986604896,
          0.06436429314213782,
          0.0609643557503749,
          0.07176353559755577,
          0.07510717347813661,
          0.06189379243452958,
          0.08751279426816785,
          0.06534422403733955
         ],
         "yaxis": "y"
        }
       ],
       "layout": {
        "barmode": "relative",
        "legend": {
         "tracegroupgap": 0
        },
        "template": {
         "data": {
          "bar": [
           {
            "error_x": {
             "color": "#2a3f5f"
            },
            "error_y": {
             "color": "#2a3f5f"
            },
            "marker": {
             "line": {
              "color": "#E5ECF6",
              "width": 0.5
             }
            },
            "type": "bar"
           }
          ],
          "barpolar": [
           {
            "marker": {
             "line": {
              "color": "#E5ECF6",
              "width": 0.5
             }
            },
            "type": "barpolar"
           }
          ],
          "carpet": [
           {
            "aaxis": {
             "endlinecolor": "#2a3f5f",
             "gridcolor": "white",
             "linecolor": "white",
             "minorgridcolor": "white",
             "startlinecolor": "#2a3f5f"
            },
            "baxis": {
             "endlinecolor": "#2a3f5f",
             "gridcolor": "white",
             "linecolor": "white",
             "minorgridcolor": "white",
             "startlinecolor": "#2a3f5f"
            },
            "type": "carpet"
           }
          ],
          "choropleth": [
           {
            "colorbar": {
             "outlinewidth": 0,
             "ticks": ""
            },
            "type": "choropleth"
           }
          ],
          "contour": [
           {
            "colorbar": {
             "outlinewidth": 0,
             "ticks": ""
            },
            "colorscale": [
             [
              0,
              "#0d0887"
             ],
             [
              0.1111111111111111,
              "#46039f"
             ],
             [
              0.2222222222222222,
              "#7201a8"
             ],
             [
              0.3333333333333333,
              "#9c179e"
             ],
             [
              0.4444444444444444,
              "#bd3786"
             ],
             [
              0.5555555555555556,
              "#d8576b"
             ],
             [
              0.6666666666666666,
              "#ed7953"
             ],
             [
              0.7777777777777778,
              "#fb9f3a"
             ],
             [
              0.8888888888888888,
              "#fdca26"
             ],
             [
              1,
              "#f0f921"
             ]
            ],
            "type": "contour"
           }
          ],
          "contourcarpet": [
           {
            "colorbar": {
             "outlinewidth": 0,
             "ticks": ""
            },
            "type": "contourcarpet"
           }
          ],
          "heatmap": [
           {
            "colorbar": {
             "outlinewidth": 0,
             "ticks": ""
            },
            "colorscale": [
             [
              0,
              "#0d0887"
             ],
             [
              0.1111111111111111,
              "#46039f"
             ],
             [
              0.2222222222222222,
              "#7201a8"
             ],
             [
              0.3333333333333333,
              "#9c179e"
             ],
             [
              0.4444444444444444,
              "#bd3786"
             ],
             [
              0.5555555555555556,
              "#d8576b"
             ],
             [
              0.6666666666666666,
              "#ed7953"
             ],
             [
              0.7777777777777778,
              "#fb9f3a"
             ],
             [
              0.8888888888888888,
              "#fdca26"
             ],
             [
              1,
              "#f0f921"
             ]
            ],
            "type": "heatmap"
           }
          ],
          "heatmapgl": [
           {
            "colorbar": {
             "outlinewidth": 0,
             "ticks": ""
            },
            "colorscale": [
             [
              0,
              "#0d0887"
             ],
             [
              0.1111111111111111,
              "#46039f"
             ],
             [
              0.2222222222222222,
              "#7201a8"
             ],
             [
              0.3333333333333333,
              "#9c179e"
             ],
             [
              0.4444444444444444,
              "#bd3786"
             ],
             [
              0.5555555555555556,
              "#d8576b"
             ],
             [
              0.6666666666666666,
              "#ed7953"
             ],
             [
              0.7777777777777778,
              "#fb9f3a"
             ],
             [
              0.8888888888888888,
              "#fdca26"
             ],
             [
              1,
              "#f0f921"
             ]
            ],
            "type": "heatmapgl"
           }
          ],
          "histogram": [
           {
            "marker": {
             "colorbar": {
              "outlinewidth": 0,
              "ticks": ""
             }
            },
            "type": "histogram"
           }
          ],
          "histogram2d": [
           {
            "colorbar": {
             "outlinewidth": 0,
             "ticks": ""
            },
            "colorscale": [
             [
              0,
              "#0d0887"
             ],
             [
              0.1111111111111111,
              "#46039f"
             ],
             [
              0.2222222222222222,
              "#7201a8"
             ],
             [
              0.3333333333333333,
              "#9c179e"
             ],
             [
              0.4444444444444444,
              "#bd3786"
             ],
             [
              0.5555555555555556,
              "#d8576b"
             ],
             [
              0.6666666666666666,
              "#ed7953"
             ],
             [
              0.7777777777777778,
              "#fb9f3a"
             ],
             [
              0.8888888888888888,
              "#fdca26"
             ],
             [
              1,
              "#f0f921"
             ]
            ],
            "type": "histogram2d"
           }
          ],
          "histogram2dcontour": [
           {
            "colorbar": {
             "outlinewidth": 0,
             "ticks": ""
            },
            "colorscale": [
             [
              0,
              "#0d0887"
             ],
             [
              0.1111111111111111,
              "#46039f"
             ],
             [
              0.2222222222222222,
              "#7201a8"
             ],
             [
              0.3333333333333333,
              "#9c179e"
             ],
             [
              0.4444444444444444,
              "#bd3786"
             ],
             [
              0.5555555555555556,
              "#d8576b"
             ],
             [
              0.6666666666666666,
              "#ed7953"
             ],
             [
              0.7777777777777778,
              "#fb9f3a"
             ],
             [
              0.8888888888888888,
              "#fdca26"
             ],
             [
              1,
              "#f0f921"
             ]
            ],
            "type": "histogram2dcontour"
           }
          ],
          "mesh3d": [
           {
            "colorbar": {
             "outlinewidth": 0,
             "ticks": ""
            },
            "type": "mesh3d"
           }
          ],
          "parcoords": [
           {
            "line": {
             "colorbar": {
              "outlinewidth": 0,
              "ticks": ""
             }
            },
            "type": "parcoords"
           }
          ],
          "pie": [
           {
            "automargin": true,
            "type": "pie"
           }
          ],
          "scatter": [
           {
            "marker": {
             "colorbar": {
              "outlinewidth": 0,
              "ticks": ""
             }
            },
            "type": "scatter"
           }
          ],
          "scatter3d": [
           {
            "line": {
             "colorbar": {
              "outlinewidth": 0,
              "ticks": ""
             }
            },
            "marker": {
             "colorbar": {
              "outlinewidth": 0,
              "ticks": ""
             }
            },
            "type": "scatter3d"
           }
          ],
          "scattercarpet": [
           {
            "marker": {
             "colorbar": {
              "outlinewidth": 0,
              "ticks": ""
             }
            },
            "type": "scattercarpet"
           }
          ],
          "scattergeo": [
           {
            "marker": {
             "colorbar": {
              "outlinewidth": 0,
              "ticks": ""
             }
            },
            "type": "scattergeo"
           }
          ],
          "scattergl": [
           {
            "marker": {
             "colorbar": {
              "outlinewidth": 0,
              "ticks": ""
             }
            },
            "type": "scattergl"
           }
          ],
          "scattermapbox": [
           {
            "marker": {
             "colorbar": {
              "outlinewidth": 0,
              "ticks": ""
             }
            },
            "type": "scattermapbox"
           }
          ],
          "scatterpolar": [
           {
            "marker": {
             "colorbar": {
              "outlinewidth": 0,
              "ticks": ""
             }
            },
            "type": "scatterpolar"
           }
          ],
          "scatterpolargl": [
           {
            "marker": {
             "colorbar": {
              "outlinewidth": 0,
              "ticks": ""
             }
            },
            "type": "scatterpolargl"
           }
          ],
          "scatterternary": [
           {
            "marker": {
             "colorbar": {
              "outlinewidth": 0,
              "ticks": ""
             }
            },
            "type": "scatterternary"
           }
          ],
          "surface": [
           {
            "colorbar": {
             "outlinewidth": 0,
             "ticks": ""
            },
            "colorscale": [
             [
              0,
              "#0d0887"
             ],
             [
              0.1111111111111111,
              "#46039f"
             ],
             [
              0.2222222222222222,
              "#7201a8"
             ],
             [
              0.3333333333333333,
              "#9c179e"
             ],
             [
              0.4444444444444444,
              "#bd3786"
             ],
             [
              0.5555555555555556,
              "#d8576b"
             ],
             [
              0.6666666666666666,
              "#ed7953"
             ],
             [
              0.7777777777777778,
              "#fb9f3a"
             ],
             [
              0.8888888888888888,
              "#fdca26"
             ],
             [
              1,
              "#f0f921"
             ]
            ],
            "type": "surface"
           }
          ],
          "table": [
           {
            "cells": {
             "fill": {
              "color": "#EBF0F8"
             },
             "line": {
              "color": "white"
             }
            },
            "header": {
             "fill": {
              "color": "#C8D4E3"
             },
             "line": {
              "color": "white"
             }
            },
            "type": "table"
           }
          ]
         },
         "layout": {
          "annotationdefaults": {
           "arrowcolor": "#2a3f5f",
           "arrowhead": 0,
           "arrowwidth": 1
          },
          "coloraxis": {
           "colorbar": {
            "outlinewidth": 0,
            "ticks": ""
           }
          },
          "colorscale": {
           "diverging": [
            [
             0,
             "#8e0152"
            ],
            [
             0.1,
             "#c51b7d"
            ],
            [
             0.2,
             "#de77ae"
            ],
            [
             0.3,
             "#f1b6da"
            ],
            [
             0.4,
             "#fde0ef"
            ],
            [
             0.5,
             "#f7f7f7"
            ],
            [
             0.6,
             "#e6f5d0"
            ],
            [
             0.7,
             "#b8e186"
            ],
            [
             0.8,
             "#7fbc41"
            ],
            [
             0.9,
             "#4d9221"
            ],
            [
             1,
             "#276419"
            ]
           ],
           "sequential": [
            [
             0,
             "#0d0887"
            ],
            [
             0.1111111111111111,
             "#46039f"
            ],
            [
             0.2222222222222222,
             "#7201a8"
            ],
            [
             0.3333333333333333,
             "#9c179e"
            ],
            [
             0.4444444444444444,
             "#bd3786"
            ],
            [
             0.5555555555555556,
             "#d8576b"
            ],
            [
             0.6666666666666666,
             "#ed7953"
            ],
            [
             0.7777777777777778,
             "#fb9f3a"
            ],
            [
             0.8888888888888888,
             "#fdca26"
            ],
            [
             1,
             "#f0f921"
            ]
           ],
           "sequentialminus": [
            [
             0,
             "#0d0887"
            ],
            [
             0.1111111111111111,
             "#46039f"
            ],
            [
             0.2222222222222222,
             "#7201a8"
            ],
            [
             0.3333333333333333,
             "#9c179e"
            ],
            [
             0.4444444444444444,
             "#bd3786"
            ],
            [
             0.5555555555555556,
             "#d8576b"
            ],
            [
             0.6666666666666666,
             "#ed7953"
            ],
            [
             0.7777777777777778,
             "#fb9f3a"
            ],
            [
             0.8888888888888888,
             "#fdca26"
            ],
            [
             1,
             "#f0f921"
            ]
           ]
          },
          "colorway": [
           "#636efa",
           "#EF553B",
           "#00cc96",
           "#ab63fa",
           "#FFA15A",
           "#19d3f3",
           "#FF6692",
           "#B6E880",
           "#FF97FF",
           "#FECB52"
          ],
          "font": {
           "color": "#2a3f5f"
          },
          "geo": {
           "bgcolor": "white",
           "lakecolor": "white",
           "landcolor": "#E5ECF6",
           "showlakes": true,
           "showland": true,
           "subunitcolor": "white"
          },
          "hoverlabel": {
           "align": "left"
          },
          "hovermode": "closest",
          "mapbox": {
           "style": "light"
          },
          "paper_bgcolor": "white",
          "plot_bgcolor": "#E5ECF6",
          "polar": {
           "angularaxis": {
            "gridcolor": "white",
            "linecolor": "white",
            "ticks": ""
           },
           "bgcolor": "#E5ECF6",
           "radialaxis": {
            "gridcolor": "white",
            "linecolor": "white",
            "ticks": ""
           }
          },
          "scene": {
           "xaxis": {
            "backgroundcolor": "#E5ECF6",
            "gridcolor": "white",
            "gridwidth": 2,
            "linecolor": "white",
            "showbackground": true,
            "ticks": "",
            "zerolinecolor": "white"
           },
           "yaxis": {
            "backgroundcolor": "#E5ECF6",
            "gridcolor": "white",
            "gridwidth": 2,
            "linecolor": "white",
            "showbackground": true,
            "ticks": "",
            "zerolinecolor": "white"
           },
           "zaxis": {
            "backgroundcolor": "#E5ECF6",
            "gridcolor": "white",
            "gridwidth": 2,
            "linecolor": "white",
            "showbackground": true,
            "ticks": "",
            "zerolinecolor": "white"
           }
          },
          "shapedefaults": {
           "line": {
            "color": "#2a3f5f"
           }
          },
          "ternary": {
           "aaxis": {
            "gridcolor": "white",
            "linecolor": "white",
            "ticks": ""
           },
           "baxis": {
            "gridcolor": "white",
            "linecolor": "white",
            "ticks": ""
           },
           "bgcolor": "#E5ECF6",
           "caxis": {
            "gridcolor": "white",
            "linecolor": "white",
            "ticks": ""
           }
          },
          "title": {
           "x": 0.05
          },
          "xaxis": {
           "automargin": true,
           "gridcolor": "white",
           "linecolor": "white",
           "ticks": "",
           "title": {
            "standoff": 15
           },
           "zerolinecolor": "white",
           "zerolinewidth": 2
          },
          "yaxis": {
           "automargin": true,
           "gridcolor": "white",
           "linecolor": "white",
           "ticks": "",
           "title": {
            "standoff": 15
           },
           "zerolinecolor": "white",
           "zerolinewidth": 2
          }
         }
        },
        "title": {
         "text": "Severe Delays by Hour of the Day at JFK Airport"
        },
        "xaxis": {
         "anchor": "y",
         "domain": [
          0,
          1
         ],
         "title": {
          "text": "Hour of the Day"
         }
        },
        "yaxis": {
         "anchor": "x",
         "domain": [
          0,
          1
         ],
         "title": {
          "text": "Severe Delays"
         }
        }
       }
      },
      "text/html": [
       "<div>                            <div id=\"79edcd8b-b885-4c8e-b2c9-7df529a2c6cc\" class=\"plotly-graph-div\" style=\"height:525px; width:100%;\"></div>            <script type=\"text/javascript\">                require([\"plotly\"], function(Plotly) {                    window.PLOTLYENV=window.PLOTLYENV || {};                                    if (document.getElementById(\"79edcd8b-b885-4c8e-b2c9-7df529a2c6cc\")) {                    Plotly.newPlot(                        \"79edcd8b-b885-4c8e-b2c9-7df529a2c6cc\",                        [{\"alignmentgroup\": \"True\", \"hovertemplate\": \"Hour of the Day=%{x}<br>Severe Delays=%{y}<extra></extra>\", \"legendgroup\": \"\", \"marker\": {\"color\": \"#636efa\"}, \"name\": \"\", \"offsetgroup\": \"\", \"orientation\": \"v\", \"showlegend\": false, \"textposition\": \"auto\", \"type\": \"bar\", \"x\": [5, 6, 7, 8, 9, 10, 11, 12, 13, 14, 15, 16, 17, 18, 19, 20, 21, 22, 23], \"xaxis\": \"x\", \"y\": [0.02857142857142857, 0.029847834568864612, 0.027228682170542636, 0.020503441305289503, 0.022238760232894103, 0.025791521330829084, 0.03018492053180893, 0.03505154639175258, 0.03635342831075865, 0.039721671812358875, 0.04634135452475557, 0.051616476986604896, 0.06436429314213782, 0.0609643557503749, 0.07176353559755577, 0.07510717347813661, 0.06189379243452958, 0.08751279426816785, 0.06534422403733955], \"yaxis\": \"y\"}],                        {\"barmode\": \"relative\", \"legend\": {\"tracegroupgap\": 0}, \"template\": {\"data\": {\"bar\": [{\"error_x\": {\"color\": \"#2a3f5f\"}, \"error_y\": {\"color\": \"#2a3f5f\"}, \"marker\": {\"line\": {\"color\": \"#E5ECF6\", \"width\": 0.5}}, \"type\": \"bar\"}], \"barpolar\": [{\"marker\": {\"line\": {\"color\": \"#E5ECF6\", \"width\": 0.5}}, \"type\": \"barpolar\"}], \"carpet\": [{\"aaxis\": {\"endlinecolor\": \"#2a3f5f\", \"gridcolor\": \"white\", \"linecolor\": \"white\", \"minorgridcolor\": \"white\", \"startlinecolor\": \"#2a3f5f\"}, \"baxis\": {\"endlinecolor\": \"#2a3f5f\", \"gridcolor\": \"white\", \"linecolor\": \"white\", \"minorgridcolor\": \"white\", \"startlinecolor\": \"#2a3f5f\"}, \"type\": \"carpet\"}], \"choropleth\": [{\"colorbar\": {\"outlinewidth\": 0, \"ticks\": \"\"}, \"type\": \"choropleth\"}], \"contour\": [{\"colorbar\": {\"outlinewidth\": 0, \"ticks\": \"\"}, \"colorscale\": [[0.0, \"#0d0887\"], [0.1111111111111111, \"#46039f\"], [0.2222222222222222, \"#7201a8\"], [0.3333333333333333, \"#9c179e\"], [0.4444444444444444, \"#bd3786\"], [0.5555555555555556, \"#d8576b\"], [0.6666666666666666, \"#ed7953\"], [0.7777777777777778, \"#fb9f3a\"], [0.8888888888888888, \"#fdca26\"], [1.0, \"#f0f921\"]], \"type\": \"contour\"}], \"contourcarpet\": [{\"colorbar\": {\"outlinewidth\": 0, \"ticks\": \"\"}, \"type\": \"contourcarpet\"}], \"heatmap\": [{\"colorbar\": {\"outlinewidth\": 0, \"ticks\": \"\"}, \"colorscale\": [[0.0, \"#0d0887\"], [0.1111111111111111, \"#46039f\"], [0.2222222222222222, \"#7201a8\"], [0.3333333333333333, \"#9c179e\"], [0.4444444444444444, \"#bd3786\"], [0.5555555555555556, \"#d8576b\"], [0.6666666666666666, \"#ed7953\"], [0.7777777777777778, \"#fb9f3a\"], [0.8888888888888888, \"#fdca26\"], [1.0, \"#f0f921\"]], \"type\": \"heatmap\"}], \"heatmapgl\": [{\"colorbar\": {\"outlinewidth\": 0, \"ticks\": \"\"}, \"colorscale\": [[0.0, \"#0d0887\"], [0.1111111111111111, \"#46039f\"], [0.2222222222222222, \"#7201a8\"], [0.3333333333333333, \"#9c179e\"], [0.4444444444444444, \"#bd3786\"], [0.5555555555555556, \"#d8576b\"], [0.6666666666666666, \"#ed7953\"], [0.7777777777777778, \"#fb9f3a\"], [0.8888888888888888, \"#fdca26\"], [1.0, \"#f0f921\"]], \"type\": \"heatmapgl\"}], \"histogram\": [{\"marker\": {\"colorbar\": {\"outlinewidth\": 0, \"ticks\": \"\"}}, \"type\": \"histogram\"}], \"histogram2d\": [{\"colorbar\": {\"outlinewidth\": 0, \"ticks\": \"\"}, \"colorscale\": [[0.0, \"#0d0887\"], [0.1111111111111111, \"#46039f\"], [0.2222222222222222, \"#7201a8\"], [0.3333333333333333, \"#9c179e\"], [0.4444444444444444, \"#bd3786\"], [0.5555555555555556, \"#d8576b\"], [0.6666666666666666, \"#ed7953\"], [0.7777777777777778, \"#fb9f3a\"], [0.8888888888888888, \"#fdca26\"], [1.0, \"#f0f921\"]], \"type\": \"histogram2d\"}], \"histogram2dcontour\": [{\"colorbar\": {\"outlinewidth\": 0, \"ticks\": \"\"}, \"colorscale\": [[0.0, \"#0d0887\"], [0.1111111111111111, \"#46039f\"], [0.2222222222222222, \"#7201a8\"], [0.3333333333333333, \"#9c179e\"], [0.4444444444444444, \"#bd3786\"], [0.5555555555555556, \"#d8576b\"], [0.6666666666666666, \"#ed7953\"], [0.7777777777777778, \"#fb9f3a\"], [0.8888888888888888, \"#fdca26\"], [1.0, \"#f0f921\"]], \"type\": \"histogram2dcontour\"}], \"mesh3d\": [{\"colorbar\": {\"outlinewidth\": 0, \"ticks\": \"\"}, \"type\": \"mesh3d\"}], \"parcoords\": [{\"line\": {\"colorbar\": {\"outlinewidth\": 0, \"ticks\": \"\"}}, \"type\": \"parcoords\"}], \"pie\": [{\"automargin\": true, \"type\": \"pie\"}], \"scatter\": [{\"marker\": {\"colorbar\": {\"outlinewidth\": 0, \"ticks\": \"\"}}, \"type\": \"scatter\"}], \"scatter3d\": [{\"line\": {\"colorbar\": {\"outlinewidth\": 0, \"ticks\": \"\"}}, \"marker\": {\"colorbar\": {\"outlinewidth\": 0, \"ticks\": \"\"}}, \"type\": \"scatter3d\"}], \"scattercarpet\": [{\"marker\": {\"colorbar\": {\"outlinewidth\": 0, \"ticks\": \"\"}}, \"type\": \"scattercarpet\"}], \"scattergeo\": [{\"marker\": {\"colorbar\": {\"outlinewidth\": 0, \"ticks\": \"\"}}, \"type\": \"scattergeo\"}], \"scattergl\": [{\"marker\": {\"colorbar\": {\"outlinewidth\": 0, \"ticks\": \"\"}}, \"type\": \"scattergl\"}], \"scattermapbox\": [{\"marker\": {\"colorbar\": {\"outlinewidth\": 0, \"ticks\": \"\"}}, \"type\": \"scattermapbox\"}], \"scatterpolar\": [{\"marker\": {\"colorbar\": {\"outlinewidth\": 0, \"ticks\": \"\"}}, \"type\": \"scatterpolar\"}], \"scatterpolargl\": [{\"marker\": {\"colorbar\": {\"outlinewidth\": 0, \"ticks\": \"\"}}, \"type\": \"scatterpolargl\"}], \"scatterternary\": [{\"marker\": {\"colorbar\": {\"outlinewidth\": 0, \"ticks\": \"\"}}, \"type\": \"scatterternary\"}], \"surface\": [{\"colorbar\": {\"outlinewidth\": 0, \"ticks\": \"\"}, \"colorscale\": [[0.0, \"#0d0887\"], [0.1111111111111111, \"#46039f\"], [0.2222222222222222, \"#7201a8\"], [0.3333333333333333, \"#9c179e\"], [0.4444444444444444, \"#bd3786\"], [0.5555555555555556, \"#d8576b\"], [0.6666666666666666, \"#ed7953\"], [0.7777777777777778, \"#fb9f3a\"], [0.8888888888888888, \"#fdca26\"], [1.0, \"#f0f921\"]], \"type\": \"surface\"}], \"table\": [{\"cells\": {\"fill\": {\"color\": \"#EBF0F8\"}, \"line\": {\"color\": \"white\"}}, \"header\": {\"fill\": {\"color\": \"#C8D4E3\"}, \"line\": {\"color\": \"white\"}}, \"type\": \"table\"}]}, \"layout\": {\"annotationdefaults\": {\"arrowcolor\": \"#2a3f5f\", \"arrowhead\": 0, \"arrowwidth\": 1}, \"coloraxis\": {\"colorbar\": {\"outlinewidth\": 0, \"ticks\": \"\"}}, \"colorscale\": {\"diverging\": [[0, \"#8e0152\"], [0.1, \"#c51b7d\"], [0.2, \"#de77ae\"], [0.3, \"#f1b6da\"], [0.4, \"#fde0ef\"], [0.5, \"#f7f7f7\"], [0.6, \"#e6f5d0\"], [0.7, \"#b8e186\"], [0.8, \"#7fbc41\"], [0.9, \"#4d9221\"], [1, \"#276419\"]], \"sequential\": [[0.0, \"#0d0887\"], [0.1111111111111111, \"#46039f\"], [0.2222222222222222, \"#7201a8\"], [0.3333333333333333, \"#9c179e\"], [0.4444444444444444, \"#bd3786\"], [0.5555555555555556, \"#d8576b\"], [0.6666666666666666, \"#ed7953\"], [0.7777777777777778, \"#fb9f3a\"], [0.8888888888888888, \"#fdca26\"], [1.0, \"#f0f921\"]], \"sequentialminus\": [[0.0, \"#0d0887\"], [0.1111111111111111, \"#46039f\"], [0.2222222222222222, \"#7201a8\"], [0.3333333333333333, \"#9c179e\"], [0.4444444444444444, \"#bd3786\"], [0.5555555555555556, \"#d8576b\"], [0.6666666666666666, \"#ed7953\"], [0.7777777777777778, \"#fb9f3a\"], [0.8888888888888888, \"#fdca26\"], [1.0, \"#f0f921\"]]}, \"colorway\": [\"#636efa\", \"#EF553B\", \"#00cc96\", \"#ab63fa\", \"#FFA15A\", \"#19d3f3\", \"#FF6692\", \"#B6E880\", \"#FF97FF\", \"#FECB52\"], \"font\": {\"color\": \"#2a3f5f\"}, \"geo\": {\"bgcolor\": \"white\", \"lakecolor\": \"white\", \"landcolor\": \"#E5ECF6\", \"showlakes\": true, \"showland\": true, \"subunitcolor\": \"white\"}, \"hoverlabel\": {\"align\": \"left\"}, \"hovermode\": \"closest\", \"mapbox\": {\"style\": \"light\"}, \"paper_bgcolor\": \"white\", \"plot_bgcolor\": \"#E5ECF6\", \"polar\": {\"angularaxis\": {\"gridcolor\": \"white\", \"linecolor\": \"white\", \"ticks\": \"\"}, \"bgcolor\": \"#E5ECF6\", \"radialaxis\": {\"gridcolor\": \"white\", \"linecolor\": \"white\", \"ticks\": \"\"}}, \"scene\": {\"xaxis\": {\"backgroundcolor\": \"#E5ECF6\", \"gridcolor\": \"white\", \"gridwidth\": 2, \"linecolor\": \"white\", \"showbackground\": true, \"ticks\": \"\", \"zerolinecolor\": \"white\"}, \"yaxis\": {\"backgroundcolor\": \"#E5ECF6\", \"gridcolor\": \"white\", \"gridwidth\": 2, \"linecolor\": \"white\", \"showbackground\": true, \"ticks\": \"\", \"zerolinecolor\": \"white\"}, \"zaxis\": {\"backgroundcolor\": \"#E5ECF6\", \"gridcolor\": \"white\", \"gridwidth\": 2, \"linecolor\": \"white\", \"showbackground\": true, \"ticks\": \"\", \"zerolinecolor\": \"white\"}}, \"shapedefaults\": {\"line\": {\"color\": \"#2a3f5f\"}}, \"ternary\": {\"aaxis\": {\"gridcolor\": \"white\", \"linecolor\": \"white\", \"ticks\": \"\"}, \"baxis\": {\"gridcolor\": \"white\", \"linecolor\": \"white\", \"ticks\": \"\"}, \"bgcolor\": \"#E5ECF6\", \"caxis\": {\"gridcolor\": \"white\", \"linecolor\": \"white\", \"ticks\": \"\"}}, \"title\": {\"x\": 0.05}, \"xaxis\": {\"automargin\": true, \"gridcolor\": \"white\", \"linecolor\": \"white\", \"ticks\": \"\", \"title\": {\"standoff\": 15}, \"zerolinecolor\": \"white\", \"zerolinewidth\": 2}, \"yaxis\": {\"automargin\": true, \"gridcolor\": \"white\", \"linecolor\": \"white\", \"ticks\": \"\", \"title\": {\"standoff\": 15}, \"zerolinecolor\": \"white\", \"zerolinewidth\": 2}}}, \"title\": {\"text\": \"Severe Delays by Hour of the Day at JFK Airport\"}, \"xaxis\": {\"anchor\": \"y\", \"domain\": [0.0, 1.0], \"title\": {\"text\": \"Hour of the Day\"}}, \"yaxis\": {\"anchor\": \"x\", \"domain\": [0.0, 1.0], \"title\": {\"text\": \"Severe Delays\"}}},                        {\"responsive\": true}                    ).then(function(){\n",
       "                            \n",
       "var gd = document.getElementById('79edcd8b-b885-4c8e-b2c9-7df529a2c6cc');\n",
       "var x = new MutationObserver(function (mutations, observer) {{\n",
       "        var display = window.getComputedStyle(gd).display;\n",
       "        if (!display || display === 'none') {{\n",
       "            console.log([gd, 'removed!']);\n",
       "            Plotly.purge(gd);\n",
       "            observer.disconnect();\n",
       "        }}\n",
       "}});\n",
       "\n",
       "// Listen for the removal of the full notebook cells\n",
       "var notebookContainer = gd.closest('#notebook-container');\n",
       "if (notebookContainer) {{\n",
       "    x.observe(notebookContainer, {childList: true});\n",
       "}}\n",
       "\n",
       "// Listen for the clearing of the current output cell\n",
       "var outputEl = gd.closest('.output');\n",
       "if (outputEl) {{\n",
       "    x.observe(outputEl, {childList: true});\n",
       "}}\n",
       "\n",
       "                        })                };                });            </script>        </div>"
      ]
     },
     "metadata": {},
     "output_type": "display_data"
    }
   ],
   "source": [
    "px.bar(df_by_hour,\n",
    "                  x=df_by_hour.loc[df_by_hour['ORIGIN'] == 'ATL']['rounded-hour'],\n",
    "                  y=df_by_hour.loc[df_by_hour['ORIGIN'] == 'ATL']['percent-delayed'],\n",
    "                  labels={\"x\": \"Hour of the Day\",\n",
    "                          \"y\": \"Severe Delays\"},\n",
    "                  title=\"Severe Delays by Hour of the Day at JFK Airport\")"
   ]
  },
  {
   "cell_type": "code",
   "execution_count": null,
   "metadata": {},
   "outputs": [],
   "source": []
  }
 ],
 "metadata": {
  "kernelspec": {
   "display_name": "Python (learn-env)",
   "language": "python",
   "name": "learn-env"
  },
  "language_info": {
   "codemirror_mode": {
    "name": "ipython",
    "version": 3
   },
   "file_extension": ".py",
   "mimetype": "text/x-python",
   "name": "python",
   "nbconvert_exporter": "python",
   "pygments_lexer": "ipython3",
   "version": "3.8.5"
  }
 },
 "nbformat": 4,
 "nbformat_minor": 4
}
