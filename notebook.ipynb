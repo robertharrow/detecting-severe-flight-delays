{
 "cells": [
  {
   "cell_type": "markdown",
   "metadata": {},
   "source": [
    "# Flight Delays"
   ]
  },
  {
   "cell_type": "code",
   "execution_count": 1,
   "metadata": {},
   "outputs": [],
   "source": [
    "import pandas as pd\n",
    "import glob\n",
    "import os\n",
    "import requests\n",
    "import json\n",
    "import numpy as np\n",
    "\n",
    "import warnings\n",
    "warnings.filterwarnings(action='ignore', category=FutureWarning)"
   ]
  },
  {
   "cell_type": "markdown",
   "metadata": {},
   "source": [
    "## Business Understanding\n",
    "\n",
    "MVP should support:\n",
    "\n",
    "* [Top 8 US Airlines](https://www.statista.com/statistics/250577/domestic-market-share-of-leading-us-airlines/)\n",
    " * American Airlines\n",
    " * Delta Air Lines\n",
    " * United Airlines\n",
    " * Southwest Airlines\n",
    " * Alaska Airlines\n",
    " * JetBlue Airways\n",
    " * Spirit\n",
    " * SkyWest\n",
    "* [Large and medium airport hubs](https://www.faa.gov/airports/planning_capacity/passenger_allcargo_stats/passenger/media/cy20-commercial-service-enplanements.pdf)\n",
    " * \"The term hub is used by the FAA to identify very busy commercial service airports. Large hubs are the airports that each account for at least one percent of total U.S. passenger enplanements.\"\n",
    " * In 2020 these accounted for 84% of all enplanements\n"
   ]
  },
  {
   "cell_type": "markdown",
   "metadata": {},
   "source": [
    "### Airports\n",
    "| State | Locid | City                  | Airport Name                                           | CY 20 Enplanements |\n",
    "|-------|-------|-----------------------|--------------------------------------------------------|--------------------|\n",
    "| GA    | ATL   | Atlanta               | Hartsfield - Jackson Atlanta International             |         20,559,866 |\n",
    "| TX    | DFW   | Fort Worth            | Dallas-Fort Worth International                        |         18,593,421 |\n",
    "| CO    | DEN   | Denver                | Denver International                                   |         16,243,216 |\n",
    "| IL    | ORD   | Chicago               | Chicago O'Hare International                           |         14,606,034 |\n",
    "| CA    | LAX   | Los Angeles           | Los Angeles International                              |         14,055,777 |\n",
    "| NC    | CLT   | Charlotte             | Charlotte/Douglas International                        |         12,952,869 |\n",
    "| NV    | LAS   | Las Vegas             | Harry Reid International                               |         10,584,059 |\n",
    "| AZ    | PHX   | Phoenix               | Phoenix Sky Harbor International                       |         10,531,436 |\n",
    "| FL    | MCO   | Orlando               | Orlando International                                  |         10,467,728 |\n",
    "| WA    | SEA   | Seattle               | Seattle-Tacoma International                           |          9,462,411 |\n",
    "| FL    | MIA   | Miami                 | Miami International                                    |          8,786,007 |\n",
    "| TX    | IAH   | Houston               | George Bush Intcntl/Houston                            |          8,682,558 |\n",
    "| NY    | JFK   | New York              | John F Kennedy International                           |          8,269,819 |\n",
    "| FL    | FLL   | Fort Lauderdale       | Fort Lauderdale/Hollywood International                |          8,015,744 |\n",
    "| NJ    | EWR   | Newark                | Newark Liberty International                           |          7,985,474 |\n",
    "| CA    | SFO   | San Francisco         | San Francisco International                            |          7,745,057 |\n",
    "| MN    | MSP   | Minneapolis           | Minneapolis-St Paul International/Wold-  Chamberlain   |          7,069,720 |\n",
    "| MI    | DTW   | Detroit               | Detroit Metro Wayne County                             |          6,822,324 |\n",
    "| MA    | BOS   | Boston                | General Edward Lawrence Logan   International          |          6,035,452 |\n",
    "| UT    | SLC   | Salt Lake City        | Salt Lake City International                           |          5,981,032 |\n",
    "| PA    | PHL   | Philadelphia          | Philadelphia International                             |          5,753,239 |\n",
    "| MD    | BWI   | Glen Burnie           | Baltimore/Washington International   Thurgood Marshall |          5,451,355 |\n",
    "| FL    | TPA   | Tampa                 | Tampa International                                    |          4,966,775 |\n",
    "| CA    | SAN   | San Diego             | San Diego International                                |          4,637,856 |\n",
    "| IL    | MDW   | Chicago               | Chicago Midway International                           |          4,236,603 |\n",
    "| NY    | LGA   | New York              | Laguardia                                              |          4,147,116 |\n",
    "| TN    | BNA   | Nashville             | Nashville International                                |          4,013,995 |\n",
    "| VA    | IAD   | Dulles                | Washington Dulles International                        |          3,862,658 |\n",
    "| TX    |   DAL | Dallas                | Dallas Love Field                                      |          3,669,930 |\n",
    "| VA    | DCA   | Arlington             | Ronald Reagan Washington Ntl                           |          3,573,489 |\n",
    "| OR    | PDX   | Portland              | Portland International                                 |          3,455,877 |\n",
    "| TX    | AUS   | Austin                | Austin-Bergstrom International                         |          3,141,505 |\n",
    "| TX    | HOU   | Houston               | William P Hobby                                        |          3,127,178 |\n",
    "| HI    | HNL   | Honolulu              | Daniel K Inouye International                          |          3,126,391 |\n",
    "| MO    | STL   | St. Louis             | St Louis Lambert International                         |          3,041,765 |\n",
    "| FL    | RSW   | Fort Myers            | Southwest Florida International                        |          2,947,139 |\n",
    "| CA    | SMF   | Sacramento            | Sacramento International                               |          2,710,342 |\n",
    "| LA    | MSY   | New Orleans -  Kenner | Louis Armstrong New Orleans   International            |          2,632,606 |\n",
    "| PR    | SJU   | San Juan              | Luis Munoz Marin International                         |          2,362,851 |\n",
    "| NC    | RDU   | Raleigh               | Raleigh-Durham International                           |          2,337,496 |\n",
    "| CA    | SJC   | San Jose              | Norman Y Mineta San Jose International                 |          2,283,186 |\n",
    "| CA    | OAK   | Oakland               | Metro Oakland International                            |          2,271,294 |\n",
    "| MO    | MCI   | Kansas City           | Kansas City International                              |          2,167,616 |\n",
    "| OH    | CLE   | Cleveland             | Cleveland-Hopkins International                        |          1,990,156 |\n",
    "| IN    | IND   | Indianapolis          | Indianapolis International                             |          1,989,126 |\n",
    "| TX    | SAT   | San Antonio           | San Antonio International                              |          1,919,958 |\n",
    "| CA    | SNA   | Santa Ana             | John Wayne/Orange County                               |          1,824,836 |\n",
    "| PA    | PIT   | Pittsburgh            | Pittsburgh International                               |          1,742,406 |\n",
    "| KY    | CVG   | Hebron                | Cincinnati/Northern Kentucky   International           |          1,729,395 |\n",
    "| OH    | CMH   | Columbus              | John Glenn Columbus International                      |          1,577,596 |\n",
    "| FL    | PBI   | West Palm   Beach     | Palm Beach International                               |          1,518,732 |\n",
    "| FL    | JAX   | Jacksonville          | Jacksonville International                             |          1,367,501 |\n",
    "| WI    | MKE   | Milwaukee             | General Mitchell International                         |          1,263,385 |\n",
    "| CA    | ONT   | Ontario               | Ontario International                                  |          1,237,946 |\n",
    "| AK    | ANC   | Anchorage             | Ted Stevens Anchorage International                    |          1,157,301 |\n",
    "| CT    | BDL   | Windsor Locks         | Bradley International                                  |          1,150,033 |\n",
    "| HI    | OGG   | Kahului               | Kahului                                                |          1,135,141 |\n",
    "| CA    | BUR   | Burbank               | Bob Hope                                               |          1,056,838 |\n",
    "| NE    | OMA   | Omaha                 | Eppley Airfield                                        |          1,036,245 |\n",
    "| TN    | MEM   | Memphis               | Memphis International                                  |          1,015,981 |\n",
    "| ID    | BOI   | Boise                 | Boise Air Trml/Gowen Field                             |            991,241 |\n",
    "| NV    | RNO   | Reno                  | Reno/Tahoe International                               |            976,937 |\n",
    "| SC    | CHS   | Charleston            | Charleston AFB/International                           |            944,660 |\n",
    "| OK    | OKC   | Oklahoma City         | Will Rogers World                                      |            934,842 |"
   ]
  },
  {
   "cell_type": "markdown",
   "metadata": {},
   "source": [
    "## Data"
   ]
  },
  {
   "cell_type": "code",
   "execution_count": 2,
   "metadata": {},
   "outputs": [],
   "source": [
    "# flight_data = glob.glob(os.path.join('data/flights/', \"*.csv\"))\n",
    "\n",
    "# df = pd.concat((pd.read_csv(f) for f in flight_data), ignore_index=True)"
   ]
  },
  {
   "cell_type": "markdown",
   "metadata": {},
   "source": [
    "| Field               | Description                                                                                                                                                         |\n",
    "|---------------------|---------------------------------------------------------------------------------------------------------------------------------------------------------------------|\n",
    "| YEAR                | Year                                                                                                                                                                |\n",
    "| MONTH               | Month                                                                                                                                                               |\n",
    "| DAY_OF_WEEK         | Day of Week                                                                                                                                                         |\n",
    "| FL_DATE             | Flight Date (yyyymmdd)                                                                                                                                              |\n",
    "| MKT_UNIQUE_CARRIER  | Unique Marketing Carrier Code. When the same code has been used by multiple carriers, a numeric suffix is used for earlier users, for example, PA, PA(1), PA(2).    |\n",
    "| MKT_CARRIER_FL_NUM  | Flight Number                                                                                                                                                       |\n",
    "| OP_UNIQUE_CARRIER   | Flight NumberUnique Carrier Code. When the same code has been used by multiple carriers, a numeric suffix is used for earlier users, for example, PA, PA(1), PA(2)  |\n",
    "| ORIGIN              | Origin Airport                                                                                                                                                     |\n",
    "| ORIGIN_WAC          | Origin Airport, World Area Code                                                                                                                                     |\n",
    "| DEST                | Destination Airport                                                                                                                                                |\n",
    "| DEST_WAC            | Destination Airport, World Area Code                                                                                                                                |\n",
    "| CRS_DEP_TIME        | CRS Departure Time (local time: hhmm)                                                                                                                               |\n",
    "| DEP_TIME            | Actual Departure Time (local time: hhmm)                                                                                                                            |\n",
    "| DEP_DELAY_NEW       | Difference in minutes between scheduled and actual departure time. Early departures set to 0.                                                                       |\n",
    "| TAXI_OUT            | Taxi Out Time, in Minutes                                                                                                                                           |\n",
    "| TAXI_IN             | Taxi In Time, in Minutes                                                                                                                                            |\n",
    "| CRS_ARR_TIME        | CRS Arrival Time (local time: hhmm)                                                                                                                                 |\n",
    "| ARR_TIME            | Actual Arrival Time (local time: hhmm)                                                                                                                              |\n",
    "| ARR_DELAY_NEW       | Difference in minutes between scheduled and actual arrival time. Early arrivals set to 0.                                                                           |\n",
    "| CARRIER_DELAY       | Carrier Delay, in Minutes                                                                                                                                           |\n",
    "| WEATHER_DELAY       | Weather Delay, in Minutes                                                                                                                                           |\n",
    "| NAS_DELAY           | National Air System Delay, in Minutes                                                                                                                               |\n",
    "| SECURITY_DELAY      | Security Delay, in Minutes                                                                                                                                         |\n",
    "| LATE_AIRCRAFT_DELAY | Late Aircraft Delay, in Minutes                                                                                                                                    |\n"
   ]
  },
  {
   "cell_type": "code",
   "execution_count": 3,
   "metadata": {},
   "outputs": [],
   "source": [
    "# def float_to_time(time):\n",
    "#     time_str = str(time)\n",
    "#     digits = len(time_str)\n",
    "#     if digits < 2:\n",
    "#         return '00:0' + str(time)\n",
    "#     if digits == 2:\n",
    "#         return '00:' + str(time)\n",
    "#     if digits == 3:\n",
    "#         return '0' + time_str[:1] + ':' + time_str[1:]\n",
    "#     if digits == 4:\n",
    "#         return time_str[:2] + ':' + time_str[2:]\n",
    "    \n",
    "# df['FL_DATE'] = df['FL_DATE'].astype('datetime64[ns]')\n",
    "# df.sort_values('FL_DATE', inplace=True)\n",
    "\n",
    "# df['prev_airport'] = df.groupby('TAIL_NUM')['ORIGIN'].shift(fill_value=0)\n",
    "# df['prev_airport_date'] = df.groupby('TAIL_NUM')['FL_DATE'].shift(fill_value=0)\n",
    "# df['scheduled-takeoff-time'] = df['CRS_DEP_TIME'].apply(float_to_time)\n",
    "# df['scheduled-takeoff'] =  pd.to_datetime(df['FL_DATE'].astype(str) + ' ' + df['scheduled-takeoff-time'])"
   ]
  },
  {
   "cell_type": "code",
   "execution_count": 4,
   "metadata": {},
   "outputs": [],
   "source": [
    "# from datetime import datetime, timedelta\n",
    "\n",
    "# def hour_rounder(t):\n",
    "#     # Rounds to nearest hour by adding a timedelta hour if minute >= 30\n",
    "#     return (t.replace(second=0, microsecond=0, minute=0, hour=t.hour)\n",
    "#                +timedelta(hours=t.minute//30))\n",
    "\n",
    "# df['rounded-takeoff'] = df['scheduled-takeoff'].apply(hour_rounder)\n",
    "# df['rounded-takeoff-minus-one'] = df['rounded-takeoff'] - timedelta(hours=0, minutes=60)\n",
    "# df['take-off-rounded-hour'] = df['rounded-takeoff'].dt.hour\n",
    "# df['take-off-rounded-hour-minus-one'] = df['rounded-takeoff-minus-one'].dt.hour\n",
    "# df['congestion-at-takeoff-key'] = df['ORIGIN'] + df['MONTH'].astype(str) + df['DAY_OF_MONTH'].astype(str) + df['DAY_OF_WEEK'].astype(str) + df['take-off-rounded-hour'].astype(str)\n",
    "# df['congestion-before-takeoff-key'] = df['ORIGIN'] + df['MONTH'].astype(str) + df['DAY_OF_MONTH'].astype(str) + df['DAY_OF_WEEK'].astype(str) + df['take-off-rounded-hour-minus-one'].astype(str)"
   ]
  },
  {
   "cell_type": "code",
   "execution_count": 5,
   "metadata": {},
   "outputs": [],
   "source": [
    "# flight_counts_at_takehoff = df.groupby('congestion-at-takeoff-key')['TAIL_NUM'].count()\n",
    "# flight_counts_at_takehoff = flight_counts_at_takehoff.to_frame()\n",
    "# flight_counts_at_takehoff.reset_index(inplace=True)\n",
    "\n",
    "# flight_counts_at_takehoff.rename(columns={'congestion-at-takeoff-key': 'congestion-at-takeoff-key', 'TAIL_NUM': 'count_flights_at_takeoff'}, inplace=True)\n",
    "\n",
    "# flight_counts_before_takeoff = df.groupby('congestion-before-takeoff-key')['TAIL_NUM'].count()\n",
    "# flight_counts_before_takeoff = flight_counts_before_takeoff.to_frame()\n",
    "# flight_counts_before_takeoff.reset_index(inplace=True)\n",
    "\n",
    "# flight_counts_before_takeoff.rename(columns={'congestion-before-takeoff-key': 'congestion-before-takeoff-key', 'TAIL_NUM': 'count_flights_before'}, inplace=True)\n",
    "\n",
    "# flight_counts_at_takehoff['avg-flights-at-takeoff'] = flight_counts_at_takehoff['count_flights_at_takeoff'] / 3\n",
    "# flight_counts_before_takeoff['avg-flights-before-takeoff'] = flight_counts_before_takeoff['count_flights_before'] / 3\n",
    "\n",
    "# df = df.merge(flight_counts_at_takehoff, on='congestion-at-takeoff-key')\n",
    "# df = df.merge(flight_counts_before_takeoff, on='congestion-before-takeoff-key')"
   ]
  },
  {
   "cell_type": "code",
   "execution_count": 6,
   "metadata": {},
   "outputs": [],
   "source": [
    "# filtered_df = df.loc[df['YEAR'] > 2018] \n",
    "# filtered_df = filtered_df.loc[filtered_df['prev_airport'] != 0] \n",
    "\n",
    "# filtered_df['date_diff'] = filtered_df['FL_DATE'] - filtered_df['prev_airport_date']"
   ]
  },
  {
   "cell_type": "markdown",
   "metadata": {},
   "source": [
    "It looks like 98% of planes are at another airport within a day of being scheduled for another flight. So it's possible the weather at that previous airport to affect it's ability to arrive on time."
   ]
  },
  {
   "cell_type": "code",
   "execution_count": 7,
   "metadata": {},
   "outputs": [],
   "source": [
    "# # Create list of relevant aiports based on business case\n",
    "# relevant_airports = ['ATL', 'DFW', 'DEN', 'ORD', 'LAX', 'CLT', 'LAS', 'PHX', \n",
    "#                      'MCO', 'SEA', 'MIA', 'IAH', 'JFK', 'FLL', 'EWR', 'SFO', 'MSP', 'DTW',\n",
    "#                      'BOS', 'SLC', 'PHL', 'BWI', 'TPA', 'SAN', 'MDW', 'LGA', 'BNA', 'IAD',\n",
    "#                      'DAL', 'DCA', 'PDX', 'AUS', 'HOU', 'HNL', 'STL', 'RSW', 'SMF', 'MSY',\n",
    "#                      'SJU', 'RDU', 'OAK', 'MCI', 'CLE', 'IND', 'SAT', 'SNA', 'PIT', 'CVG',\n",
    "#                      'CMH', 'PBI', 'JAX', 'MKE', 'ONT', 'ANC', 'BDL', 'OGG', 'OMA', 'MEM',\n",
    "#                      'BOI', 'RNO', 'CHS', 'OKC']\n",
    "\n",
    "# # Create list of relevant IATA airline designators based on business case\n",
    "# relevant_airlines = ['WN', # Southwest\n",
    "#                      'DL', # Delta\n",
    "#                      'OO', # SkyWest\n",
    "#                      'AA', # American Airlines\n",
    "#                      'UA', # United Airlines\n",
    "#                      'B6', # JetBlue\n",
    "#                      'AS', # Alaska Airlines\n",
    "#                      'NK', # Spirit Airlines\n",
    "#                     ]\n",
    "\n",
    "# # Filter Dataframe to include only relevant airlines & airports\n",
    "# airport_filter = '|'.join(relevant_airports)\n",
    "# airline_filter = '|'.join(relevant_airlines)\n",
    "\n",
    "# df_origin_filtered = filtered_df[pd.notna(filtered_df['ORIGIN']) & filtered_df['ORIGIN'].str.contains(airport_filter) & filtered_df['prev_airport'].str.contains(airport_filter)]\n",
    "# df_carrier_filtered = df_origin_filtered[pd.notna(df_origin_filtered['OP_CARRIER']) & \n",
    "#                                          df_origin_filtered['OP_CARRIER'].str.contains(airline_filter)]"
   ]
  },
  {
   "cell_type": "markdown",
   "metadata": {},
   "source": [
    "### What causes delays?\n",
    "Here is a list of delay causes since 2018 as reported by the [Bureau of Transportation Statistics (BTS)](https://www.bts.gov/topics/airlines-and-airports/understanding-reporting-causes-flight-delays-and-cancellations).\n",
    "\n",
    "| Year    | Air Carrier Delay (%) | Aircraft Arriving Late (%) | National Aviation System Delay (%) | Security Delay (%) | Extreme Weather (%) |\n",
    "|---------|:---------------------:|:--------------------------:|:----------------------------------:|:------------------:|:-------------------:|\n",
    "| 2018    |           30          |             40             |                 25                 |        0.10        |          6          |\n",
    "| 2019    |           31          |             40             |                 24                 |        0.10        |          6          |\n",
    "| 2020    |           41          |             30             |                 22                 |        0.20        |          7          |\n",
    "| Average |           34          |             37             |                 23                 |        0.13        |          6          |"
   ]
  },
  {
   "cell_type": "markdown",
   "metadata": {},
   "source": [
    "The breakout provided by the Bureau of Transportation Statistics is a little misleading when it comes to delays caused by weather. They explain it:\n",
    "\n",
    "\"There is another category of weather within the [National Aviation System Delay] category. This type of weather slows the operations of the system but does not prevent flying. Delays or cancellations coded \"NAS\" are the type of weather delays that could be reduced with corrective action by the airports or the Federal Aviation Administration. During 2020, 45.8% of NAS delays were due to weather.\"\n",
    "\n",
    "\"A true picture of total weather-related delays requires several steps. First, the extreme weather delays must be combined with the NAS weather category. Second, a calculation must be made to determine the weather-related delays included in the \"late-arriving aircraft\" category. Airlines do not report the causes of the late-arriving aircraft but an allocation can be made using the proportion of weather related-delays and total flights in the other categories.\"\n",
    "\n",
    "| Year    | Weather Related Delays |\n",
    "|---------|------------------------|\n",
    "| 2018    |           38           |\n",
    "| 2019    |           39           |\n",
    "| 2020    |           29           |\n",
    "| 2021    |           27           |\n",
    "| Average |           33           |"
   ]
  },
  {
   "cell_type": "markdown",
   "metadata": {},
   "source": [
    "Given the importance of weather as a delay factor, we will work to bring in weather data into our analysis."
   ]
  },
  {
   "cell_type": "markdown",
   "metadata": {},
   "source": [
    "### Bringing in Weather Data\n",
    "\n",
    "One of the best sources of data is the National Oceanic and Atmospheric Administration (NOAA). It has weather stations all over the United States which collect weather data. This data can then be downloaded through their API.\n",
    "\n",
    "We'll work to link NOAA weather data at the scheduled departure time for each flight.\n",
    "\n",
    "We will be looking for the following weather stats:\n",
    "* Temperature\n",
    "* Precipitation\n",
    "* Surface wind\n",
    "* Ceiling & Visibility\n",
    " * Ceiling: The height above the earth's surface of the lowest layer reported as broken or overcast, or as the vertical visibility into an indefinite ceiling\n",
    " * Visibility: the vertical distance that an observer or some remote sensing device can see into a cloud\n",
    " \n",
    "Data from NOAA by weather station is available [here](https://www.ncei.noaa.gov/data/normals-hourly/2006-2020/access/)."
   ]
  },
  {
   "cell_type": "markdown",
   "metadata": {},
   "source": [
    "|                                         Airport Name |  Station ID |\n",
    "|-----------------------------------------------------:|------------:|\n",
    "|           Hartsfield - Jackson Atlanta International | USW00013874 |\n",
    "|                      Dallas-Fort Worth International | USW00003927 |\n",
    "|                                 Denver International | USW00003017 |\n",
    "|                         Chicago O'Hare International | USW00094846 |\n",
    "|                            Los Angeles International | USW00023174 |\n",
    "|                      Charlotte/Douglas International | USW00013881 |\n",
    "|                             Harry Reid International | USW00023169 |\n",
    "|                     Phoenix Sky Harbor International | USW00023183 |\n",
    "|                                Orlando International | USW00012815 |\n",
    "|                         Seattle-Tacoma International | USW00024233 |\n",
    "|                                  Miami International | USW00012839 |\n",
    "|                          George Bush Intcntl/Houston | USW00012960 |\n",
    "|                         John F Kennedy International | USW00094789 |\n",
    "|              Fort Lauderdale/Hollywood International | USW00012849 |\n",
    "|                         Newark Liberty International | USW00014734 |\n",
    "|                          San Francisco International | USW00023234 |\n",
    "|  Minneapolis-St Paul International/Wold- Chamberlain | USW00014922 |\n",
    "|                           Detroit Metro Wayne County | USW00094847 |\n",
    "|          General Edward Lawrence Logan International | USW00014739 |\n",
    "|                         Salt Lake City International | USW00024127 |\n",
    "|                           Philadelphia International | USW00013739 |\n",
    "| Baltimore/Washington International Thurgood Marshall | USW00093721 |\n",
    "|                                  Tampa International | USW00012842 |\n",
    "|                              San Diego International | USW00023188 |\n",
    "|                         Chicago Midway International | USW00014819 |\n",
    "|                                            Laguardia | USW00014732 |\n",
    "|                              Nashville International | USW00013897 |\n",
    "|                      Washington Dulles International | USW00093738 |\n",
    "|                                    Dallas Love Field | USW00013960 |\n",
    "|                         Ronald Reagan Washington Ntl | USW00013743 |\n",
    "|                               Portland International | USW00024229 |\n",
    "|                       Austin-Bergstrom International | USW00013904 |\n",
    "|                                      William P Hobby | USW00012918 |\n",
    "|                        Daniel K Inouye International | USW00022521 |\n",
    "|                       St Louis Lambert International | USW00013994 |\n",
    "|                      Southwest Florida International | USW00012835 |\n",
    "|                             Sacramento International | USW00023232 |\n",
    "|            Louis Armstrong New Orleans International | USW00012916 |\n",
    "|                       Luis Munoz Marin International | USW00022010 |\n",
    "|                         Raleigh-Durham International | USW00013722 |\n",
    "|                          Metro Oakland International | USW00023230 |\n",
    "|                            Kansas City International | USW00003947 |\n",
    "|                      Cleveland-Hopkins International | USW00014820 |\n",
    "|                           Indianapolis International | USW00093819 |\n",
    "|                            San Antonio International | USW00012921 |\n",
    "|                             John Wayne/Orange County | USW00093184 |\n",
    "|                             Pittsburgh International | USW00094823 |\n",
    "|           Cincinnati/Northern Kentucky International | USW00093814 |\n",
    "|                    John Glenn Columbus International | USW00014821 |\n",
    "|                             Palm Beach International | USW00012844 |\n",
    "|                           Jacksonville International | USW00013889 |\n",
    "|                       General Mitchell International | USW00014839 |\n",
    "|                                Ontario International | USW00003102 |\n",
    "|                  Ted Stevens Anchorage International | USW00026451 |\n",
    "|                                Bradley International | USW00014740 |\n",
    "|                                              Kahului | USW00022516 |\n",
    "|                                      Eppley Airfield | USW00014942 |\n",
    "|                                Memphis International | USW00013893 |\n",
    "|                           Boise Air Trml/Gowen Field | USW00024131 |\n",
    "|                             Reno/Tahoe International | USW00023185 |\n",
    "|                         Charleston AFB/International | USW00013880 |\n",
    "|                                    Will Rogers World | USW00013967 |"
   ]
  },
  {
   "cell_type": "code",
   "execution_count": 8,
   "metadata": {},
   "outputs": [],
   "source": [
    "# def get_keys(path):\n",
    "#     with open(path) as f:\n",
    "#         return json.load(f)\n",
    "    \n",
    "# keys = get_keys(\"C:/Users/Robert/.secret/noaa_api.json\")\n",
    "\n",
    "# api_key = keys['api_key']\n",
    "\n",
    "# import time\n",
    "\n",
    "# weather_stations = {}\n",
    "\n",
    "# for i in station_list:\n",
    "#     weather_stations[i] = {'DATE': [], 'TAVG': [], 'SNOW': [], 'PRCP': [], 'AWND': []}\n",
    "\n",
    "# for year in range(2018, 2022):\n",
    "#     year = str(year)\n",
    "#     for station in weather_stations:\n",
    "#         current_station = str(station)\n",
    "#         print('Working on year: '+year +' and station: '+ current_station)\n",
    "#         #make the api call\n",
    "#         time.sleep(1)\n",
    "#         r = requests.get('https://www.ncdc.noaa.gov/cdo-web/api/v2/data?datasetid=GHCND&datatypeid=TAVG,SNOW,PRCP,AWND&limit=1000&stationid=GHCND:'+current_station+'&startdate='+year+'-01-01&enddate='+year+'-12-31', headers={'token':api_key})\n",
    "#         r2 = requests.get('https://www.ncdc.noaa.gov/cdo-web/api/v2/data?datasetid=GHCND&datatypeid=TAVG,SNOW,PRCP,AWND&offset=1001&limit=1000&stationid=GHCND:'+current_station+'&startdate='+year+'-01-01&enddate='+year+'-12-31', headers={'token':api_key})\n",
    "#         #load the api response as a json\n",
    "#         d = json.loads(r.text)\n",
    "#         d2 = json.loads(r2.text)\n",
    "#         #get all items in the response which are average temperature readings\n",
    "#         avg_temps = [item for item in d['results'] if item['datatype']=='TAVG']\n",
    "#         if bool(d2):\n",
    "#             avg_temps2 = [item for item in d2['results'] if item['datatype']=='TAVG']\n",
    "#         #get the date field from these readings\n",
    "#         weather_stations[current_station]['DATE'] += [item['date'] for item in avg_temps]\n",
    "#         if bool(d2):\n",
    "#             weather_stations[current_station]['DATE'] += [item['date'] for item in avg_temps2]\n",
    "#         #get the actual average temperature from all average temperature readings\n",
    "#         weather_stations[current_station]['TAVG'] += [item['value'] for item in avg_temps]\n",
    "#         if bool(d2):\n",
    "#             weather_stations[current_station]['TAVG'] += [item['value'] for item in avg_temps2]\n",
    "#         #get all items in the response which are Snowfall (mm)\n",
    "#         snowfall = [item for item in d['results'] if item['datatype']=='SNOW']\n",
    "#         if bool(d2):\n",
    "#             snowfall2 = [item for item in d2['results'] if item['datatype']=='SNOW']\n",
    "#         #get the actual Snowfall readings\n",
    "#         weather_stations[current_station]['SNOW'] += [item['value'] for item in snowfall]\n",
    "#         if bool(d2):\n",
    "#             weather_stations[current_station]['SNOW'] += [item['value'] for item in snowfall2]\n",
    "#         #get all items in the response Precipitation (tenths of mm)\n",
    "#         precipitation = [item for item in d['results'] if item['datatype']=='PRCP']\n",
    "#         if bool(d2):\n",
    "#             precipitation2 = [item for item in d2['results'] if item['datatype']=='PRCP']\n",
    "#         #get the actual Precipitation from all Precipitation readings\n",
    "#         weather_stations[current_station]['PRCP'] += [item['value'] for item in precipitation]\n",
    "#         if bool(d2):\n",
    "#             weather_stations[current_station]['PRCP'] += [item['value'] for item in precipitation2]\n",
    "#         # Average daily wind speed (tenths of meters per second)\n",
    "#         windspeed = [item for item in d['results'] if item['datatype']=='AWND']\n",
    "#         if bool(d2):\n",
    "#             windspeed2 = [item for item in d2['results'] if item['datatype']=='AWND']\n",
    "#         #get the Average daily wind speed from all average temperature readings\n",
    "#         weather_stations[current_station]['AWND'] += [item['value'] for item in windspeed]\n",
    "#         if bool(d2):\n",
    "#              weather_stations[current_station]['AWND'] += [item['value'] for item in windspeed2]"
   ]
  },
  {
   "cell_type": "code",
   "execution_count": 9,
   "metadata": {},
   "outputs": [
    {
     "name": "stderr",
     "output_type": "stream",
     "text": [
      "<ipython-input-9-435b8a5c230b>:25: SettingWithCopyWarning: \n",
      "A value is trying to be set on a copy of a slice from a DataFrame.\n",
      "Try using .loc[row_indexer,col_indexer] = value instead\n",
      "\n",
      "See the caveats in the documentation: https://pandas.pydata.org/pandas-docs/stable/user_guide/indexing.html#returning-a-view-versus-a-copy\n",
      "  df_carrier_filtered['weather_station_origin_airport'] = df_carrier_filtered['ORIGIN'].map(stations_airport_df.set_index('airport_code')['noaa_station'])\n",
      "<ipython-input-9-435b8a5c230b>:26: SettingWithCopyWarning: \n",
      "A value is trying to be set on a copy of a slice from a DataFrame.\n",
      "Try using .loc[row_indexer,col_indexer] = value instead\n",
      "\n",
      "See the caveats in the documentation: https://pandas.pydata.org/pandas-docs/stable/user_guide/indexing.html#returning-a-view-versus-a-copy\n",
      "  df_carrier_filtered['weather_station_prev_airport'] = df_carrier_filtered['prev_airport'].map(stations_airport_df.set_index('airport_code')['noaa_station'])\n",
      "<ipython-input-9-435b8a5c230b>:27: SettingWithCopyWarning: \n",
      "A value is trying to be set on a copy of a slice from a DataFrame.\n",
      "Try using .loc[row_indexer,col_indexer] = value instead\n",
      "\n",
      "See the caveats in the documentation: https://pandas.pydata.org/pandas-docs/stable/user_guide/indexing.html#returning-a-view-versus-a-copy\n",
      "  df_carrier_filtered['weather_station_dest_airport'] = df_carrier_filtered['DEST'].map(stations_airport_df.set_index('airport_code')['noaa_station'])\n",
      "C:\\Users\\Robert\\anaconda3\\envs\\learn-env\\lib\\site-packages\\IPython\\core\\interactiveshell.py:3145: DtypeWarning: Columns (13,15,21,29,35,59,61) have mixed types.Specify dtype option on import or set low_memory=False.\n",
      "  has_raised = await self.run_ast_nodes(code_ast.body, cell_name,\n",
      "<ipython-input-9-435b8a5c230b>:37: SettingWithCopyWarning: \n",
      "A value is trying to be set on a copy of a slice from a DataFrame.\n",
      "Try using .loc[row_indexer,col_indexer] = value instead\n",
      "\n",
      "See the caveats in the documentation: https://pandas.pydata.org/pandas-docs/stable/user_guide/indexing.html#returning-a-view-versus-a-copy\n",
      "  df_carrier_filtered['key'] = df_carrier_filtered['weather_station_origin_airport'].astype(str) + df_carrier_filtered['FL_DATE'].astype(str)\n"
     ]
    }
   ],
   "source": [
    "# # List of Station IDs\n",
    "# station_list = ['USW00013874', 'USW00003927', 'USW00003017', 'USW00094846',\n",
    "#                 'USW00023174','USW00013881','USW00023169','USW00023183',\n",
    "#                 'USW00012815','USW00024233','USW00012839','USW00012960',\n",
    "#                 'USW00094789','USW00012849','USW00014734','USW00023234',\n",
    "#                 'USW00014922','USW00094847','USW00014739','USW00024127',\n",
    "#                 'USW00013739','USW00093721','USW00012842','USW00023188',\n",
    "#                 'USW00014819','USW00014732','USW00013897','USW00093738',\n",
    "#                 'USW00013960','USW00013743','USW00024229','USW00013904',\n",
    "#                 'USW00012918','USW00022521','USW00013994','USW00012835',\n",
    "#                 'USW00023232','USW00012916','USW00022010','USW00013722',\n",
    "#                 'USW00023230','USW00003947','USW00014820','USW00093819',\n",
    "#                 'USW00012921','USW00093184','USW00094823','USW00093814',\n",
    "#                 'USW00014821','USW00012844','USW00013889','USW00014839',\n",
    "#                 'USW00003102','USW00026451','USW00014740','USW00022516',\n",
    "#                 'USW00014942','USW00013893','USW00024131','USW00023185',\n",
    "#                 'USW00013880','USW00013967']\n",
    "\n",
    "# # Put them in a dataframe with airport codes\n",
    "# stations_airport_df = pd.DataFrame({'noaa_station' : station_list,\n",
    "#                 'airport_code' : relevant_airports}, \n",
    "#                 columns=['noaa_station','airport_code'])\n",
    "\n",
    "# # Map on station lists onto main dataframe\n",
    "# df_carrier_filtered['weather_station_origin_airport'] = df_carrier_filtered['ORIGIN'].map(stations_airport_df.set_index('airport_code')['noaa_station'])\n",
    "# df_carrier_filtered['weather_station_prev_airport'] = df_carrier_filtered['prev_airport'].map(stations_airport_df.set_index('airport_code')['noaa_station'])\n",
    "# df_carrier_filtered['weather_station_dest_airport'] = df_carrier_filtered['DEST'].map(stations_airport_df.set_index('airport_code')['noaa_station'])\n",
    "\n",
    "# # Load weather data & drop irrelevant columns\n",
    "# weather_df = pd.read_csv('data/weather/weather.csv')\n",
    "# weather_df = weather_df[weather_df.columns.drop(list(weather_df.filter(regex='_ATTRIBUTES')))]\n",
    "\n",
    "# # create key in weather dataframe\n",
    "# weather_df['key'] = weather_df[\"STATION\"].astype(str) + weather_df[\"DATE\"].astype(str)\n",
    "\n",
    "# # Merge weather data for origin airport\n",
    "# df_carrier_filtered['key'] = df_carrier_filtered['weather_station_origin_airport'].astype(str) + df_carrier_filtered['FL_DATE'].astype(str)\n",
    "# weather_flight_df = df_carrier_filtered.merge(weather_df, on='key')\n",
    "\n",
    "# # Merge weather data for previous airport\n",
    "# weather_flight_df['pa_key'] = df_carrier_filtered['weather_station_prev_airport'].astype(str) + df_carrier_filtered['prev_airport_date'].astype(str)\n",
    "# weather_df = weather_df.add_prefix('pa_')\n",
    "# weather_flight_df_final = weather_flight_df.merge(weather_df, on='pa_key')\n",
    "\n",
    "# # Merge weather data from destination airport\n",
    "# weather_df.columns = weather_df.columns.str.replace(\"pa_\", \"da_\")\n",
    "# weather_flight_df_final['da_key'] = weather_flight_df_final['weather_station_dest_airport'].astype(str) + weather_flight_df_final['FL_DATE'].astype(str)\n",
    "# weather_flight_df_final = weather_flight_df_final.merge(weather_df, on='da_key')"
   ]
  },
  {
   "cell_type": "code",
   "execution_count": 10,
   "metadata": {},
   "outputs": [],
   "source": [
    "# # Drop unnecessary columns\n",
    "# weather_flight_df_final.dropna(axis=0, subset=['LATITUDE', 'pa_LATITUDE', 'da_LATITUDE', 'SNOW', 'DEP_TIME',\n",
    "#                                                'DEP_DELAY', 'ARR_TIME', 'ARR_DELAY', 'da_AWND', 'da_PRCP', 'da_SNOW',\n",
    "#                                                'da_TMAX', 'da_TMIN',\n",
    "#                                                'AWND', 'PRCP', 'TMAX', 'TMIN', 'pa_SNOW', 'pa_AWND', 'pa_PRCP',\n",
    "#                                                'pa_TMAX', 'pa_TMIN'], inplace=True)\n",
    "\n",
    "# import datetime\n",
    "# weather_flight_df_final = weather_flight_df_final.loc[weather_flight_df_final['date_diff'] < datetime.timedelta(days = 2)] \n",
    "\n",
    "\n",
    "# cols_to_drop = ['key', 'NAME', 'ELEVATION', 'DATE',\n",
    "#                'WT02', 'WT05', 'pa_ELEVATION', 'pa_DATE',\n",
    "#                'WT03', 'WT04', 'WT06', 'WT08', 'WT09', 'WT10', 'WT18',\n",
    "#                'TSUN', 'pa_key', 'pa_WT01', 'WT01', 'date_diff',\n",
    "#                'WDF2', 'WDF5', 'weather_station_prev_airport',\n",
    "#                'WESD', 'WSF2', 'WT07', 'WSF5', 'SECURITY_DELAY', \n",
    "#                'SX32', 'SNWD', 'prev_airport_date',\n",
    "#                'SN32', 'PSUN', 'LATE_AIRCRAFT_DELAY', 'NAS_DELAY', \n",
    "#                'PGTM', 'STATION', 'TAVG', 'pa_WT02',\n",
    "#                'pa_WT05', 'WEATHER_DELAY', 'pa_TSUN', 'CARRIER_DELAY',\n",
    "#                'pa_WT03', 'pa_WT04', 'pa_WT06', 'pa_WT08', 'pa_WT09', 'pa_WT10', 'pa_WT18',\n",
    "#                'pa_WDF2', 'pa_WDF5', 'pa_WESD', 'pa_WSF2', 'pa_WT07', 'pa_WSF5',\n",
    "#                'pa_SX32', 'pa_SNWD', 'weather_station_dest_airport', \n",
    "#                'pa_SN32', 'pa_PSUN', 'weather_station_origin_airport',\n",
    "#                'pa_PGTM', 'pa_STATION', 'pa_TAVG', 'da_ELEVATION', 'da_DATE',\n",
    "#                'da_key', 'da_WT01', 'da_WT02', 'da_WT05', 'da_WT03', 'da_WT04',\n",
    "#                'da_WT06', 'da_WT08', 'da_WT09', 'da_WT10', 'da_WT18',\n",
    "#                'da_TSUN', 'da_WDF2', 'da_WDF5', 'da_WESD', 'da_WSF2', 'da_WT07', 'da_WSF5',\n",
    "#                'da_SX32', 'da_SNWD', 'da_SN32', 'da_PSUN', 'da_PGTM', 'da_STATION', 'da_TAVG']\n",
    "\n",
    "# weather_flight_df_final.drop(cols_to_drop, axis = 1, inplace=True)"
   ]
  },
  {
   "cell_type": "code",
   "execution_count": 11,
   "metadata": {},
   "outputs": [],
   "source": [
    "# weather_flight_df_final['or-lat-long'] = list(zip(weather_flight_df_final['LATITUDE'], weather_flight_df_final['LONGITUDE']))\n",
    "# weather_flight_df_final['pa-lat-long'] = list(zip(weather_flight_df_final['pa_LATITUDE'], weather_flight_df_final['pa_LONGITUDE']))\n",
    "# weather_flight_df_final['da-lat-long'] = list(zip(weather_flight_df_final['da_LATITUDE'], weather_flight_df_final['da_LONGITUDE']))"
   ]
  },
  {
   "cell_type": "code",
   "execution_count": 12,
   "metadata": {},
   "outputs": [],
   "source": [
    "# import geopy.distance\n",
    "\n",
    "# weather_flight_df_final['leg-1-distance'] = weather_flight_df_final.apply(\n",
    "#     lambda row: geopy.distance.geodesic(row['or-lat-long'], row['pa-lat-long']).miles, axis=1)\n",
    "\n",
    "# weather_flight_df_final['leg-2-distance'] = weather_flight_df_final.apply(\n",
    "#     lambda row: geopy.distance.geodesic(row['or-lat-long'], row['da-lat-long']).miles, axis=1)"
   ]
  },
  {
   "cell_type": "code",
   "execution_count": 13,
   "metadata": {},
   "outputs": [],
   "source": [
    "# from pandas.tseries.holiday import USFederalHolidayCalendar as calendar\n",
    "\n",
    "# dr = pd.date_range(start='2018-01-01', end='2021-12-31')\n",
    "# df = pd.DataFrame()\n",
    "# df['Date'] = dr\n",
    "\n",
    "# cal = calendar()\n",
    "# holidays = cal.holidays(start=dr.min(), end=dr.max())\n",
    "\n",
    "# weather_flight_df_final['FL_DATE'] = pd.to_datetime(weather_flight_df_final['FL_DATE'])\n",
    "# weather_flight_df_final['holiday'] = weather_flight_df_final['FL_DATE'].isin(holidays)"
   ]
  },
  {
   "cell_type": "code",
   "execution_count": 14,
   "metadata": {},
   "outputs": [],
   "source": [
    "# holidays = cal.holidays(start='2018-01-01', end='2021-12-31', return_name=True)\n",
    "# holidays.reset_index(name='holiday').rename(columns={'index':'date'})\n",
    "# holidays = holidays.to_frame()\n",
    "# holidays.reset_index(inplace=True)\n",
    "# holidays.columns = ['holiday_date', 'holiday_name']"
   ]
  },
  {
   "cell_type": "code",
   "execution_count": 15,
   "metadata": {},
   "outputs": [],
   "source": [
    "# weather_flight_df_final.sort_values('FL_DATE', inplace=True)\n",
    "# flight_weather_df = pd.merge_asof(weather_flight_df_final, holidays, left_on='FL_DATE', right_on='holiday_date',\n",
    "#                        direction='nearest', tolerance=pd.Timedelta(days=7))"
   ]
  },
  {
   "cell_type": "code",
   "execution_count": 17,
   "metadata": {},
   "outputs": [],
   "source": [
    "# flight_weather_df['days-from-holiday'] = (flight_weather_df['FL_DATE'] -  flight_weather_df['holiday_date']).dt.days\n",
    "# flight_weather_df['days-from-holiday'] = flight_weather_df['days-from-holiday'].astype(str)\n",
    "\n",
    "# new_cols_to_drop = ['LATITUDE', 'LONGITUDE', 'pa_LATITUDE', 'pa_LONGITUDE', 'da_LATITUDE', 'da_LONGITUDE',\n",
    "#                     'or-lat-long', 'pa-lat-long', 'da-lat-long', 'holiday_date', 'YEAR',\n",
    "#                    'FL_DATE', 'MKT_CARRIER', 'MKT_CARRIER_FL_NUM', 'TAIL_NUM', 'OP_CARRIER_FL_NUM', 'DEP_TIME',\n",
    "#                    'CRS_ARR_TIME', 'ARR_TIME', 'ARR_DELAY', 'CANCELLED',\n",
    "#                    'scheduled-takeoff', 'rounded-takeoff-minus-one',\n",
    "#                    'take-off-rounded-hour-minus-one', 'congestion-at-takeoff-key', 'congestion-before-takeoff-key',\n",
    "#                    'count_flights_at_takeoff', 'count_flights_before', 'CRS_DEP_TIME']\n",
    "\n",
    "# flight_weather_df.drop(new_cols_to_drop, axis = 1, inplace=True)"
   ]
  },
  {
   "cell_type": "markdown",
   "metadata": {},
   "source": [
    "**List of Federal Holidays:**\n",
    "* New Year's Day (January 1)\n",
    "* Birthday of Martin Luther King, Jr. (Third Monday in January)\n",
    "* Washington's Birthday (Third Monday in February)\n",
    "* Memorial Day (Last Monday in May)\n",
    "* Juneteenth National Independence Day (June 19)\n",
    "* Independence Day (July 4)\n",
    "* Labor Day (First Monday in September)\n",
    "* Columbus Day (Second Monday in October)\n",
    "* Veterans Day (November 11)\n",
    "* Thanksgiving Day (Fourth Thursday in November)\n",
    "* Christmas Day (December 25)\n",
    "\n",
    "Pandas provides a package that lets us detect a holiday when fed a date."
   ]
  },
  {
   "cell_type": "markdown",
   "metadata": {},
   "source": [
    "#### Predictors from Flight Dataset\n",
    "We'll use:\n",
    "* Day of Week\n",
    "* Month + Day of Month\n",
    "* Operating Carrier + Airline\n",
    "* Marketing Airline + Flight Number\n",
    "* Origin\n",
    "* Scheduled Departure Flight Time\n",
    "\n",
    "We'll also use the date fields to engineer a new feature: holiday. We'll have a column that denotes both whether there is a holiday and what the holiday is."
   ]
  },
  {
   "cell_type": "code",
   "execution_count": 18,
   "metadata": {},
   "outputs": [],
   "source": [
    "# # Creating the remaining columns\n",
    "# flight_weather_df['month-day'] = flight_weather_df['MONTH'].astype(str) + flight_weather_df['DAY_OF_MONTH'].astype(str)\n",
    "# flight_weather_df['op-airline-airport'] = flight_weather_df['OP_CARRIER'] + '-' + flight_weather_df['ORIGIN']"
   ]
  },
  {
   "cell_type": "markdown",
   "metadata": {},
   "source": [
    "#### Weather Predictors\n",
    "We'll use all the remaining weather predictors: Average wind speed (AWND), precipitation (PRCP), snow (SNOW), whether there were fog conditions (WT01) max temperature (TMAX) and minimum temperature (TMIN)."
   ]
  },
  {
   "cell_type": "markdown",
   "metadata": {},
   "source": [
    "#### Engeneering Target\n",
    "\n",
    "Our dataset contains departure delays in minutes (DEP_DELAY). This is a continuous variable. However, simply predicting whether there is a delay isn't useful since most users probably won't care if there is a 5 minute delay. However, there is a big difference between a 30 minute and "
   ]
  },
  {
   "cell_type": "code",
   "execution_count": 19,
   "metadata": {},
   "outputs": [],
   "source": [
    "# from scipy import stats\n",
    "# flight_weather_df = flight_weather_df[(np.abs(stats.zscore(flight_weather_df['DEP_DELAY'])) < 3)]"
   ]
  },
  {
   "cell_type": "code",
   "execution_count": 20,
   "metadata": {},
   "outputs": [],
   "source": [
    "# flight_weather_df = flight_weather_df[flight_weather_df['DEP_DELAY'] >= 0]"
   ]
  },
  {
   "cell_type": "code",
   "execution_count": 21,
   "metadata": {},
   "outputs": [
    {
     "data": {
      "text/plain": [
       "count    300014.000000\n",
       "mean         19.730786\n",
       "std          26.159798\n",
       "min           0.000000\n",
       "25%           2.000000\n",
       "50%           9.000000\n",
       "75%          26.000000\n",
       "max         132.000000\n",
       "Name: DEP_DELAY, dtype: float64"
      ]
     },
     "execution_count": 21,
     "metadata": {},
     "output_type": "execute_result"
    }
   ],
   "source": [
    "# flight_weather_df['DEP_DELAY'].describe()"
   ]
  },
  {
   "cell_type": "code",
   "execution_count": 22,
   "metadata": {},
   "outputs": [
    {
     "data": {
      "text/plain": [
       "array([[<AxesSubplot:title={'center':'DEP_DELAY'}>]], dtype=object)"
      ]
     },
     "execution_count": 22,
     "metadata": {},
     "output_type": "execute_result"
    },
    {
     "data": {
      "image/png": "[encoded data removed]",
      "text/plain": [
       "<Figure size 432x288 with 1 Axes>"
      ]
     },
     "metadata": {
      "needs_background": "light"
     },
     "output_type": "display_data"
    }
   ],
   "source": [
    "# flight_weather_df.hist(column='DEP_DELAY', bins =50, grid=False)"
   ]
  },
  {
   "cell_type": "markdown",
   "metadata": {},
   "source": [
    "Most flights have none or minimal delays. So this distribution isn't surprising. The average flight is delayed by 9 minutes, with a fairly large standard deviation of 43 minutes. Looking at the 75th percentile, just 25% of flgiths had delays over 6 minutes.\n",
    "\n",
    "Let's zoom in on those values."
   ]
  },
  {
   "cell_type": "code",
   "execution_count": 23,
   "metadata": {},
   "outputs": [
    {
     "name": "stdout",
     "output_type": "stream",
     "text": [
      "182875\n",
      "50032\n",
      "39508\n",
      "16511\n"
     ]
    }
   ],
   "source": [
    "# minimal = flight_weather_df.loc[flight_weather_df['DEP_DELAY'] < 15, 'DEP_DELAY']\n",
    "# one_std = flight_weather_df.loc[flight_weather_df['DEP_DELAY'] < 30, 'DEP_DELAY']\n",
    "# two_std = flight_weather_df.loc[flight_weather_df['DEP_DELAY'] < 60, 'DEP_DELAY']\n",
    "# three_std = flight_weather_df.loc[flight_weather_df['DEP_DELAY'] < 90, 'DEP_DELAY']\n",
    "\n",
    "# print(minimal.count())\n",
    "# print(one_std.count()- minimal.count())\n",
    "# print(two_std.count()-one_std.count())\n",
    "# print(three_std.count()-two_std.count())"
   ]
  },
  {
   "cell_type": "markdown",
   "metadata": {},
   "source": [
    "It looks like even when we look at the most extreme 25% of delays, the average delay here is still 48 minutes with a standard deviation of 76 minutes.  Over 75% of the data falls under a 13 minute delay.\n",
    "\n",
    "We'll construct our buckets as such:\n",
    "\n",
    "* Neglibile delay (No delay or 15 minutes or less)\n",
    "* Mild (Delay between 15 and 30 minutes)\n",
    "* Moderate (Delay between 30 minutes and hour)\n",
    "* Serious (Delay over an hour)\n",
    "* Major (Delay over 2 hours)"
   ]
  },
  {
   "cell_type": "code",
   "execution_count": 24,
   "metadata": {},
   "outputs": [],
   "source": [
    "# # Create a function to engineer this feature\n",
    "\n",
    "# def delay_group(value):\n",
    "#     \"\"\"\n",
    "#     Funtion takes in int or float and returns category of delay\n",
    "#     \"\"\"\n",
    "#     if value <= 15:\n",
    "#         return 'neglibile'\n",
    "#     if value > 15 and value <= 30:\n",
    "#         return 'mild'\n",
    "#     if value > 30 and value <= 60:\n",
    "#         return 'moderate'\n",
    "#     if value > 60:\n",
    "#         return 'serious'\n",
    "    \n",
    "# flight_weather_df['delay_type'] = flight_weather_df['DEP_DELAY'].apply(delay_group)\n",
    "# flight_weather_df['delay_type'].value_counts(normalize=True)\n",
    "\n",
    "# flight_weather_df['holiday_name'] = flight_weather_df['holiday_name'].fillna('none')\n",
    "# flight_weather_df['days-from-holiday'] = flight_weather_df['days-from-holiday'].replace({'null':'7plus'})\n",
    "\n",
    "# # Write the above DF to a CSV so we don't have to re-run all the code above\n",
    "# flight_weather_df.to_csv('data/weather_flight_data.csv')"
   ]
  },
  {
   "cell_type": "code",
   "execution_count": 2,
   "metadata": {},
   "outputs": [],
   "source": [
    "flight_weather_df = pd.read_csv('data/weather_flight_data.csv')"
   ]
  },
  {
   "cell_type": "markdown",
   "metadata": {},
   "source": [
    "### Brining it all together"
   ]
  },
  {
   "cell_type": "code",
   "execution_count": 3,
   "metadata": {},
   "outputs": [],
   "source": [
    "y = flight_weather_df[\"delay_type\"]\n",
    "X = flight_weather_df.drop([\"delay_type\", \"DEP_DELAY\", 'da_NAME', 'pa_NAME'], axis=1)"
   ]
  },
  {
   "cell_type": "code",
   "execution_count": 4,
   "metadata": {},
   "outputs": [],
   "source": [
    "from sklearn.model_selection import train_test_split\n",
    "X_train, X_test, y_train, y_test = train_test_split(X, y, stratify=y, random_state=42)"
   ]
  },
  {
   "cell_type": "code",
   "execution_count": 5,
   "metadata": {},
   "outputs": [],
   "source": [
    "num_cols = ['AWND', 'PRCP', 'SNOW', 'TMAX', 'TMIN',\n",
    "            'pa_AWND', 'pa_PRCP', 'pa_SNOW', 'pa_TMAX', 'pa_TMIN',\n",
    "           'da_AWND', 'da_PRCP', 'da_SNOW', 'da_TMAX', 'da_TMIN',\n",
    "           'leg-1-distance', 'leg-2-distance', 'avg-flights-at-takeoff', 'avg-flights-before-takeoff', 'DAY_OF_MONTH']\n",
    "\n",
    "cat_cols = ['take-off-rounded-hour', 'DAY_OF_WEEK', 'OP_CARRIER', 'ORIGIN',\n",
    "            'DEST', 'prev_airport', 'holiday', 'month-day', 'op-airline-airport',\n",
    "            'days-from-holiday', 'holiday_name', 'MONTH']"
   ]
  },
  {
   "cell_type": "code",
   "execution_count": 6,
   "metadata": {},
   "outputs": [],
   "source": [
    "X_train_num = X_train[num_cols].copy()\n",
    "X_train_cat = X_train[cat_cols].copy()"
   ]
  },
  {
   "cell_type": "code",
   "execution_count": 7,
   "metadata": {},
   "outputs": [],
   "source": [
    "from sklearn.preprocessing import StandardScaler\n",
    "scaler = StandardScaler()\n",
    "X_train_scaled = scaler.fit_transform(X_train_num)\n",
    "X_train_scaled = pd.DataFrame(X_train_scaled, index=X_train_num.index, columns=X_train_num.columns)"
   ]
  },
  {
   "cell_type": "code",
   "execution_count": 8,
   "metadata": {},
   "outputs": [],
   "source": [
    "X_train_cat = X_train_cat.applymap(str)"
   ]
  },
  {
   "cell_type": "code",
   "execution_count": 9,
   "metadata": {},
   "outputs": [],
   "source": [
    "cols = X_train_cat.columns\n",
    "X_train_ohe = pd.get_dummies(X_train_cat,prefix=cols, drop_first=False)"
   ]
  },
  {
   "cell_type": "code",
   "execution_count": 10,
   "metadata": {},
   "outputs": [],
   "source": [
    "from sklearn.preprocessing import LabelBinarizer\n",
    "binarizer = LabelBinarizer()\n",
    "labels = binarizer.fit_transform(y_train)"
   ]
  },
  {
   "cell_type": "code",
   "execution_count": 11,
   "metadata": {},
   "outputs": [],
   "source": [
    "X_train_preprocessed = pd.concat([X_train_ohe, X_train_scaled], axis=1)"
   ]
  },
  {
   "cell_type": "code",
   "execution_count": 12,
   "metadata": {},
   "outputs": [
    {
     "data": {
      "text/plain": [
       "{'mild': 1.5816369566439858,\n",
       " 'moderate': 1.9727336489566896,\n",
       " 'neglibile': 0.39948938648259014,\n",
       " 'serious': 2.796127845710309}"
      ]
     },
     "execution_count": 12,
     "metadata": {},
     "output_type": "execute_result"
    }
   ],
   "source": [
    "from sklearn.utils import class_weight\n",
    "from sklearn.utils.class_weight import compute_class_weight\n",
    "\n",
    "class_weights_gd = compute_class_weight(\n",
    "                                        class_weight = \"balanced\",\n",
    "                                        classes = np.unique(y_train),\n",
    "                                        y = y_train                                                   \n",
    "                                    )\n",
    "class_weights_gd = dict(zip(np.unique(y_train), class_weights_gd))\n",
    "class_weights_gd"
   ]
  },
  {
   "cell_type": "code",
   "execution_count": 13,
   "metadata": {},
   "outputs": [],
   "source": [
    "class_weights_dl = {0: 1.5816369566439858,\n",
    "                1: 1.9727336489566896,\n",
    "                2: 00.39948938648259014,\n",
    "                3: 2.796127845710309}"
   ]
  },
  {
   "cell_type": "markdown",
   "metadata": {},
   "source": [
    "## Modeling"
   ]
  },
  {
   "cell_type": "code",
   "execution_count": 14,
   "metadata": {},
   "outputs": [],
   "source": [
    "from sklearn.dummy import DummyClassifier\n",
    "from sklearn.linear_model import LogisticRegression\n",
    "from sklearn.tree import DecisionTreeClassifier\n",
    "from sklearn.ensemble import RandomForestClassifier\n",
    "from xgboost import XGBClassifier\n",
    "from sklearn.pipeline import Pipeline\n",
    "from sklearn.metrics import accuracy_score, precision_score, recall_score, confusion_matrix,\\\n",
    "precision_recall_fscore_support, f1_score, plot_confusion_matrix\n",
    "from sklearn.model_selection import train_test_split, GridSearchCV,\\\n",
    "cross_validate, cross_val_predict, cross_val_score"
   ]
  },
  {
   "cell_type": "code",
   "execution_count": 15,
   "metadata": {},
   "outputs": [],
   "source": [
    "def model_performance(pipe, X, y):\n",
    "    \n",
    "    scoring = ['accuracy','precision_micro', 'recall_micro', 'f1_micro']\n",
    "    cv = cross_validate(pipe, X, y, return_train_score=True, scoring=scoring)\n",
    "    \n",
    "    # Printing Train & CV Scores\n",
    "    \n",
    "    print('Training Accuracy', round(cv['train_accuracy'].mean(),3))\n",
    "    print('---')\n",
    "    print('Cross Val Accuracy', round(cv['test_accuracy'].mean(),3))\n",
    "    print('---')\n",
    "    print('Training Precision:', round(cv['train_precision_micro'].mean(),3))\n",
    "    print('Cross Val Precision:', round(cv['test_precision_micro'].mean(),3))\n",
    "    print('---')\n",
    "    print('Training Recall:', round(cv['train_recall_micro'].mean(),3))\n",
    "    print('Cross Val Recall:', round(cv['test_recall_micro'].mean(),3))\n",
    "    print('---')\n",
    "    print('Training F1:', round(cv['train_f1_micro'].mean(),3))\n",
    "    print('Cross Val F1:', round(cv['test_f1_micro'].mean(),3))\n",
    "   \n",
    "    # Plotting a confusion matrix\n",
    "    plot_confusion_matrix(pipe, X, y, normalize='true')"
   ]
  },
  {
   "cell_type": "code",
   "execution_count": 16,
   "metadata": {},
   "outputs": [
    {
     "name": "stderr",
     "output_type": "stream",
     "text": [
      "C:\\Users\\Robert\\anaconda3\\envs\\learn-env\\lib\\site-packages\\sklearn\\linear_model\\_logistic.py:444: ConvergenceWarning: lbfgs failed to converge (status=1):\n",
      "STOP: TOTAL NO. of ITERATIONS REACHED LIMIT.\n",
      "\n",
      "Increase the number of iterations (max_iter) or scale the data as shown in:\n",
      "    https://scikit-learn.org/stable/modules/preprocessing.html\n",
      "Please also refer to the documentation for alternative solver options:\n",
      "    https://scikit-learn.org/stable/modules/linear_model.html#logistic-regression\n",
      "  n_iter_i = _check_optimize_result(\n",
      "C:\\Users\\Robert\\anaconda3\\envs\\learn-env\\lib\\site-packages\\sklearn\\linear_model\\_logistic.py:444: ConvergenceWarning: lbfgs failed to converge (status=1):\n",
      "STOP: TOTAL NO. of ITERATIONS REACHED LIMIT.\n",
      "\n",
      "Increase the number of iterations (max_iter) or scale the data as shown in:\n",
      "    https://scikit-learn.org/stable/modules/preprocessing.html\n",
      "Please also refer to the documentation for alternative solver options:\n",
      "    https://scikit-learn.org/stable/modules/linear_model.html#logistic-regression\n",
      "  n_iter_i = _check_optimize_result(\n",
      "C:\\Users\\Robert\\anaconda3\\envs\\learn-env\\lib\\site-packages\\sklearn\\linear_model\\_logistic.py:444: ConvergenceWarning: lbfgs failed to converge (status=1):\n",
      "STOP: TOTAL NO. of ITERATIONS REACHED LIMIT.\n",
      "\n",
      "Increase the number of iterations (max_iter) or scale the data as shown in:\n",
      "    https://scikit-learn.org/stable/modules/preprocessing.html\n",
      "Please also refer to the documentation for alternative solver options:\n",
      "    https://scikit-learn.org/stable/modules/linear_model.html#logistic-regression\n",
      "  n_iter_i = _check_optimize_result(\n",
      "C:\\Users\\Robert\\anaconda3\\envs\\learn-env\\lib\\site-packages\\sklearn\\linear_model\\_logistic.py:444: ConvergenceWarning: lbfgs failed to converge (status=1):\n",
      "STOP: TOTAL NO. of ITERATIONS REACHED LIMIT.\n",
      "\n",
      "Increase the number of iterations (max_iter) or scale the data as shown in:\n",
      "    https://scikit-learn.org/stable/modules/preprocessing.html\n",
      "Please also refer to the documentation for alternative solver options:\n",
      "    https://scikit-learn.org/stable/modules/linear_model.html#logistic-regression\n",
      "  n_iter_i = _check_optimize_result(\n",
      "C:\\Users\\Robert\\anaconda3\\envs\\learn-env\\lib\\site-packages\\sklearn\\linear_model\\_logistic.py:444: ConvergenceWarning: lbfgs failed to converge (status=1):\n",
      "STOP: TOTAL NO. of ITERATIONS REACHED LIMIT.\n",
      "\n",
      "Increase the number of iterations (max_iter) or scale the data as shown in:\n",
      "    https://scikit-learn.org/stable/modules/preprocessing.html\n",
      "Please also refer to the documentation for alternative solver options:\n",
      "    https://scikit-learn.org/stable/modules/linear_model.html#logistic-regression\n",
      "  n_iter_i = _check_optimize_result(\n",
      "C:\\Users\\Robert\\anaconda3\\envs\\learn-env\\lib\\site-packages\\sklearn\\linear_model\\_logistic.py:444: ConvergenceWarning: lbfgs failed to converge (status=1):\n",
      "STOP: TOTAL NO. of ITERATIONS REACHED LIMIT.\n",
      "\n",
      "Increase the number of iterations (max_iter) or scale the data as shown in:\n",
      "    https://scikit-learn.org/stable/modules/preprocessing.html\n",
      "Please also refer to the documentation for alternative solver options:\n",
      "    https://scikit-learn.org/stable/modules/linear_model.html#logistic-regression\n",
      "  n_iter_i = _check_optimize_result(\n"
     ]
    },
    {
     "name": "stdout",
     "output_type": "stream",
     "text": [
      "Training Accuracy 0.407\n",
      "---\n",
      "Cross Val Accuracy 0.393\n",
      "---\n",
      "Training Precision: 0.407\n",
      "Cross Val Precision: 0.393\n",
      "---\n",
      "Training Recall: 0.407\n",
      "Cross Val Recall: 0.393\n",
      "---\n",
      "Training F1: 0.407\n",
      "Cross Val F1: 0.393\n"
     ]
    },
    {
     "data": {
      "image/png": "[encoded data removed]",
      "text/plain": [
       "<Figure size 432x288 with 2 Axes>"
      ]
     },
     "metadata": {
      "needs_background": "light"
     },
     "output_type": "display_data"
    }
   ],
   "source": [
    "lr_pipe = Pipeline(steps=[\n",
    "    ('lr', LogisticRegression(class_weight=class_weights_gd, random_state=123))\n",
    "])\n",
    "\n",
    "lr_pipe.fit(X_train_preprocessed, y_train)\n",
    "\n",
    "model_performance(lr_pipe, X_train_preprocessed, y_train)"
   ]
  },
  {
   "cell_type": "code",
   "execution_count": 50,
   "metadata": {},
   "outputs": [
    {
     "name": "stdout",
     "output_type": "stream",
     "text": [
      "Training Accuracy 0.407\n",
      "---\n",
      "Cross Val Accuracy 0.392\n",
      "---\n",
      "Training Precision: 0.407\n",
      "Cross Val Precision: 0.392\n",
      "---\n",
      "Training Recall: 0.407\n",
      "Cross Val Recall: 0.392\n",
      "---\n",
      "Training F1: 0.407\n",
      "Cross Val F1: 0.392\n"
     ]
    },
    {
     "data": {
      "image/png": "[encoded data removed]",
      "text/plain": [
       "<Figure size 432x288 with 2 Axes>"
      ]
     },
     "metadata": {
      "needs_background": "light"
     },
     "output_type": "display_data"
    }
   ],
   "source": [
    "# lr_pipe2 = Pipeline(steps=[\n",
    "#     ('lr', LogisticRegression(class_weight=class_weights_gd,\n",
    "#                               max_iter=1000,\n",
    "#                               random_state=123))\n",
    "# ])\n",
    "\n",
    "# lr_pipe2.fit(X_train_preprocessed, y_train)\n",
    "\n",
    "# model_performance(lr_pipe2, X_train_preprocessed, y_train)"
   ]
  },
  {
   "cell_type": "code",
   "execution_count": 18,
   "metadata": {},
   "outputs": [
    {
     "name": "stdout",
     "output_type": "stream",
     "text": [
      "Fitting 5 folds for each of 3 candidates, totalling 15 fits\n"
     ]
    },
    {
     "name": "stderr",
     "output_type": "stream",
     "text": [
      "C:\\Users\\Robert\\anaconda3\\envs\\learn-env\\lib\\site-packages\\sklearn\\linear_model\\_sag.py:350: ConvergenceWarning: The max_iter was reached which means the coef_ did not converge\n",
      "  warnings.warn(\n"
     ]
    },
    {
     "name": "stdout",
     "output_type": "stream",
     "text": [
      "[CV 1/5] END ...................lr__solver=saga;, score=0.397 total time= 5.1min\n"
     ]
    },
    {
     "name": "stderr",
     "output_type": "stream",
     "text": [
      "C:\\Users\\Robert\\anaconda3\\envs\\learn-env\\lib\\site-packages\\sklearn\\linear_model\\_sag.py:350: ConvergenceWarning: The max_iter was reached which means the coef_ did not converge\n",
      "  warnings.warn(\n"
     ]
    },
    {
     "name": "stdout",
     "output_type": "stream",
     "text": [
      "[CV 2/5] END ...................lr__solver=saga;, score=0.392 total time= 5.1min\n"
     ]
    },
    {
     "name": "stderr",
     "output_type": "stream",
     "text": [
      "C:\\Users\\Robert\\anaconda3\\envs\\learn-env\\lib\\site-packages\\sklearn\\linear_model\\_sag.py:350: ConvergenceWarning: The max_iter was reached which means the coef_ did not converge\n",
      "  warnings.warn(\n"
     ]
    },
    {
     "name": "stdout",
     "output_type": "stream",
     "text": [
      "[CV 3/5] END ...................lr__solver=saga;, score=0.392 total time= 5.1min\n"
     ]
    },
    {
     "name": "stderr",
     "output_type": "stream",
     "text": [
      "C:\\Users\\Robert\\anaconda3\\envs\\learn-env\\lib\\site-packages\\sklearn\\linear_model\\_sag.py:350: ConvergenceWarning: The max_iter was reached which means the coef_ did not converge\n",
      "  warnings.warn(\n"
     ]
    },
    {
     "name": "stdout",
     "output_type": "stream",
     "text": [
      "[CV 4/5] END ...................lr__solver=saga;, score=0.391 total time= 5.1min\n"
     ]
    },
    {
     "name": "stderr",
     "output_type": "stream",
     "text": [
      "C:\\Users\\Robert\\anaconda3\\envs\\learn-env\\lib\\site-packages\\sklearn\\linear_model\\_sag.py:350: ConvergenceWarning: The max_iter was reached which means the coef_ did not converge\n",
      "  warnings.warn(\n"
     ]
    },
    {
     "name": "stdout",
     "output_type": "stream",
     "text": [
      "[CV 5/5] END ...................lr__solver=saga;, score=0.393 total time= 5.1min\n"
     ]
    },
    {
     "name": "stderr",
     "output_type": "stream",
     "text": [
      "C:\\Users\\Robert\\anaconda3\\envs\\learn-env\\lib\\site-packages\\sklearn\\linear_model\\_sag.py:350: ConvergenceWarning: The max_iter was reached which means the coef_ did not converge\n",
      "  warnings.warn(\n"
     ]
    },
    {
     "name": "stdout",
     "output_type": "stream",
     "text": [
      "[CV 1/5] END ....................lr__solver=sag;, score=0.396 total time= 4.1min\n"
     ]
    },
    {
     "name": "stderr",
     "output_type": "stream",
     "text": [
      "C:\\Users\\Robert\\anaconda3\\envs\\learn-env\\lib\\site-packages\\sklearn\\linear_model\\_sag.py:350: ConvergenceWarning: The max_iter was reached which means the coef_ did not converge\n",
      "  warnings.warn(\n"
     ]
    },
    {
     "name": "stdout",
     "output_type": "stream",
     "text": [
      "[CV 2/5] END ....................lr__solver=sag;, score=0.391 total time= 4.1min\n"
     ]
    },
    {
     "name": "stderr",
     "output_type": "stream",
     "text": [
      "C:\\Users\\Robert\\anaconda3\\envs\\learn-env\\lib\\site-packages\\sklearn\\linear_model\\_sag.py:350: ConvergenceWarning: The max_iter was reached which means the coef_ did not converge\n",
      "  warnings.warn(\n"
     ]
    },
    {
     "name": "stdout",
     "output_type": "stream",
     "text": [
      "[CV 3/5] END ....................lr__solver=sag;, score=0.392 total time= 4.1min\n"
     ]
    },
    {
     "name": "stderr",
     "output_type": "stream",
     "text": [
      "C:\\Users\\Robert\\anaconda3\\envs\\learn-env\\lib\\site-packages\\sklearn\\linear_model\\_sag.py:350: ConvergenceWarning: The max_iter was reached which means the coef_ did not converge\n",
      "  warnings.warn(\n"
     ]
    },
    {
     "name": "stdout",
     "output_type": "stream",
     "text": [
      "[CV 4/5] END ....................lr__solver=sag;, score=0.390 total time= 4.1min\n"
     ]
    },
    {
     "name": "stderr",
     "output_type": "stream",
     "text": [
      "C:\\Users\\Robert\\anaconda3\\envs\\learn-env\\lib\\site-packages\\sklearn\\linear_model\\_sag.py:350: ConvergenceWarning: The max_iter was reached which means the coef_ did not converge\n",
      "  warnings.warn(\n"
     ]
    },
    {
     "name": "stdout",
     "output_type": "stream",
     "text": [
      "[CV 5/5] END ....................lr__solver=sag;, score=0.392 total time= 4.1min\n",
      "[CV 1/5] END ..............lr__solver=newton-cg;, score=0.396 total time=15.8min\n",
      "[CV 2/5] END ..............lr__solver=newton-cg;, score=0.391 total time=16.5min\n",
      "[CV 3/5] END ..............lr__solver=newton-cg;, score=0.391 total time=16.8min\n",
      "[CV 4/5] END ..............lr__solver=newton-cg;, score=0.389 total time=17.0min\n",
      "[CV 5/5] END ..............lr__solver=newton-cg;, score=0.391 total time=17.1min\n",
      "{'lr__solver': 'saga'}\n"
     ]
    },
    {
     "name": "stderr",
     "output_type": "stream",
     "text": [
      "C:\\Users\\Robert\\anaconda3\\envs\\learn-env\\lib\\site-packages\\sklearn\\linear_model\\_sag.py:350: ConvergenceWarning: The max_iter was reached which means the coef_ did not converge\n",
      "  warnings.warn(\n"
     ]
    }
   ],
   "source": [
    "lr_param_grid = {\n",
    "    'lr__solver': ['saga', 'sag', 'newton-cg'] # Trying different solvers\n",
    "}\n",
    "\n",
    "lr_gridsearch = GridSearchCV(estimator=lr_pipe, \n",
    "                          param_grid=lr_param_grid,\n",
    "                          scoring='f1_micro',\n",
    "                          verbose=3)\n",
    "\n",
    "# Fit the training data\n",
    "lr_gridsearch.fit(X_train_preprocessed, y_train)\n",
    "\n",
    "# Show the best parameters\n",
    "print(lr_gridsearch.best_params_)"
   ]
  },
  {
   "cell_type": "markdown",
   "metadata": {},
   "source": [
    "## Deep Learning"
   ]
  },
  {
   "cell_type": "code",
   "execution_count": null,
   "metadata": {},
   "outputs": [],
   "source": [
    "# import keras\n",
    "# from keras.models import Sequential\n",
    "# from keras.layers import Dense\n",
    "\n",
    "# model_1 = Sequential()\n",
    "# model_1.add(Dense(1870, activation='relu', input_dim=958))\n",
    "# model_1.add(Dense(935, activation='relu'))\n",
    "# model_1.add(Dense(300, activation='relu'))\n",
    "# model_1.add(Dense(150, activation='relu'))\n",
    "# model_1.add(Dense(75, activation='relu'))\n",
    "# model_1.add(Dense(4, activation='softmax'))\n",
    "\n",
    "# model_1.compile(loss='categorical_crossentropy', optimizer='adam', metrics=['acc'])\n",
    "# results_1 = model_1.fit(X_train_preprocessed, labels, class_weight=class_weights_dl, epochs=25, batch_size=32, validation_split=0.2)"
   ]
  },
  {
   "cell_type": "code",
   "execution_count": null,
   "metadata": {},
   "outputs": [],
   "source": [
    "# from keras import models\n",
    "# from keras import layers\n",
    "\n",
    "# model_2 = Sequential()\n",
    "# model_2.add(Dense(1870, activation='relu', input_dim=958))\n",
    "# model_2.add(Dense(935, activation='relu'))\n",
    "# model_2.add(Dense(300, activation='relu'))\n",
    "# model_2.add(layers.Dropout(0.3))\n",
    "# model_2.add(Dense(150, activation='relu'))\n",
    "# model_2.add(Dense(75, activation='relu'))\n",
    "# model_2.add(layers.Dropout(0.3))\n",
    "# model_2.add(Dense(4, activation='softmax'))\n",
    "\n",
    "# model_2.compile(loss='categorical_crossentropy', optimizer='adam', metrics=['acc'])\n",
    "\n",
    "# from keras.callbacks import EarlyStopping, ModelCheckpoint\n",
    "\n",
    "# # Define the callbacks\n",
    "# early_stopping = [EarlyStopping(monitor='val_acc', min_delta=0.01, patience=20), \n",
    "#                   ModelCheckpoint(filepath='models/best_model.h5', monitor='val_acc', save_best_only=True)]\n",
    "\n",
    "# model_2_hist = model_2.fit(X_train_preprocessed,\n",
    "#                            labels,\n",
    "#                            class_weight=class_weights_dl,\n",
    "#                            epochs=150,\n",
    "#                            batch_size=32,\n",
    "#                            validation_split=0.2,\n",
    "#                            callbacks=early_stopping)"
   ]
  },
  {
   "cell_type": "code",
   "execution_count": null,
   "metadata": {},
   "outputs": [],
   "source": [
    "# from keras import regularizers\n",
    "\n",
    "# model_3 = Sequential()\n",
    "# model_3.add(Dense(1870, kernel_regularizer=regularizers.l1(0.005), activation='relu', input_dim=935))\n",
    "# model_3.add(Dense(935, activation='relu'))\n",
    "# model_3.add(Dense(300, activation='relu'))\n",
    "# model_3.add(layers.Dropout(0.3))\n",
    "# model_3.add(Dense(150, kernel_regularizer=regularizers.l1(0.005), activation='relu'))\n",
    "# model_3.add(Dense(75, activation='relu'))\n",
    "# model_3.add(layers.Dropout(0.3))\n",
    "# model_3.add(Dense(4, activation='softmax'))\n",
    "\n",
    "# model_3.compile(loss='categorical_crossentropy', optimizer='adam', metrics=['acc'])\n",
    "\n",
    "# early_stopping_reg = [EarlyStopping(monitor='val_acc', min_delta=0.001, patience=30), \n",
    "#                   ModelCheckpoint(filepath='models/best_model_reg.h5', monitor='val_acc', save_best_only=True)]"
   ]
  },
  {
   "cell_type": "code",
   "execution_count": null,
   "metadata": {},
   "outputs": [],
   "source": [
    "# model_3_hist = model_3.fit(X_train_preprocessed,\n",
    "#                            labels,\n",
    "#                            class_weight=class_weights_dl,\n",
    "#                            epochs=250,\n",
    "#                            batch_size=32,\n",
    "#                            validation_split=0.2,\n",
    "#                            callbacks=early_stopping_reg)"
   ]
  },
  {
   "cell_type": "code",
   "execution_count": null,
   "metadata": {},
   "outputs": [],
   "source": [
    "# # Optimized XGBoost Classifier\n",
    "# xgb_pipe = Pipeline(steps=[\n",
    "#     ('xg', XGBClassifier())\n",
    "# ])\n",
    "\n",
    "# xgb_pipe.fit(X_train_preprocessed, y_train)\n",
    "\n",
    "# model_performance(xgb_pipe, X_train_preprocessed, y_train)"
   ]
  },
  {
   "cell_type": "code",
   "execution_count": null,
   "metadata": {},
   "outputs": [],
   "source": [
    "# # Searching for the best hyperparameters\n",
    "# xgb_grid = {\n",
    "#     'xg__learning_rate': [0.05, 0.10, 0.15],\n",
    "#     'xg__max_depth': [3, 6, 12, 15],\n",
    "#     'xg__min_child_weight': [1, 3, 5, 7],\n",
    "#     'xg__subsample': [0.5, 0.7]\n",
    "# }\n",
    "\n",
    "# args = {'sample_weight': sample_weights}\n",
    "\n",
    "# xgb_pipe = Pipeline(steps=[\n",
    "#     ('xg', XGBClassifier(**args))\n",
    "# ])\n",
    "\n",
    "# xgb_gridsearch = GridSearchCV(estimator=xgb_pipe, \n",
    "#                           param_grid=xgb_grid,\n",
    "#                           scoring='recall',\n",
    "#                           verbose=3,\n",
    "#                           error_score=\"raise\")\n",
    "\n",
    "# # Fit the training data\n",
    "# xgb_gridsearch.fit(X_train_preprocessed, y_train)\n",
    "\n",
    "# # Print the recall on test set and best params\n",
    "# print(xgb_gridsearch.best_params_)"
   ]
  },
  {
   "cell_type": "code",
   "execution_count": null,
   "metadata": {},
   "outputs": [],
   "source": []
  }
 ],
 "metadata": {
  "kernelspec": {
   "display_name": "Python (learn-env)",
   "language": "python",
   "name": "learn-env"
  },
  "language_info": {
   "codemirror_mode": {
    "name": "ipython",
    "version": 3
   },
   "file_extension": ".py",
   "mimetype": "text/x-python",
   "name": "python",
   "nbconvert_exporter": "python",
   "pygments_lexer": "ipython3",
   "version": "3.8.5"
  }
 },
 "nbformat": 4,
 "nbformat_minor": 4
}
