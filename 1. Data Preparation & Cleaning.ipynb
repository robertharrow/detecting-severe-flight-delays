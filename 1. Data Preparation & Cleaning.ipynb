{
 "cells": [
  {
   "cell_type": "markdown",
   "metadata": {},
   "source": [
    "# Predicting Major Flight Delays\n",
    "\n",
    "Our client, FlightChicken, would like a model that predicts whether a flight will experience a major delay. Delays can cause a major disruption to travel plans, especially if they cause a person to miss their connecting flight. FlightChicken would like to give their users a heads up about potential travel disruptions like this.\n",
    "\n",
    "This is a major undertaking as there are hundreds of airlines and thousands of airports in the United States alone. That's why FlightChicken would like to launch with just an MVP to prove our their concept. This MVP should support major US airports and 8 of the most popular airlines."
   ]
  },
  {
   "cell_type": "code",
   "execution_count": 57,
   "metadata": {
    "scrolled": true
   },
   "outputs": [],
   "source": [
    "import pandas as pd\n",
    "import glob\n",
    "import os\n",
    "import requests\n",
    "import json\n",
    "import numpy as np\n",
    "import random\n",
    "import matplotlib.pyplot as plt\n",
    "%matplotlib inline\n",
    "import time\n",
    "\n",
    "from datetime import datetime, timedelta\n",
    "from pandas import Timestamp\n",
    "\n",
    "pd.set_option('display.max_columns', None)\n",
    "\n",
    "import warnings\n",
    "warnings.filterwarnings(action='ignore', category=FutureWarning)\n",
    "\n",
    "import airportsdata\n",
    "from pytz import timezone\n",
    "import pytz"
   ]
  },
  {
   "cell_type": "markdown",
   "metadata": {},
   "source": [
    "## Business Understanding\n",
    "\n",
    "MVP should support:\n",
    "\n",
    "* [Top 8 US Airlines](https://www.statista.com/statistics/250577/domestic-market-share-of-leading-us-airlines/)\n",
    " * American Airlines\n",
    " * Delta Air Lines\n",
    " * United Airlines\n",
    " * Southwest Airlines\n",
    " * Alaska Airlines\n",
    " * JetBlue Airways\n",
    " * Spirit\n",
    " * SkyWest\n",
    "* [Large and medium airport hubs](https://www.faa.gov/airports/planning_capacity/passenger_allcargo_stats/passenger/media/cy20-commercial-service-enplanements.pdf)\n",
    " * \"The term hub is used by the FAA to identify very busy commercial service airports. Large hubs are the airports that each account for at least one percent of total U.S. passenger enplanements.\"\n",
    " * In 2020 these accounted for 84% of all enplanements\n"
   ]
  },
  {
   "cell_type": "markdown",
   "metadata": {},
   "source": [
    "## Data\n",
    "\n",
    "To complete this project, we will be using data from several sources.\n",
    "\n",
    "1. **Bureau of Transportation Statistics: Carrier On-Time Performence Database.** This database contains scheduled and actual departure and arrival times reported by certified U.S. air carriers that account for at least one percent of domestic scheduled passenger revenues. The data is collected by the Office of Airline Information, Bureau of Transportation Statistics (BTS).\n",
    "2. **National Oceanic and Atmospheric Administration (NOAA): Daily Weather Summaries:** Data on select weather conditions at airprots collected by weather stations.\n",
    "3. **Timezone for Each Airport by StackOverflow user hroptatyr:** This data will allow us to convert our timedata to UTC and make it easier to work with. [Link](https://raw.githubusercontent.com/hroptatyr/dateutils/tzmaps/iata.tzmap)\n",
    "\n",
    "Additionally, to link data from NOAA to each airport, I manually looked up the weather station for all airports relevant in this project. This data was can be found in FILE PATH. To reproduce, go to [Climate Data Online Search](https://www.ncei.noaa.gov/cdo-web/search) and make the following selections:\n",
    "\n",
    "1. Select Weather Observation Type/Dataset: Daily Summaries\n",
    "2. Select Date Range: 2018-01-01 to 2021-12-31\n",
    "3. Search For: Stations\n",
    "4. Enter a Search Term: enter the city and state of the airport plus the term 'airport'. e.g. Atlanta, GA airport\n",
    "5. Hit 'Search'\n",
    "6. On the results page, find the closest/most relevant weather station. In the example of \"Atlanta, GA airport\" you would select 'Atlanta Hartsfield Jackson International Airport\". Hit 'Add to Cart'. **On the results page, make note of the Station ID. This is what will serve as the key for linking BTS data with weather data.**\n",
    "7. Repeat for every airport.\n"
   ]
  },
  {
   "cell_type": "markdown",
   "metadata": {},
   "source": [
    "### Data Preperation & Cleaning\n",
    "First, we need to load all our data into pandas so that we can work with it."
   ]
  },
  {
   "cell_type": "markdown",
   "metadata": {},
   "source": [
    "#### Carrier On-Time Performence Database\n",
    "This data can only be downloaded by month, which means it is split among many files."
   ]
  },
  {
   "cell_type": "code",
   "execution_count": 2,
   "metadata": {
    "scrolled": true
   },
   "outputs": [],
   "source": [
    "flight_data = glob.glob(os.path.join('data/downloaded/carrier-on-time-performence', \"*.csv\"))\n",
    "carrier_data = pd.concat((pd.read_csv(f) for f in flight_data), ignore_index=True)"
   ]
  },
  {
   "cell_type": "code",
   "execution_count": 3,
   "metadata": {},
   "outputs": [],
   "source": [
    "# We're trying to predict only flight delays not cancellations so we'll remove those from this list\n",
    "carrier_data = carrier_data.loc[carrier_data['CANCELLED'] == 0]\n",
    "carrier_data.drop(['CANCELLED'], axis = 1, inplace=True)"
   ]
  },
  {
   "cell_type": "code",
   "execution_count": 4,
   "metadata": {},
   "outputs": [
    {
     "data": {
      "text/plain": [
       "YEAR                         0\n",
       "MONTH                        0\n",
       "DAY_OF_MONTH                 0\n",
       "DAY_OF_WEEK                  0\n",
       "FL_DATE                      0\n",
       "MKT_CARRIER                  0\n",
       "MKT_CARRIER_FL_NUM           0\n",
       "OP_CARRIER                   0\n",
       "TAIL_NUM                     0\n",
       "OP_CARRIER_FL_NUM            0\n",
       "ORIGIN                       0\n",
       "DEST                         0\n",
       "CRS_DEP_TIME                 0\n",
       "DEP_DELAY                    0\n",
       "DEP_DELAY_NEW                0\n",
       "CRS_ARR_TIME                 0\n",
       "ARR_DELAY_NEW            19033\n",
       "CRS_ELAPSED_TIME             0\n",
       "DISTANCE                     0\n",
       "CARRIER_DELAY          5864061\n",
       "WEATHER_DELAY          5864061\n",
       "NAS_DELAY              5864061\n",
       "SECURITY_DELAY         5864061\n",
       "LATE_AIRCRAFT_DELAY    5864061\n",
       "dtype: int64"
      ]
     },
     "execution_count": 4,
     "metadata": {},
     "output_type": "execute_result"
    }
   ],
   "source": [
    "# Dropping Columns with a lot of missing info\n",
    "carrier_data.isna().sum()"
   ]
  },
  {
   "cell_type": "code",
   "execution_count": 5,
   "metadata": {},
   "outputs": [],
   "source": [
    "cols_to_drop = ['CARRIER_DELAY', 'WEATHER_DELAY', 'NAS_DELAY', 'SECURITY_DELAY', 'LATE_AIRCRAFT_DELAY']\n",
    "carrier_data.drop(cols_to_drop, axis = 1, inplace=True)"
   ]
  },
  {
   "cell_type": "code",
   "execution_count": 6,
   "metadata": {},
   "outputs": [],
   "source": [
    "carrier_data = carrier_data[np.isfinite(carrier_data['ARR_DELAY_NEW'])]"
   ]
  },
  {
   "cell_type": "markdown",
   "metadata": {},
   "source": [
    "#### Bringing In Additional Data on Our Airports\n",
    "Next, we'll use the airportsdata package to load in some additional details for each airport (like its location, timezone, and elevation)."
   ]
  },
  {
   "cell_type": "code",
   "execution_count": 7,
   "metadata": {},
   "outputs": [],
   "source": [
    "airports = airportsdata.load('IATA')\n",
    "airports_list = []\n",
    "lat_list = []\n",
    "lon_list = []\n",
    "elevation_list = []\n",
    "tz_list = []\n",
    "\n",
    "for key in airports.keys():\n",
    "    airport = airports[key]['iata']\n",
    "    lat = airports[key]['lat']\n",
    "    lon = airports[key]['lon']\n",
    "    elevation = airports[key]['elevation']\n",
    "    tz = airports[key]['tz']\n",
    "    airports_list.append(airport)\n",
    "    lat_list.append(lat)\n",
    "    lon_list.append(lon)\n",
    "    elevation_list.append(elevation)\n",
    "    tz_list.append(tz)\n",
    "\n",
    "airport_locations = pd.DataFrame(\n",
    "    {'Airport': airports_list,\n",
    "     'Latitude': lat_list,\n",
    "     'Longitude': lon_list,\n",
    "     'Timezone': tz_list,\n",
    "     'Elevation': elevation_list,\n",
    "    })\n",
    "\n",
    "airport_locations['lat-long'] = airport_locations['Latitude'].astype(str) + ',' + airport_locations['Longitude'].astype(str)"
   ]
  },
  {
   "cell_type": "code",
   "execution_count": 8,
   "metadata": {},
   "outputs": [],
   "source": [
    "# Now we bring that information to our main dataframe\n",
    "carrier_data['origin-lat-long'] = carrier_data['ORIGIN'].map(airport_locations.set_index('Airport')['lat-long'])\n",
    "carrier_data['origin-tz'] = carrier_data['ORIGIN'].map(airport_locations.set_index('Airport')['Timezone'])\n",
    "carrier_data['origin-elevation'] = carrier_data['ORIGIN'].map(airport_locations.set_index('Airport')['Elevation'])\n",
    "\n",
    "carrier_data['dest-lat-long'] = carrier_data['DEST'].map(airport_locations.set_index('Airport')['lat-long'])\n",
    "carrier_data['dest-tz'] = carrier_data['DEST'].map(airport_locations.set_index('Airport')['Timezone'])\n",
    "carrier_data['dest-elevation'] = carrier_data['DEST'].map(airport_locations.set_index('Airport')['Elevation'])"
   ]
  },
  {
   "cell_type": "code",
   "execution_count": 9,
   "metadata": {
    "scrolled": true
   },
   "outputs": [
    {
     "name": "stdout",
     "output_type": "stream",
     "text": [
      "Missing origin timezones: 13825\n",
      "Missing origin elevations: 13825\n",
      "Missing origin locations: 13825\n",
      "------------------\n",
      "Missing destination timezones: 13810\n",
      "Missing destination  elevations: 13810\n",
      "Missing destination  locations: 13810\n"
     ]
    }
   ],
   "source": [
    "# Check whether we were able to match all records\n",
    "print('Missing origin timezones: {}'.format(carrier_data['origin-tz'].isna().sum()))\n",
    "print('Missing origin elevations: {}'.format(carrier_data['origin-elevation'].isna().sum()))\n",
    "print('Missing origin locations: {}'.format(carrier_data['origin-lat-long'].isna().sum()))\n",
    "print('------------------')\n",
    "print('Missing destination timezones: {}'.format(carrier_data['dest-tz'].isna().sum()))\n",
    "print('Missing destination  elevations: {}'.format(carrier_data['dest-elevation'].isna().sum()))\n",
    "print('Missing destination  locations: {}'.format(carrier_data['dest-lat-long'].isna().sum()))"
   ]
  },
  {
   "cell_type": "markdown",
   "metadata": {},
   "source": [
    "Looks like about 13,000 records couldn't be matched. That's not bad considering we have over 7,000,000 record total. We'll simply drop the Null values."
   ]
  },
  {
   "cell_type": "code",
   "execution_count": 10,
   "metadata": {
    "scrolled": true
   },
   "outputs": [],
   "source": [
    "carrier_data = carrier_data.dropna(subset=['origin-tz', 'origin-elevation', 'origin-lat-long',\n",
    "                                           'dest-tz', 'dest-elevation', 'dest-lat-long'])"
   ]
  },
  {
   "cell_type": "markdown",
   "metadata": {},
   "source": [
    "The time feature we are concerned with is takeoff and landing time.  Our goal is to convert it to a universal UTC time. To do this, we first need to transform it a bit so that it's workable."
   ]
  },
  {
   "cell_type": "code",
   "execution_count": 11,
   "metadata": {},
   "outputs": [
    {
     "data": {
      "text/html": [
       "<div>\n",
       "<style scoped>\n",
       "    .dataframe tbody tr th:only-of-type {\n",
       "        vertical-align: middle;\n",
       "    }\n",
       "\n",
       "    .dataframe tbody tr th {\n",
       "        vertical-align: top;\n",
       "    }\n",
       "\n",
       "    .dataframe thead th {\n",
       "        text-align: right;\n",
       "    }\n",
       "</style>\n",
       "<table border=\"1\" class=\"dataframe\">\n",
       "  <thead>\n",
       "    <tr style=\"text-align: right;\">\n",
       "      <th></th>\n",
       "      <th>FL_DATE</th>\n",
       "      <th>CRS_DEP_TIME</th>\n",
       "      <th>CRS_ARR_TIME</th>\n",
       "    </tr>\n",
       "  </thead>\n",
       "  <tbody>\n",
       "    <tr>\n",
       "      <th>0</th>\n",
       "      <td>7/13/2021 12:00:00 AM</td>\n",
       "      <td>1825</td>\n",
       "      <td>2140</td>\n",
       "    </tr>\n",
       "    <tr>\n",
       "      <th>2</th>\n",
       "      <td>7/13/2021 12:00:00 AM</td>\n",
       "      <td>1210</td>\n",
       "      <td>1530</td>\n",
       "    </tr>\n",
       "    <tr>\n",
       "      <th>3</th>\n",
       "      <td>7/13/2021 12:00:00 AM</td>\n",
       "      <td>2050</td>\n",
       "      <td>5</td>\n",
       "    </tr>\n",
       "    <tr>\n",
       "      <th>4</th>\n",
       "      <td>7/13/2021 12:00:00 AM</td>\n",
       "      <td>1840</td>\n",
       "      <td>2140</td>\n",
       "    </tr>\n",
       "    <tr>\n",
       "      <th>5</th>\n",
       "      <td>7/13/2021 12:00:00 AM</td>\n",
       "      <td>840</td>\n",
       "      <td>1145</td>\n",
       "    </tr>\n",
       "    <tr>\n",
       "      <th>...</th>\n",
       "      <td>...</td>\n",
       "      <td>...</td>\n",
       "      <td>...</td>\n",
       "    </tr>\n",
       "    <tr>\n",
       "      <th>7580719</th>\n",
       "      <td>1/9/2022 12:00:00 AM</td>\n",
       "      <td>1224</td>\n",
       "      <td>1352</td>\n",
       "    </tr>\n",
       "    <tr>\n",
       "      <th>7580720</th>\n",
       "      <td>1/10/2022 12:00:00 AM</td>\n",
       "      <td>1224</td>\n",
       "      <td>1352</td>\n",
       "    </tr>\n",
       "    <tr>\n",
       "      <th>7580721</th>\n",
       "      <td>1/11/2022 12:00:00 AM</td>\n",
       "      <td>1224</td>\n",
       "      <td>1352</td>\n",
       "    </tr>\n",
       "    <tr>\n",
       "      <th>7580722</th>\n",
       "      <td>1/12/2022 12:00:00 AM</td>\n",
       "      <td>1224</td>\n",
       "      <td>1352</td>\n",
       "    </tr>\n",
       "    <tr>\n",
       "      <th>7580723</th>\n",
       "      <td>1/13/2022 12:00:00 AM</td>\n",
       "      <td>1224</td>\n",
       "      <td>1352</td>\n",
       "    </tr>\n",
       "  </tbody>\n",
       "</table>\n",
       "<p>7346524 rows × 3 columns</p>\n",
       "</div>"
      ],
      "text/plain": [
       "                       FL_DATE  CRS_DEP_TIME  CRS_ARR_TIME\n",
       "0        7/13/2021 12:00:00 AM          1825          2140\n",
       "2        7/13/2021 12:00:00 AM          1210          1530\n",
       "3        7/13/2021 12:00:00 AM          2050             5\n",
       "4        7/13/2021 12:00:00 AM          1840          2140\n",
       "5        7/13/2021 12:00:00 AM           840          1145\n",
       "...                        ...           ...           ...\n",
       "7580719   1/9/2022 12:00:00 AM          1224          1352\n",
       "7580720  1/10/2022 12:00:00 AM          1224          1352\n",
       "7580721  1/11/2022 12:00:00 AM          1224          1352\n",
       "7580722  1/12/2022 12:00:00 AM          1224          1352\n",
       "7580723  1/13/2022 12:00:00 AM          1224          1352\n",
       "\n",
       "[7346524 rows x 3 columns]"
      ]
     },
     "execution_count": 11,
     "metadata": {},
     "output_type": "execute_result"
    }
   ],
   "source": [
    "carrier_data[['FL_DATE', 'CRS_DEP_TIME', 'CRS_ARR_TIME']]"
   ]
  },
  {
   "cell_type": "markdown",
   "metadata": {},
   "source": [
    "All times are expressed as an integer in military time. For example, 940 is 9:40am and 1500 is 3:00pm. We would like to first convert it to a string that can be read as 24H time, then combined with the FL_DATE field so that we can have an exact take-off date and time."
   ]
  },
  {
   "cell_type": "code",
   "execution_count": 12,
   "metadata": {
    "scrolled": true
   },
   "outputs": [],
   "source": [
    "# First we create a helper function to carry out the transformation\n",
    "def float_to_time(time):\n",
    "    '''\n",
    "    Function takes in an integer representation of time (24-hour format)\n",
    "    and returns a string in proper datetime formatting. Example: 1545 (int) becomes 15:45 (string)\n",
    "    '''\n",
    "    time_str = str(time)\n",
    "    digits = len(time_str)\n",
    "    if digits < 2:\n",
    "        return '00:0' + str(time)\n",
    "    if digits == 2:\n",
    "        return '00:' + str(time)\n",
    "    if digits == 3:\n",
    "        return '0' + time_str[:1] + ':' + time_str[1:]\n",
    "    if digits == 4:\n",
    "        return time_str[:2] + ':' + time_str[2:]"
   ]
  },
  {
   "cell_type": "code",
   "execution_count": 13,
   "metadata": {
    "scrolled": true
   },
   "outputs": [],
   "source": [
    "# First, we apply the function above to transform the CRS_DEP_TIME field\n",
    "carrier_data['CRS_DEP_TIME'] = carrier_data['CRS_DEP_TIME'].apply(float_to_time)\n",
    "carrier_data['CRS_ARR_TIME'] = carrier_data['CRS_ARR_TIME'].apply(float_to_time)\n",
    "# Next, we update the FL_DATE field so that it now contains the proper date AND time of takeoff\n",
    "carrier_data['FL_DATE'] =  pd.to_datetime(carrier_data['FL_DATE'].astype(str) + ' ' + carrier_data['CRS_DEP_TIME'])"
   ]
  },
  {
   "cell_type": "markdown",
   "metadata": {},
   "source": [
    "Now that we have the above expressed in LOCAL time, we will use the timezone data to create an additional element in UTC time."
   ]
  },
  {
   "cell_type": "code",
   "execution_count": 14,
   "metadata": {
    "scrolled": true
   },
   "outputs": [],
   "source": [
    "# First we need to make our data, which is timezone naive, to timezone aware\n",
    "carrier_data['FL_DATE'] = carrier_data['FL_DATE'].astype('datetime64[ns]')\n",
    "carrier_data['FL_DATE_LOCAL'] = carrier_data.apply(lambda x: x['FL_DATE'].replace(tzinfo=timezone(x['origin-tz'])), axis=1)"
   ]
  },
  {
   "cell_type": "code",
   "execution_count": 17,
   "metadata": {
    "scrolled": true
   },
   "outputs": [],
   "source": [
    "# # Next, we convert the timezone\n",
    "# carrier_data['FL_DATE_UTC'] = carrier_data.apply(lambda x: x['FL_DATE'].tz_convert(pytz.utc), axis=1)"
   ]
  },
  {
   "cell_type": "markdown",
   "metadata": {},
   "source": [
    "Next, we want to know when the flight will be landing. We have the field CRS_ELAPSED_TIME to see how many minutes are supposed to take between departure and arrival. This is expressed in minutes. We can add that to the UTC FL_DATE and then convert it to a local time."
   ]
  },
  {
   "cell_type": "code",
   "execution_count": 15,
   "metadata": {},
   "outputs": [
    {
     "name": "stderr",
     "output_type": "stream",
     "text": [
      "C:\\Users\\Robert\\anaconda3\\envs\\learn-env\\lib\\site-packages\\pandas\\core\\arrays\\datetimelike.py:1342: PerformanceWarning: Adding/subtracting object-dtype array to TimedeltaArray not vectorized\n",
      "  warnings.warn(\n"
     ]
    }
   ],
   "source": [
    "carrier_data['flight_duration'] = pd.to_timedelta(carrier_data['CRS_ELAPSED_TIME'],'m')\n",
    "carrier_data['FL_ARR_DATE_REL_ORIGIN'] = carrier_data['FL_DATE_LOCAL'] + carrier_data['flight_duration']\n",
    "# And now we convert arrival time and date to a local time\n",
    "carrier_data['FL_ARR_DATE_LOCAL'] = carrier_data.apply(lambda x: x['FL_ARR_DATE_REL_ORIGIN'].tz_convert(x['dest-tz']), axis=1)"
   ]
  },
  {
   "cell_type": "markdown",
   "metadata": {},
   "source": [
    "### Airport Congestion\n",
    "One hypothesis is that flight delays can be tied to airport \"traffic\" (or congestion). It stands to reason that if an airline has 100 flights scheduled to take off at 11am, there is a higher chance of delays than if there are only 10 flights scheduled to take off.\n",
    "\n",
    "Moreover, because traffic and delays in the morning can propegate throughout the day congestion before our flight takes off can also play a role.\n",
    "\n",
    "We'll create a set of features that put a number on this congestion.\n",
    "\n",
    "First, we will round takeoff times to the nearest hour. This will make calculations easier. Then, we will createa  dataframe that holds information on airport congestion at every airport, at every hour of the day throughout the week"
   ]
  },
  {
   "cell_type": "code",
   "execution_count": 16,
   "metadata": {
    "scrolled": true
   },
   "outputs": [],
   "source": [
    "def takeoff_hour_rounder(time):\n",
    "    '''\n",
    "    Function takes in a time and returns time rounded to the \n",
    "    nearest hour by adding a timedelta hour if minute >= 30\n",
    "    '''\n",
    "    return (time.replace(second=0, microsecond=0, minute=0, hour=time.hour)\n",
    "               +timedelta(hours=time.minute//30))"
   ]
  },
  {
   "cell_type": "code",
   "execution_count": 17,
   "metadata": {
    "scrolled": true
   },
   "outputs": [],
   "source": [
    "carrier_data['FL_DATE_LOCAL_ROUNDED'] = carrier_data['FL_DATE_LOCAL'].apply(takeoff_hour_rounder)\n",
    "carrier_data['FL_ARR_DATE_LOCAL_ROUNDED'] = carrier_data['FL_ARR_DATE_LOCAL'].apply(takeoff_hour_rounder)"
   ]
  },
  {
   "cell_type": "code",
   "execution_count": 18,
   "metadata": {},
   "outputs": [],
   "source": [
    "# We won't be needitn timezone info anymore, so let's remove it\n",
    "def remove_timezone(dt):\n",
    "    # HERE `dt` is a python datetime\n",
    "    # object that used .replace() method\n",
    "    \n",
    "    return dt.replace(tzinfo=None)"
   ]
  },
  {
   "cell_type": "code",
   "execution_count": 19,
   "metadata": {},
   "outputs": [],
   "source": [
    "carrier_data['FL_DATE_LOCAL'] = carrier_data['FL_DATE_LOCAL'].apply(remove_timezone)\n",
    "carrier_data['FL_DATE_LOCAL_ROUNDED'] = carrier_data['FL_DATE_LOCAL_ROUNDED'].apply(remove_timezone)\n",
    "carrier_data['FL_ARR_DATE_LOCAL'] = carrier_data['FL_ARR_DATE_LOCAL'].apply(remove_timezone)\n",
    "carrier_data['FL_ARR_DATE_LOCAL_ROUNDED'] = carrier_data['FL_ARR_DATE_LOCAL_ROUNDED'].apply(remove_timezone)"
   ]
  },
  {
   "cell_type": "code",
   "execution_count": 20,
   "metadata": {},
   "outputs": [],
   "source": [
    "carrier_data['ARR_DAY_OF_WEEK'] = carrier_data['FL_ARR_DATE_LOCAL'].dt.dayofweek"
   ]
  },
  {
   "cell_type": "code",
   "execution_count": 21,
   "metadata": {},
   "outputs": [
    {
     "data": {
      "text/html": [
       "<div>\n",
       "<style scoped>\n",
       "    .dataframe tbody tr th:only-of-type {\n",
       "        vertical-align: middle;\n",
       "    }\n",
       "\n",
       "    .dataframe tbody tr th {\n",
       "        vertical-align: top;\n",
       "    }\n",
       "\n",
       "    .dataframe thead th {\n",
       "        text-align: right;\n",
       "    }\n",
       "</style>\n",
       "<table border=\"1\" class=\"dataframe\">\n",
       "  <thead>\n",
       "    <tr style=\"text-align: right;\">\n",
       "      <th></th>\n",
       "      <th>ORIGIN</th>\n",
       "      <th>DEST</th>\n",
       "      <th>DAY_OF_WEEK</th>\n",
       "      <th>FL_DATE_LOCAL</th>\n",
       "      <th>FL_ARR_DATE_LOCAL</th>\n",
       "      <th>ARR_DAY_OF_WEEK</th>\n",
       "    </tr>\n",
       "  </thead>\n",
       "  <tbody>\n",
       "    <tr>\n",
       "      <th>0</th>\n",
       "      <td>SAN</td>\n",
       "      <td>DEN</td>\n",
       "      <td>2</td>\n",
       "      <td>2021-07-13 18:25:00</td>\n",
       "      <td>2021-07-13 21:40:00</td>\n",
       "      <td>1</td>\n",
       "    </tr>\n",
       "    <tr>\n",
       "      <th>2</th>\n",
       "      <td>SAN</td>\n",
       "      <td>DEN</td>\n",
       "      <td>2</td>\n",
       "      <td>2021-07-13 12:10:00</td>\n",
       "      <td>2021-07-13 15:30:00</td>\n",
       "      <td>1</td>\n",
       "    </tr>\n",
       "    <tr>\n",
       "      <th>3</th>\n",
       "      <td>SAN</td>\n",
       "      <td>DEN</td>\n",
       "      <td>2</td>\n",
       "      <td>2021-07-13 20:50:00</td>\n",
       "      <td>2021-07-14 00:05:00</td>\n",
       "      <td>2</td>\n",
       "    </tr>\n",
       "    <tr>\n",
       "      <th>4</th>\n",
       "      <td>SAN</td>\n",
       "      <td>HNL</td>\n",
       "      <td>2</td>\n",
       "      <td>2021-07-13 18:40:00</td>\n",
       "      <td>2021-07-13 21:40:00</td>\n",
       "      <td>1</td>\n",
       "    </tr>\n",
       "    <tr>\n",
       "      <th>5</th>\n",
       "      <td>SAN</td>\n",
       "      <td>HNL</td>\n",
       "      <td>2</td>\n",
       "      <td>2021-07-13 08:40:00</td>\n",
       "      <td>2021-07-13 11:45:00</td>\n",
       "      <td>1</td>\n",
       "    </tr>\n",
       "    <tr>\n",
       "      <th>...</th>\n",
       "      <td>...</td>\n",
       "      <td>...</td>\n",
       "      <td>...</td>\n",
       "      <td>...</td>\n",
       "      <td>...</td>\n",
       "      <td>...</td>\n",
       "    </tr>\n",
       "    <tr>\n",
       "      <th>7580719</th>\n",
       "      <td>CMH</td>\n",
       "      <td>DCA</td>\n",
       "      <td>7</td>\n",
       "      <td>2022-01-09 12:24:00</td>\n",
       "      <td>2022-01-09 13:52:00</td>\n",
       "      <td>6</td>\n",
       "    </tr>\n",
       "    <tr>\n",
       "      <th>7580720</th>\n",
       "      <td>CMH</td>\n",
       "      <td>DCA</td>\n",
       "      <td>1</td>\n",
       "      <td>2022-01-10 12:24:00</td>\n",
       "      <td>2022-01-10 13:52:00</td>\n",
       "      <td>0</td>\n",
       "    </tr>\n",
       "    <tr>\n",
       "      <th>7580721</th>\n",
       "      <td>CMH</td>\n",
       "      <td>DCA</td>\n",
       "      <td>2</td>\n",
       "      <td>2022-01-11 12:24:00</td>\n",
       "      <td>2022-01-11 13:52:00</td>\n",
       "      <td>1</td>\n",
       "    </tr>\n",
       "    <tr>\n",
       "      <th>7580722</th>\n",
       "      <td>CMH</td>\n",
       "      <td>DCA</td>\n",
       "      <td>3</td>\n",
       "      <td>2022-01-12 12:24:00</td>\n",
       "      <td>2022-01-12 13:52:00</td>\n",
       "      <td>2</td>\n",
       "    </tr>\n",
       "    <tr>\n",
       "      <th>7580723</th>\n",
       "      <td>CMH</td>\n",
       "      <td>DCA</td>\n",
       "      <td>4</td>\n",
       "      <td>2022-01-13 12:24:00</td>\n",
       "      <td>2022-01-13 13:52:00</td>\n",
       "      <td>3</td>\n",
       "    </tr>\n",
       "  </tbody>\n",
       "</table>\n",
       "<p>7346524 rows × 6 columns</p>\n",
       "</div>"
      ],
      "text/plain": [
       "        ORIGIN DEST  DAY_OF_WEEK       FL_DATE_LOCAL   FL_ARR_DATE_LOCAL  \\\n",
       "0          SAN  DEN            2 2021-07-13 18:25:00 2021-07-13 21:40:00   \n",
       "2          SAN  DEN            2 2021-07-13 12:10:00 2021-07-13 15:30:00   \n",
       "3          SAN  DEN            2 2021-07-13 20:50:00 2021-07-14 00:05:00   \n",
       "4          SAN  HNL            2 2021-07-13 18:40:00 2021-07-13 21:40:00   \n",
       "5          SAN  HNL            2 2021-07-13 08:40:00 2021-07-13 11:45:00   \n",
       "...        ...  ...          ...                 ...                 ...   \n",
       "7580719    CMH  DCA            7 2022-01-09 12:24:00 2022-01-09 13:52:00   \n",
       "7580720    CMH  DCA            1 2022-01-10 12:24:00 2022-01-10 13:52:00   \n",
       "7580721    CMH  DCA            2 2022-01-11 12:24:00 2022-01-11 13:52:00   \n",
       "7580722    CMH  DCA            3 2022-01-12 12:24:00 2022-01-12 13:52:00   \n",
       "7580723    CMH  DCA            4 2022-01-13 12:24:00 2022-01-13 13:52:00   \n",
       "\n",
       "         ARR_DAY_OF_WEEK  \n",
       "0                      1  \n",
       "2                      1  \n",
       "3                      2  \n",
       "4                      1  \n",
       "5                      1  \n",
       "...                  ...  \n",
       "7580719                6  \n",
       "7580720                0  \n",
       "7580721                1  \n",
       "7580722                2  \n",
       "7580723                3  \n",
       "\n",
       "[7346524 rows x 6 columns]"
      ]
     },
     "execution_count": 21,
     "metadata": {},
     "output_type": "execute_result"
    }
   ],
   "source": [
    "carrier_data[['ORIGIN', 'DEST', 'DAY_OF_WEEK', 'FL_DATE_LOCAL', 'FL_ARR_DATE_LOCAL', 'ARR_DAY_OF_WEEK']]"
   ]
  },
  {
   "cell_type": "code",
   "execution_count": 22,
   "metadata": {},
   "outputs": [],
   "source": [
    "# Adjusting so day_of_week index match\n",
    "carrier_data['ARR_DAY_OF_WEEK'] = carrier_data['ARR_DAY_OF_WEEK'] + 1"
   ]
  },
  {
   "cell_type": "code",
   "execution_count": 23,
   "metadata": {},
   "outputs": [],
   "source": [
    "# Next we make the day_of_week columns more reader-friendly\n",
    "day_of_week_translation = {1: 'Monday',\n",
    "                          2: 'Tuesday',\n",
    "                          3: 'Wednesday',\n",
    "                          4: 'Thursday',\n",
    "                          5: 'Friday',\n",
    "                          6: 'Saturday',\n",
    "                          7: 'Sunday'}\n",
    "\n",
    "carrier_data['DAY_OF_WEEK'].replace(day_of_week_translation, inplace=True)\n",
    "carrier_data['ARR_DAY_OF_WEEK'].replace(day_of_week_translation, inplace=True)"
   ]
  },
  {
   "cell_type": "code",
   "execution_count": 24,
   "metadata": {
    "scrolled": true
   },
   "outputs": [],
   "source": [
    "# Takeoff Congestion Key\n",
    "carrier_data['takeoff-congestion-key'] = carrier_data['ORIGIN'] \\\n",
    "                        + carrier_data['DAY_OF_WEEK'].astype(str) \\\n",
    "                        + carrier_data['FL_DATE_LOCAL_ROUNDED'].dt.hour.astype(str).str.zfill(2)\n",
    "\n",
    "# Arrival Congestion Key\n",
    "carrier_data['arrival-congestion-key'] = carrier_data['DEST'] \\\n",
    "                        + carrier_data['ARR_DAY_OF_WEEK'].astype(str) \\\n",
    "                        + carrier_data['FL_ARR_DATE_LOCAL_ROUNDED'].dt.hour.astype(str).str.zfill(2)"
   ]
  },
  {
   "cell_type": "code",
   "execution_count": 25,
   "metadata": {},
   "outputs": [],
   "source": [
    "records = carrier_data.groupby('takeoff-congestion-key')['FL_DATE_LOCAL_ROUNDED'].nunique().tolist()"
   ]
  },
  {
   "cell_type": "code",
   "execution_count": 26,
   "metadata": {
    "scrolled": true
   },
   "outputs": [],
   "source": [
    "# Now we create a new dataframe that holds data on congestion\n",
    "airport_congestion_by_hour = carrier_data.groupby('takeoff-congestion-key')['TAIL_NUM'].count()\n",
    "airport_congestion_by_hour = airport_congestion_by_hour.to_frame()\n",
    "airport_congestion_by_hour.reset_index(inplace=True)\n",
    "airport_congestion_by_hour.rename(columns={'TAIL_NUM': 'count_of_flights'}, inplace=True)"
   ]
  },
  {
   "cell_type": "code",
   "execution_count": 27,
   "metadata": {},
   "outputs": [],
   "source": [
    "airport_congestion_by_hour['num_records'] = records\n",
    "airport_congestion_by_hour['avg-takeoff-congestion'] = airport_congestion_by_hour['count_of_flights'] / airport_congestion_by_hour['num_records']"
   ]
  },
  {
   "cell_type": "code",
   "execution_count": 28,
   "metadata": {},
   "outputs": [],
   "source": [
    "# Now we calculate landing congestion\n",
    "airport_arrival_congestion_by_hour = carrier_data.groupby('arrival-congestion-key')['TAIL_NUM'].count()\n",
    "airport_arrival_congestion_by_hour = airport_arrival_congestion_by_hour.to_frame()\n",
    "airport_arrival_congestion_by_hour.reset_index(inplace=True)\n",
    "airport_arrival_congestion_by_hour.rename(columns={'TAIL_NUM': 'count_of_flights_arriving'}, inplace=True)\n",
    "\n",
    "arr_records = carrier_data.groupby('arrival-congestion-key')['FL_ARR_DATE_LOCAL_ROUNDED'].nunique().tolist()\n",
    "\n",
    "airport_arrival_congestion_by_hour['num_arr_records'] = arr_records\n",
    "airport_arrival_congestion_by_hour['avg-arrival-congestion'] = airport_arrival_congestion_by_hour['count_of_flights_arriving'] / airport_arrival_congestion_by_hour['num_arr_records']"
   ]
  },
  {
   "cell_type": "code",
   "execution_count": 29,
   "metadata": {},
   "outputs": [],
   "source": [
    "airport_congestion_by_hour.drop(columns=['count_of_flights', 'num_records'], inplace=True)\n",
    "airport_arrival_congestion_by_hour.drop(columns=['count_of_flights_arriving', 'num_arr_records'], inplace=True)"
   ]
  },
  {
   "cell_type": "code",
   "execution_count": 30,
   "metadata": {},
   "outputs": [],
   "source": [
    "# And finally we can combine the two into a congestion dataframe\n",
    "airport_congestion_by_hour = pd.merge(airport_congestion_by_hour, airport_arrival_congestion_by_hour,\n",
    "                                      left_on='takeoff-congestion-key', right_on='arrival-congestion-key')"
   ]
  },
  {
   "cell_type": "code",
   "execution_count": 31,
   "metadata": {},
   "outputs": [],
   "source": [
    "airport_congestion_by_hour.drop(columns=['arrival-congestion-key'], inplace=True)\n",
    "airport_congestion_by_hour.rename(columns={\"takeoff-congestion-key\": \"congestion-key\"}, inplace=True)"
   ]
  },
  {
   "cell_type": "code",
   "execution_count": 32,
   "metadata": {},
   "outputs": [],
   "source": [
    "airport_congestion_by_hour.to_csv('data/prepared/airport_congestion_by_hour.csv', index=False)"
   ]
  },
  {
   "cell_type": "code",
   "execution_count": 93,
   "metadata": {
    "scrolled": true
   },
   "outputs": [],
   "source": [
    "# # Takeoff countdown\n",
    "# carrier_data['FL_DATE_LOCAL_ROUNDED_Tminus_1'] = carrier_data['FL_DATE_LOCAL_ROUNDED'] - timedelta(hours=1, minutes=0)\n",
    "# carrier_data['FL_DATE_LOCAL_ROUNDED_Tminus_2'] = carrier_data['FL_DATE_LOCAL_ROUNDED'] - timedelta(hours=2, minutes=0)\n",
    "# carrier_data['FL_DATE_LOCAL_ROUNDED_Tminus_3'] = carrier_data['FL_DATE_LOCAL_ROUNDED'] - timedelta(hours=3, minutes=0)\n",
    "# carrier_data['FL_DATE_LOCAL_ROUNDED_Tminus_4'] = carrier_data['FL_DATE_LOCAL_ROUNDED'] - timedelta(hours=4, minutes=0)\n",
    "# carrier_data['FL_DATE_LOCAL_ROUNDED_Tminus_5'] = carrier_data['FL_DATE_LOCAL_ROUNDED'] - timedelta(hours=5, minutes=0)\n",
    "# carrier_data['FL_DATE_LOCAL_ROUNDED_Tminus_6'] = carrier_data['FL_DATE_LOCAL_ROUNDED'] - timedelta(hours=6, minutes=0)\n",
    "# carrier_data['FL_DATE_LOCAL_ROUNDED_Tminus_7'] = carrier_data['FL_DATE_LOCAL_ROUNDED'] - timedelta(hours=7, minutes=0)\n",
    "# carrier_data['FL_DATE_LOCAL_ROUNDED_Tminus_8'] = carrier_data['FL_DATE_LOCAL_ROUNDED'] - timedelta(hours=8, minutes=0)\n",
    "# carrier_data['FL_DATE_LOCAL_ROUNDED_Tminus_9'] = carrier_data['FL_DATE_LOCAL_ROUNDED'] - timedelta(hours=9, minutes=0)\n",
    "# carrier_data['FL_DATE_LOCAL_ROUNDED_Tminus_10'] = carrier_data['FL_DATE_LOCAL_ROUNDED'] - timedelta(hours=10, minutes=0)\n",
    "# carrier_data['FL_DATE_LOCAL_ROUNDED_Tminus_11'] = carrier_data['FL_DATE_LOCAL_ROUNDED'] - timedelta(hours=11, minutes=0)\n",
    "# carrier_data['FL_DATE_LOCAL_ROUNDED_Tminus_12'] = carrier_data['FL_DATE_LOCAL_ROUNDED'] - timedelta(hours=12, minutes=0)\n",
    "\n",
    "# # Arrival countdown\n",
    "# carrier_data['FL_ARR_DATE_LOCAL_ROUNDED_Tminus_1'] = carrier_data['FL_ARR_DATE_LOCAL_ROUNDED'] - timedelta(hours=1, minutes=0)\n",
    "# carrier_data['FL_ARR_DATE_LOCAL_ROUNDED_Tminus_2'] = carrier_data['FL_ARR_DATE_LOCAL_ROUNDED'] - timedelta(hours=2, minutes=0)\n",
    "# carrier_data['FL_ARR_DATE_LOCAL_ROUNDED_Tminus_3'] = carrier_data['FL_ARR_DATE_LOCAL_ROUNDED'] - timedelta(hours=3, minutes=0)\n",
    "# carrier_data['FL_ARR_DATE_LOCAL_ROUNDED_Tminus_4'] = carrier_data['FL_ARR_DATE_LOCAL_ROUNDED'] - timedelta(hours=4, minutes=0)\n",
    "# carrier_data['FL_ARR_DATE_LOCAL_ROUNDED_Tminus_5'] = carrier_data['FL_ARR_DATE_LOCAL_ROUNDED'] - timedelta(hours=5, minutes=0)\n",
    "# carrier_data['FL_ARR_DATE_LOCAL_ROUNDED_Tminus_6'] = carrier_data['FL_ARR_DATE_LOCAL_ROUNDED'] - timedelta(hours=6, minutes=0)\n",
    "# carrier_data['FL_ARR_DATE_LOCAL_ROUNDED_Tminus_7'] = carrier_data['FL_ARR_DATE_LOCAL_ROUNDED'] - timedelta(hours=7, minutes=0)\n",
    "# carrier_data['FL_ARR_DATE_LOCAL_ROUNDED_Tminus_8'] = carrier_data['FL_ARR_DATE_LOCAL_ROUNDED'] - timedelta(hours=8, minutes=0)\n",
    "# carrier_data['FL_ARR_DATE_LOCAL_ROUNDED_Tminus_9'] = carrier_data['FL_ARR_DATE_LOCAL_ROUNDED'] - timedelta(hours=9, minutes=0)\n",
    "# carrier_data['FL_ARR_DATE_LOCAL_ROUNDED_Tminus_10'] = carrier_data['FL_ARR_DATE_LOCAL_ROUNDED'] - timedelta(hours=10, minutes=0)\n",
    "# carrier_data['FL_ARR_DATE_LOCAL_ROUNDED_Tminus_11'] = carrier_data['FL_ARR_DATE_LOCAL_ROUNDED'] - timedelta(hours=11, minutes=0)\n",
    "# carrier_data['FL_ARR_DATE_LOCAL_ROUNDED_Tminus_12'] = carrier_data['FL_ARR_DATE_LOCAL_ROUNDED'] - timedelta(hours=12, minutes=0)"
   ]
  },
  {
   "cell_type": "code",
   "execution_count": 98,
   "metadata": {
    "scrolled": true
   },
   "outputs": [],
   "source": [
    "# carrier_data['FL_DATE_LOCAL_ROUNDED_Tminus_1_key'] = carrier_data['ORIGIN'] \\\n",
    "#                         + str(carrier_data['FL_DATE_LOCAL_ROUNDED_Tminus_1'].dt.dayofweek + 1) \\\n",
    "#                         + carrier_data['FL_DATE_LOCAL_ROUNDED_Tminus_1'].dt.hour.astype(str)\n",
    "# carrier_data['FL_DATE_LOCAL_ROUNDED_Tminus_2_key'] = carrier_data['ORIGIN'] \\\n",
    "#                         + carrier_data['FL_DATE_UTC_ROUNDED_Tminus_2'].dt.month.astype(str) \\\n",
    "#                         + carrier_data['FL_DATE_UTC_ROUNDED_Tminus_2'].dt.day.astype(str) \\\n",
    "#                         + carrier_data['FL_DATE_UTC_ROUNDED_Tminus_2'].dt.hour.astype(str)\n",
    "# carrier_data['FL_DATE_LOCAL_ROUNDED_Tminus_3_key'] = carrier_data['ORIGIN'] \\\n",
    "#                         + carrier_data['FL_DATE_UTC_ROUNDED_Tminus_3'].dt.month.astype(str) \\\n",
    "#                         + carrier_data['FL_DATE_UTC_ROUNDED_Tminus_3'].dt.day.astype(str) \\\n",
    "#                         + carrier_data['FL_DATE_UTC_ROUNDED_Tminus_3'].dt.hour.astype(str)\n",
    "# carrier_data['FL_DATE_LOCAL_ROUNDED_Tminus_4_key'] = carrier_data['ORIGIN'] \\\n",
    "#                         + carrier_data['FL_DATE_UTC_ROUNDED_Tminus_4'].dt.month.astype(str) \\\n",
    "#                         + carrier_data['FL_DATE_UTC_ROUNDED_Tminus_4'].dt.day.astype(str) \\\n",
    "#                         + carrier_data['FL_DATE_UTC_ROUNDED_Tminus_4'].dt.hour.astype(str)\n",
    "# carrier_data['FL_DATE_LOCAL_ROUNDED_Tminus_5_key'] = carrier_data['ORIGIN'] \\\n",
    "#                         + carrier_data['FL_DATE_UTC_ROUNDED_Tminus_5'].dt.month.astype(str) \\\n",
    "#                         + carrier_data['FL_DATE_UTC_ROUNDED_Tminus_5'].dt.day.astype(str) \\\n",
    "#                         + carrier_data['FL_DATE_UTC_ROUNDED_Tminus_5'].dt.hour.astype(str)\n",
    "# carrier_data['FL_DATE_LOCAL_ROUNDED_Tminus_6_key'] = carrier_data['ORIGIN'] \\\n",
    "#                         + carrier_data['FL_DATE_UTC_ROUNDED_Tminus_6'].dt.month.astype(str) \\\n",
    "#                         + carrier_data['FL_DATE_UTC_ROUNDED_Tminus_6'].dt.day.astype(str) \\\n",
    "#                         + carrier_data['FL_DATE_UTC_ROUNDED_Tminus_6'].dt.hour.astype(str)\n",
    "# carrier_data['FL_DATE_LOCAL_ROUNDED_Tminus_7_key'] = carrier_data['ORIGIN'] \\\n",
    "#                         + carrier_data['FL_DATE_UTC_ROUNDED_Tminus_7'].dt.month.astype(str) \\\n",
    "#                         + carrier_data['FL_DATE_UTC_ROUNDED_Tminus_7'].dt.day.astype(str) \\\n",
    "#                         + carrier_data['FL_DATE_UTC_ROUNDED_Tminus_7'].dt.hour.astype(str)\n",
    "# carrier_data['FL_DATE_LOCAL_ROUNDED_Tminus_8_key'] = carrier_data['ORIGIN'] \\\n",
    "#                         + carrier_data['FL_DATE_UTC_ROUNDED_Tminus_8'].dt.month.astype(str) \\\n",
    "#                         + carrier_data['FL_DATE_UTC_ROUNDED_Tminus_8'].dt.day.astype(str) \\\n",
    "#                         + carrier_data['FL_DATE_UTC_ROUNDED_Tminus_8'].dt.hour.astype(str)\n",
    "# carrier_data['FL_DATE_LOCAL_ROUNDED_Tminus_9_key'] = carrier_data['ORIGIN'] \\\n",
    "#                         + carrier_data['FL_DATE_UTC_ROUNDED_Tminus_9'].dt.month.astype(str) \\\n",
    "#                         + carrier_data['FL_DATE_UTC_ROUNDED_Tminus_9'].dt.day.astype(str) \\\n",
    "#                         + carrier_data['FL_DATE_UTC_ROUNDED_Tminus_9'].dt.hour.astype(str)\n",
    "# carrier_data['FL_DATE_LOCAL_ROUNDED_Tminus_10_key'] = carrier_data['ORIGIN'] \\\n",
    "#                         + carrier_data['FL_DATE_UTC_ROUNDED_Tminus_10'].dt.month.astype(str) \\\n",
    "#                         + carrier_data['FL_DATE_UTC_ROUNDED_Tminus_10'].dt.day.astype(str) \\\n",
    "#                         + carrier_data['FL_DATE_UTC_ROUNDED_Tminus_10'].dt.hour.astype(str)\n",
    "# carrier_data['FL_DATE_LOCAL_ROUNDED_Tminus_11_key'] = carrier_data['ORIGIN'] \\\n",
    "#                         + carrier_data['FL_DATE_UTC_ROUNDED_Tminus_11'].dt.month.astype(str) \\\n",
    "#                         + carrier_data['FL_DATE_UTC_ROUNDED_Tminus_11'].dt.day.astype(str) \\\n",
    "#                         + carrier_data['FL_DATE_UTC_ROUNDED_Tminus_11'].dt.hour.astype(str)\n",
    "# carrier_data['FL_DATE_LOCAL_ROUNDED_Tminus_12_key'] = carrier_data['ORIGIN'] \\\n",
    "#                         + carrier_data['FL_DATE_UTC_ROUNDED_Tminus_12'].dt.month.astype(str) \\\n",
    "#                         + carrier_data['FL_DATE_UTC_ROUNDED_Tminus_12'].dt.day.astype(str) \\\n",
    "#                         + carrier_data['FL_DATE_UTC_ROUNDED_Tminus_12'].dt.hour.astype(str)"
   ]
  },
  {
   "cell_type": "code",
   "execution_count": 28,
   "metadata": {
    "scrolled": true
   },
   "outputs": [],
   "source": [
    "# # We won't be using the rounded times again, so it's good to just drop those columns for the sake of memory\n",
    "# carrier_data.drop(columns=['FL_DATE_UTC_ROUNDED', 'FL_DATE_UTC_ROUNDED_Tminus_1', 'FL_DATE_UTC_ROUNDED_Tminus_2',\n",
    "#                  'FL_DATE_UTC_ROUNDED_Tminus_3', 'FL_DATE_UTC_ROUNDED_Tminus_4',\n",
    "#                  'FL_DATE_UTC_ROUNDED_Tminus_5', 'FL_DATE_UTC_ROUNDED_Tminus_6',\n",
    "#                  'FL_DATE_UTC_ROUNDED_Tminus_7', 'FL_DATE_UTC_ROUNDED_Tminus_8',\n",
    "#                  'FL_DATE_UTC_ROUNDED_Tminus_9', 'FL_DATE_UTC_ROUNDED_Tminus_10',\n",
    "#                  'FL_DATE_UTC_ROUNDED_Tminus_11', 'FL_DATE_UTC_ROUNDED_Tminus_12'], inplace=True)"
   ]
  },
  {
   "cell_type": "code",
   "execution_count": 29,
   "metadata": {
    "scrolled": true
   },
   "outputs": [],
   "source": [
    "# carrier_data['CONGESTION_TMINUS_0'] = carrier_data['congestion-by-hour-key'].map(airport_congestion_by_hour.set_index('congestion-by-hour-key')['count_of_flights'])\n",
    "# airport_congestion_by_hour.columns = airport_congestion_by_hour.columns.str.replace(\"congestion-by-hour-key\", \"FL_DATE_UTC_ROUNDED_Tminus_1_key\")\n",
    "# carrier_data['CONGESTION_TMINUS_1'] = carrier_data['FL_DATE_UTC_ROUNDED_Tminus_1_key'].map(airport_congestion_by_hour.set_index('FL_DATE_UTC_ROUNDED_Tminus_1_key')['count_of_flights'])\n",
    "# airport_congestion_by_hour.columns = airport_congestion_by_hour.columns.str.replace(\"FL_DATE_UTC_ROUNDED_Tminus_1_key\", \"FL_DATE_UTC_ROUNDED_Tminus_2_key\")\n",
    "# carrier_data['CONGESTION_TMINUS_2'] = carrier_data['FL_DATE_UTC_ROUNDED_Tminus_2_key'].map(airport_congestion_by_hour.set_index('FL_DATE_UTC_ROUNDED_Tminus_2_key')['count_of_flights'])\n",
    "# airport_congestion_by_hour.columns = airport_congestion_by_hour.columns.str.replace(\"FL_DATE_UTC_ROUNDED_Tminus_2_key\", \"FL_DATE_UTC_ROUNDED_Tminus_3_key\")\n",
    "# carrier_data['CONGESTION_TMINUS_3'] = carrier_data['FL_DATE_UTC_ROUNDED_Tminus_3_key'].map(airport_congestion_by_hour.set_index('FL_DATE_UTC_ROUNDED_Tminus_3_key')['count_of_flights'])\n",
    "# airport_congestion_by_hour.columns = airport_congestion_by_hour.columns.str.replace(\"FL_DATE_UTC_ROUNDED_Tminus_3_key\", \"FL_DATE_UTC_ROUNDED_Tminus_4_key\")\n",
    "# carrier_data['CONGESTION_TMINUS_4'] = carrier_data['FL_DATE_UTC_ROUNDED_Tminus_4_key'].map(airport_congestion_by_hour.set_index('FL_DATE_UTC_ROUNDED_Tminus_4_key')['count_of_flights'])\n",
    "# airport_congestion_by_hour.columns = airport_congestion_by_hour.columns.str.replace(\"FL_DATE_UTC_ROUNDED_Tminus_4_key\", \"FL_DATE_UTC_ROUNDED_Tminus_5_key\")\n",
    "# carrier_data['CONGESTION_TMINUS_5'] = carrier_data['FL_DATE_UTC_ROUNDED_Tminus_5_key'].map(airport_congestion_by_hour.set_index('FL_DATE_UTC_ROUNDED_Tminus_5_key')['count_of_flights'])\n",
    "# airport_congestion_by_hour.columns = airport_congestion_by_hour.columns.str.replace(\"FL_DATE_UTC_ROUNDED_Tminus_5_key\", \"FL_DATE_UTC_ROUNDED_Tminus_6_key\")\n",
    "# carrier_data['CONGESTION_TMINUS_6'] = carrier_data['FL_DATE_UTC_ROUNDED_Tminus_6_key'].map(airport_congestion_by_hour.set_index('FL_DATE_UTC_ROUNDED_Tminus_6_key')['count_of_flights'])\n",
    "# airport_congestion_by_hour.columns = airport_congestion_by_hour.columns.str.replace(\"FL_DATE_UTC_ROUNDED_Tminus_6_key\", \"FL_DATE_UTC_ROUNDED_Tminus_7_key\")\n",
    "# carrier_data['CONGESTION_TMINUS_7'] = carrier_data['FL_DATE_UTC_ROUNDED_Tminus_7_key'].map(airport_congestion_by_hour.set_index('FL_DATE_UTC_ROUNDED_Tminus_7_key')['count_of_flights'])\n",
    "# airport_congestion_by_hour.columns = airport_congestion_by_hour.columns.str.replace(\"FL_DATE_UTC_ROUNDED_Tminus_7_key\", \"FL_DATE_UTC_ROUNDED_Tminus_8_key\")\n",
    "# carrier_data['CONGESTION_TMINUS_8'] = carrier_data['FL_DATE_UTC_ROUNDED_Tminus_8_key'].map(airport_congestion_by_hour.set_index('FL_DATE_UTC_ROUNDED_Tminus_8_key')['count_of_flights'])\n",
    "# airport_congestion_by_hour.columns = airport_congestion_by_hour.columns.str.replace(\"FL_DATE_UTC_ROUNDED_Tminus_8_key\", \"FL_DATE_UTC_ROUNDED_Tminus_9_key\")\n",
    "# carrier_data['CONGESTION_TMINUS_9'] = carrier_data['FL_DATE_UTC_ROUNDED_Tminus_9_key'].map(airport_congestion_by_hour.set_index('FL_DATE_UTC_ROUNDED_Tminus_9_key')['count_of_flights'])\n",
    "# airport_congestion_by_hour.columns = airport_congestion_by_hour.columns.str.replace(\"FL_DATE_UTC_ROUNDED_Tminus_9_key\", \"FL_DATE_UTC_ROUNDED_Tminus_10_key\")\n",
    "# carrier_data['CONGESTION_TMINUS_10'] = carrier_data['FL_DATE_UTC_ROUNDED_Tminus_10_key'].map(airport_congestion_by_hour.set_index('FL_DATE_UTC_ROUNDED_Tminus_10_key')['count_of_flights'])\n",
    "# airport_congestion_by_hour.columns = airport_congestion_by_hour.columns.str.replace(\"FL_DATE_UTC_ROUNDED_Tminus_10_key\", \"FL_DATE_UTC_ROUNDED_Tminus_11_key\")\n",
    "# carrier_data['CONGESTION_TMINUS_11'] = carrier_data['FL_DATE_UTC_ROUNDED_Tminus_11_key'].map(airport_congestion_by_hour.set_index('FL_DATE_UTC_ROUNDED_Tminus_11_key')['count_of_flights'])\n",
    "# airport_congestion_by_hour.columns = airport_congestion_by_hour.columns.str.replace(\"FL_DATE_UTC_ROUNDED_Tminus_11_key\", \"FL_DATE_UTC_ROUNDED_Tminus_12_key\")\n",
    "# carrier_data['CONGESTION_TMINUS_12'] = carrier_data['FL_DATE_UTC_ROUNDED_Tminus_12_key'].map(airport_congestion_by_hour.set_index('FL_DATE_UTC_ROUNDED_Tminus_12_key')['count_of_flights'])\n",
    "# carrier_data['years_covered'] = carrier_data['congestion-by-hour-key'].map(years_covered.set_index('congestion-by-hour-key')['years_covered'])"
   ]
  },
  {
   "cell_type": "code",
   "execution_count": 30,
   "metadata": {
    "scrolled": true
   },
   "outputs": [],
   "source": [
    "# carrier_data['CONGESTION_TMINUS_0'] = carrier_data['CONGESTION_TMINUS_0'].fillna(0)\n",
    "# carrier_data['CONGESTION_TMINUS_1'] = carrier_data['CONGESTION_TMINUS_1'].fillna(0)\n",
    "# carrier_data['CONGESTION_TMINUS_2'] = carrier_data['CONGESTION_TMINUS_2'].fillna(0)\n",
    "# carrier_data['CONGESTION_TMINUS_3'] = carrier_data['CONGESTION_TMINUS_3'].fillna(0)\n",
    "# carrier_data['CONGESTION_TMINUS_4'] = carrier_data['CONGESTION_TMINUS_4'].fillna(0)\n",
    "# carrier_data['CONGESTION_TMINUS_5'] = carrier_data['CONGESTION_TMINUS_5'].fillna(0)\n",
    "# carrier_data['CONGESTION_TMINUS_6'] = carrier_data['CONGESTION_TMINUS_6'].fillna(0)\n",
    "# carrier_data['CONGESTION_TMINUS_7'] = carrier_data['CONGESTION_TMINUS_7'].fillna(0)\n",
    "# carrier_data['CONGESTION_TMINUS_8'] = carrier_data['CONGESTION_TMINUS_8'].fillna(0)\n",
    "# carrier_data['CONGESTION_TMINUS_9'] = carrier_data['CONGESTION_TMINUS_9'].fillna(0)\n",
    "# carrier_data['CONGESTION_TMINUS_10'] = carrier_data['CONGESTION_TMINUS_10'].fillna(0)\n",
    "# carrier_data['CONGESTION_TMINUS_11'] = carrier_data['CONGESTION_TMINUS_11'].fillna(0)\n",
    "# carrier_data['CONGESTION_TMINUS_12'] = carrier_data['CONGESTION_TMINUS_12'].fillna(0)"
   ]
  },
  {
   "cell_type": "code",
   "execution_count": 31,
   "metadata": {
    "scrolled": true
   },
   "outputs": [],
   "source": [
    "# # We won't be using the these keys again, so it's good to just drop those columns for the sake of memory\n",
    "# carrier_data.drop(columns=['congestion-by-hour-key', 'FL_DATE_UTC_ROUNDED_Tminus_1_key', 'FL_DATE_UTC_ROUNDED_Tminus_2_key',\n",
    "#                  'FL_DATE_UTC_ROUNDED_Tminus_3_key', 'FL_DATE_UTC_ROUNDED_Tminus_4_key',\n",
    "#                  'FL_DATE_UTC_ROUNDED_Tminus_5_key', 'FL_DATE_UTC_ROUNDED_Tminus_6_key',\n",
    "#                  'FL_DATE_UTC_ROUNDED_Tminus_7_key', 'FL_DATE_UTC_ROUNDED_Tminus_8_key',\n",
    "#                  'FL_DATE_UTC_ROUNDED_Tminus_9_key', 'FL_DATE_UTC_ROUNDED_Tminus_10_key',\n",
    "#                  'FL_DATE_UTC_ROUNDED_Tminus_11_key', 'FL_DATE_UTC_ROUNDED_Tminus_12_key'], inplace=True)"
   ]
  },
  {
   "cell_type": "code",
   "execution_count": 32,
   "metadata": {
    "scrolled": true
   },
   "outputs": [],
   "source": [
    "# carrier_data['CONGESTION_TMINUS_0-3'] = carrier_data['CONGESTION_TMINUS_0'] \\\n",
    "#                                     + carrier_data['CONGESTION_TMINUS_1'] \\\n",
    "#                                     + carrier_data['CONGESTION_TMINUS_2'] \\\n",
    "#                                     + carrier_data['CONGESTION_TMINUS_3'] \n",
    "\n",
    "# carrier_data['CONGESTION_TMINUS_0-6'] = carrier_data['CONGESTION_TMINUS_0'] \\\n",
    "#                                     + carrier_data['CONGESTION_TMINUS_1'] \\\n",
    "#                                     + carrier_data['CONGESTION_TMINUS_2'] \\\n",
    "#                                     + carrier_data['CONGESTION_TMINUS_3'] \\\n",
    "#                                     + carrier_data['CONGESTION_TMINUS_4'] \\\n",
    "#                                     + carrier_data['CONGESTION_TMINUS_5'] \\\n",
    "#                                     + carrier_data['CONGESTION_TMINUS_6']\n",
    "\n",
    "# carrier_data['CONGESTION_TMINUS_0-12'] = carrier_data['CONGESTION_TMINUS_0'] \\\n",
    "#                                     + carrier_data['CONGESTION_TMINUS_1'] \\\n",
    "#                                     + carrier_data['CONGESTION_TMINUS_2'] \\\n",
    "#                                     + carrier_data['CONGESTION_TMINUS_3'] \\\n",
    "#                                     + carrier_data['CONGESTION_TMINUS_4'] \\\n",
    "#                                     + carrier_data['CONGESTION_TMINUS_5'] \\\n",
    "#                                     + carrier_data['CONGESTION_TMINUS_6'] \\\n",
    "#                                     + carrier_data['CONGESTION_TMINUS_7'] \\\n",
    "#                                     + carrier_data['CONGESTION_TMINUS_8'] \\\n",
    "#                                     + carrier_data['CONGESTION_TMINUS_9'] \\\n",
    "#                                     + carrier_data['CONGESTION_TMINUS_10'] \\\n",
    "#                                     + carrier_data['CONGESTION_TMINUS_11'] \\\n",
    "#                                     + carrier_data['CONGESTION_TMINUS_12']"
   ]
  },
  {
   "cell_type": "code",
   "execution_count": 34,
   "metadata": {
    "scrolled": true
   },
   "outputs": [],
   "source": [
    "# # Again let's drop columns we won't need\n",
    "# carrier_data.drop(columns=['CONGESTION_TMINUS_0', 'CONGESTION_TMINUS_1', 'CONGESTION_TMINUS_2',\n",
    "#                           'CONGESTION_TMINUS_3', 'CONGESTION_TMINUS_4', 'CONGESTION_TMINUS_5',\n",
    "#                           'CONGESTION_TMINUS_6', 'CONGESTION_TMINUS_7', 'CONGESTION_TMINUS_8',\n",
    "#                           'CONGESTION_TMINUS_9', 'CONGESTION_TMINUS_10', 'CONGESTION_TMINUS_11', \n",
    "#                           'CONGESTION_TMINUS_12', 'CONGESTION_TMINUS_0-3', 'CONGESTION_TMINUS_0-6',\n",
    "#                           'CONGESTION_TMINUS_0-12', 'years_covered'], inplace=True)"
   ]
  },
  {
   "cell_type": "markdown",
   "metadata": {},
   "source": [
    "#### Filtering for Airports & Airlines Relevant to Business Case\n",
    "The MVP calls for us to support flights originating from major US airports and 8 major airlines. So we filter down our data for that."
   ]
  },
  {
   "cell_type": "code",
   "execution_count": 33,
   "metadata": {
    "scrolled": true
   },
   "outputs": [],
   "source": [
    "# Create list of relevant aiports based on business case\n",
    "relevant_airports = ['ATL', 'DFW', 'DEN', 'ORD', 'LAX', 'CLT', 'LAS', 'PHX', \n",
    "                     'MCO', 'SEA', 'MIA', 'IAH', 'JFK', 'FLL', 'EWR', 'SFO', 'MSP', 'DTW',\n",
    "                     'BOS', 'SLC', 'PHL', 'BWI', 'TPA', 'SAN', 'MDW', 'LGA', 'BNA', 'IAD',\n",
    "                     'DAL', 'DCA', 'PDX', 'AUS', 'HOU', 'HNL', 'STL', 'RSW', 'SMF', 'MSY',\n",
    "                     'SJU', 'RDU', 'OAK', 'MCI', 'CLE', 'IND', 'SAT', 'SNA', 'PIT', 'CVG',\n",
    "                     'CMH', 'PBI', 'JAX', 'MKE', 'ONT', 'ANC', 'BDL', 'OGG', 'OMA', 'MEM',\n",
    "                     'BOI', 'RNO', 'CHS', 'OKC']\n",
    "\n",
    "# Create list of relevant IATA airline designators based on business case\n",
    "relevant_airlines = ['WN', # Southwest\n",
    "                     'DL', # Delta\n",
    "                     'OO', # SkyWest\n",
    "                     'AA', # American Airlines\n",
    "                     'UA', # United Airlines\n",
    "                     'B6', # JetBlue\n",
    "                     'AS', # Alaska Airlines\n",
    "                     'NK', # Spirit Airlines\n",
    "                    ]\n",
    "\n",
    "# Filter Dataframe to include only relevant airlines & airports\n",
    "airport_filter = '|'.join(relevant_airports)\n",
    "airline_filter = '|'.join(relevant_airlines)\n",
    "\n",
    "carrier_data = carrier_data[carrier_data['ORIGIN'].str.contains(airport_filter)]\n",
    "carrier_data = carrier_data[carrier_data['OP_CARRIER'].str.contains(airline_filter)]"
   ]
  },
  {
   "cell_type": "markdown",
   "metadata": {},
   "source": [
    "#### Further Cutting Down The Data\n",
    "For the sake of efficiency, we can further filter down our data to include only destinations that are at least somewhat frequently traveled. If, out of 14 million flights, a destination was visited fewer than 1000 times we'll cut that flight. Also, flight numbers that only appear less than 100 times in our data can be pruned as well."
   ]
  },
  {
   "cell_type": "code",
   "execution_count": 34,
   "metadata": {},
   "outputs": [],
   "source": [
    "carrier_data = carrier_data.groupby('DEST').filter(lambda x: len(x) > 1000)"
   ]
  },
  {
   "cell_type": "code",
   "execution_count": 35,
   "metadata": {},
   "outputs": [],
   "source": [
    "carrier_data['flight-number'] = carrier_data['MKT_CARRIER'] + carrier_data['MKT_CARRIER_FL_NUM'].astype(str)\n",
    "carrier_data = carrier_data.groupby('flight-number').filter(lambda x: len(x) > 100)"
   ]
  },
  {
   "cell_type": "markdown",
   "metadata": {},
   "source": [
    "### Merging in Congestion Data"
   ]
  },
  {
   "cell_type": "code",
   "execution_count": 36,
   "metadata": {},
   "outputs": [],
   "source": [
    "# Now we add congestion data to our main dataframe\n",
    "carrier_data = pd.merge(carrier_data, airport_congestion_by_hour, left_on='takeoff-congestion-key', right_on='congestion-key')"
   ]
  },
  {
   "cell_type": "code",
   "execution_count": 37,
   "metadata": {},
   "outputs": [],
   "source": [
    "# updating key\n",
    "airport_congestion_by_hour = airport_congestion_by_hour.add_prefix('dest-')"
   ]
  },
  {
   "cell_type": "code",
   "execution_count": 38,
   "metadata": {},
   "outputs": [],
   "source": [
    "# Now data on the congestion conditions of the airport where the flight is arriving\n",
    "carrier_data = pd.merge(carrier_data, airport_congestion_by_hour, left_on='arrival-congestion-key', right_on='dest-congestion-key')"
   ]
  },
  {
   "cell_type": "markdown",
   "metadata": {},
   "source": [
    "#### Mering in Weather Data"
   ]
  },
  {
   "cell_type": "markdown",
   "metadata": {},
   "source": [
    "First, we need to pull up the latitude and longitude coordinates for all our airports."
   ]
  },
  {
   "cell_type": "code",
   "execution_count": 38,
   "metadata": {},
   "outputs": [],
   "source": [
    "origin_airports = list(carrier_data['ORIGIN'].unique())\n",
    "dest_airports = list(carrier_data['DEST'].unique())\n",
    "all_airports = list(set(origin_airports + dest_airports))"
   ]
  },
  {
   "cell_type": "code",
   "execution_count": 39,
   "metadata": {},
   "outputs": [
    {
     "data": {
      "text/plain": [
       "182"
      ]
     },
     "execution_count": 39,
     "metadata": {},
     "output_type": "execute_result"
    }
   ],
   "source": [
    "len(all_airports)"
   ]
  },
  {
   "cell_type": "markdown",
   "metadata": {},
   "source": [
    "Looks like all-in-all we're dealing with 124 locations."
   ]
  },
  {
   "cell_type": "markdown",
   "metadata": {},
   "source": [
    "Let's see how many locations and dates we have to look up in total."
   ]
  },
  {
   "cell_type": "code",
   "execution_count": 41,
   "metadata": {},
   "outputs": [],
   "source": [
    "locations_dates = carrier_data[['origin-lat-long', 'dest-lat-long', 'local-date']].drop_duplicates()"
   ]
  },
  {
   "cell_type": "code",
   "execution_count": 42,
   "metadata": {},
   "outputs": [
    {
     "name": "stdout",
     "output_type": "stream",
     "text": [
      "<class 'pandas.core.frame.DataFrame'>\n",
      "Int64Index: 1052043 entries, 0 to 7556402\n",
      "Data columns (total 3 columns):\n",
      " #   Column           Non-Null Count    Dtype \n",
      "---  ------           --------------    ----- \n",
      " 0   origin-lat-long  1052043 non-null  object\n",
      " 1   dest-lat-long    1052043 non-null  object\n",
      " 2   local-date       1052043 non-null  object\n",
      "dtypes: object(3)\n",
      "memory usage: 32.1+ MB\n"
     ]
    }
   ],
   "source": [
    "locations_dates.info()"
   ]
  },
  {
   "cell_type": "markdown",
   "metadata": {},
   "source": [
    "So, there are about 90k unique location and date parings for us to look up weather for. We'll be using the WeatherAPI.com api to pull this data in.\n",
    "\n",
    "The API limits us to making a call for just 30 days at a time. We can also look up just one location at a time.\n",
    "\n",
    "Our approach here is to loop over every location in 30-day increments."
   ]
  },
  {
   "cell_type": "code",
   "execution_count": 43,
   "metadata": {},
   "outputs": [],
   "source": [
    "start = datetime.strptime('2021-06-01', '%Y-%m-%d').date()\n",
    "end = datetime.strptime('2022-07-31', '%Y-%m-%d').date()"
   ]
  },
  {
   "cell_type": "code",
   "execution_count": 44,
   "metadata": {},
   "outputs": [],
   "source": [
    "current_date = start\n",
    "date_list = []\n",
    "\n",
    "while current_date <= end:\n",
    "    date_list.append(current_date)\n",
    "    current_date_plus_30 = current_date + timedelta(days=30)\n",
    "    date_list.append(current_date_plus_30)\n",
    "    current_date = current_date_plus_30 + timedelta(days=1)\n",
    "\n",
    "for i in range(0,len(date_list)):\n",
    "    date_list[i] = date_list[i].strftime('%Y-%m-%d')"
   ]
  },
  {
   "cell_type": "code",
   "execution_count": 45,
   "metadata": {},
   "outputs": [],
   "source": [
    "start_dates = []\n",
    "end_dates = []\n",
    "for i in range(0,len(date_list)):\n",
    "    if i%2 == 0:\n",
    "        start_dates.append(date_list[i])\n",
    "    else:\n",
    "        end_dates.append(date_list[i])"
   ]
  },
  {
   "cell_type": "code",
   "execution_count": 46,
   "metadata": {},
   "outputs": [],
   "source": [
    "origins = list(carrier_data['origin-lat-long'].unique())\n",
    "destinations = list(carrier_data['dest-lat-long'].unique())\n",
    "lat_long_list = list(set(origins+destinations))"
   ]
  },
  {
   "cell_type": "code",
   "execution_count": 3,
   "metadata": {},
   "outputs": [],
   "source": [
    "def get_keys(path):\n",
    "    with open(path) as f:\n",
    "        return json.load(f)\n",
    "    \n",
    "keys = get_keys(\"C:/Users/Robert/.secret/weather_api.json\")\n",
    "history_data_url = 'http://api.weatherapi.com/v1/history.json'\n",
    "api_key = keys['api_key']"
   ]
  },
  {
   "cell_type": "code",
   "execution_count": null,
   "metadata": {},
   "outputs": [],
   "source": [
    "r = requests.get(history_data_url + '?key=' + api_key + '&q=' + location + '&dt=' + start_dates[i] + '&end_dt=' + end_dates[i])\n",
    "d = json.loads(r.text)"
   ]
  },
  {
   "cell_type": "code",
   "execution_count": 48,
   "metadata": {},
   "outputs": [
    {
     "name": "stdout",
     "output_type": "stream",
     "text": [
      "Working on 33.56290054,-86.75350189\n",
      "Working on 43.87900162,-91.25669861\n",
      "Working on 34.2705993652,-77.9026031494\n",
      "Working on 35.0424003601,-89.9766998291\n",
      "Working on 40.978099823,-124.1090011597\n",
      "Working on 43.1189002991,-77.6724014282\n",
      "Working on 44.04529953,-103.0569992065\n",
      "Working on 20.8985996246,-156.4299926758\n",
      "Working on 38.94449997,-77.45580292\n",
      "Working on 40.79520035,-73.10019684\n",
      "Working on 46.3745002747,-117.0149993896\n",
      "Working on 40.63980103,-73.77890015\n",
      "Working on 30.4941005707,-81.6878967285\n",
      "Working on 42.2123985291,-83.3534011841\n",
      "Working on 37.5051994324,-77.3197021484\n",
      "Working on 43.56439972,-116.2229996\n",
      "Working on 32.3111991882,-90.0758972168\n",
      "Working on 37.6189994812,-122.375\n",
      "Working on 41.7859992981,-87.7524032593\n",
      "Working on 33.6636009216,-101.8229980469\n",
      "Working on 41.5340003967,-93.6631011963\n",
      "Working on 26.072599411,-80.1527023315\n",
      "Working on 26.5361995697,-81.7552032471\n",
      "Working on 42.932598114,-71.4356994629\n",
      "Working on 38.8180999756,-92.2195968628\n",
      "Working on 41.7326011658,-71.4204025269\n",
      "Working on 39.8718986511,-75.2410964966\n",
      "Working on 64.81510162,-147.8560028\n",
      "Working on 48.2593994141,-101.2799987793\n",
      "Working on 35.13850021,-111.6709976\n",
      "Working on 39.717300415,-86.2944030762\n",
      "Working on 48.3105010986,-114.2559967041\n",
      "Working on 39.9024009705,-84.2193984985\n",
      "Working on 32.12760162,-81.20210266\n",
      "Working on 40.7883987427,-111.9779968262\n",
      "Working on 40.6925010681,-74.1687011719\n",
      "Working on 19.7388000488,-156.046005249\n",
      "Working on 33.82970047,-116.5070037842\n",
      "Working on 46.8420982361,-92.1936035156\n",
      "Working on 35.617099762,-106.088996887\n",
      "Working on 44.8819999695,-93.2218017578\n",
      "Working on 26.6832008362,-80.0955963135\n",
      "Working on 24.5561008453,-81.7595977783\n",
      "Working on 46.6068000793,-111.983001709\n",
      "Working on 35.2193984985,-101.7060012817\n",
      "Working on 42.88079834,-85.52279663\n",
      "Working on 33.6366996765,-84.4281005859\n",
      "Working on 34.2006988525,-118.3590011597\n",
      "Working on 41.4485015869,-90.5074996948\n",
      "Working on 30.1944999695,-97.6698989868\n",
      "Working on 41.0670013428,-73.7076034546\n",
      "Working on 39.4575996399,-74.5772018433\n",
      "Working on 33.3016014099,-104.53099823\n",
      "Working on 30.473400116,-87.1865997314\n",
      "Working on 26.2285003662,-97.6544036865\n",
      "Working on 29.9843997955,-95.3414001465\n",
      "Working on 39.2975997925,-94.7138977051\n",
      "Working on 39.0488014221,-84.6678009033\n",
      "Working on 37.3625984192,-121.9290008545\n",
      "Working on 32.1161003113,-110.9410018921\n",
      "Working on 33.9388008118,-81.1194992065\n",
      "Working on 36.08010101,-115.1520004\n",
      "Working on 42.90800095,-106.4639969\n",
      "Working on 46.9207000732,-96.8158035278\n",
      "Working on 29.64539909,-95.27890015\n",
      "Working on 30.3964996338,-84.3503036499\n",
      "Working on 43.1111984253,-76.106300354\n",
      "Working on 31.80719948,-106.3779984\n",
      "Working on 35.3931007385,-97.6007003784\n",
      "Working on 44.2541008,-121.1500015\n",
      "Working on 38.695400238,-121.591003418\n",
      "Working on 45.77750015,-111.1529999\n",
      "Working on 26.17580032,-98.23860168\n",
      "Working on 33.434299469,-112.0120010376\n",
      "Working on 30.53319931,-91.14959717\n",
      "Working on 45.8077011108,-108.5429992676\n",
      "Working on 35.2140007019,-80.9430999756\n",
      "Working on 39.17539978,-76.66829681\n",
      "Working on 30.3417,-85.7973\n",
      "Working on 36.0978012085,-79.9373016357\n",
      "Working on 36.5870018005,-121.8430023193\n",
      "Working on 47.6198997498,-117.533996582\n",
      "Working on 43.5145988464,-112.0709991455\n",
      "Working on 34.6371994019,-86.775100708\n",
      "Working on 41.97859955,-87.90480042\n",
      "Working on 43.64619827,-70.30930328\n",
      "Working on 35.0401992798,-106.6090011597\n",
      "Working on 43.5820007324,-96.741897583\n",
      "Working on 41.4117012024,-81.8498001099\n",
      "Working on 38.8058013916,-104.7009963989\n",
      "Working on 18.4948997498,-67.1294021606\n",
      "Working on 61.1744003296,-149.9960021973\n",
      "Working on 44.2580986023,-88.5190963745\n",
      "Working on 47.4490013123,-122.3089981079\n",
      "Working on 39.9980010986,-82.8918991089\n",
      "Working on 40.48120117,-107.2180023\n",
      "Working on 38.50899887,-122.8130035\n",
      "Working on 41.9388999939,-72.6831970215\n",
      "Working on 34.7294006348,-92.2242965698\n",
      "Working on 45.58869934,-122.5979996\n",
      "Working on 29.1798992157,-81.0580978394\n",
      "Working on 38.5097999573,-107.893997192\n",
      "Working on 37.1515007019,-107.753997803\n",
      "Working on 40.77719879,-73.87259674\n",
      "Working on 43.6072998047,-110.7379989624\n",
      "Working on 35.4361991882,-82.5418014526\n",
      "Working on 36.7761993408,-119.7180023193\n",
      "Working on 35.2368011475,-120.641998291\n",
      "Working on 39.1223983765,-108.527000427\n",
      "Working on 36.1245002747,-86.6781997681\n",
      "Working on 25.7931995392,-80.2906036377\n",
      "Working on 42.748298645,-73.8016967773\n",
      "Working on 31.9424991608,-102.202003479\n",
      "Working on 36.2818984985,-94.3068008423\n",
      "Working on 42.94049835,-78.73220062\n",
      "Working on 47.9492988586,-97.1761016846\n",
      "Working on 38.8521003723,-77.0376968384\n",
      "Working on 39.4990997314,-119.7679977417\n",
      "Working on 37.6498985291,-97.4330978394\n",
      "Working on 58.3549995422,-134.5760040283\n",
      "Working on 41.3031997681,-95.8940963745\n",
      "Working on 28.4293994904,-81.3089981079\n",
      "Working on 37.7212982178,-122.2210006714\n",
      "Working on 36.1983985901,-95.8880996704\n",
      "Working on 28.1028003693,-80.6453018188\n",
      "Working on 35.43360138,-119.0569992\n",
      "Working on 29.9934005737,-90.2580032349\n",
      "Working on 33.6796989441,-78.9282989502\n",
      "Working on 30.4832000732,-86.5253982544\n",
      "Working on 34.0559997559,-117.6009979248\n",
      "Working on 18.3372993469,-64.9733963013\n",
      "Working on 18.4393997192,-66.0018005371\n",
      "Working on 27.3953990936,-82.554397583\n",
      "Working on 21.3187007904,-157.9219970703\n",
      "Working on 40.97850037,-85.19509888\n",
      "Working on 35.0353012085,-85.2037963867\n",
      "Working on 38.0364990234,-84.6059036255\n",
      "Working on 40.1935005188,-76.7633972168\n",
      "Working on 41.8847007751,-91.7108001709\n",
      "Working on 39.22320175,-106.8690033\n",
      "Working on 55.35559845,-131.7140045\n",
      "Working on 36.8945999146,-76.2012023926\n",
      "Working on 42.3741989136,-122.8730010986\n",
      "Working on 43.1399002075,-89.3375015259\n",
      "Working on 38.7486991882,-90.3700027466\n",
      "Working on 32.8968009949,-97.0380020142\n",
      "Working on 42.36429977,-71.00520325\n",
      "Working on 44.4850997925,-88.1296005249\n",
      "Working on 40.49150085,-80.23290253\n",
      "Working on 47.48199844,-111.3710022\n",
      "Working on 42.9472007751,-87.8965988159\n",
      "Working on 17.7019004822,-64.7985992432\n",
      "Working on 46.2647018433,-119.1190032959\n",
      "Working on 43.50439835,-114.2959976\n",
      "Working on 33.67570114,-117.8679962\n",
      "Working on 37.0363888889,-113.510305556\n",
      "Working on 35.81100082,-83.9940033\n",
      "Working on 44.7414016724,-85.5821990967\n",
      "Working on 32.8470993042,-96.8517990112\n",
      "Working on 27.9755001068,-82.533203125\n",
      "Working on 21.9759998322,-159.3390045166\n",
      "Working on 34.8956985474,-82.2189025879\n",
      "Working on 39.64260101,-106.9179993\n",
      "Working on 32.89860153,-80.04049683\n",
      "Working on 27.7703990936,-97.5011978149\n",
      "Working on 38.1744003296,-85.736000061\n",
      "Working on 44.1245994568,-123.2119979858\n",
      "Working on 46.91630173,-114.0910034\n",
      "Working on 33.94250107,-118.4079971\n",
      "Working on 39.8616981506,-104.672996521\n",
      "Working on 29.6900997162,-82.2717971802\n",
      "Working on 33.81769943,-118.1520004\n",
      "Working on 32.7336006165,-117.1900024414\n",
      "Working on 44.4719009399,-73.1532974243\n",
      "Working on 19.7213993073,-155.0480041504\n",
      "Working on 41.7086982727,-86.3172988892\n",
      "Working on 35.8776016235,-78.7874984741\n",
      "Working on 34.42620087,-119.8399963\n",
      "Working on 32.65660095,-114.6060028\n",
      "Working on 29.533700943,-98.4698028564\n",
      "Working on 40.50899887,-122.2929993\n",
      "Working on 46.7727012634,-100.7460021973\n"
     ]
    }
   ],
   "source": [
    "weather_latlong = []\n",
    "weather_dates = []\n",
    "weather_maxtemp_c = []\n",
    "weather_mintemp_c = []\n",
    "weather_avgtemp_c = []\n",
    "weather_totalprecip_mm = []\n",
    "weather_avgvis_km = []\n",
    "weather_maxwind_kph = []\n",
    "weather_avghumidity = []\n",
    "\n",
    "for location in lat_long_list:\n",
    "    print('Working on {}'.format(location))\n",
    "    for i in range(0, len(start_dates)):\n",
    "        r = requests.get(history_data_url + '?key=' + api_key + '&q=' + location + '&dt=' + start_dates[i] + '&end_dt=' + end_dates[i])\n",
    "        d = json.loads(r.text)\n",
    "        for j in range(0,31):\n",
    "            weather_latlong.append(location)\n",
    "            weather_dates.append(d['forecast']['forecastday'][j]['date'])\n",
    "            weather_maxtemp_c.append(d['forecast']['forecastday'][j]['day']['maxtemp_c'])\n",
    "            weather_mintemp_c.append(d['forecast']['forecastday'][j]['day']['mintemp_c'])\n",
    "            weather_avgtemp_c.append(d['forecast']['forecastday'][j]['day']['avgtemp_c'])\n",
    "            weather_totalprecip_mm.append(d['forecast']['forecastday'][j]['day']['totalprecip_mm'])\n",
    "            weather_avgvis_km.append(d['forecast']['forecastday'][j]['day']['avgvis_km'])\n",
    "            weather_maxwind_kph.append(d['forecast']['forecastday'][j]['day']['maxwind_kph'])\n",
    "            weather_avghumidity.append(d['forecast']['forecastday'][j]['day']['avghumidity'])"
   ]
  },
  {
   "cell_type": "code",
   "execution_count": 49,
   "metadata": {},
   "outputs": [],
   "source": [
    "weather_df = pd.DataFrame(\n",
    "    {'lat-long': weather_latlong,\n",
    "     'date': weather_dates,\n",
    "     'maxtemp': weather_maxtemp_c,\n",
    "     'mintemp': weather_mintemp_c,\n",
    "     'avgtemp': weather_avgtemp_c,\n",
    "     'totalprecip': weather_totalprecip_mm,\n",
    "     'avgvis': weather_avgvis_km,\n",
    "     'maxwind': weather_maxwind_kph,\n",
    "     'avghumidity': weather_avghumidity\n",
    "    })"
   ]
  },
  {
   "cell_type": "code",
   "execution_count": 50,
   "metadata": {},
   "outputs": [],
   "source": [
    "weather_df.to_csv('data/downloaded/weather-data.csv', index=False)"
   ]
  },
  {
   "cell_type": "code",
   "execution_count": 39,
   "metadata": {},
   "outputs": [],
   "source": [
    "weather_df = pd.read_csv('data/downloaded/weather-data.csv')"
   ]
  },
  {
   "cell_type": "code",
   "execution_count": 40,
   "metadata": {
    "scrolled": true
   },
   "outputs": [],
   "source": [
    "# First, we need to create keys for matching the weather data to locations and dates\n",
    "carrier_data['weather-key'] = carrier_data['origin-lat-long'] + carrier_data['FL_DATE_LOCAL'].dt.date.astype(str)\n",
    "carrier_data['dest-weather-key'] = carrier_data['dest-lat-long'] + carrier_data['FL_ARR_DATE_LOCAL'].dt.date.astype(str)\n",
    "weather_df['weather-key'] = weather_df['lat-long'] + weather_df['date']"
   ]
  },
  {
   "cell_type": "code",
   "execution_count": 41,
   "metadata": {
    "scrolled": true
   },
   "outputs": [],
   "source": [
    "# Create a key to prepare merging in daily weather data for each airport\n",
    "carrier_data = carrier_data.merge(weather_df, on='weather-key')\n",
    "weather_df = weather_df.add_prefix('dest-')\n",
    "carrier_data = carrier_data.merge(weather_df, on='dest-weather-key')"
   ]
  },
  {
   "cell_type": "code",
   "execution_count": 42,
   "metadata": {
    "scrolled": true
   },
   "outputs": [],
   "source": [
    "# Once again, we clean up columns we don't need anymore\n",
    "carrier_data.drop(columns=['FL_DATE', 'MKT_CARRIER_FL_NUM', 'OP_CARRIER_FL_NUM', 'FL_ARR_DATE_REL_ORIGIN',\n",
    " 'FL_DATE_LOCAL_ROUNDED', 'FL_ARR_DATE_LOCAL_ROUNDED', 'date', 'dest-lat-long_y', 'dest-date'], inplace=True)"
   ]
  },
  {
   "cell_type": "markdown",
   "metadata": {},
   "source": [
    "#### Proximity to Holidays\n",
    "Anyone who has ever traveled by plane knows that delays seem to be most prevelant around the holidays. That's why one last feature we want to engineer is some sort of proximity to holidays."
   ]
  },
  {
   "cell_type": "code",
   "execution_count": 43,
   "metadata": {
    "scrolled": true
   },
   "outputs": [],
   "source": [
    "from pandas.tseries.holiday import USFederalHolidayCalendar as calendar\n",
    "\n",
    "date_range = pd.date_range(start='2021-01-01', end='2025-12-31')\n",
    "cal = calendar()\n",
    "holidays = cal.holidays(start=date_range.min(), end=date_range.max(), return_name=True)\n",
    "holidays.reset_index(name='holiday').rename(columns={'index':'date'})\n",
    "holidays = holidays.to_frame()\n",
    "holidays.reset_index(inplace=True)\n",
    "holidays.columns = ['holiday_date', 'holiday_name']"
   ]
  },
  {
   "cell_type": "code",
   "execution_count": 70,
   "metadata": {},
   "outputs": [],
   "source": [
    "holidays.to_csv('data/prepared/holidays.csv', index=False)"
   ]
  },
  {
   "cell_type": "code",
   "execution_count": 44,
   "metadata": {
    "scrolled": true
   },
   "outputs": [
    {
     "data": {
      "text/html": [
       "<div>\n",
       "<style scoped>\n",
       "    .dataframe tbody tr th:only-of-type {\n",
       "        vertical-align: middle;\n",
       "    }\n",
       "\n",
       "    .dataframe tbody tr th {\n",
       "        vertical-align: top;\n",
       "    }\n",
       "\n",
       "    .dataframe thead th {\n",
       "        text-align: right;\n",
       "    }\n",
       "</style>\n",
       "<table border=\"1\" class=\"dataframe\">\n",
       "  <thead>\n",
       "    <tr style=\"text-align: right;\">\n",
       "      <th></th>\n",
       "      <th>holiday_date</th>\n",
       "      <th>holiday_name</th>\n",
       "    </tr>\n",
       "  </thead>\n",
       "  <tbody>\n",
       "    <tr>\n",
       "      <th>0</th>\n",
       "      <td>2021-01-01</td>\n",
       "      <td>New Years Day</td>\n",
       "    </tr>\n",
       "    <tr>\n",
       "      <th>1</th>\n",
       "      <td>2021-01-18</td>\n",
       "      <td>Martin Luther King Jr. Day</td>\n",
       "    </tr>\n",
       "    <tr>\n",
       "      <th>2</th>\n",
       "      <td>2021-02-15</td>\n",
       "      <td>Presidents Day</td>\n",
       "    </tr>\n",
       "    <tr>\n",
       "      <th>3</th>\n",
       "      <td>2021-05-31</td>\n",
       "      <td>Memorial Day</td>\n",
       "    </tr>\n",
       "    <tr>\n",
       "      <th>4</th>\n",
       "      <td>2021-07-05</td>\n",
       "      <td>July 4th</td>\n",
       "    </tr>\n",
       "    <tr>\n",
       "      <th>5</th>\n",
       "      <td>2021-09-06</td>\n",
       "      <td>Labor Day</td>\n",
       "    </tr>\n",
       "    <tr>\n",
       "      <th>6</th>\n",
       "      <td>2021-10-11</td>\n",
       "      <td>Columbus Day</td>\n",
       "    </tr>\n",
       "    <tr>\n",
       "      <th>7</th>\n",
       "      <td>2021-11-11</td>\n",
       "      <td>Veterans Day</td>\n",
       "    </tr>\n",
       "    <tr>\n",
       "      <th>8</th>\n",
       "      <td>2021-11-25</td>\n",
       "      <td>Thanksgiving</td>\n",
       "    </tr>\n",
       "    <tr>\n",
       "      <th>9</th>\n",
       "      <td>2021-12-24</td>\n",
       "      <td>Christmas</td>\n",
       "    </tr>\n",
       "    <tr>\n",
       "      <th>10</th>\n",
       "      <td>2021-12-31</td>\n",
       "      <td>New Years Day</td>\n",
       "    </tr>\n",
       "    <tr>\n",
       "      <th>11</th>\n",
       "      <td>2022-01-17</td>\n",
       "      <td>Martin Luther King Jr. Day</td>\n",
       "    </tr>\n",
       "    <tr>\n",
       "      <th>12</th>\n",
       "      <td>2022-02-21</td>\n",
       "      <td>Presidents Day</td>\n",
       "    </tr>\n",
       "    <tr>\n",
       "      <th>13</th>\n",
       "      <td>2022-05-30</td>\n",
       "      <td>Memorial Day</td>\n",
       "    </tr>\n",
       "    <tr>\n",
       "      <th>14</th>\n",
       "      <td>2022-07-04</td>\n",
       "      <td>July 4th</td>\n",
       "    </tr>\n",
       "    <tr>\n",
       "      <th>15</th>\n",
       "      <td>2022-09-05</td>\n",
       "      <td>Labor Day</td>\n",
       "    </tr>\n",
       "    <tr>\n",
       "      <th>16</th>\n",
       "      <td>2022-10-10</td>\n",
       "      <td>Columbus Day</td>\n",
       "    </tr>\n",
       "    <tr>\n",
       "      <th>17</th>\n",
       "      <td>2022-11-11</td>\n",
       "      <td>Veterans Day</td>\n",
       "    </tr>\n",
       "    <tr>\n",
       "      <th>18</th>\n",
       "      <td>2022-11-24</td>\n",
       "      <td>Thanksgiving</td>\n",
       "    </tr>\n",
       "    <tr>\n",
       "      <th>19</th>\n",
       "      <td>2022-12-26</td>\n",
       "      <td>Christmas</td>\n",
       "    </tr>\n",
       "    <tr>\n",
       "      <th>20</th>\n",
       "      <td>2023-01-02</td>\n",
       "      <td>New Years Day</td>\n",
       "    </tr>\n",
       "    <tr>\n",
       "      <th>21</th>\n",
       "      <td>2023-01-16</td>\n",
       "      <td>Martin Luther King Jr. Day</td>\n",
       "    </tr>\n",
       "    <tr>\n",
       "      <th>22</th>\n",
       "      <td>2023-02-20</td>\n",
       "      <td>Presidents Day</td>\n",
       "    </tr>\n",
       "    <tr>\n",
       "      <th>23</th>\n",
       "      <td>2023-05-29</td>\n",
       "      <td>Memorial Day</td>\n",
       "    </tr>\n",
       "    <tr>\n",
       "      <th>24</th>\n",
       "      <td>2023-07-04</td>\n",
       "      <td>July 4th</td>\n",
       "    </tr>\n",
       "    <tr>\n",
       "      <th>25</th>\n",
       "      <td>2023-09-04</td>\n",
       "      <td>Labor Day</td>\n",
       "    </tr>\n",
       "    <tr>\n",
       "      <th>26</th>\n",
       "      <td>2023-10-09</td>\n",
       "      <td>Columbus Day</td>\n",
       "    </tr>\n",
       "    <tr>\n",
       "      <th>27</th>\n",
       "      <td>2023-11-10</td>\n",
       "      <td>Veterans Day</td>\n",
       "    </tr>\n",
       "    <tr>\n",
       "      <th>28</th>\n",
       "      <td>2023-11-23</td>\n",
       "      <td>Thanksgiving</td>\n",
       "    </tr>\n",
       "    <tr>\n",
       "      <th>29</th>\n",
       "      <td>2023-12-25</td>\n",
       "      <td>Christmas</td>\n",
       "    </tr>\n",
       "    <tr>\n",
       "      <th>30</th>\n",
       "      <td>2024-01-01</td>\n",
       "      <td>New Years Day</td>\n",
       "    </tr>\n",
       "    <tr>\n",
       "      <th>31</th>\n",
       "      <td>2024-01-15</td>\n",
       "      <td>Martin Luther King Jr. Day</td>\n",
       "    </tr>\n",
       "    <tr>\n",
       "      <th>32</th>\n",
       "      <td>2024-02-19</td>\n",
       "      <td>Presidents Day</td>\n",
       "    </tr>\n",
       "    <tr>\n",
       "      <th>33</th>\n",
       "      <td>2024-05-27</td>\n",
       "      <td>Memorial Day</td>\n",
       "    </tr>\n",
       "    <tr>\n",
       "      <th>34</th>\n",
       "      <td>2024-07-04</td>\n",
       "      <td>July 4th</td>\n",
       "    </tr>\n",
       "    <tr>\n",
       "      <th>35</th>\n",
       "      <td>2024-09-02</td>\n",
       "      <td>Labor Day</td>\n",
       "    </tr>\n",
       "    <tr>\n",
       "      <th>36</th>\n",
       "      <td>2024-10-14</td>\n",
       "      <td>Columbus Day</td>\n",
       "    </tr>\n",
       "    <tr>\n",
       "      <th>37</th>\n",
       "      <td>2024-11-11</td>\n",
       "      <td>Veterans Day</td>\n",
       "    </tr>\n",
       "    <tr>\n",
       "      <th>38</th>\n",
       "      <td>2024-11-28</td>\n",
       "      <td>Thanksgiving</td>\n",
       "    </tr>\n",
       "    <tr>\n",
       "      <th>39</th>\n",
       "      <td>2024-12-25</td>\n",
       "      <td>Christmas</td>\n",
       "    </tr>\n",
       "    <tr>\n",
       "      <th>40</th>\n",
       "      <td>2025-01-01</td>\n",
       "      <td>New Years Day</td>\n",
       "    </tr>\n",
       "    <tr>\n",
       "      <th>41</th>\n",
       "      <td>2025-01-20</td>\n",
       "      <td>Martin Luther King Jr. Day</td>\n",
       "    </tr>\n",
       "    <tr>\n",
       "      <th>42</th>\n",
       "      <td>2025-02-17</td>\n",
       "      <td>Presidents Day</td>\n",
       "    </tr>\n",
       "    <tr>\n",
       "      <th>43</th>\n",
       "      <td>2025-05-26</td>\n",
       "      <td>Memorial Day</td>\n",
       "    </tr>\n",
       "    <tr>\n",
       "      <th>44</th>\n",
       "      <td>2025-07-04</td>\n",
       "      <td>July 4th</td>\n",
       "    </tr>\n",
       "    <tr>\n",
       "      <th>45</th>\n",
       "      <td>2025-09-01</td>\n",
       "      <td>Labor Day</td>\n",
       "    </tr>\n",
       "    <tr>\n",
       "      <th>46</th>\n",
       "      <td>2025-10-13</td>\n",
       "      <td>Columbus Day</td>\n",
       "    </tr>\n",
       "    <tr>\n",
       "      <th>47</th>\n",
       "      <td>2025-11-11</td>\n",
       "      <td>Veterans Day</td>\n",
       "    </tr>\n",
       "    <tr>\n",
       "      <th>48</th>\n",
       "      <td>2025-11-27</td>\n",
       "      <td>Thanksgiving</td>\n",
       "    </tr>\n",
       "    <tr>\n",
       "      <th>49</th>\n",
       "      <td>2025-12-25</td>\n",
       "      <td>Christmas</td>\n",
       "    </tr>\n",
       "  </tbody>\n",
       "</table>\n",
       "</div>"
      ],
      "text/plain": [
       "   holiday_date                holiday_name\n",
       "0    2021-01-01               New Years Day\n",
       "1    2021-01-18  Martin Luther King Jr. Day\n",
       "2    2021-02-15              Presidents Day\n",
       "3    2021-05-31                Memorial Day\n",
       "4    2021-07-05                    July 4th\n",
       "5    2021-09-06                   Labor Day\n",
       "6    2021-10-11                Columbus Day\n",
       "7    2021-11-11                Veterans Day\n",
       "8    2021-11-25                Thanksgiving\n",
       "9    2021-12-24                   Christmas\n",
       "10   2021-12-31               New Years Day\n",
       "11   2022-01-17  Martin Luther King Jr. Day\n",
       "12   2022-02-21              Presidents Day\n",
       "13   2022-05-30                Memorial Day\n",
       "14   2022-07-04                    July 4th\n",
       "15   2022-09-05                   Labor Day\n",
       "16   2022-10-10                Columbus Day\n",
       "17   2022-11-11                Veterans Day\n",
       "18   2022-11-24                Thanksgiving\n",
       "19   2022-12-26                   Christmas\n",
       "20   2023-01-02               New Years Day\n",
       "21   2023-01-16  Martin Luther King Jr. Day\n",
       "22   2023-02-20              Presidents Day\n",
       "23   2023-05-29                Memorial Day\n",
       "24   2023-07-04                    July 4th\n",
       "25   2023-09-04                   Labor Day\n",
       "26   2023-10-09                Columbus Day\n",
       "27   2023-11-10                Veterans Day\n",
       "28   2023-11-23                Thanksgiving\n",
       "29   2023-12-25                   Christmas\n",
       "30   2024-01-01               New Years Day\n",
       "31   2024-01-15  Martin Luther King Jr. Day\n",
       "32   2024-02-19              Presidents Day\n",
       "33   2024-05-27                Memorial Day\n",
       "34   2024-07-04                    July 4th\n",
       "35   2024-09-02                   Labor Day\n",
       "36   2024-10-14                Columbus Day\n",
       "37   2024-11-11                Veterans Day\n",
       "38   2024-11-28                Thanksgiving\n",
       "39   2024-12-25                   Christmas\n",
       "40   2025-01-01               New Years Day\n",
       "41   2025-01-20  Martin Luther King Jr. Day\n",
       "42   2025-02-17              Presidents Day\n",
       "43   2025-05-26                Memorial Day\n",
       "44   2025-07-04                    July 4th\n",
       "45   2025-09-01                   Labor Day\n",
       "46   2025-10-13                Columbus Day\n",
       "47   2025-11-11                Veterans Day\n",
       "48   2025-11-27                Thanksgiving\n",
       "49   2025-12-25                   Christmas"
      ]
     },
     "execution_count": 44,
     "metadata": {},
     "output_type": "execute_result"
    }
   ],
   "source": [
    "holidays"
   ]
  },
  {
   "cell_type": "code",
   "execution_count": 45,
   "metadata": {
    "scrolled": true
   },
   "outputs": [],
   "source": [
    "# carrier_data['holiday-key'] = carrier_data['FL_DATE_LOCAL'].dt.date.astype(str)\n",
    "# carrier_data['holiday-key'] = pd.to_datetime(carrier_data['holiday-key'])\n",
    "carrier_data.sort_values('FL_DATE_LOCAL', inplace=True)\n",
    "carrier_data = pd.merge_asof(carrier_data, holidays, left_on='FL_DATE_LOCAL', right_on='holiday_date',\n",
    "                       direction='nearest', tolerance=pd.Timedelta(days=7))"
   ]
  },
  {
   "cell_type": "code",
   "execution_count": 46,
   "metadata": {
    "scrolled": true
   },
   "outputs": [],
   "source": [
    "carrier_data['days-from-holiday'] = (carrier_data['FL_DATE_LOCAL'] - carrier_data['holiday_date']).dt.days\n",
    "carrier_data['days-from-holiday'] = carrier_data['days-from-holiday'].astype(str)\n",
    "carrier_data['days-from-specific-holiday'] = carrier_data['holiday_name'] + '_' + carrier_data['days-from-holiday'].astype(str)"
   ]
  },
  {
   "cell_type": "code",
   "execution_count": 47,
   "metadata": {
    "scrolled": true
   },
   "outputs": [],
   "source": [
    "# Cleaning up the results a bit\n",
    "carrier_data['days-from-specific-holiday'].fillna('no-close-holiday', inplace=True)"
   ]
  },
  {
   "cell_type": "code",
   "execution_count": 48,
   "metadata": {
    "scrolled": true
   },
   "outputs": [],
   "source": [
    "# Once again, we clean up columns we don't need anymore\n",
    "carrier_data.drop(columns=['holiday_name', 'holiday_date', 'days-from-holiday'], inplace=True)"
   ]
  },
  {
   "cell_type": "markdown",
   "metadata": {},
   "source": [
    "#### Time of day takoff & landing\n",
    "Lastly, we will create a continuous variable that quantifies when throughout the day that flight takes off. This is to account that it's possible for delays to be more prevalent at certain points in the day. To do this, we'll create a variable that measures a flight's distance from midnight in minutes."
   ]
  },
  {
   "cell_type": "code",
   "execution_count": 49,
   "metadata": {
    "scrolled": true
   },
   "outputs": [],
   "source": [
    "carrier_data['takeoff-mins-from-midnight'] = ((pd.to_datetime(carrier_data['CRS_DEP_TIME'])\n",
    "                                               - pd.to_datetime(carrier_data['CRS_DEP_TIME']).dt.normalize()) \\\n",
    "                                              / pd.Timedelta('1 minute')).astype(int)"
   ]
  },
  {
   "cell_type": "code",
   "execution_count": 50,
   "metadata": {
    "scrolled": true
   },
   "outputs": [],
   "source": [
    "carrier_data['CRS_ARR_TIME'] = carrier_data['CRS_ARR_TIME'].replace({'24:00':'00:00'})\n",
    "carrier_data['landing-mins-from-midnight'] = ((pd.to_datetime(carrier_data['CRS_ARR_TIME'])\n",
    "                                               - pd.to_datetime(carrier_data['CRS_ARR_TIME']).dt.normalize()) \\\n",
    "                                              / pd.Timedelta('1 minute')).astype(int)"
   ]
  },
  {
   "cell_type": "markdown",
   "metadata": {},
   "source": [
    "It looks like the delay cause fields (CARRIER_DELAY, WEATHER_DELAY, NAS_DELAY, SECURITY_DELAY and LATE_AIRCRAFT_DELAY) have many missing values. Lucikily, these fields are not needed for modeling so we can proceed."
   ]
  },
  {
   "cell_type": "code",
   "execution_count": 56,
   "metadata": {},
   "outputs": [],
   "source": [
    "carrier_data.to_csv('data/prepared/cleaned_data.csv', index=False)"
   ]
  }
 ],
 "metadata": {
  "kernelspec": {
   "display_name": "Python (learn-env)",
   "language": "python",
   "name": "learn-env"
  },
  "language_info": {
   "codemirror_mode": {
    "name": "ipython",
    "version": 3
   },
   "file_extension": ".py",
   "mimetype": "text/x-python",
   "name": "python",
   "nbconvert_exporter": "python",
   "pygments_lexer": "ipython3",
   "version": "3.8.5"
  }
 },
 "nbformat": 4,
 "nbformat_minor": 4
}
